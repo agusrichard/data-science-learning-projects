{
  "nbformat": 4,
  "nbformat_minor": 0,
  "metadata": {
    "colab": {
      "name": "exploratory_data_analysis.ipynb",
      "provenance": [],
      "collapsed_sections": []
    },
    "kernelspec": {
      "name": "python3",
      "display_name": "Python 3"
    }
  },
  "cells": [
    {
      "cell_type": "markdown",
      "metadata": {
        "id": "DoFXqR8nHkDc",
        "colab_type": "text"
      },
      "source": [
        "# Nobel Prize Winners: Exploratory Data Analysis"
      ]
    },
    {
      "cell_type": "markdown",
      "metadata": {
        "id": "ruA4vKNMH5Sk",
        "colab_type": "text"
      },
      "source": [
        "__Importing libraries__"
      ]
    },
    {
      "cell_type": "code",
      "metadata": {
        "id": "sngaAuecHvF5",
        "colab_type": "code",
        "colab": {
          "base_uri": "https://localhost:8080/",
          "height": 71
        },
        "outputId": "74080668-5e6b-4344-c5a4-b70060127589"
      },
      "source": [
        "import numpy as np\n",
        "import pandas as pd\n",
        "import matplotlib.pyplot as plt\n",
        "import seaborn as sns\n",
        "sns.set()"
      ],
      "execution_count": 1,
      "outputs": [
        {
          "output_type": "stream",
          "text": [
            "/usr/local/lib/python3.6/dist-packages/statsmodels/tools/_testing.py:19: FutureWarning: pandas.util.testing is deprecated. Use the functions in the public API at pandas.testing instead.\n",
            "  import pandas.util.testing as tm\n"
          ],
          "name": "stderr"
        }
      ]
    },
    {
      "cell_type": "markdown",
      "metadata": {
        "id": "bX91aUMtLuFa",
        "colab_type": "text"
      },
      "source": [
        "## Preliminary Step"
      ]
    },
    {
      "cell_type": "code",
      "metadata": {
        "id": "T9Ugr_7YJajz",
        "colab_type": "code",
        "colab": {
          "base_uri": "https://localhost:8080/",
          "height": 496
        },
        "outputId": "6564a31f-5630-4413-c1e0-86a92c5d9cb1"
      },
      "source": [
        "# read csv file to dafarame\n",
        "df = pd.read_csv('datasets/nobel.csv')\n",
        "# display 5 data points on top\n",
        "df.head()"
      ],
      "execution_count": 2,
      "outputs": [
        {
          "output_type": "execute_result",
          "data": {
            "text/html": [
              "<div>\n",
              "<style scoped>\n",
              "    .dataframe tbody tr th:only-of-type {\n",
              "        vertical-align: middle;\n",
              "    }\n",
              "\n",
              "    .dataframe tbody tr th {\n",
              "        vertical-align: top;\n",
              "    }\n",
              "\n",
              "    .dataframe thead th {\n",
              "        text-align: right;\n",
              "    }\n",
              "</style>\n",
              "<table border=\"1\" class=\"dataframe\">\n",
              "  <thead>\n",
              "    <tr style=\"text-align: right;\">\n",
              "      <th></th>\n",
              "      <th>year</th>\n",
              "      <th>category</th>\n",
              "      <th>prize</th>\n",
              "      <th>motivation</th>\n",
              "      <th>prize_share</th>\n",
              "      <th>laureate_id</th>\n",
              "      <th>laureate_type</th>\n",
              "      <th>full_name</th>\n",
              "      <th>birth_date</th>\n",
              "      <th>birth_city</th>\n",
              "      <th>birth_country</th>\n",
              "      <th>sex</th>\n",
              "      <th>organization_name</th>\n",
              "      <th>organization_city</th>\n",
              "      <th>organization_country</th>\n",
              "      <th>death_date</th>\n",
              "      <th>death_city</th>\n",
              "      <th>death_country</th>\n",
              "    </tr>\n",
              "  </thead>\n",
              "  <tbody>\n",
              "    <tr>\n",
              "      <th>0</th>\n",
              "      <td>1901</td>\n",
              "      <td>Chemistry</td>\n",
              "      <td>The Nobel Prize in Chemistry 1901</td>\n",
              "      <td>\"in recognition of the extraordinary services ...</td>\n",
              "      <td>1/1</td>\n",
              "      <td>160</td>\n",
              "      <td>Individual</td>\n",
              "      <td>Jacobus Henricus van 't Hoff</td>\n",
              "      <td>1852-08-30</td>\n",
              "      <td>Rotterdam</td>\n",
              "      <td>Netherlands</td>\n",
              "      <td>Male</td>\n",
              "      <td>Berlin University</td>\n",
              "      <td>Berlin</td>\n",
              "      <td>Germany</td>\n",
              "      <td>1911-03-01</td>\n",
              "      <td>Berlin</td>\n",
              "      <td>Germany</td>\n",
              "    </tr>\n",
              "    <tr>\n",
              "      <th>1</th>\n",
              "      <td>1901</td>\n",
              "      <td>Literature</td>\n",
              "      <td>The Nobel Prize in Literature 1901</td>\n",
              "      <td>\"in special recognition of his poetic composit...</td>\n",
              "      <td>1/1</td>\n",
              "      <td>569</td>\n",
              "      <td>Individual</td>\n",
              "      <td>Sully Prudhomme</td>\n",
              "      <td>1839-03-16</td>\n",
              "      <td>Paris</td>\n",
              "      <td>France</td>\n",
              "      <td>Male</td>\n",
              "      <td>NaN</td>\n",
              "      <td>NaN</td>\n",
              "      <td>NaN</td>\n",
              "      <td>1907-09-07</td>\n",
              "      <td>Châtenay</td>\n",
              "      <td>France</td>\n",
              "    </tr>\n",
              "    <tr>\n",
              "      <th>2</th>\n",
              "      <td>1901</td>\n",
              "      <td>Medicine</td>\n",
              "      <td>The Nobel Prize in Physiology or Medicine 1901</td>\n",
              "      <td>\"for his work on serum therapy, especially its...</td>\n",
              "      <td>1/1</td>\n",
              "      <td>293</td>\n",
              "      <td>Individual</td>\n",
              "      <td>Emil Adolf von Behring</td>\n",
              "      <td>1854-03-15</td>\n",
              "      <td>Hansdorf (Lawice)</td>\n",
              "      <td>Prussia (Poland)</td>\n",
              "      <td>Male</td>\n",
              "      <td>Marburg University</td>\n",
              "      <td>Marburg</td>\n",
              "      <td>Germany</td>\n",
              "      <td>1917-03-31</td>\n",
              "      <td>Marburg</td>\n",
              "      <td>Germany</td>\n",
              "    </tr>\n",
              "    <tr>\n",
              "      <th>3</th>\n",
              "      <td>1901</td>\n",
              "      <td>Peace</td>\n",
              "      <td>The Nobel Peace Prize 1901</td>\n",
              "      <td>NaN</td>\n",
              "      <td>1/2</td>\n",
              "      <td>462</td>\n",
              "      <td>Individual</td>\n",
              "      <td>Jean Henry Dunant</td>\n",
              "      <td>1828-05-08</td>\n",
              "      <td>Geneva</td>\n",
              "      <td>Switzerland</td>\n",
              "      <td>Male</td>\n",
              "      <td>NaN</td>\n",
              "      <td>NaN</td>\n",
              "      <td>NaN</td>\n",
              "      <td>1910-10-30</td>\n",
              "      <td>Heiden</td>\n",
              "      <td>Switzerland</td>\n",
              "    </tr>\n",
              "    <tr>\n",
              "      <th>4</th>\n",
              "      <td>1901</td>\n",
              "      <td>Peace</td>\n",
              "      <td>The Nobel Peace Prize 1901</td>\n",
              "      <td>NaN</td>\n",
              "      <td>1/2</td>\n",
              "      <td>463</td>\n",
              "      <td>Individual</td>\n",
              "      <td>Frédéric Passy</td>\n",
              "      <td>1822-05-20</td>\n",
              "      <td>Paris</td>\n",
              "      <td>France</td>\n",
              "      <td>Male</td>\n",
              "      <td>NaN</td>\n",
              "      <td>NaN</td>\n",
              "      <td>NaN</td>\n",
              "      <td>1912-06-12</td>\n",
              "      <td>Paris</td>\n",
              "      <td>France</td>\n",
              "    </tr>\n",
              "  </tbody>\n",
              "</table>\n",
              "</div>"
            ],
            "text/plain": [
              "   year    category  ... death_city death_country\n",
              "0  1901   Chemistry  ...     Berlin       Germany\n",
              "1  1901  Literature  ...   Châtenay        France\n",
              "2  1901    Medicine  ...    Marburg       Germany\n",
              "3  1901       Peace  ...     Heiden   Switzerland\n",
              "4  1901       Peace  ...      Paris        France\n",
              "\n",
              "[5 rows x 18 columns]"
            ]
          },
          "metadata": {
            "tags": []
          },
          "execution_count": 2
        }
      ]
    },
    {
      "cell_type": "markdown",
      "metadata": {
        "id": "cbd8PlVyJrJh",
        "colab_type": "text"
      },
      "source": [
        "Let's see what type of data in each column."
      ]
    },
    {
      "cell_type": "code",
      "metadata": {
        "id": "wcbRkR8RMaZj",
        "colab_type": "code",
        "colab": {
          "base_uri": "https://localhost:8080/",
          "height": 442
        },
        "outputId": "629db454-b1a9-4b94-ced9-52cb8f0a8ecb"
      },
      "source": [
        "# display column info\n",
        "df.info()"
      ],
      "execution_count": 3,
      "outputs": [
        {
          "output_type": "stream",
          "text": [
            "<class 'pandas.core.frame.DataFrame'>\n",
            "RangeIndex: 911 entries, 0 to 910\n",
            "Data columns (total 18 columns):\n",
            " #   Column                Non-Null Count  Dtype \n",
            "---  ------                --------------  ----- \n",
            " 0   year                  911 non-null    int64 \n",
            " 1   category              911 non-null    object\n",
            " 2   prize                 911 non-null    object\n",
            " 3   motivation            823 non-null    object\n",
            " 4   prize_share           911 non-null    object\n",
            " 5   laureate_id           911 non-null    int64 \n",
            " 6   laureate_type         911 non-null    object\n",
            " 7   full_name             911 non-null    object\n",
            " 8   birth_date            883 non-null    object\n",
            " 9   birth_city            883 non-null    object\n",
            " 10  birth_country         885 non-null    object\n",
            " 11  sex                   885 non-null    object\n",
            " 12  organization_name     665 non-null    object\n",
            " 13  organization_city     667 non-null    object\n",
            " 14  organization_country  667 non-null    object\n",
            " 15  death_date            593 non-null    object\n",
            " 16  death_city            576 non-null    object\n",
            " 17  death_country         582 non-null    object\n",
            "dtypes: int64(2), object(16)\n",
            "memory usage: 128.2+ KB\n"
          ],
          "name": "stdout"
        }
      ]
    },
    {
      "cell_type": "code",
      "metadata": {
        "id": "tCZ2YHM_Mdfl",
        "colab_type": "code",
        "colab": {
          "base_uri": "https://localhost:8080/",
          "height": 68
        },
        "outputId": "b7db36c3-91d6-4b25-c5c1-b4280286055e"
      },
      "source": [
        "# how many object and int data dtypes\n",
        "df.dtypes.value_counts()"
      ],
      "execution_count": 4,
      "outputs": [
        {
          "output_type": "execute_result",
          "data": {
            "text/plain": [
              "object    16\n",
              "int64      2\n",
              "dtype: int64"
            ]
          },
          "metadata": {
            "tags": []
          },
          "execution_count": 4
        }
      ]
    },
    {
      "cell_type": "markdown",
      "metadata": {
        "id": "XhKnk8cBNCO2",
        "colab_type": "text"
      },
      "source": [
        "This dataset has 18 columns, with 2 integer column and 16 object column (most likely string object). Before proceeding to the next step, it's a better practice to convert a particular data type into a right and meaningful data type. So we have change the data type for column birth_date and death_date to datetime."
      ]
    },
    {
      "cell_type": "code",
      "metadata": {
        "id": "o7q0T6fwPZ2Q",
        "colab_type": "code",
        "colab": {}
      },
      "source": [
        "datetime_columns = ['birth_date', 'death_date']\n",
        "for col in datetime_columns:\n",
        "    df[col] = pd.to_datetime(df[col])"
      ],
      "execution_count": 0,
      "outputs": []
    },
    {
      "cell_type": "code",
      "metadata": {
        "id": "Xdllz27UQWTV",
        "colab_type": "code",
        "colab": {
          "base_uri": "https://localhost:8080/",
          "height": 68
        },
        "outputId": "f186c305-a68e-4fad-d530-4b47a72b5efe"
      },
      "source": [
        "df[datetime_columns].dtypes"
      ],
      "execution_count": 6,
      "outputs": [
        {
          "output_type": "execute_result",
          "data": {
            "text/plain": [
              "birth_date    datetime64[ns]\n",
              "death_date    datetime64[ns]\n",
              "dtype: object"
            ]
          },
          "metadata": {
            "tags": []
          },
          "execution_count": 6
        }
      ]
    },
    {
      "cell_type": "markdown",
      "metadata": {
        "id": "NPtU3kJKRIQD",
        "colab_type": "text"
      },
      "source": [
        "If we look back to the result we have when ran df.info(), we get column for data type and column for how many non-null values in each column. Now, we have to look further about these null values, then decide what we have to do with them."
      ]
    },
    {
      "cell_type": "code",
      "metadata": {
        "id": "iErNXZXFGQ4n",
        "colab_type": "code",
        "colab": {
          "base_uri": "https://localhost:8080/",
          "height": 374
        },
        "outputId": "e30549c0-c0fb-46f1-cf2e-d9d940793ee6"
      },
      "source": [
        "print('How many columns with null values?', df.isnull().any().sum())\n",
        "print('What those columns are?\\n',  df.isnull().any(), sep='')"
      ],
      "execution_count": 7,
      "outputs": [
        {
          "output_type": "stream",
          "text": [
            "How many columns with null values? 11\n",
            "What those columns are?\n",
            "year                    False\n",
            "category                False\n",
            "prize                   False\n",
            "motivation               True\n",
            "prize_share             False\n",
            "laureate_id             False\n",
            "laureate_type           False\n",
            "full_name               False\n",
            "birth_date               True\n",
            "birth_city               True\n",
            "birth_country            True\n",
            "sex                      True\n",
            "organization_name        True\n",
            "organization_city        True\n",
            "organization_country     True\n",
            "death_date               True\n",
            "death_city               True\n",
            "death_country            True\n",
            "dtype: bool\n"
          ],
          "name": "stdout"
        }
      ]
    },
    {
      "cell_type": "markdown",
      "metadata": {
        "id": "g_N3lJ6HIJEf",
        "colab_type": "text"
      },
      "source": [
        "11 out of 18 columns we have are filled with null values. Note that the missing values we have probably came from human-errors or plain missing data due to lack of information about particular nobel laurates. Now, we will look to how many missing values are present in each column."
      ]
    },
    {
      "cell_type": "code",
      "metadata": {
        "id": "biMN2YkJLmZe",
        "colab_type": "code",
        "colab": {
          "base_uri": "https://localhost:8080/",
          "height": 340
        },
        "outputId": "16c98d38-95b1-4d40-85e4-fd1127da5d3b"
      },
      "source": [
        "# how many null values (denoted as NaN) present in each column\n",
        "df.isnull().sum()"
      ],
      "execution_count": 8,
      "outputs": [
        {
          "output_type": "execute_result",
          "data": {
            "text/plain": [
              "year                      0\n",
              "category                  0\n",
              "prize                     0\n",
              "motivation               88\n",
              "prize_share               0\n",
              "laureate_id               0\n",
              "laureate_type             0\n",
              "full_name                 0\n",
              "birth_date               28\n",
              "birth_city               28\n",
              "birth_country            26\n",
              "sex                      26\n",
              "organization_name       246\n",
              "organization_city       244\n",
              "organization_country    244\n",
              "death_date              318\n",
              "death_city              335\n",
              "death_country           329\n",
              "dtype: int64"
            ]
          },
          "metadata": {
            "tags": []
          },
          "execution_count": 8
        }
      ]
    },
    {
      "cell_type": "markdown",
      "metadata": {
        "id": "x5pTyY9GMV5v",
        "colab_type": "text"
      },
      "source": [
        "We have 335 null values in column death_city (as the column with most missing values). How about the percentage of missing values."
      ]
    },
    {
      "cell_type": "code",
      "metadata": {
        "id": "vJ3zcAQkM76o",
        "colab_type": "code",
        "colab": {
          "base_uri": "https://localhost:8080/",
          "height": 340
        },
        "outputId": "a66b4bbd-aab3-4b4d-aa41-7c731d0cfcd3"
      },
      "source": [
        "# how many null values (denoted as NaN) present in each column -- Normalized\n",
        "df.isnull().mean()"
      ],
      "execution_count": 9,
      "outputs": [
        {
          "output_type": "execute_result",
          "data": {
            "text/plain": [
              "year                    0.000000\n",
              "category                0.000000\n",
              "prize                   0.000000\n",
              "motivation              0.096597\n",
              "prize_share             0.000000\n",
              "laureate_id             0.000000\n",
              "laureate_type           0.000000\n",
              "full_name               0.000000\n",
              "birth_date              0.030735\n",
              "birth_city              0.030735\n",
              "birth_country           0.028540\n",
              "sex                     0.028540\n",
              "organization_name       0.270033\n",
              "organization_city       0.267838\n",
              "organization_country    0.267838\n",
              "death_date              0.349067\n",
              "death_city              0.367728\n",
              "death_country           0.361142\n",
              "dtype: float64"
            ]
          },
          "metadata": {
            "tags": []
          },
          "execution_count": 9
        }
      ]
    },
    {
      "cell_type": "markdown",
      "metadata": {
        "id": "_oo8B-llM_V4",
        "colab_type": "text"
      },
      "source": [
        "The series object above shows us that we have 6 columns with missing values greater than 25%. But since this dataset is about an individual who won nobel prize, so there is nothing we can do to impute the missing values. Then we will just left the missing values as they are. As a final step of considering missing values, we will look at some simple bar plot which shows us about missing values count and percentage."
      ]
    },
    {
      "cell_type": "code",
      "metadata": {
        "id": "wAQHneGFPD05",
        "colab_type": "code",
        "colab": {}
      },
      "source": [
        "count = df.isnull().sum().sort_values(ascending=False)\n",
        "percentage = df.isnull().mean().sort_values(ascending=False)"
      ],
      "execution_count": 0,
      "outputs": []
    },
    {
      "cell_type": "code",
      "metadata": {
        "id": "P_h5YsC2OMzp",
        "colab_type": "code",
        "colab": {
          "base_uri": "https://localhost:8080/",
          "height": 408
        },
        "outputId": "3133c2de-4a51-4955-a9ec-56ce299044f4"
      },
      "source": [
        "fig, ax_count = plt.subplots(figsize=[10, 5])\n",
        "sns.barplot(x=count.values, y=count.index)\n",
        "ax_count.set_xlabel('Count')\n",
        "ax_count.set_ylabel('Columns')\n",
        "ax_percentage = ax_count.twiny()\n",
        "sns.barplot(x=percentage.values, y=percentage.index)\n",
        "ax_percentage.set_xlabel('Percentage')\n",
        "fig.suptitle('Missing values count and percentage', y=1.07, fontweight='semibold', fontsize=18);"
      ],
      "execution_count": 11,
      "outputs": [
        {
          "output_type": "display_data",
          "data": {
            "image/png": "[encoded data removed]",
            "text/plain": [
              "<Figure size 720x360 with 2 Axes>"
            ]
          },
          "metadata": {
            "tags": [],
            "needs_background": "light"
          }
        }
      ]
    },
    {
      "cell_type": "markdown",
      "metadata": {
        "id": "WQ71K7bgPY3-",
        "colab_type": "text"
      },
      "source": [
        "Now, we can better understand the data. As we validate from numeric representation before this, column 'death_city' is the column with most missing values, 'death_country' on the second place, 'death_date' on the third place, and so on."
      ]
    },
    {
      "cell_type": "markdown",
      "metadata": {
        "id": "-alDD06zSpGw",
        "colab_type": "text"
      },
      "source": [
        "## Univariate Analysis"
      ]
    },
    {
      "cell_type": "markdown",
      "metadata": {
        "id": "Ns3k8fiRTqtc",
        "colab_type": "text"
      },
      "source": [
        "In this section, we will explore each important columns and do the corresponding univariate analysis."
      ]
    },
    {
      "cell_type": "markdown",
      "metadata": {
        "id": "urA68oL_qDvA",
        "colab_type": "text"
      },
      "source": [
        "### year"
      ]
    },
    {
      "cell_type": "markdown",
      "metadata": {
        "id": "fheBQj5YqvvK",
        "colab_type": "text"
      },
      "source": [
        "Let's see the head (top 5) and tail (bottom 5) of this column"
      ]
    },
    {
      "cell_type": "code",
      "metadata": {
        "id": "j0INQ_CeqYV8",
        "colab_type": "code",
        "colab": {
          "base_uri": "https://localhost:8080/",
          "height": 119
        },
        "outputId": "ff5f0ef3-4139-40a1-84bc-3dc1aa3fa853"
      },
      "source": [
        "df['year'].head()"
      ],
      "execution_count": 12,
      "outputs": [
        {
          "output_type": "execute_result",
          "data": {
            "text/plain": [
              "0    1901\n",
              "1    1901\n",
              "2    1901\n",
              "3    1901\n",
              "4    1901\n",
              "Name: year, dtype: int64"
            ]
          },
          "metadata": {
            "tags": []
          },
          "execution_count": 12
        }
      ]
    },
    {
      "cell_type": "code",
      "metadata": {
        "id": "dSTs_GVNqarx",
        "colab_type": "code",
        "colab": {
          "base_uri": "https://localhost:8080/",
          "height": 119
        },
        "outputId": "0cc00730-8026-414f-a25e-2aca368b47aa"
      },
      "source": [
        "df['year'].tail()"
      ],
      "execution_count": 13,
      "outputs": [
        {
          "output_type": "execute_result",
          "data": {
            "text/plain": [
              "906    2016\n",
              "907    2016\n",
              "908    2016\n",
              "909    2016\n",
              "910    2016\n",
              "Name: year, dtype: int64"
            ]
          },
          "metadata": {
            "tags": []
          },
          "execution_count": 13
        }
      ]
    },
    {
      "cell_type": "code",
      "metadata": {
        "id": "atT6VNOMq-kp",
        "colab_type": "code",
        "colab": {}
      },
      "source": [
        "year_count = df['year'].value_counts().sort_index()"
      ],
      "execution_count": 0,
      "outputs": []
    },
    {
      "cell_type": "code",
      "metadata": {
        "id": "d-lFqW7iw6Io",
        "colab_type": "code",
        "colab": {
          "base_uri": "https://localhost:8080/",
          "height": 483
        },
        "outputId": "20268f2d-2311-42a5-f172-39676332ea1c"
      },
      "source": [
        "fig, ax_count = plt.subplots(figsize=[13, 7])\n",
        "sns.lineplot(x=year_count.index, y=year_count.values, ax=ax_count)\n",
        "ax_count.set_xlim(year_count.index.min(), year_count.index.max())\n",
        "ax_count.set_xticks(np.arange(year_count.index.min(), year_count.index.max(), 10))\n",
        "ax_count.set_ylim(0, 15)\n",
        "ax_count.set_yticks(np.arange(0, 17, 2))\n",
        "ax_count.set_xlabel('Year')\n",
        "ax_count.set_ylabel('Count')\n",
        "ax_count.margins(0.2)\n",
        "fig.suptitle('How many nobel laurates in each year?', fontweight='bold', fontsize=18, y=0.95);"
      ],
      "execution_count": 15,
      "outputs": [
        {
          "output_type": "display_data",
          "data": {
            "image/png": "[encoded data removed]",
            "text/plain": [
              "<Figure size 936x504 with 1 Axes>"
            ]
          },
          "metadata": {
            "tags": [],
            "needs_background": "light"
          }
        }
      ]
    },
    {
      "cell_type": "markdown",
      "metadata": {
        "id": "27tz0lSC3tbG",
        "colab_type": "text"
      },
      "source": [
        "When we look at the plot above, there are many fluctuations. Then we also know that there is a minimum value between 1911 and 1921. But which year it is?"
      ]
    },
    {
      "cell_type": "code",
      "metadata": {
        "id": "3gFDiqLbxlCY",
        "colab_type": "code",
        "colab": {
          "base_uri": "https://localhost:8080/",
          "height": 119
        },
        "outputId": "cc4e78b5-845a-417e-a551-c94c5dbe426f"
      },
      "source": [
        "# display the 5 smallest count in year column\n",
        "year_count.nsmallest(5)"
      ],
      "execution_count": 16,
      "outputs": [
        {
          "output_type": "execute_result",
          "data": {
            "text/plain": [
              "1916    1\n",
              "1918    2\n",
              "1914    3\n",
              "1924    3\n",
              "1915    4\n",
              "Name: year, dtype: int64"
            ]
          },
          "metadata": {
            "tags": []
          },
          "execution_count": 16
        }
      ]
    },
    {
      "cell_type": "markdown",
      "metadata": {
        "id": "YzqVTzzS4Oe2",
        "colab_type": "text"
      },
      "source": [
        "In here, we know that in 1916 there is only one nobel laurate, two nobel laurates in 1918, three nobel laurates in 1914 and 1924, and four nobel laurates in 1915. So between 1910-1920, there is a decreasing pattern in our plot, and if we open the history book, we know that in this period the world war 1 was raging. Especially, between Jul 28, 1914 – Nov 11, 1918."
      ]
    },
    {
      "cell_type": "code",
      "metadata": {
        "id": "4xgklpej5wnI",
        "colab_type": "code",
        "colab": {
          "base_uri": "https://localhost:8080/",
          "height": 238
        },
        "outputId": "7fd46285-58ba-44ec-8638-fe676cba430f"
      },
      "source": [
        "# compute what is the average of nobel laureates in each decade\n",
        "decade_count = year_count.groupby(by=lambda x: np.floor(x / 10)).mean()\n",
        "decade_count.index = np.arange(1900, 2020, 10)\n",
        "decade_count"
      ],
      "execution_count": 17,
      "outputs": [
        {
          "output_type": "execute_result",
          "data": {
            "text/plain": [
              "1900     6.333333\n",
              "1910     4.000000\n",
              "1920     5.400000\n",
              "1930     5.600000\n",
              "1940     6.142857\n",
              "1950     7.200000\n",
              "1960     7.900000\n",
              "1970    10.400000\n",
              "1980     9.700000\n",
              "1990    10.400000\n",
              "2000    12.300000\n",
              "2010    11.714286\n",
              "Name: year, dtype: float64"
            ]
          },
          "metadata": {
            "tags": []
          },
          "execution_count": 17
        }
      ]
    },
    {
      "cell_type": "code",
      "metadata": {
        "id": "i5Mx13xQ8yg7",
        "colab_type": "code",
        "colab": {
          "base_uri": "https://localhost:8080/",
          "height": 483
        },
        "outputId": "5fbc7373-5201-4e87-e29a-129fef91d99a"
      },
      "source": [
        "fig, ax = plt.subplots(figsize=[10, 7])\n",
        "ax.plot(decade_count,'ob--')\n",
        "ax.set(xlabel='Decade', ylabel='Count')\n",
        "fig.suptitle('The average of Nobel Laureates in each decade', fontsize=18, fontweight='semibold', y=0.95);"
      ],
      "execution_count": 18,
      "outputs": [
        {
          "output_type": "display_data",
          "data": {
            "image/png": "[encoded data removed]",
            "text/plain": [
              "<Figure size 720x504 with 1 Axes>"
            ]
          },
          "metadata": {
            "tags": [],
            "needs_background": "light"
          }
        }
      ]
    },
    {
      "cell_type": "markdown",
      "metadata": {
        "id": "shaBRlO3-Bjt",
        "colab_type": "text"
      },
      "source": [
        "Based on what we see above, there is an increasing trend (excluding the first decade and second decade)."
      ]
    },
    {
      "cell_type": "code",
      "metadata": {
        "id": "iyy8S9zt_bUj",
        "colab_type": "code",
        "colab": {}
      },
      "source": [
        ""
      ],
      "execution_count": 0,
      "outputs": []
    }
  ]
}