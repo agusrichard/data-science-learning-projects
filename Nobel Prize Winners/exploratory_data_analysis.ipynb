{
  "nbformat": 4,
  "nbformat_minor": 0,
  "metadata": {
    "colab": {
      "name": "exploratory_data_analysis.ipynb",
      "provenance": [],
      "collapsed_sections": []
    },
    "kernelspec": {
      "name": "python3",
      "display_name": "Python 3"
    }
  },
  "cells": [
    {
      "cell_type": "markdown",
      "metadata": {
        "id": "DoFXqR8nHkDc",
        "colab_type": "text"
      },
      "source": [
        "# Nobel Prize Winners: Exploratory Data Analysis"
      ]
    },
    {
      "cell_type": "markdown",
      "metadata": {
        "id": "ruA4vKNMH5Sk",
        "colab_type": "text"
      },
      "source": [
        "__Importing libraries__"
      ]
    },
    {
      "cell_type": "code",
      "metadata": {
        "id": "sngaAuecHvF5",
        "colab_type": "code",
        "colab": {
          "base_uri": "https://localhost:8080/",
          "height": 71
        },
        "outputId": "c99444b9-f19a-4191-b4b0-a00794740785"
      },
      "source": [
        "import numpy as np\n",
        "import pandas as pd\n",
        "import matplotlib.pyplot as plt\n",
        "import seaborn as sns\n",
        "sns.set()"
      ],
      "execution_count": 1,
      "outputs": [
        {
          "output_type": "stream",
          "text": [
            "/usr/local/lib/python3.6/dist-packages/statsmodels/tools/_testing.py:19: FutureWarning: pandas.util.testing is deprecated. Use the functions in the public API at pandas.testing instead.\n",
            "  import pandas.util.testing as tm\n"
          ],
          "name": "stderr"
        }
      ]
    },
    {
      "cell_type": "markdown",
      "metadata": {
        "id": "bX91aUMtLuFa",
        "colab_type": "text"
      },
      "source": [
        "## Preliminary Step"
      ]
    },
    {
      "cell_type": "code",
      "metadata": {
        "id": "T9Ugr_7YJajz",
        "colab_type": "code",
        "colab": {
          "base_uri": "https://localhost:8080/",
          "height": 496
        },
        "outputId": "d08b1ad2-e8e9-4069-aeac-9b04f33a7291"
      },
      "source": [
        "# read csv file to dafarame\n",
        "df = pd.read_csv('datasets/nobel.csv')\n",
        "# display 5 data points on top\n",
        "df.head()"
      ],
      "execution_count": 2,
      "outputs": [
        {
          "output_type": "execute_result",
          "data": {
            "text/html": [
              "<div>\n",
              "<style scoped>\n",
              "    .dataframe tbody tr th:only-of-type {\n",
              "        vertical-align: middle;\n",
              "    }\n",
              "\n",
              "    .dataframe tbody tr th {\n",
              "        vertical-align: top;\n",
              "    }\n",
              "\n",
              "    .dataframe thead th {\n",
              "        text-align: right;\n",
              "    }\n",
              "</style>\n",
              "<table border=\"1\" class=\"dataframe\">\n",
              "  <thead>\n",
              "    <tr style=\"text-align: right;\">\n",
              "      <th></th>\n",
              "      <th>year</th>\n",
              "      <th>category</th>\n",
              "      <th>prize</th>\n",
              "      <th>motivation</th>\n",
              "      <th>prize_share</th>\n",
              "      <th>laureate_id</th>\n",
              "      <th>laureate_type</th>\n",
              "      <th>full_name</th>\n",
              "      <th>birth_date</th>\n",
              "      <th>birth_city</th>\n",
              "      <th>birth_country</th>\n",
              "      <th>sex</th>\n",
              "      <th>organization_name</th>\n",
              "      <th>organization_city</th>\n",
              "      <th>organization_country</th>\n",
              "      <th>death_date</th>\n",
              "      <th>death_city</th>\n",
              "      <th>death_country</th>\n",
              "    </tr>\n",
              "  </thead>\n",
              "  <tbody>\n",
              "    <tr>\n",
              "      <th>0</th>\n",
              "      <td>1901</td>\n",
              "      <td>Chemistry</td>\n",
              "      <td>The Nobel Prize in Chemistry 1901</td>\n",
              "      <td>\"in recognition of the extraordinary services ...</td>\n",
              "      <td>1/1</td>\n",
              "      <td>160</td>\n",
              "      <td>Individual</td>\n",
              "      <td>Jacobus Henricus van 't Hoff</td>\n",
              "      <td>1852-08-30</td>\n",
              "      <td>Rotterdam</td>\n",
              "      <td>Netherlands</td>\n",
              "      <td>Male</td>\n",
              "      <td>Berlin University</td>\n",
              "      <td>Berlin</td>\n",
              "      <td>Germany</td>\n",
              "      <td>1911-03-01</td>\n",
              "      <td>Berlin</td>\n",
              "      <td>Germany</td>\n",
              "    </tr>\n",
              "    <tr>\n",
              "      <th>1</th>\n",
              "      <td>1901</td>\n",
              "      <td>Literature</td>\n",
              "      <td>The Nobel Prize in Literature 1901</td>\n",
              "      <td>\"in special recognition of his poetic composit...</td>\n",
              "      <td>1/1</td>\n",
              "      <td>569</td>\n",
              "      <td>Individual</td>\n",
              "      <td>Sully Prudhomme</td>\n",
              "      <td>1839-03-16</td>\n",
              "      <td>Paris</td>\n",
              "      <td>France</td>\n",
              "      <td>Male</td>\n",
              "      <td>NaN</td>\n",
              "      <td>NaN</td>\n",
              "      <td>NaN</td>\n",
              "      <td>1907-09-07</td>\n",
              "      <td>Châtenay</td>\n",
              "      <td>France</td>\n",
              "    </tr>\n",
              "    <tr>\n",
              "      <th>2</th>\n",
              "      <td>1901</td>\n",
              "      <td>Medicine</td>\n",
              "      <td>The Nobel Prize in Physiology or Medicine 1901</td>\n",
              "      <td>\"for his work on serum therapy, especially its...</td>\n",
              "      <td>1/1</td>\n",
              "      <td>293</td>\n",
              "      <td>Individual</td>\n",
              "      <td>Emil Adolf von Behring</td>\n",
              "      <td>1854-03-15</td>\n",
              "      <td>Hansdorf (Lawice)</td>\n",
              "      <td>Prussia (Poland)</td>\n",
              "      <td>Male</td>\n",
              "      <td>Marburg University</td>\n",
              "      <td>Marburg</td>\n",
              "      <td>Germany</td>\n",
              "      <td>1917-03-31</td>\n",
              "      <td>Marburg</td>\n",
              "      <td>Germany</td>\n",
              "    </tr>\n",
              "    <tr>\n",
              "      <th>3</th>\n",
              "      <td>1901</td>\n",
              "      <td>Peace</td>\n",
              "      <td>The Nobel Peace Prize 1901</td>\n",
              "      <td>NaN</td>\n",
              "      <td>1/2</td>\n",
              "      <td>462</td>\n",
              "      <td>Individual</td>\n",
              "      <td>Jean Henry Dunant</td>\n",
              "      <td>1828-05-08</td>\n",
              "      <td>Geneva</td>\n",
              "      <td>Switzerland</td>\n",
              "      <td>Male</td>\n",
              "      <td>NaN</td>\n",
              "      <td>NaN</td>\n",
              "      <td>NaN</td>\n",
              "      <td>1910-10-30</td>\n",
              "      <td>Heiden</td>\n",
              "      <td>Switzerland</td>\n",
              "    </tr>\n",
              "    <tr>\n",
              "      <th>4</th>\n",
              "      <td>1901</td>\n",
              "      <td>Peace</td>\n",
              "      <td>The Nobel Peace Prize 1901</td>\n",
              "      <td>NaN</td>\n",
              "      <td>1/2</td>\n",
              "      <td>463</td>\n",
              "      <td>Individual</td>\n",
              "      <td>Frédéric Passy</td>\n",
              "      <td>1822-05-20</td>\n",
              "      <td>Paris</td>\n",
              "      <td>France</td>\n",
              "      <td>Male</td>\n",
              "      <td>NaN</td>\n",
              "      <td>NaN</td>\n",
              "      <td>NaN</td>\n",
              "      <td>1912-06-12</td>\n",
              "      <td>Paris</td>\n",
              "      <td>France</td>\n",
              "    </tr>\n",
              "  </tbody>\n",
              "</table>\n",
              "</div>"
            ],
            "text/plain": [
              "   year    category  ... death_city death_country\n",
              "0  1901   Chemistry  ...     Berlin       Germany\n",
              "1  1901  Literature  ...   Châtenay        France\n",
              "2  1901    Medicine  ...    Marburg       Germany\n",
              "3  1901       Peace  ...     Heiden   Switzerland\n",
              "4  1901       Peace  ...      Paris        France\n",
              "\n",
              "[5 rows x 18 columns]"
            ]
          },
          "metadata": {
            "tags": []
          },
          "execution_count": 2
        }
      ]
    },
    {
      "cell_type": "markdown",
      "metadata": {
        "id": "cbd8PlVyJrJh",
        "colab_type": "text"
      },
      "source": [
        "Let's see what type of data in each column."
      ]
    },
    {
      "cell_type": "code",
      "metadata": {
        "id": "wcbRkR8RMaZj",
        "colab_type": "code",
        "colab": {
          "base_uri": "https://localhost:8080/",
          "height": 442
        },
        "outputId": "574f4398-b089-419d-a821-c02ff4d9d9bb"
      },
      "source": [
        "# display column info\n",
        "df.info()"
      ],
      "execution_count": 3,
      "outputs": [
        {
          "output_type": "stream",
          "text": [
            "<class 'pandas.core.frame.DataFrame'>\n",
            "RangeIndex: 911 entries, 0 to 910\n",
            "Data columns (total 18 columns):\n",
            " #   Column                Non-Null Count  Dtype \n",
            "---  ------                --------------  ----- \n",
            " 0   year                  911 non-null    int64 \n",
            " 1   category              911 non-null    object\n",
            " 2   prize                 911 non-null    object\n",
            " 3   motivation            823 non-null    object\n",
            " 4   prize_share           911 non-null    object\n",
            " 5   laureate_id           911 non-null    int64 \n",
            " 6   laureate_type         911 non-null    object\n",
            " 7   full_name             911 non-null    object\n",
            " 8   birth_date            883 non-null    object\n",
            " 9   birth_city            883 non-null    object\n",
            " 10  birth_country         885 non-null    object\n",
            " 11  sex                   885 non-null    object\n",
            " 12  organization_name     665 non-null    object\n",
            " 13  organization_city     667 non-null    object\n",
            " 14  organization_country  667 non-null    object\n",
            " 15  death_date            593 non-null    object\n",
            " 16  death_city            576 non-null    object\n",
            " 17  death_country         582 non-null    object\n",
            "dtypes: int64(2), object(16)\n",
            "memory usage: 128.2+ KB\n"
          ],
          "name": "stdout"
        }
      ]
    },
    {
      "cell_type": "code",
      "metadata": {
        "id": "tCZ2YHM_Mdfl",
        "colab_type": "code",
        "colab": {
          "base_uri": "https://localhost:8080/",
          "height": 68
        },
        "outputId": "645d9898-4abe-4406-d77e-742645720609"
      },
      "source": [
        "# how many object and int data dtypes\n",
        "df.dtypes.value_counts()"
      ],
      "execution_count": 4,
      "outputs": [
        {
          "output_type": "execute_result",
          "data": {
            "text/plain": [
              "object    16\n",
              "int64      2\n",
              "dtype: int64"
            ]
          },
          "metadata": {
            "tags": []
          },
          "execution_count": 4
        }
      ]
    },
    {
      "cell_type": "markdown",
      "metadata": {
        "id": "XhKnk8cBNCO2",
        "colab_type": "text"
      },
      "source": [
        "This dataset has 18 columns, with 2 integer column and 16 object column (most likely string object). Before proceeding to the next step, it's a better practice to convert a particular data type into a right and meaningful data type. So we have change the data type for column birth_date and death_date to datetime."
      ]
    },
    {
      "cell_type": "code",
      "metadata": {
        "id": "o7q0T6fwPZ2Q",
        "colab_type": "code",
        "colab": {}
      },
      "source": [
        "datetime_columns = ['birth_date', 'death_date']\n",
        "for col in datetime_columns:\n",
        "    df[col] = pd.to_datetime(df[col])"
      ],
      "execution_count": 0,
      "outputs": []
    },
    {
      "cell_type": "code",
      "metadata": {
        "id": "Xdllz27UQWTV",
        "colab_type": "code",
        "colab": {
          "base_uri": "https://localhost:8080/",
          "height": 68
        },
        "outputId": "e4904b89-945a-4ab2-ba32-041488722701"
      },
      "source": [
        "df[datetime_columns].dtypes"
      ],
      "execution_count": 6,
      "outputs": [
        {
          "output_type": "execute_result",
          "data": {
            "text/plain": [
              "birth_date    datetime64[ns]\n",
              "death_date    datetime64[ns]\n",
              "dtype: object"
            ]
          },
          "metadata": {
            "tags": []
          },
          "execution_count": 6
        }
      ]
    },
    {
      "cell_type": "markdown",
      "metadata": {
        "id": "NPtU3kJKRIQD",
        "colab_type": "text"
      },
      "source": [
        "If we look back to the result we have when ran df.info(), we get column for data type and column for how many non-null values in each column. Now, we have to look further about these null values, then decide what we have to do with them."
      ]
    },
    {
      "cell_type": "code",
      "metadata": {
        "id": "iErNXZXFGQ4n",
        "colab_type": "code",
        "colab": {
          "base_uri": "https://localhost:8080/",
          "height": 374
        },
        "outputId": "da45676c-62e0-4aa0-e124-a5d9e74f66b8"
      },
      "source": [
        "print('How many columns with null values?', df.isnull().any().sum())\n",
        "print('What those columns are?\\n',  df.isnull().any(), sep='')"
      ],
      "execution_count": 7,
      "outputs": [
        {
          "output_type": "stream",
          "text": [
            "How many columns with null values? 11\n",
            "What those columns are?\n",
            "year                    False\n",
            "category                False\n",
            "prize                   False\n",
            "motivation               True\n",
            "prize_share             False\n",
            "laureate_id             False\n",
            "laureate_type           False\n",
            "full_name               False\n",
            "birth_date               True\n",
            "birth_city               True\n",
            "birth_country            True\n",
            "sex                      True\n",
            "organization_name        True\n",
            "organization_city        True\n",
            "organization_country     True\n",
            "death_date               True\n",
            "death_city               True\n",
            "death_country            True\n",
            "dtype: bool\n"
          ],
          "name": "stdout"
        }
      ]
    },
    {
      "cell_type": "markdown",
      "metadata": {
        "id": "g_N3lJ6HIJEf",
        "colab_type": "text"
      },
      "source": [
        "11 out of 18 columns we have are filled with null values. Note that the missing values we have probably came from human-errors or plain missing data due to lack of information about particular nobel laurates. Now, we will look to how many missing values are present in each column."
      ]
    },
    {
      "cell_type": "code",
      "metadata": {
        "id": "biMN2YkJLmZe",
        "colab_type": "code",
        "colab": {
          "base_uri": "https://localhost:8080/",
          "height": 340
        },
        "outputId": "8b464a4e-51e3-4933-a72b-af76056fca3e"
      },
      "source": [
        "# how many null values (denoted as NaN) present in each column\n",
        "df.isnull().sum()"
      ],
      "execution_count": 8,
      "outputs": [
        {
          "output_type": "execute_result",
          "data": {
            "text/plain": [
              "year                      0\n",
              "category                  0\n",
              "prize                     0\n",
              "motivation               88\n",
              "prize_share               0\n",
              "laureate_id               0\n",
              "laureate_type             0\n",
              "full_name                 0\n",
              "birth_date               28\n",
              "birth_city               28\n",
              "birth_country            26\n",
              "sex                      26\n",
              "organization_name       246\n",
              "organization_city       244\n",
              "organization_country    244\n",
              "death_date              318\n",
              "death_city              335\n",
              "death_country           329\n",
              "dtype: int64"
            ]
          },
          "metadata": {
            "tags": []
          },
          "execution_count": 8
        }
      ]
    },
    {
      "cell_type": "markdown",
      "metadata": {
        "id": "x5pTyY9GMV5v",
        "colab_type": "text"
      },
      "source": [
        "We have 335 null values in column death_city (as the column with most missing values). How about the percentage of missing values."
      ]
    },
    {
      "cell_type": "code",
      "metadata": {
        "id": "vJ3zcAQkM76o",
        "colab_type": "code",
        "colab": {
          "base_uri": "https://localhost:8080/",
          "height": 340
        },
        "outputId": "eb01583f-44c3-4810-ac99-27ef417c1b72"
      },
      "source": [
        "# how many null values (denoted as NaN) present in each column -- Normalized\n",
        "df.isnull().mean()"
      ],
      "execution_count": 9,
      "outputs": [
        {
          "output_type": "execute_result",
          "data": {
            "text/plain": [
              "year                    0.000000\n",
              "category                0.000000\n",
              "prize                   0.000000\n",
              "motivation              0.096597\n",
              "prize_share             0.000000\n",
              "laureate_id             0.000000\n",
              "laureate_type           0.000000\n",
              "full_name               0.000000\n",
              "birth_date              0.030735\n",
              "birth_city              0.030735\n",
              "birth_country           0.028540\n",
              "sex                     0.028540\n",
              "organization_name       0.270033\n",
              "organization_city       0.267838\n",
              "organization_country    0.267838\n",
              "death_date              0.349067\n",
              "death_city              0.367728\n",
              "death_country           0.361142\n",
              "dtype: float64"
            ]
          },
          "metadata": {
            "tags": []
          },
          "execution_count": 9
        }
      ]
    },
    {
      "cell_type": "markdown",
      "metadata": {
        "id": "_oo8B-llM_V4",
        "colab_type": "text"
      },
      "source": [
        "The series object above shows us that we have 6 columns with missing values greater than 25%. But since this dataset is about an individual who won nobel prize, so there is nothing we can do to impute the missing values. Then we will just left the missing values as they are. As a final step of considering missing values, we will look at some simple bar plot which shows us about missing values count and percentage."
      ]
    },
    {
      "cell_type": "code",
      "metadata": {
        "id": "wAQHneGFPD05",
        "colab_type": "code",
        "colab": {}
      },
      "source": [
        "count = df.isnull().sum().sort_values(ascending=False)\n",
        "fraction = df.isnull().mean().sort_values(ascending=False)"
      ],
      "execution_count": 0,
      "outputs": []
    },
    {
      "cell_type": "code",
      "metadata": {
        "id": "P_h5YsC2OMzp",
        "colab_type": "code",
        "colab": {
          "base_uri": "https://localhost:8080/",
          "height": 408
        },
        "outputId": "65cf7b9d-74bd-401d-d695-85d92e219eed"
      },
      "source": [
        "fig, ax_count = plt.subplots(figsize=[10, 5])\n",
        "sns.barplot(x=count.values, y=count.index)\n",
        "ax_count.set_xlabel('Count')\n",
        "ax_count.set_ylabel('Columns')\n",
        "ax_fraction = ax_count.twiny()\n",
        "sns.barplot(x=fraction.values, y=fraction.index)\n",
        "ax_fraction.set_xlabel('Fraction')\n",
        "fig.suptitle('Missing values count and fraction', y=1.07, fontweight='semibold', fontsize=18);"
      ],
      "execution_count": 11,
      "outputs": [
        {
          "output_type": "display_data",
          "data": {
            "image/png": "[encoded data removed]",
            "text/plain": [
              "<Figure size 720x360 with 2 Axes>"
            ]
          },
          "metadata": {
            "tags": [],
            "needs_background": "light"
          }
        }
      ]
    },
    {
      "cell_type": "markdown",
      "metadata": {
        "id": "WQ71K7bgPY3-",
        "colab_type": "text"
      },
      "source": [
        "Now, we can better understand the data. As we validate from numeric representation before this, column 'death_city' is the column with most missing values, 'death_country' on the second place, 'death_date' on the third place, and so on."
      ]
    },
    {
      "cell_type": "markdown",
      "metadata": {
        "id": "-alDD06zSpGw",
        "colab_type": "text"
      },
      "source": [
        "## Univariate Analysis"
      ]
    },
    {
      "cell_type": "markdown",
      "metadata": {
        "id": "Ns3k8fiRTqtc",
        "colab_type": "text"
      },
      "source": [
        "In this section, we will explore each important columns and do the corresponding univariate analysis."
      ]
    },
    {
      "cell_type": "markdown",
      "metadata": {
        "id": "urA68oL_qDvA",
        "colab_type": "text"
      },
      "source": [
        "### year"
      ]
    },
    {
      "cell_type": "markdown",
      "metadata": {
        "id": "fheBQj5YqvvK",
        "colab_type": "text"
      },
      "source": [
        "Let's see the head (top 5) and tail (bottom 5) of this column"
      ]
    },
    {
      "cell_type": "code",
      "metadata": {
        "id": "j0INQ_CeqYV8",
        "colab_type": "code",
        "colab": {
          "base_uri": "https://localhost:8080/",
          "height": 119
        },
        "outputId": "422c7598-81f9-453d-9336-6311deca0a5b"
      },
      "source": [
        "df['year'].head()"
      ],
      "execution_count": 12,
      "outputs": [
        {
          "output_type": "execute_result",
          "data": {
            "text/plain": [
              "0    1901\n",
              "1    1901\n",
              "2    1901\n",
              "3    1901\n",
              "4    1901\n",
              "Name: year, dtype: int64"
            ]
          },
          "metadata": {
            "tags": []
          },
          "execution_count": 12
        }
      ]
    },
    {
      "cell_type": "code",
      "metadata": {
        "id": "dSTs_GVNqarx",
        "colab_type": "code",
        "colab": {
          "base_uri": "https://localhost:8080/",
          "height": 119
        },
        "outputId": "68def153-72b9-441a-a2b5-5e28c0795c06"
      },
      "source": [
        "df['year'].tail()"
      ],
      "execution_count": 13,
      "outputs": [
        {
          "output_type": "execute_result",
          "data": {
            "text/plain": [
              "906    2016\n",
              "907    2016\n",
              "908    2016\n",
              "909    2016\n",
              "910    2016\n",
              "Name: year, dtype: int64"
            ]
          },
          "metadata": {
            "tags": []
          },
          "execution_count": 13
        }
      ]
    },
    {
      "cell_type": "code",
      "metadata": {
        "id": "atT6VNOMq-kp",
        "colab_type": "code",
        "colab": {}
      },
      "source": [
        "year_count = df['year'].value_counts().sort_index()"
      ],
      "execution_count": 0,
      "outputs": []
    },
    {
      "cell_type": "code",
      "metadata": {
        "id": "d-lFqW7iw6Io",
        "colab_type": "code",
        "colab": {
          "base_uri": "https://localhost:8080/",
          "height": 483
        },
        "outputId": "ee486540-6dee-4d96-d522-1e78fb297706"
      },
      "source": [
        "fig, ax_count = plt.subplots(figsize=[13, 7])\n",
        "sns.lineplot(x=year_count.index, y=year_count.values, ax=ax_count)\n",
        "ax_count.set_xlim(year_count.index.min(), year_count.index.max())\n",
        "ax_count.set_xticks(np.arange(year_count.index.min(), year_count.index.max(), 10))\n",
        "ax_count.set_ylim(0, 15)\n",
        "ax_count.set_yticks(np.arange(0, 17, 2))\n",
        "ax_count.set_xlabel('Year')\n",
        "ax_count.set_ylabel('Count')\n",
        "ax_count.margins(0.2)\n",
        "fig.suptitle('How many nobel laureates in each year?', fontweight='bold', fontsize=18, y=0.95);"
      ],
      "execution_count": 15,
      "outputs": [
        {
          "output_type": "display_data",
          "data": {
            "image/png": "[encoded data removed]",
            "text/plain": [
              "<Figure size 936x504 with 1 Axes>"
            ]
          },
          "metadata": {
            "tags": [],
            "needs_background": "light"
          }
        }
      ]
    },
    {
      "cell_type": "markdown",
      "metadata": {
        "id": "27tz0lSC3tbG",
        "colab_type": "text"
      },
      "source": [
        "When we look at the plot above, there are many fluctuations. Then we also know that there is a minimum value between 1910 and 1920. But which year it is?"
      ]
    },
    {
      "cell_type": "code",
      "metadata": {
        "id": "3gFDiqLbxlCY",
        "colab_type": "code",
        "colab": {
          "base_uri": "https://localhost:8080/",
          "height": 119
        },
        "outputId": "5a582192-07d6-4c7e-9172-45d22b5990de"
      },
      "source": [
        "# display the 5 smallest count in year column\n",
        "year_count.nsmallest(5)"
      ],
      "execution_count": 16,
      "outputs": [
        {
          "output_type": "execute_result",
          "data": {
            "text/plain": [
              "1916    1\n",
              "1918    2\n",
              "1914    3\n",
              "1924    3\n",
              "1915    4\n",
              "Name: year, dtype: int64"
            ]
          },
          "metadata": {
            "tags": []
          },
          "execution_count": 16
        }
      ]
    },
    {
      "cell_type": "code",
      "metadata": {
        "id": "h8LqxLY5WFL7",
        "colab_type": "code",
        "colab": {
          "base_uri": "https://localhost:8080/",
          "height": 119
        },
        "outputId": "73d3da36-a2f3-463c-ef1d-2428011a1a87"
      },
      "source": [
        "# display the 5 largest count in year column\n",
        "year_count.nlargest(5)"
      ],
      "execution_count": 17,
      "outputs": [
        {
          "output_type": "execute_result",
          "data": {
            "text/plain": [
              "2001    15\n",
              "1996    13\n",
              "2000    13\n",
              "2002    13\n",
              "2005    13\n",
              "Name: year, dtype: int64"
            ]
          },
          "metadata": {
            "tags": []
          },
          "execution_count": 17
        }
      ]
    },
    {
      "cell_type": "markdown",
      "metadata": {
        "id": "YzqVTzzS4Oe2",
        "colab_type": "text"
      },
      "source": [
        "In here, we know that in 1916 there is only one nobel laureate, two nobel laureates in 1918, three nobel laurates in 1914 and 1924, and four nobel laureates in 1915. So between 1910-1920, there is a decreasing pattern in our plot, and if we open the history book, we know that in this period the world war 1 was raging. Especially, between Jul 28, 1914 – Nov 11, 1918. Then we have 15 nobel laureates in 2001."
      ]
    },
    {
      "cell_type": "code",
      "metadata": {
        "id": "4xgklpej5wnI",
        "colab_type": "code",
        "colab": {
          "base_uri": "https://localhost:8080/",
          "height": 238
        },
        "outputId": "f3eea6d2-6023-4d07-ec27-92d44bd2ac9e"
      },
      "source": [
        "# compute what is the average of nobel laureates in each decade\n",
        "decade_count = year_count.groupby(by=lambda x: np.floor(x / 10)).mean()\n",
        "decade_count.index = np.arange(1900, 2020, 10)\n",
        "decade_count"
      ],
      "execution_count": 18,
      "outputs": [
        {
          "output_type": "execute_result",
          "data": {
            "text/plain": [
              "1900     6.333333\n",
              "1910     4.000000\n",
              "1920     5.400000\n",
              "1930     5.600000\n",
              "1940     6.142857\n",
              "1950     7.200000\n",
              "1960     7.900000\n",
              "1970    10.400000\n",
              "1980     9.700000\n",
              "1990    10.400000\n",
              "2000    12.300000\n",
              "2010    11.714286\n",
              "Name: year, dtype: float64"
            ]
          },
          "metadata": {
            "tags": []
          },
          "execution_count": 18
        }
      ]
    },
    {
      "cell_type": "code",
      "metadata": {
        "id": "i5Mx13xQ8yg7",
        "colab_type": "code",
        "colab": {
          "base_uri": "https://localhost:8080/",
          "height": 483
        },
        "outputId": "a041122e-0f0f-4a4f-a0f7-89ddb883997d"
      },
      "source": [
        "fig, ax = plt.subplots(figsize=[10, 7])\n",
        "ax.plot(decade_count,'ob--')\n",
        "ax.set(xlabel='Decade', ylabel='Count')\n",
        "fig.suptitle('The average of Nobel Laureates in each decade', fontsize=18, fontweight='semibold', y=0.95);"
      ],
      "execution_count": 19,
      "outputs": [
        {
          "output_type": "display_data",
          "data": {
            "image/png": "[encoded data removed]",
            "text/plain": [
              "<Figure size 720x504 with 1 Axes>"
            ]
          },
          "metadata": {
            "tags": [],
            "needs_background": "light"
          }
        }
      ]
    },
    {
      "cell_type": "markdown",
      "metadata": {
        "id": "shaBRlO3-Bjt",
        "colab_type": "text"
      },
      "source": [
        "We can conclude that there is an increasing trend from 1901 to 2011 (almost double). With only 1 nobel laureate in 1916 as the lowest number of nobel laureate, and fifteen nobel laureate in 2001 as the highest number of noble laureates."
      ]
    },
    {
      "cell_type": "markdown",
      "metadata": {
        "id": "iyy8S9zt_bUj",
        "colab_type": "text"
      },
      "source": [
        "### category"
      ]
    },
    {
      "cell_type": "code",
      "metadata": {
        "id": "MMymI9bzAAcP",
        "colab_type": "code",
        "colab": {
          "base_uri": "https://localhost:8080/",
          "height": 119
        },
        "outputId": "3764c067-c5e6-4ae6-c720-6e1d42f5a592"
      },
      "source": [
        "# display the head of this column\n",
        "df['category'].head()"
      ],
      "execution_count": 20,
      "outputs": [
        {
          "output_type": "execute_result",
          "data": {
            "text/plain": [
              "0     Chemistry\n",
              "1    Literature\n",
              "2      Medicine\n",
              "3         Peace\n",
              "4         Peace\n",
              "Name: category, dtype: object"
            ]
          },
          "metadata": {
            "tags": []
          },
          "execution_count": 20
        }
      ]
    },
    {
      "cell_type": "markdown",
      "metadata": {
        "id": "w-Ol6UhUXFEs",
        "colab_type": "text"
      },
      "source": [
        "How many nobel categories are there?"
      ]
    },
    {
      "cell_type": "code",
      "metadata": {
        "id": "D75ELs0pXTtL",
        "colab_type": "code",
        "colab": {
          "base_uri": "https://localhost:8080/",
          "height": 34
        },
        "outputId": "ac0be5fe-fa72-471b-f8d8-a7cf79123cd0"
      },
      "source": [
        "print(df['category'].unique())"
      ],
      "execution_count": 21,
      "outputs": [
        {
          "output_type": "stream",
          "text": [
            "['Chemistry' 'Literature' 'Medicine' 'Peace' 'Physics' 'Economics']\n"
          ],
          "name": "stdout"
        }
      ]
    },
    {
      "cell_type": "markdown",
      "metadata": {
        "id": "c8dHoJFMXc4Y",
        "colab_type": "text"
      },
      "source": [
        "There are 6 different categories, but how many nobel laureates in each categories?"
      ]
    },
    {
      "cell_type": "code",
      "metadata": {
        "id": "rT0B_Ym0XVws",
        "colab_type": "code",
        "colab": {
          "base_uri": "https://localhost:8080/",
          "height": 136
        },
        "outputId": "45ed39d2-6b0d-4cfc-9544-b7ee30f60215"
      },
      "source": [
        "df['category'].value_counts()"
      ],
      "execution_count": 22,
      "outputs": [
        {
          "output_type": "execute_result",
          "data": {
            "text/plain": [
              "Medicine      211\n",
              "Physics       204\n",
              "Chemistry     175\n",
              "Peace         130\n",
              "Literature    113\n",
              "Economics      78\n",
              "Name: category, dtype: int64"
            ]
          },
          "metadata": {
            "tags": []
          },
          "execution_count": 22
        }
      ]
    },
    {
      "cell_type": "markdown",
      "metadata": {
        "id": "WtLZTs9bXz06",
        "colab_type": "text"
      },
      "source": [
        "We get 211 nobel laureates in Medicine and only 78 nobel laureates in Economics. Let's visualize the number we got above!"
      ]
    },
    {
      "cell_type": "code",
      "metadata": {
        "id": "Y-vlsaa8Y3hk",
        "colab_type": "code",
        "colab": {}
      },
      "source": [
        "category_count = df['category'].value_counts()\n",
        "category_fraction = df['category'].value_counts(normalize=True)"
      ],
      "execution_count": 0,
      "outputs": []
    },
    {
      "cell_type": "code",
      "metadata": {
        "id": "EqDbknzLYN_A",
        "colab_type": "code",
        "colab": {
          "base_uri": "https://localhost:8080/",
          "height": 467
        },
        "outputId": "e634cbd0-55ef-4fe8-cd5c-edfcca97f56d"
      },
      "source": [
        "fig, ax_count = plt.subplots(figsize=[10, 6])\n",
        "sns.barplot(ax=ax_count, x=category_count.values, y=category_count.index)\n",
        "ax_count.set(xlabel='Count', ylabel='Category', xticks=np.linspace(0, category_count.max(), 10))\n",
        "ax_fraction = ax_count.twiny()\n",
        "sns.barplot(ax=ax_fraction, x=category_fraction.values, y=category_fraction.index)\n",
        "ax_fraction.set(xlabel='Fraction', ylabel='Category', xticks=np.linspace(0, category_fraction.max(), 10))\n",
        "fig.suptitle('The number of Nobel Laureates in each category', fontsize=18, fontweight='semibold', y=1.05);"
      ],
      "execution_count": 24,
      "outputs": [
        {
          "output_type": "display_data",
          "data": {
            "image/png": "[encoded data removed]",
            "text/plain": [
              "<Figure size 720x432 with 2 Axes>"
            ]
          },
          "metadata": {
            "tags": [],
            "needs_background": "light"
          }
        }
      ]
    },
    {
      "cell_type": "markdown",
      "metadata": {
        "id": "kAWX79HiaCKB",
        "colab_type": "text"
      },
      "source": [
        "For category column, we can conclude that Medicine (Physiology) is the field with highest number of nobel laureates and Economics is the lowest one. Medicine contributes to almost 25 percent of all nobel laureates."
      ]
    },
    {
      "cell_type": "markdown",
      "metadata": {
        "id": "4roDjP0ccR00",
        "colab_type": "text"
      },
      "source": [
        "## laureate_type"
      ]
    },
    {
      "cell_type": "code",
      "metadata": {
        "id": "YL8CfExTchwH",
        "colab_type": "code",
        "colab": {
          "base_uri": "https://localhost:8080/",
          "height": 119
        },
        "outputId": "f8adc193-fa6b-454c-b50a-9f5431cda4d8"
      },
      "source": [
        "df['laureate_type'].head()"
      ],
      "execution_count": 25,
      "outputs": [
        {
          "output_type": "execute_result",
          "data": {
            "text/plain": [
              "0    Individual\n",
              "1    Individual\n",
              "2    Individual\n",
              "3    Individual\n",
              "4    Individual\n",
              "Name: laureate_type, dtype: object"
            ]
          },
          "metadata": {
            "tags": []
          },
          "execution_count": 25
        }
      ]
    },
    {
      "cell_type": "code",
      "metadata": {
        "id": "Th7mgOVccqe0",
        "colab_type": "code",
        "colab": {
          "base_uri": "https://localhost:8080/",
          "height": 34
        },
        "outputId": "4a6c3e1b-ca81-4852-b08e-b3eb99311051"
      },
      "source": [
        "# how many unique values in this column\n",
        "df['laureate_type'].unique()"
      ],
      "execution_count": 26,
      "outputs": [
        {
          "output_type": "execute_result",
          "data": {
            "text/plain": [
              "array(['Individual', 'Organization'], dtype=object)"
            ]
          },
          "metadata": {
            "tags": []
          },
          "execution_count": 26
        }
      ]
    },
    {
      "cell_type": "markdown",
      "metadata": {
        "id": "FmWJUtSpdVnX",
        "colab_type": "text"
      },
      "source": [
        "So there are only individuals and Organizations. Let's see what it means..."
      ]
    },
    {
      "cell_type": "code",
      "metadata": {
        "id": "9I3TRByYcvn7",
        "colab_type": "code",
        "colab": {
          "base_uri": "https://localhost:8080/",
          "height": 267
        },
        "outputId": "12ca254c-835b-439c-955e-aac801544f76"
      },
      "source": [
        "df[df['laureate_type'] == 'Individual'].head(2)"
      ],
      "execution_count": 27,
      "outputs": [
        {
          "output_type": "execute_result",
          "data": {
            "text/html": [
              "<div>\n",
              "<style scoped>\n",
              "    .dataframe tbody tr th:only-of-type {\n",
              "        vertical-align: middle;\n",
              "    }\n",
              "\n",
              "    .dataframe tbody tr th {\n",
              "        vertical-align: top;\n",
              "    }\n",
              "\n",
              "    .dataframe thead th {\n",
              "        text-align: right;\n",
              "    }\n",
              "</style>\n",
              "<table border=\"1\" class=\"dataframe\">\n",
              "  <thead>\n",
              "    <tr style=\"text-align: right;\">\n",
              "      <th></th>\n",
              "      <th>year</th>\n",
              "      <th>category</th>\n",
              "      <th>prize</th>\n",
              "      <th>motivation</th>\n",
              "      <th>prize_share</th>\n",
              "      <th>laureate_id</th>\n",
              "      <th>laureate_type</th>\n",
              "      <th>full_name</th>\n",
              "      <th>birth_date</th>\n",
              "      <th>birth_city</th>\n",
              "      <th>birth_country</th>\n",
              "      <th>sex</th>\n",
              "      <th>organization_name</th>\n",
              "      <th>organization_city</th>\n",
              "      <th>organization_country</th>\n",
              "      <th>death_date</th>\n",
              "      <th>death_city</th>\n",
              "      <th>death_country</th>\n",
              "    </tr>\n",
              "  </thead>\n",
              "  <tbody>\n",
              "    <tr>\n",
              "      <th>0</th>\n",
              "      <td>1901</td>\n",
              "      <td>Chemistry</td>\n",
              "      <td>The Nobel Prize in Chemistry 1901</td>\n",
              "      <td>\"in recognition of the extraordinary services ...</td>\n",
              "      <td>1/1</td>\n",
              "      <td>160</td>\n",
              "      <td>Individual</td>\n",
              "      <td>Jacobus Henricus van 't Hoff</td>\n",
              "      <td>1852-08-30</td>\n",
              "      <td>Rotterdam</td>\n",
              "      <td>Netherlands</td>\n",
              "      <td>Male</td>\n",
              "      <td>Berlin University</td>\n",
              "      <td>Berlin</td>\n",
              "      <td>Germany</td>\n",
              "      <td>1911-03-01</td>\n",
              "      <td>Berlin</td>\n",
              "      <td>Germany</td>\n",
              "    </tr>\n",
              "    <tr>\n",
              "      <th>1</th>\n",
              "      <td>1901</td>\n",
              "      <td>Literature</td>\n",
              "      <td>The Nobel Prize in Literature 1901</td>\n",
              "      <td>\"in special recognition of his poetic composit...</td>\n",
              "      <td>1/1</td>\n",
              "      <td>569</td>\n",
              "      <td>Individual</td>\n",
              "      <td>Sully Prudhomme</td>\n",
              "      <td>1839-03-16</td>\n",
              "      <td>Paris</td>\n",
              "      <td>France</td>\n",
              "      <td>Male</td>\n",
              "      <td>NaN</td>\n",
              "      <td>NaN</td>\n",
              "      <td>NaN</td>\n",
              "      <td>1907-09-07</td>\n",
              "      <td>Châtenay</td>\n",
              "      <td>France</td>\n",
              "    </tr>\n",
              "  </tbody>\n",
              "</table>\n",
              "</div>"
            ],
            "text/plain": [
              "   year    category  ... death_city death_country\n",
              "0  1901   Chemistry  ...     Berlin       Germany\n",
              "1  1901  Literature  ...   Châtenay        France\n",
              "\n",
              "[2 rows x 18 columns]"
            ]
          },
          "metadata": {
            "tags": []
          },
          "execution_count": 27
        }
      ]
    },
    {
      "cell_type": "code",
      "metadata": {
        "id": "pO3Gc3x3dljc",
        "colab_type": "code",
        "colab": {
          "base_uri": "https://localhost:8080/",
          "height": 267
        },
        "outputId": "6e74f159-4dc7-456d-a9c1-406ec349a75b"
      },
      "source": [
        "df[df['laureate_type'] == 'Organization'].head(2)"
      ],
      "execution_count": 28,
      "outputs": [
        {
          "output_type": "execute_result",
          "data": {
            "text/html": [
              "<div>\n",
              "<style scoped>\n",
              "    .dataframe tbody tr th:only-of-type {\n",
              "        vertical-align: middle;\n",
              "    }\n",
              "\n",
              "    .dataframe tbody tr th {\n",
              "        vertical-align: top;\n",
              "    }\n",
              "\n",
              "    .dataframe thead th {\n",
              "        text-align: right;\n",
              "    }\n",
              "</style>\n",
              "<table border=\"1\" class=\"dataframe\">\n",
              "  <thead>\n",
              "    <tr style=\"text-align: right;\">\n",
              "      <th></th>\n",
              "      <th>year</th>\n",
              "      <th>category</th>\n",
              "      <th>prize</th>\n",
              "      <th>motivation</th>\n",
              "      <th>prize_share</th>\n",
              "      <th>laureate_id</th>\n",
              "      <th>laureate_type</th>\n",
              "      <th>full_name</th>\n",
              "      <th>birth_date</th>\n",
              "      <th>birth_city</th>\n",
              "      <th>birth_country</th>\n",
              "      <th>sex</th>\n",
              "      <th>organization_name</th>\n",
              "      <th>organization_city</th>\n",
              "      <th>organization_country</th>\n",
              "      <th>death_date</th>\n",
              "      <th>death_city</th>\n",
              "      <th>death_country</th>\n",
              "    </tr>\n",
              "  </thead>\n",
              "  <tbody>\n",
              "    <tr>\n",
              "      <th>24</th>\n",
              "      <td>1904</td>\n",
              "      <td>Peace</td>\n",
              "      <td>The Nobel Peace Prize 1904</td>\n",
              "      <td>NaN</td>\n",
              "      <td>1/1</td>\n",
              "      <td>467</td>\n",
              "      <td>Organization</td>\n",
              "      <td>Institut de droit international (Institute of ...</td>\n",
              "      <td>NaT</td>\n",
              "      <td>NaN</td>\n",
              "      <td>NaN</td>\n",
              "      <td>NaN</td>\n",
              "      <td>NaN</td>\n",
              "      <td>NaN</td>\n",
              "      <td>NaN</td>\n",
              "      <td>NaT</td>\n",
              "      <td>NaN</td>\n",
              "      <td>NaN</td>\n",
              "    </tr>\n",
              "    <tr>\n",
              "      <th>60</th>\n",
              "      <td>1910</td>\n",
              "      <td>Peace</td>\n",
              "      <td>The Nobel Peace Prize 1910</td>\n",
              "      <td>NaN</td>\n",
              "      <td>1/1</td>\n",
              "      <td>477</td>\n",
              "      <td>Organization</td>\n",
              "      <td>Bureau international permanent de la Paix (Per...</td>\n",
              "      <td>NaT</td>\n",
              "      <td>NaN</td>\n",
              "      <td>NaN</td>\n",
              "      <td>NaN</td>\n",
              "      <td>NaN</td>\n",
              "      <td>NaN</td>\n",
              "      <td>NaN</td>\n",
              "      <td>NaT</td>\n",
              "      <td>NaN</td>\n",
              "      <td>NaN</td>\n",
              "    </tr>\n",
              "  </tbody>\n",
              "</table>\n",
              "</div>"
            ],
            "text/plain": [
              "    year category  ... death_city death_country\n",
              "24  1904    Peace  ...        NaN           NaN\n",
              "60  1910    Peace  ...        NaN           NaN\n",
              "\n",
              "[2 rows x 18 columns]"
            ]
          },
          "metadata": {
            "tags": []
          },
          "execution_count": 28
        }
      ]
    },
    {
      "cell_type": "markdown",
      "metadata": {
        "id": "T4uVhGqRdrK2",
        "colab_type": "text"
      },
      "source": [
        "In here we know that why there are quite a lot of missing values in birth_date, birth_city, sex, organization_name, and more. That is because if the data point represents an organization surely they don't have specific values for all those columns, for example an organization doesn't have birth date or sex. So we know now, why there are missing values in our dataset (surely there are another explanations)."
      ]
    },
    {
      "cell_type": "markdown",
      "metadata": {
        "id": "3Xq-gwgQeqhc",
        "colab_type": "text"
      },
      "source": [
        "How many nobel laureates as an individual and an organization?"
      ]
    },
    {
      "cell_type": "code",
      "metadata": {
        "id": "3Zz3-AqDe9K6",
        "colab_type": "code",
        "colab": {
          "base_uri": "https://localhost:8080/",
          "height": 68
        },
        "outputId": "0a2b64c4-8426-467a-b6d5-fe61bf9ce583"
      },
      "source": [
        "df['laureate_type'].value_counts()"
      ],
      "execution_count": 29,
      "outputs": [
        {
          "output_type": "execute_result",
          "data": {
            "text/plain": [
              "Individual      881\n",
              "Organization     30\n",
              "Name: laureate_type, dtype: int64"
            ]
          },
          "metadata": {
            "tags": []
          },
          "execution_count": 29
        }
      ]
    },
    {
      "cell_type": "code",
      "metadata": {
        "id": "X6Fjg2PQffUx",
        "colab_type": "code",
        "colab": {}
      },
      "source": [
        "ltype_count = df['laureate_type'].value_counts()"
      ],
      "execution_count": 0,
      "outputs": []
    },
    {
      "cell_type": "code",
      "metadata": {
        "id": "Lsq0AnCvfBzx",
        "colab_type": "code",
        "colab": {
          "base_uri": "https://localhost:8080/",
          "height": 314
        },
        "outputId": "96894aff-8894-4b21-8c91-25020ff093e5"
      },
      "source": [
        "fig, ax = plt.subplots(figsize=[8, 4])\n",
        "sns.barplot(ax=ax, x=ltype_count.index, y=ltype_count.values)\n",
        "ax.set(xlabel='Type', ylabel='Count')\n",
        "fig.suptitle('The number of Nobel Laureates in each type', fontsize=18, fontweight='semibold');"
      ],
      "execution_count": 31,
      "outputs": [
        {
          "output_type": "display_data",
          "data": {
            "image/png": "[encoded data removed]",
            "text/plain": [
              "<Figure size 576x288 with 1 Axes>"
            ]
          },
          "metadata": {
            "tags": [],
            "needs_background": "light"
          }
        }
      ]
    },
    {
      "cell_type": "markdown",
      "metadata": {
        "id": "aDx1kwpufrzP",
        "colab_type": "text"
      },
      "source": [
        "In here, we know one of the reasons why we have many missing values (due to Organization which doesn't have any specific value for a feature like sex or birth city. Also, individual nobel laureates out-numbered organization nobel laureates."
      ]
    },
    {
      "cell_type": "markdown",
      "metadata": {
        "id": "yNwBD_7bg9DS",
        "colab_type": "text"
      },
      "source": [
        "### sex"
      ]
    },
    {
      "cell_type": "markdown",
      "metadata": {
        "id": "fnXYgyJdiXn9",
        "colab_type": "text"
      },
      "source": [
        "This is probably one of the most interesting column to explore, what is the percentage of male nobel laureates compare to female nobel laureates. Is it any imbalanced in here? So, let's explore it further!"
      ]
    },
    {
      "cell_type": "code",
      "metadata": {
        "id": "Smco72s3iuVK",
        "colab_type": "code",
        "colab": {
          "base_uri": "https://localhost:8080/",
          "height": 119
        },
        "outputId": "a39ea6c2-68f6-4cb0-fa0a-cfd45230a75e"
      },
      "source": [
        "df['sex'].head(5)"
      ],
      "execution_count": 32,
      "outputs": [
        {
          "output_type": "execute_result",
          "data": {
            "text/plain": [
              "0    Male\n",
              "1    Male\n",
              "2    Male\n",
              "3    Male\n",
              "4    Male\n",
              "Name: sex, dtype: object"
            ]
          },
          "metadata": {
            "tags": []
          },
          "execution_count": 32
        }
      ]
    },
    {
      "cell_type": "code",
      "metadata": {
        "id": "nZJ131I-ixIl",
        "colab_type": "code",
        "colab": {
          "base_uri": "https://localhost:8080/",
          "height": 119
        },
        "outputId": "b8a814b7-cd96-43e2-99d7-abd50d9d5f84"
      },
      "source": [
        "df['sex'].tail(5)"
      ],
      "execution_count": 33,
      "outputs": [
        {
          "output_type": "execute_result",
          "data": {
            "text/plain": [
              "906    Male\n",
              "907    Male\n",
              "908    Male\n",
              "909    Male\n",
              "910    Male\n",
              "Name: sex, dtype: object"
            ]
          },
          "metadata": {
            "tags": []
          },
          "execution_count": 33
        }
      ]
    },
    {
      "cell_type": "markdown",
      "metadata": {
        "id": "4En9NPZzi1DG",
        "colab_type": "text"
      },
      "source": [
        "How the number told us about this column?"
      ]
    },
    {
      "cell_type": "code",
      "metadata": {
        "id": "08rKs9FQjFlA",
        "colab_type": "code",
        "colab": {}
      },
      "source": [
        "sex_count = df['sex'].value_counts()\n",
        "sex_fraction = df['sex'].value_counts(normalize=True)"
      ],
      "execution_count": 0,
      "outputs": []
    },
    {
      "cell_type": "code",
      "metadata": {
        "id": "j0rS7I4yjoMG",
        "colab_type": "code",
        "colab": {
          "base_uri": "https://localhost:8080/",
          "height": 68
        },
        "outputId": "c3d62f6d-c5bc-47f9-8062-2864c2933906"
      },
      "source": [
        "sex_count"
      ],
      "execution_count": 35,
      "outputs": [
        {
          "output_type": "execute_result",
          "data": {
            "text/plain": [
              "Male      836\n",
              "Female     49\n",
              "Name: sex, dtype: int64"
            ]
          },
          "metadata": {
            "tags": []
          },
          "execution_count": 35
        }
      ]
    },
    {
      "cell_type": "code",
      "metadata": {
        "id": "OfuJOvX5jpk6",
        "colab_type": "code",
        "colab": {
          "base_uri": "https://localhost:8080/",
          "height": 68
        },
        "outputId": "8402a18d-e723-4b5f-e4b2-bb82feaf6a17"
      },
      "source": [
        "sex_fraction"
      ],
      "execution_count": 36,
      "outputs": [
        {
          "output_type": "execute_result",
          "data": {
            "text/plain": [
              "Male      0.944633\n",
              "Female    0.055367\n",
              "Name: sex, dtype: float64"
            ]
          },
          "metadata": {
            "tags": []
          },
          "execution_count": 36
        }
      ]
    },
    {
      "cell_type": "markdown",
      "metadata": {
        "id": "X-92v3jtjqqZ",
        "colab_type": "text"
      },
      "source": [
        "Certainly a large gap between male and female, almost 95% are males and 5% are females, and don't forget about the organization which we don't count in here. Before try to make any arguable arguments or conclusions, let's continue our exploration by visualizing the number we got above as a bar plot."
      ]
    },
    {
      "cell_type": "code",
      "metadata": {
        "id": "vKRLBZxWlE5l",
        "colab_type": "code",
        "colab": {
          "base_uri": "https://localhost:8080/",
          "height": 375
        },
        "outputId": "003d7426-d3b2-4718-8c2f-2285e79b3a15"
      },
      "source": [
        "fig, ax = plt.subplots(figsize=[8, 5])\n",
        "sns.barplot(ax=ax, x=sex_fraction.index, y=sex_fraction.values)\n",
        "ax.set(xlabel='Sex', ylabel='Fraction', ylim=(0, 1))\n",
        "fig.suptitle('The number of Nobel Laureates in each type', fontsize=18, fontweight='semibold');"
      ],
      "execution_count": 45,
      "outputs": [
        {
          "output_type": "display_data",
          "data": {
            "image/png": "[encoded data removed]",
            "text/plain": [
              "<Figure size 576x360 with 1 Axes>"
            ]
          },
          "metadata": {
            "tags": [],
            "needs_background": "light"
          }
        }
      ]
    },
    {
      "cell_type": "markdown",
      "metadata": {
        "id": "Bc72xPZHlaY8",
        "colab_type": "text"
      },
      "source": [
        "Simple conclusion that we can make right now is there are more male than female nobel laureates, and the ratio between these two is quite high with almost 95% nobel laureates are males. But we will continue our exploratory data analysis before try to make arguable conclusions."
      ]
    }
  ]
}