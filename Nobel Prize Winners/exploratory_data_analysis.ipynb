{
  "nbformat": 4,
  "nbformat_minor": 0,
  "metadata": {
    "colab": {
      "name": "exploratory_data_analysis.ipynb",
      "provenance": [],
      "collapsed_sections": []
    },
    "kernelspec": {
      "name": "python3",
      "display_name": "Python 3"
    }
  },
  "cells": [
    {
      "cell_type": "markdown",
      "metadata": {
        "id": "DoFXqR8nHkDc",
        "colab_type": "text"
      },
      "source": [
        "# Nobel Prize Winners: Exploratory Data Analysis"
      ]
    },
    {
      "cell_type": "markdown",
      "metadata": {
        "id": "ruA4vKNMH5Sk",
        "colab_type": "text"
      },
      "source": [
        "__Importing libraries__"
      ]
    },
    {
      "cell_type": "code",
      "metadata": {
        "id": "sngaAuecHvF5",
        "colab_type": "code",
        "outputId": "11bf3fd1-9b2e-4a47-f9f3-6187e2164fc8",
        "colab": {
          "base_uri": "https://localhost:8080/",
          "height": 71
        }
      },
      "source": [
        "import re\n",
        "import numpy as np\n",
        "import pandas as pd\n",
        "import matplotlib.pyplot as plt\n",
        "import seaborn as sns\n",
        "sns.set()"
      ],
      "execution_count": 1,
      "outputs": [
        {
          "output_type": "stream",
          "text": [
            "/usr/local/lib/python3.6/dist-packages/statsmodels/tools/_testing.py:19: FutureWarning: pandas.util.testing is deprecated. Use the functions in the public API at pandas.testing instead.\n",
            "  import pandas.util.testing as tm\n"
          ],
          "name": "stderr"
        }
      ]
    },
    {
      "cell_type": "markdown",
      "metadata": {
        "id": "bX91aUMtLuFa",
        "colab_type": "text"
      },
      "source": [
        "## Preliminary Step"
      ]
    },
    {
      "cell_type": "code",
      "metadata": {
        "id": "T9Ugr_7YJajz",
        "colab_type": "code",
        "outputId": "aa105939-ae8a-4075-e2e3-c9ae12c4296c",
        "colab": {
          "base_uri": "https://localhost:8080/",
          "height": 496
        }
      },
      "source": [
        "# read csv file to dafarame\n",
        "df = pd.read_csv('datasets/nobel.csv')\n",
        "# display 5 data points on top\n",
        "df.head()"
      ],
      "execution_count": 2,
      "outputs": [
        {
          "output_type": "execute_result",
          "data": {
            "text/html": [
              "<div>\n",
              "<style scoped>\n",
              "    .dataframe tbody tr th:only-of-type {\n",
              "        vertical-align: middle;\n",
              "    }\n",
              "\n",
              "    .dataframe tbody tr th {\n",
              "        vertical-align: top;\n",
              "    }\n",
              "\n",
              "    .dataframe thead th {\n",
              "        text-align: right;\n",
              "    }\n",
              "</style>\n",
              "<table border=\"1\" class=\"dataframe\">\n",
              "  <thead>\n",
              "    <tr style=\"text-align: right;\">\n",
              "      <th></th>\n",
              "      <th>year</th>\n",
              "      <th>category</th>\n",
              "      <th>prize</th>\n",
              "      <th>motivation</th>\n",
              "      <th>prize_share</th>\n",
              "      <th>laureate_id</th>\n",
              "      <th>laureate_type</th>\n",
              "      <th>full_name</th>\n",
              "      <th>birth_date</th>\n",
              "      <th>birth_city</th>\n",
              "      <th>birth_country</th>\n",
              "      <th>sex</th>\n",
              "      <th>organization_name</th>\n",
              "      <th>organization_city</th>\n",
              "      <th>organization_country</th>\n",
              "      <th>death_date</th>\n",
              "      <th>death_city</th>\n",
              "      <th>death_country</th>\n",
              "    </tr>\n",
              "  </thead>\n",
              "  <tbody>\n",
              "    <tr>\n",
              "      <th>0</th>\n",
              "      <td>1901</td>\n",
              "      <td>Chemistry</td>\n",
              "      <td>The Nobel Prize in Chemistry 1901</td>\n",
              "      <td>\"in recognition of the extraordinary services ...</td>\n",
              "      <td>1/1</td>\n",
              "      <td>160</td>\n",
              "      <td>Individual</td>\n",
              "      <td>Jacobus Henricus van 't Hoff</td>\n",
              "      <td>1852-08-30</td>\n",
              "      <td>Rotterdam</td>\n",
              "      <td>Netherlands</td>\n",
              "      <td>Male</td>\n",
              "      <td>Berlin University</td>\n",
              "      <td>Berlin</td>\n",
              "      <td>Germany</td>\n",
              "      <td>1911-03-01</td>\n",
              "      <td>Berlin</td>\n",
              "      <td>Germany</td>\n",
              "    </tr>\n",
              "    <tr>\n",
              "      <th>1</th>\n",
              "      <td>1901</td>\n",
              "      <td>Literature</td>\n",
              "      <td>The Nobel Prize in Literature 1901</td>\n",
              "      <td>\"in special recognition of his poetic composit...</td>\n",
              "      <td>1/1</td>\n",
              "      <td>569</td>\n",
              "      <td>Individual</td>\n",
              "      <td>Sully Prudhomme</td>\n",
              "      <td>1839-03-16</td>\n",
              "      <td>Paris</td>\n",
              "      <td>France</td>\n",
              "      <td>Male</td>\n",
              "      <td>NaN</td>\n",
              "      <td>NaN</td>\n",
              "      <td>NaN</td>\n",
              "      <td>1907-09-07</td>\n",
              "      <td>Châtenay</td>\n",
              "      <td>France</td>\n",
              "    </tr>\n",
              "    <tr>\n",
              "      <th>2</th>\n",
              "      <td>1901</td>\n",
              "      <td>Medicine</td>\n",
              "      <td>The Nobel Prize in Physiology or Medicine 1901</td>\n",
              "      <td>\"for his work on serum therapy, especially its...</td>\n",
              "      <td>1/1</td>\n",
              "      <td>293</td>\n",
              "      <td>Individual</td>\n",
              "      <td>Emil Adolf von Behring</td>\n",
              "      <td>1854-03-15</td>\n",
              "      <td>Hansdorf (Lawice)</td>\n",
              "      <td>Prussia (Poland)</td>\n",
              "      <td>Male</td>\n",
              "      <td>Marburg University</td>\n",
              "      <td>Marburg</td>\n",
              "      <td>Germany</td>\n",
              "      <td>1917-03-31</td>\n",
              "      <td>Marburg</td>\n",
              "      <td>Germany</td>\n",
              "    </tr>\n",
              "    <tr>\n",
              "      <th>3</th>\n",
              "      <td>1901</td>\n",
              "      <td>Peace</td>\n",
              "      <td>The Nobel Peace Prize 1901</td>\n",
              "      <td>NaN</td>\n",
              "      <td>1/2</td>\n",
              "      <td>462</td>\n",
              "      <td>Individual</td>\n",
              "      <td>Jean Henry Dunant</td>\n",
              "      <td>1828-05-08</td>\n",
              "      <td>Geneva</td>\n",
              "      <td>Switzerland</td>\n",
              "      <td>Male</td>\n",
              "      <td>NaN</td>\n",
              "      <td>NaN</td>\n",
              "      <td>NaN</td>\n",
              "      <td>1910-10-30</td>\n",
              "      <td>Heiden</td>\n",
              "      <td>Switzerland</td>\n",
              "    </tr>\n",
              "    <tr>\n",
              "      <th>4</th>\n",
              "      <td>1901</td>\n",
              "      <td>Peace</td>\n",
              "      <td>The Nobel Peace Prize 1901</td>\n",
              "      <td>NaN</td>\n",
              "      <td>1/2</td>\n",
              "      <td>463</td>\n",
              "      <td>Individual</td>\n",
              "      <td>Frédéric Passy</td>\n",
              "      <td>1822-05-20</td>\n",
              "      <td>Paris</td>\n",
              "      <td>France</td>\n",
              "      <td>Male</td>\n",
              "      <td>NaN</td>\n",
              "      <td>NaN</td>\n",
              "      <td>NaN</td>\n",
              "      <td>1912-06-12</td>\n",
              "      <td>Paris</td>\n",
              "      <td>France</td>\n",
              "    </tr>\n",
              "  </tbody>\n",
              "</table>\n",
              "</div>"
            ],
            "text/plain": [
              "   year    category  ... death_city death_country\n",
              "0  1901   Chemistry  ...     Berlin       Germany\n",
              "1  1901  Literature  ...   Châtenay        France\n",
              "2  1901    Medicine  ...    Marburg       Germany\n",
              "3  1901       Peace  ...     Heiden   Switzerland\n",
              "4  1901       Peace  ...      Paris        France\n",
              "\n",
              "[5 rows x 18 columns]"
            ]
          },
          "metadata": {
            "tags": []
          },
          "execution_count": 2
        }
      ]
    },
    {
      "cell_type": "markdown",
      "metadata": {
        "id": "cbd8PlVyJrJh",
        "colab_type": "text"
      },
      "source": [
        "Let's see what type of data in each column."
      ]
    },
    {
      "cell_type": "code",
      "metadata": {
        "id": "wcbRkR8RMaZj",
        "colab_type": "code",
        "outputId": "96cc7a8f-5a36-4e2a-b041-e7c993dde4f6",
        "colab": {
          "base_uri": "https://localhost:8080/",
          "height": 442
        }
      },
      "source": [
        "# display column info\n",
        "df.info()"
      ],
      "execution_count": 3,
      "outputs": [
        {
          "output_type": "stream",
          "text": [
            "<class 'pandas.core.frame.DataFrame'>\n",
            "RangeIndex: 911 entries, 0 to 910\n",
            "Data columns (total 18 columns):\n",
            " #   Column                Non-Null Count  Dtype \n",
            "---  ------                --------------  ----- \n",
            " 0   year                  911 non-null    int64 \n",
            " 1   category              911 non-null    object\n",
            " 2   prize                 911 non-null    object\n",
            " 3   motivation            823 non-null    object\n",
            " 4   prize_share           911 non-null    object\n",
            " 5   laureate_id           911 non-null    int64 \n",
            " 6   laureate_type         911 non-null    object\n",
            " 7   full_name             911 non-null    object\n",
            " 8   birth_date            883 non-null    object\n",
            " 9   birth_city            883 non-null    object\n",
            " 10  birth_country         885 non-null    object\n",
            " 11  sex                   885 non-null    object\n",
            " 12  organization_name     665 non-null    object\n",
            " 13  organization_city     667 non-null    object\n",
            " 14  organization_country  667 non-null    object\n",
            " 15  death_date            593 non-null    object\n",
            " 16  death_city            576 non-null    object\n",
            " 17  death_country         582 non-null    object\n",
            "dtypes: int64(2), object(16)\n",
            "memory usage: 128.2+ KB\n"
          ],
          "name": "stdout"
        }
      ]
    },
    {
      "cell_type": "code",
      "metadata": {
        "id": "tCZ2YHM_Mdfl",
        "colab_type": "code",
        "outputId": "5b1dfe50-bf61-4a34-d5d8-96414c0d83cc",
        "colab": {
          "base_uri": "https://localhost:8080/",
          "height": 68
        }
      },
      "source": [
        "# how many object and int data dtypes\n",
        "df.dtypes.value_counts()"
      ],
      "execution_count": 4,
      "outputs": [
        {
          "output_type": "execute_result",
          "data": {
            "text/plain": [
              "object    16\n",
              "int64      2\n",
              "dtype: int64"
            ]
          },
          "metadata": {
            "tags": []
          },
          "execution_count": 4
        }
      ]
    },
    {
      "cell_type": "markdown",
      "metadata": {
        "id": "XhKnk8cBNCO2",
        "colab_type": "text"
      },
      "source": [
        "This dataset has 18 columns, with 2 integer column and 16 object column (most likely string object). Before proceeding to the next step, it's a better practice to convert a particular data type into a right and meaningful data type. So we have change the data type for column birth_date and death_date to datetime."
      ]
    },
    {
      "cell_type": "code",
      "metadata": {
        "id": "o7q0T6fwPZ2Q",
        "colab_type": "code",
        "colab": {}
      },
      "source": [
        "datetime_columns = ['birth_date', 'death_date']\n",
        "for col in datetime_columns:\n",
        "    df[col] = pd.to_datetime(df[col])"
      ],
      "execution_count": 0,
      "outputs": []
    },
    {
      "cell_type": "code",
      "metadata": {
        "id": "Xdllz27UQWTV",
        "colab_type": "code",
        "outputId": "e1f0c98d-ddba-4881-8b7c-261004feeb52",
        "colab": {
          "base_uri": "https://localhost:8080/",
          "height": 68
        }
      },
      "source": [
        "df[datetime_columns].dtypes"
      ],
      "execution_count": 6,
      "outputs": [
        {
          "output_type": "execute_result",
          "data": {
            "text/plain": [
              "birth_date    datetime64[ns]\n",
              "death_date    datetime64[ns]\n",
              "dtype: object"
            ]
          },
          "metadata": {
            "tags": []
          },
          "execution_count": 6
        }
      ]
    },
    {
      "cell_type": "markdown",
      "metadata": {
        "id": "NPtU3kJKRIQD",
        "colab_type": "text"
      },
      "source": [
        "If we look back to the result we have when ran df.info(), we get column for data type and column for how many non-null values in each column. Now, we have to look further about these null values, then decide what we have to do with them."
      ]
    },
    {
      "cell_type": "code",
      "metadata": {
        "id": "iErNXZXFGQ4n",
        "colab_type": "code",
        "outputId": "314e7a77-1917-41d2-b1f6-e73fded45c98",
        "colab": {
          "base_uri": "https://localhost:8080/",
          "height": 374
        }
      },
      "source": [
        "print('How many columns with null values?', df.isnull().any().sum())\n",
        "print('What those columns are?\\n',  df.isnull().any(), sep='')"
      ],
      "execution_count": 7,
      "outputs": [
        {
          "output_type": "stream",
          "text": [
            "How many columns with null values? 11\n",
            "What those columns are?\n",
            "year                    False\n",
            "category                False\n",
            "prize                   False\n",
            "motivation               True\n",
            "prize_share             False\n",
            "laureate_id             False\n",
            "laureate_type           False\n",
            "full_name               False\n",
            "birth_date               True\n",
            "birth_city               True\n",
            "birth_country            True\n",
            "sex                      True\n",
            "organization_name        True\n",
            "organization_city        True\n",
            "organization_country     True\n",
            "death_date               True\n",
            "death_city               True\n",
            "death_country            True\n",
            "dtype: bool\n"
          ],
          "name": "stdout"
        }
      ]
    },
    {
      "cell_type": "markdown",
      "metadata": {
        "id": "g_N3lJ6HIJEf",
        "colab_type": "text"
      },
      "source": [
        "11 out of 18 columns we have are filled with null values. Note that the missing values we have probably came from human-errors or plain missing data due to lack of information about particular nobel laurates. Now, we will look to how many missing values are present in each column."
      ]
    },
    {
      "cell_type": "code",
      "metadata": {
        "id": "biMN2YkJLmZe",
        "colab_type": "code",
        "outputId": "62375ca0-f558-4b64-de71-e91723bd9527",
        "colab": {
          "base_uri": "https://localhost:8080/",
          "height": 340
        }
      },
      "source": [
        "# how many null values (denoted as NaN) present in each column\n",
        "df.isnull().sum()"
      ],
      "execution_count": 8,
      "outputs": [
        {
          "output_type": "execute_result",
          "data": {
            "text/plain": [
              "year                      0\n",
              "category                  0\n",
              "prize                     0\n",
              "motivation               88\n",
              "prize_share               0\n",
              "laureate_id               0\n",
              "laureate_type             0\n",
              "full_name                 0\n",
              "birth_date               28\n",
              "birth_city               28\n",
              "birth_country            26\n",
              "sex                      26\n",
              "organization_name       246\n",
              "organization_city       244\n",
              "organization_country    244\n",
              "death_date              318\n",
              "death_city              335\n",
              "death_country           329\n",
              "dtype: int64"
            ]
          },
          "metadata": {
            "tags": []
          },
          "execution_count": 8
        }
      ]
    },
    {
      "cell_type": "markdown",
      "metadata": {
        "id": "x5pTyY9GMV5v",
        "colab_type": "text"
      },
      "source": [
        "We have 335 null values in column death_city (as the column with most missing values). How about the percentage of missing values."
      ]
    },
    {
      "cell_type": "code",
      "metadata": {
        "id": "vJ3zcAQkM76o",
        "colab_type": "code",
        "outputId": "e7c50a57-e61f-457e-bf7f-a626364c1902",
        "colab": {
          "base_uri": "https://localhost:8080/",
          "height": 340
        }
      },
      "source": [
        "# how many null values (denoted as NaN) present in each column -- Normalized\n",
        "df.isnull().mean()"
      ],
      "execution_count": 9,
      "outputs": [
        {
          "output_type": "execute_result",
          "data": {
            "text/plain": [
              "year                    0.000000\n",
              "category                0.000000\n",
              "prize                   0.000000\n",
              "motivation              0.096597\n",
              "prize_share             0.000000\n",
              "laureate_id             0.000000\n",
              "laureate_type           0.000000\n",
              "full_name               0.000000\n",
              "birth_date              0.030735\n",
              "birth_city              0.030735\n",
              "birth_country           0.028540\n",
              "sex                     0.028540\n",
              "organization_name       0.270033\n",
              "organization_city       0.267838\n",
              "organization_country    0.267838\n",
              "death_date              0.349067\n",
              "death_city              0.367728\n",
              "death_country           0.361142\n",
              "dtype: float64"
            ]
          },
          "metadata": {
            "tags": []
          },
          "execution_count": 9
        }
      ]
    },
    {
      "cell_type": "markdown",
      "metadata": {
        "id": "_oo8B-llM_V4",
        "colab_type": "text"
      },
      "source": [
        "The series object above shows us that we have 6 columns with missing values greater than 25%. But since this dataset is about an individual who won nobel prize, so there is nothing we can do to impute the missing values. Then we will just left the missing values as they are. As a final step of considering missing values, we will look at some simple bar plot which shows us about missing values count and percentage."
      ]
    },
    {
      "cell_type": "code",
      "metadata": {
        "id": "wAQHneGFPD05",
        "colab_type": "code",
        "colab": {}
      },
      "source": [
        "count = df.isnull().sum().sort_values(ascending=False)\n",
        "fraction = df.isnull().mean().sort_values(ascending=False)"
      ],
      "execution_count": 0,
      "outputs": []
    },
    {
      "cell_type": "code",
      "metadata": {
        "id": "P_h5YsC2OMzp",
        "colab_type": "code",
        "outputId": "df99f9a9-0448-410e-ed12-ee1b2501ad62",
        "colab": {
          "base_uri": "https://localhost:8080/",
          "height": 408
        }
      },
      "source": [
        "fig, ax_count = plt.subplots(figsize=[10, 5])\n",
        "sns.barplot(x=count.values, y=count.index)\n",
        "ax_count.set_xlabel('Count')\n",
        "ax_count.set_ylabel('Columns')\n",
        "ax_fraction = ax_count.twiny()\n",
        "sns.barplot(x=fraction.values, y=fraction.index)\n",
        "ax_fraction.set_xlabel('Fraction')\n",
        "fig.suptitle('Missing values count and fraction', y=1.07, fontweight='semibold', fontsize=18);"
      ],
      "execution_count": 11,
      "outputs": [
        {
          "output_type": "display_data",
          "data": {
            "image/png": "[encoded data removed]",
            "text/plain": [
              "<Figure size 720x360 with 2 Axes>"
            ]
          },
          "metadata": {
            "tags": [],
            "needs_background": "light"
          }
        }
      ]
    },
    {
      "cell_type": "markdown",
      "metadata": {
        "id": "WQ71K7bgPY3-",
        "colab_type": "text"
      },
      "source": [
        "Now, we can better understand the data. As we validate from numeric representation before this, column 'death_city' is the column with most missing values, 'death_country' on the second place, 'death_date' on the third place, and so on."
      ]
    },
    {
      "cell_type": "markdown",
      "metadata": {
        "id": "-moT-2PMo1SC",
        "colab_type": "text"
      },
      "source": [
        "---"
      ]
    },
    {
      "cell_type": "markdown",
      "metadata": {
        "id": "-alDD06zSpGw",
        "colab_type": "text"
      },
      "source": [
        "## Univariate Analysis"
      ]
    },
    {
      "cell_type": "markdown",
      "metadata": {
        "id": "Ns3k8fiRTqtc",
        "colab_type": "text"
      },
      "source": [
        "In this section, we will explore each important columns and do the corresponding univariate analysis."
      ]
    },
    {
      "cell_type": "markdown",
      "metadata": {
        "id": "urA68oL_qDvA",
        "colab_type": "text"
      },
      "source": [
        "### year"
      ]
    },
    {
      "cell_type": "markdown",
      "metadata": {
        "id": "fheBQj5YqvvK",
        "colab_type": "text"
      },
      "source": [
        "Let's see the head (top 5) and tail (bottom 5) of this column"
      ]
    },
    {
      "cell_type": "code",
      "metadata": {
        "id": "j0INQ_CeqYV8",
        "colab_type": "code",
        "outputId": "0e734e32-d727-4add-f8b3-3cfbfd1d18af",
        "colab": {
          "base_uri": "https://localhost:8080/",
          "height": 119
        }
      },
      "source": [
        "df['year'].head()"
      ],
      "execution_count": 12,
      "outputs": [
        {
          "output_type": "execute_result",
          "data": {
            "text/plain": [
              "0    1901\n",
              "1    1901\n",
              "2    1901\n",
              "3    1901\n",
              "4    1901\n",
              "Name: year, dtype: int64"
            ]
          },
          "metadata": {
            "tags": []
          },
          "execution_count": 12
        }
      ]
    },
    {
      "cell_type": "code",
      "metadata": {
        "id": "dSTs_GVNqarx",
        "colab_type": "code",
        "outputId": "cc03864d-9a06-4e38-aebc-a8927a5499c1",
        "colab": {
          "base_uri": "https://localhost:8080/",
          "height": 119
        }
      },
      "source": [
        "df['year'].tail()"
      ],
      "execution_count": 13,
      "outputs": [
        {
          "output_type": "execute_result",
          "data": {
            "text/plain": [
              "906    2016\n",
              "907    2016\n",
              "908    2016\n",
              "909    2016\n",
              "910    2016\n",
              "Name: year, dtype: int64"
            ]
          },
          "metadata": {
            "tags": []
          },
          "execution_count": 13
        }
      ]
    },
    {
      "cell_type": "code",
      "metadata": {
        "id": "atT6VNOMq-kp",
        "colab_type": "code",
        "colab": {}
      },
      "source": [
        "year_count = df['year'].value_counts().sort_index()"
      ],
      "execution_count": 0,
      "outputs": []
    },
    {
      "cell_type": "code",
      "metadata": {
        "id": "d-lFqW7iw6Io",
        "colab_type": "code",
        "outputId": "bcac1a6c-e773-4495-f20b-c70dcf311cfe",
        "colab": {
          "base_uri": "https://localhost:8080/",
          "height": 483
        }
      },
      "source": [
        "fig, ax_count = plt.subplots(figsize=[13, 7])\n",
        "sns.lineplot(x=year_count.index, y=year_count.values, ax=ax_count)\n",
        "ax_count.set_xlim(year_count.index.min(), year_count.index.max())\n",
        "ax_count.set_xticks(np.arange(year_count.index.min(), year_count.index.max(), 10))\n",
        "ax_count.set_ylim(0, 15)\n",
        "ax_count.set_yticks(np.arange(0, 17, 2))\n",
        "ax_count.set_xlabel('Year')\n",
        "ax_count.set_ylabel('Count')\n",
        "ax_count.margins(0.2)\n",
        "fig.suptitle('How many nobel laureates in each year?', fontweight='bold', fontsize=18, y=0.95);"
      ],
      "execution_count": 15,
      "outputs": [
        {
          "output_type": "display_data",
          "data": {
            "image/png": "[encoded data removed]",
            "text/plain": [
              "<Figure size 936x504 with 1 Axes>"
            ]
          },
          "metadata": {
            "tags": [],
            "needs_background": "light"
          }
        }
      ]
    },
    {
      "cell_type": "markdown",
      "metadata": {
        "id": "27tz0lSC3tbG",
        "colab_type": "text"
      },
      "source": [
        "When we look at the plot above, there are many fluctuations. Then we also know that there is a minimum value between 1910 and 1920. But which year it is?"
      ]
    },
    {
      "cell_type": "code",
      "metadata": {
        "id": "3gFDiqLbxlCY",
        "colab_type": "code",
        "outputId": "7f5b1849-e8f1-4bfd-9d32-8eb43d4f40d2",
        "colab": {
          "base_uri": "https://localhost:8080/",
          "height": 119
        }
      },
      "source": [
        "# display the 5 smallest count in year column\n",
        "year_count.nsmallest(5)"
      ],
      "execution_count": 16,
      "outputs": [
        {
          "output_type": "execute_result",
          "data": {
            "text/plain": [
              "1916    1\n",
              "1918    2\n",
              "1914    3\n",
              "1924    3\n",
              "1915    4\n",
              "Name: year, dtype: int64"
            ]
          },
          "metadata": {
            "tags": []
          },
          "execution_count": 16
        }
      ]
    },
    {
      "cell_type": "code",
      "metadata": {
        "id": "h8LqxLY5WFL7",
        "colab_type": "code",
        "outputId": "dc8ff9e7-03cc-48b2-b621-55869b742ea7",
        "colab": {
          "base_uri": "https://localhost:8080/",
          "height": 119
        }
      },
      "source": [
        "# display the 5 largest count in year column\n",
        "year_count.nlargest(5)"
      ],
      "execution_count": 17,
      "outputs": [
        {
          "output_type": "execute_result",
          "data": {
            "text/plain": [
              "2001    15\n",
              "1996    13\n",
              "2000    13\n",
              "2002    13\n",
              "2005    13\n",
              "Name: year, dtype: int64"
            ]
          },
          "metadata": {
            "tags": []
          },
          "execution_count": 17
        }
      ]
    },
    {
      "cell_type": "markdown",
      "metadata": {
        "id": "YzqVTzzS4Oe2",
        "colab_type": "text"
      },
      "source": [
        "In here, we know that in 1916 there is only one nobel laureate, two nobel laureates in 1918, three nobel laurates in 1914 and 1924, and four nobel laureates in 1915. So between 1910-1920, there is a decreasing pattern in our plot, and if we open the history book, we know that in this period the world war 1 was raging. Especially, between Jul 28, 1914 – Nov 11, 1918. Then we have 15 nobel laureates in 2001."
      ]
    },
    {
      "cell_type": "code",
      "metadata": {
        "id": "4xgklpej5wnI",
        "colab_type": "code",
        "outputId": "ec911ecd-48d4-49b3-a7ce-c7925f55e44b",
        "colab": {
          "base_uri": "https://localhost:8080/",
          "height": 238
        }
      },
      "source": [
        "# compute what is the average of nobel laureates in each decade\n",
        "decade_count = year_count.groupby(by=lambda x: np.floor(x / 10)).mean()\n",
        "decade_count.index = np.arange(1900, 2020, 10)\n",
        "decade_count"
      ],
      "execution_count": 18,
      "outputs": [
        {
          "output_type": "execute_result",
          "data": {
            "text/plain": [
              "1900     6.333333\n",
              "1910     4.000000\n",
              "1920     5.400000\n",
              "1930     5.600000\n",
              "1940     6.142857\n",
              "1950     7.200000\n",
              "1960     7.900000\n",
              "1970    10.400000\n",
              "1980     9.700000\n",
              "1990    10.400000\n",
              "2000    12.300000\n",
              "2010    11.714286\n",
              "Name: year, dtype: float64"
            ]
          },
          "metadata": {
            "tags": []
          },
          "execution_count": 18
        }
      ]
    },
    {
      "cell_type": "code",
      "metadata": {
        "id": "i5Mx13xQ8yg7",
        "colab_type": "code",
        "outputId": "e0c1bf09-e17c-4952-d5ab-1da5b36f3374",
        "colab": {
          "base_uri": "https://localhost:8080/",
          "height": 483
        }
      },
      "source": [
        "fig, ax = plt.subplots(figsize=[10, 7])\n",
        "ax.plot(decade_count,'ob--')\n",
        "ax.set(xlabel='Decade', ylabel='Count')\n",
        "fig.suptitle('The average of Nobel Laureates in each decade', fontsize=18, fontweight='semibold', y=0.95);"
      ],
      "execution_count": 19,
      "outputs": [
        {
          "output_type": "display_data",
          "data": {
            "image/png": "[encoded data removed]",
            "text/plain": [
              "<Figure size 720x504 with 1 Axes>"
            ]
          },
          "metadata": {
            "tags": [],
            "needs_background": "light"
          }
        }
      ]
    },
    {
      "cell_type": "markdown",
      "metadata": {
        "id": "shaBRlO3-Bjt",
        "colab_type": "text"
      },
      "source": [
        "We can conclude that there is an increasing trend from 1901 to 2011 (almost double). With only 1 nobel laureate in 1916 as the lowest number of nobel laureate, and fifteen nobel laureate in 2001 as the highest number of noble laureates."
      ]
    },
    {
      "cell_type": "markdown",
      "metadata": {
        "id": "iyy8S9zt_bUj",
        "colab_type": "text"
      },
      "source": [
        "### category"
      ]
    },
    {
      "cell_type": "code",
      "metadata": {
        "id": "MMymI9bzAAcP",
        "colab_type": "code",
        "outputId": "596c5612-6559-4afc-84e3-cf8ada3bdfbd",
        "colab": {
          "base_uri": "https://localhost:8080/",
          "height": 119
        }
      },
      "source": [
        "# display the head of this column\n",
        "df['category'].head()"
      ],
      "execution_count": 20,
      "outputs": [
        {
          "output_type": "execute_result",
          "data": {
            "text/plain": [
              "0     Chemistry\n",
              "1    Literature\n",
              "2      Medicine\n",
              "3         Peace\n",
              "4         Peace\n",
              "Name: category, dtype: object"
            ]
          },
          "metadata": {
            "tags": []
          },
          "execution_count": 20
        }
      ]
    },
    {
      "cell_type": "markdown",
      "metadata": {
        "id": "w-Ol6UhUXFEs",
        "colab_type": "text"
      },
      "source": [
        "How many nobel categories are there?"
      ]
    },
    {
      "cell_type": "code",
      "metadata": {
        "id": "D75ELs0pXTtL",
        "colab_type": "code",
        "outputId": "a54a5222-4572-4bfe-df5b-1e7d10e53bc5",
        "colab": {
          "base_uri": "https://localhost:8080/",
          "height": 34
        }
      },
      "source": [
        "print(df['category'].unique())"
      ],
      "execution_count": 21,
      "outputs": [
        {
          "output_type": "stream",
          "text": [
            "['Chemistry' 'Literature' 'Medicine' 'Peace' 'Physics' 'Economics']\n"
          ],
          "name": "stdout"
        }
      ]
    },
    {
      "cell_type": "markdown",
      "metadata": {
        "id": "c8dHoJFMXc4Y",
        "colab_type": "text"
      },
      "source": [
        "There are 6 different categories, but how many nobel laureates in each categories?"
      ]
    },
    {
      "cell_type": "code",
      "metadata": {
        "id": "rT0B_Ym0XVws",
        "colab_type": "code",
        "outputId": "55369a6f-8290-47a5-a50b-fb0c24bba900",
        "colab": {
          "base_uri": "https://localhost:8080/",
          "height": 136
        }
      },
      "source": [
        "df['category'].value_counts()"
      ],
      "execution_count": 22,
      "outputs": [
        {
          "output_type": "execute_result",
          "data": {
            "text/plain": [
              "Medicine      211\n",
              "Physics       204\n",
              "Chemistry     175\n",
              "Peace         130\n",
              "Literature    113\n",
              "Economics      78\n",
              "Name: category, dtype: int64"
            ]
          },
          "metadata": {
            "tags": []
          },
          "execution_count": 22
        }
      ]
    },
    {
      "cell_type": "markdown",
      "metadata": {
        "id": "WtLZTs9bXz06",
        "colab_type": "text"
      },
      "source": [
        "We get 211 nobel laureates in Medicine and only 78 nobel laureates in Economics. Let's visualize the number we got above!"
      ]
    },
    {
      "cell_type": "code",
      "metadata": {
        "id": "Y-vlsaa8Y3hk",
        "colab_type": "code",
        "colab": {}
      },
      "source": [
        "category_count = df['category'].value_counts()\n",
        "category_fraction = df['category'].value_counts(normalize=True)"
      ],
      "execution_count": 0,
      "outputs": []
    },
    {
      "cell_type": "code",
      "metadata": {
        "id": "EqDbknzLYN_A",
        "colab_type": "code",
        "outputId": "686c2553-b3fb-4bda-baa7-13ce30041f15",
        "colab": {
          "base_uri": "https://localhost:8080/",
          "height": 467
        }
      },
      "source": [
        "fig, ax_count = plt.subplots(figsize=[10, 6])\n",
        "sns.barplot(ax=ax_count, x=category_count.values, y=category_count.index)\n",
        "ax_count.set(xlabel='Count', ylabel='Category', xticks=np.linspace(0, category_count.max(), 10))\n",
        "ax_fraction = ax_count.twiny()\n",
        "sns.barplot(ax=ax_fraction, x=category_fraction.values, y=category_fraction.index)\n",
        "ax_fraction.set(xlabel='Fraction', ylabel='Category', xticks=np.linspace(0, category_fraction.max(), 10))\n",
        "fig.suptitle('The number of Nobel Laureates in each category', fontsize=18, fontweight='semibold', y=1.05);"
      ],
      "execution_count": 24,
      "outputs": [
        {
          "output_type": "display_data",
          "data": {
            "image/png": "[encoded data removed]",
            "text/plain": [
              "<Figure size 720x432 with 2 Axes>"
            ]
          },
          "metadata": {
            "tags": [],
            "needs_background": "light"
          }
        }
      ]
    },
    {
      "cell_type": "markdown",
      "metadata": {
        "id": "kAWX79HiaCKB",
        "colab_type": "text"
      },
      "source": [
        "For category column, we can conclude that Medicine (Physiology) is the field with highest number of nobel laureates and Economics is the lowest one. Medicine contributes to almost 25 percent of all nobel laureates."
      ]
    },
    {
      "cell_type": "markdown",
      "metadata": {
        "id": "4roDjP0ccR00",
        "colab_type": "text"
      },
      "source": [
        "### laureate_type"
      ]
    },
    {
      "cell_type": "code",
      "metadata": {
        "id": "YL8CfExTchwH",
        "colab_type": "code",
        "outputId": "f0a65f75-e185-4ebf-ba46-de89fa1aaba1",
        "colab": {
          "base_uri": "https://localhost:8080/",
          "height": 119
        }
      },
      "source": [
        "df['laureate_type'].head()"
      ],
      "execution_count": 25,
      "outputs": [
        {
          "output_type": "execute_result",
          "data": {
            "text/plain": [
              "0    Individual\n",
              "1    Individual\n",
              "2    Individual\n",
              "3    Individual\n",
              "4    Individual\n",
              "Name: laureate_type, dtype: object"
            ]
          },
          "metadata": {
            "tags": []
          },
          "execution_count": 25
        }
      ]
    },
    {
      "cell_type": "code",
      "metadata": {
        "id": "Th7mgOVccqe0",
        "colab_type": "code",
        "outputId": "c1c8fb8c-f455-49a9-99dc-3a6db952c8f6",
        "colab": {
          "base_uri": "https://localhost:8080/",
          "height": 34
        }
      },
      "source": [
        "# how many unique values in this column\n",
        "df['laureate_type'].unique()"
      ],
      "execution_count": 26,
      "outputs": [
        {
          "output_type": "execute_result",
          "data": {
            "text/plain": [
              "array(['Individual', 'Organization'], dtype=object)"
            ]
          },
          "metadata": {
            "tags": []
          },
          "execution_count": 26
        }
      ]
    },
    {
      "cell_type": "markdown",
      "metadata": {
        "id": "FmWJUtSpdVnX",
        "colab_type": "text"
      },
      "source": [
        "So there are only individuals and Organizations. Let's see what it means..."
      ]
    },
    {
      "cell_type": "code",
      "metadata": {
        "id": "9I3TRByYcvn7",
        "colab_type": "code",
        "outputId": "6ca86f57-1b7e-4231-a1e0-bd8680f29006",
        "colab": {
          "base_uri": "https://localhost:8080/",
          "height": 267
        }
      },
      "source": [
        "df[df['laureate_type'] == 'Individual'].head(2)"
      ],
      "execution_count": 27,
      "outputs": [
        {
          "output_type": "execute_result",
          "data": {
            "text/html": [
              "<div>\n",
              "<style scoped>\n",
              "    .dataframe tbody tr th:only-of-type {\n",
              "        vertical-align: middle;\n",
              "    }\n",
              "\n",
              "    .dataframe tbody tr th {\n",
              "        vertical-align: top;\n",
              "    }\n",
              "\n",
              "    .dataframe thead th {\n",
              "        text-align: right;\n",
              "    }\n",
              "</style>\n",
              "<table border=\"1\" class=\"dataframe\">\n",
              "  <thead>\n",
              "    <tr style=\"text-align: right;\">\n",
              "      <th></th>\n",
              "      <th>year</th>\n",
              "      <th>category</th>\n",
              "      <th>prize</th>\n",
              "      <th>motivation</th>\n",
              "      <th>prize_share</th>\n",
              "      <th>laureate_id</th>\n",
              "      <th>laureate_type</th>\n",
              "      <th>full_name</th>\n",
              "      <th>birth_date</th>\n",
              "      <th>birth_city</th>\n",
              "      <th>birth_country</th>\n",
              "      <th>sex</th>\n",
              "      <th>organization_name</th>\n",
              "      <th>organization_city</th>\n",
              "      <th>organization_country</th>\n",
              "      <th>death_date</th>\n",
              "      <th>death_city</th>\n",
              "      <th>death_country</th>\n",
              "    </tr>\n",
              "  </thead>\n",
              "  <tbody>\n",
              "    <tr>\n",
              "      <th>0</th>\n",
              "      <td>1901</td>\n",
              "      <td>Chemistry</td>\n",
              "      <td>The Nobel Prize in Chemistry 1901</td>\n",
              "      <td>\"in recognition of the extraordinary services ...</td>\n",
              "      <td>1/1</td>\n",
              "      <td>160</td>\n",
              "      <td>Individual</td>\n",
              "      <td>Jacobus Henricus van 't Hoff</td>\n",
              "      <td>1852-08-30</td>\n",
              "      <td>Rotterdam</td>\n",
              "      <td>Netherlands</td>\n",
              "      <td>Male</td>\n",
              "      <td>Berlin University</td>\n",
              "      <td>Berlin</td>\n",
              "      <td>Germany</td>\n",
              "      <td>1911-03-01</td>\n",
              "      <td>Berlin</td>\n",
              "      <td>Germany</td>\n",
              "    </tr>\n",
              "    <tr>\n",
              "      <th>1</th>\n",
              "      <td>1901</td>\n",
              "      <td>Literature</td>\n",
              "      <td>The Nobel Prize in Literature 1901</td>\n",
              "      <td>\"in special recognition of his poetic composit...</td>\n",
              "      <td>1/1</td>\n",
              "      <td>569</td>\n",
              "      <td>Individual</td>\n",
              "      <td>Sully Prudhomme</td>\n",
              "      <td>1839-03-16</td>\n",
              "      <td>Paris</td>\n",
              "      <td>France</td>\n",
              "      <td>Male</td>\n",
              "      <td>NaN</td>\n",
              "      <td>NaN</td>\n",
              "      <td>NaN</td>\n",
              "      <td>1907-09-07</td>\n",
              "      <td>Châtenay</td>\n",
              "      <td>France</td>\n",
              "    </tr>\n",
              "  </tbody>\n",
              "</table>\n",
              "</div>"
            ],
            "text/plain": [
              "   year    category  ... death_city death_country\n",
              "0  1901   Chemistry  ...     Berlin       Germany\n",
              "1  1901  Literature  ...   Châtenay        France\n",
              "\n",
              "[2 rows x 18 columns]"
            ]
          },
          "metadata": {
            "tags": []
          },
          "execution_count": 27
        }
      ]
    },
    {
      "cell_type": "code",
      "metadata": {
        "id": "pO3Gc3x3dljc",
        "colab_type": "code",
        "outputId": "9021943f-de56-4f0c-872a-9a05c91fc61e",
        "colab": {
          "base_uri": "https://localhost:8080/",
          "height": 267
        }
      },
      "source": [
        "df[df['laureate_type'] == 'Organization'].head(2)"
      ],
      "execution_count": 28,
      "outputs": [
        {
          "output_type": "execute_result",
          "data": {
            "text/html": [
              "<div>\n",
              "<style scoped>\n",
              "    .dataframe tbody tr th:only-of-type {\n",
              "        vertical-align: middle;\n",
              "    }\n",
              "\n",
              "    .dataframe tbody tr th {\n",
              "        vertical-align: top;\n",
              "    }\n",
              "\n",
              "    .dataframe thead th {\n",
              "        text-align: right;\n",
              "    }\n",
              "</style>\n",
              "<table border=\"1\" class=\"dataframe\">\n",
              "  <thead>\n",
              "    <tr style=\"text-align: right;\">\n",
              "      <th></th>\n",
              "      <th>year</th>\n",
              "      <th>category</th>\n",
              "      <th>prize</th>\n",
              "      <th>motivation</th>\n",
              "      <th>prize_share</th>\n",
              "      <th>laureate_id</th>\n",
              "      <th>laureate_type</th>\n",
              "      <th>full_name</th>\n",
              "      <th>birth_date</th>\n",
              "      <th>birth_city</th>\n",
              "      <th>birth_country</th>\n",
              "      <th>sex</th>\n",
              "      <th>organization_name</th>\n",
              "      <th>organization_city</th>\n",
              "      <th>organization_country</th>\n",
              "      <th>death_date</th>\n",
              "      <th>death_city</th>\n",
              "      <th>death_country</th>\n",
              "    </tr>\n",
              "  </thead>\n",
              "  <tbody>\n",
              "    <tr>\n",
              "      <th>24</th>\n",
              "      <td>1904</td>\n",
              "      <td>Peace</td>\n",
              "      <td>The Nobel Peace Prize 1904</td>\n",
              "      <td>NaN</td>\n",
              "      <td>1/1</td>\n",
              "      <td>467</td>\n",
              "      <td>Organization</td>\n",
              "      <td>Institut de droit international (Institute of ...</td>\n",
              "      <td>NaT</td>\n",
              "      <td>NaN</td>\n",
              "      <td>NaN</td>\n",
              "      <td>NaN</td>\n",
              "      <td>NaN</td>\n",
              "      <td>NaN</td>\n",
              "      <td>NaN</td>\n",
              "      <td>NaT</td>\n",
              "      <td>NaN</td>\n",
              "      <td>NaN</td>\n",
              "    </tr>\n",
              "    <tr>\n",
              "      <th>60</th>\n",
              "      <td>1910</td>\n",
              "      <td>Peace</td>\n",
              "      <td>The Nobel Peace Prize 1910</td>\n",
              "      <td>NaN</td>\n",
              "      <td>1/1</td>\n",
              "      <td>477</td>\n",
              "      <td>Organization</td>\n",
              "      <td>Bureau international permanent de la Paix (Per...</td>\n",
              "      <td>NaT</td>\n",
              "      <td>NaN</td>\n",
              "      <td>NaN</td>\n",
              "      <td>NaN</td>\n",
              "      <td>NaN</td>\n",
              "      <td>NaN</td>\n",
              "      <td>NaN</td>\n",
              "      <td>NaT</td>\n",
              "      <td>NaN</td>\n",
              "      <td>NaN</td>\n",
              "    </tr>\n",
              "  </tbody>\n",
              "</table>\n",
              "</div>"
            ],
            "text/plain": [
              "    year category  ... death_city death_country\n",
              "24  1904    Peace  ...        NaN           NaN\n",
              "60  1910    Peace  ...        NaN           NaN\n",
              "\n",
              "[2 rows x 18 columns]"
            ]
          },
          "metadata": {
            "tags": []
          },
          "execution_count": 28
        }
      ]
    },
    {
      "cell_type": "markdown",
      "metadata": {
        "id": "T4uVhGqRdrK2",
        "colab_type": "text"
      },
      "source": [
        "In here we are wondering why there are quite a lot of missing values in birth_date, birth_city, sex, organization_name, and more. Probably one of the explanations is because if the data point represents an organization surely it doesn't have specific values for all those columns, for example an organization doesn't have birth date or sex. So we know now, why there are missing values in our dataset (surely there are another explanations). If our guess is right, then the number of missing values for sex is equal to the number of organization. Let's validate our guess."
      ]
    },
    {
      "cell_type": "markdown",
      "metadata": {
        "id": "3Xq-gwgQeqhc",
        "colab_type": "text"
      },
      "source": [
        "How many nobel laureates as an individual and an organization?"
      ]
    },
    {
      "cell_type": "code",
      "metadata": {
        "id": "3Zz3-AqDe9K6",
        "colab_type": "code",
        "outputId": "f894ed04-6a60-4417-e5b1-28ff4cdf338d",
        "colab": {
          "base_uri": "https://localhost:8080/",
          "height": 68
        }
      },
      "source": [
        "df['laureate_type'].value_counts()"
      ],
      "execution_count": 29,
      "outputs": [
        {
          "output_type": "execute_result",
          "data": {
            "text/plain": [
              "Individual      881\n",
              "Organization     30\n",
              "Name: laureate_type, dtype: int64"
            ]
          },
          "metadata": {
            "tags": []
          },
          "execution_count": 29
        }
      ]
    },
    {
      "cell_type": "code",
      "metadata": {
        "id": "gTfk-ZkzjGXX",
        "colab_type": "code",
        "outputId": "565bc620-a025-4a65-e323-79effdc9d209",
        "colab": {
          "base_uri": "https://localhost:8080/",
          "height": 465
        }
      },
      "source": [
        "# find all data points with column laureate_type is Organization \n",
        "# and column sex is not null\n",
        "df[(df['laureate_type'] == 'Organization') & (~df['sex'].isnull())]"
      ],
      "execution_count": 30,
      "outputs": [
        {
          "output_type": "execute_result",
          "data": {
            "text/html": [
              "<div>\n",
              "<style scoped>\n",
              "    .dataframe tbody tr th:only-of-type {\n",
              "        vertical-align: middle;\n",
              "    }\n",
              "\n",
              "    .dataframe tbody tr th {\n",
              "        vertical-align: top;\n",
              "    }\n",
              "\n",
              "    .dataframe thead th {\n",
              "        text-align: right;\n",
              "    }\n",
              "</style>\n",
              "<table border=\"1\" class=\"dataframe\">\n",
              "  <thead>\n",
              "    <tr style=\"text-align: right;\">\n",
              "      <th></th>\n",
              "      <th>year</th>\n",
              "      <th>category</th>\n",
              "      <th>prize</th>\n",
              "      <th>motivation</th>\n",
              "      <th>prize_share</th>\n",
              "      <th>laureate_id</th>\n",
              "      <th>laureate_type</th>\n",
              "      <th>full_name</th>\n",
              "      <th>birth_date</th>\n",
              "      <th>birth_city</th>\n",
              "      <th>birth_country</th>\n",
              "      <th>sex</th>\n",
              "      <th>organization_name</th>\n",
              "      <th>organization_city</th>\n",
              "      <th>organization_country</th>\n",
              "      <th>death_date</th>\n",
              "      <th>death_city</th>\n",
              "      <th>death_country</th>\n",
              "    </tr>\n",
              "  </thead>\n",
              "  <tbody>\n",
              "    <tr>\n",
              "      <th>435</th>\n",
              "      <td>1973</td>\n",
              "      <td>Peace</td>\n",
              "      <td>The Nobel Peace Prize 1973</td>\n",
              "      <td>NaN</td>\n",
              "      <td>1/2</td>\n",
              "      <td>531</td>\n",
              "      <td>Organization</td>\n",
              "      <td>Le Duc Tho</td>\n",
              "      <td>1911-10-14</td>\n",
              "      <td>Nam Ha province</td>\n",
              "      <td>Vietnam</td>\n",
              "      <td>Male</td>\n",
              "      <td>NaN</td>\n",
              "      <td>NaN</td>\n",
              "      <td>NaN</td>\n",
              "      <td>1990-10-13</td>\n",
              "      <td>Hanoi</td>\n",
              "      <td>Vietnam</td>\n",
              "    </tr>\n",
              "    <tr>\n",
              "      <th>501</th>\n",
              "      <td>1979</td>\n",
              "      <td>Peace</td>\n",
              "      <td>The Nobel Peace Prize 1979</td>\n",
              "      <td>NaN</td>\n",
              "      <td>1/1</td>\n",
              "      <td>540</td>\n",
              "      <td>Organization</td>\n",
              "      <td>Mother Teresa</td>\n",
              "      <td>1910-08-26</td>\n",
              "      <td>Uskup (Skopje)</td>\n",
              "      <td>Ottoman Empire (Republic of Macedonia)</td>\n",
              "      <td>Female</td>\n",
              "      <td>NaN</td>\n",
              "      <td>NaN</td>\n",
              "      <td>NaN</td>\n",
              "      <td>1997-09-05</td>\n",
              "      <td>Calcutta</td>\n",
              "      <td>India</td>\n",
              "    </tr>\n",
              "    <tr>\n",
              "      <th>598</th>\n",
              "      <td>1989</td>\n",
              "      <td>Peace</td>\n",
              "      <td>The Nobel Peace Prize 1989</td>\n",
              "      <td>NaN</td>\n",
              "      <td>1/1</td>\n",
              "      <td>551</td>\n",
              "      <td>Organization</td>\n",
              "      <td>The 14th Dalai Lama (Tenzin Gyatso)</td>\n",
              "      <td>1935-07-06</td>\n",
              "      <td>Taktser</td>\n",
              "      <td>Tibet (People's Republic of China)</td>\n",
              "      <td>Male</td>\n",
              "      <td>NaN</td>\n",
              "      <td>NaN</td>\n",
              "      <td>NaN</td>\n",
              "      <td>NaT</td>\n",
              "      <td>NaN</td>\n",
              "      <td>NaN</td>\n",
              "    </tr>\n",
              "    <tr>\n",
              "      <th>618</th>\n",
              "      <td>1991</td>\n",
              "      <td>Peace</td>\n",
              "      <td>The Nobel Peace Prize 1991</td>\n",
              "      <td>\"for her non-violent struggle for democracy an...</td>\n",
              "      <td>1/1</td>\n",
              "      <td>553</td>\n",
              "      <td>Organization</td>\n",
              "      <td>Aung San Suu Kyi</td>\n",
              "      <td>1945-06-19</td>\n",
              "      <td>Rangoon (Yangon)</td>\n",
              "      <td>Burma (Myanmar)</td>\n",
              "      <td>Female</td>\n",
              "      <td>NaN</td>\n",
              "      <td>NaN</td>\n",
              "      <td>NaN</td>\n",
              "      <td>NaT</td>\n",
              "      <td>NaN</td>\n",
              "      <td>NaN</td>\n",
              "    </tr>\n",
              "  </tbody>\n",
              "</table>\n",
              "</div>"
            ],
            "text/plain": [
              "     year category  ... death_city death_country\n",
              "435  1973    Peace  ...      Hanoi       Vietnam\n",
              "501  1979    Peace  ...   Calcutta         India\n",
              "598  1989    Peace  ...        NaN           NaN\n",
              "618  1991    Peace  ...        NaN           NaN\n",
              "\n",
              "[4 rows x 18 columns]"
            ]
          },
          "metadata": {
            "tags": []
          },
          "execution_count": 30
        }
      ]
    },
    {
      "cell_type": "markdown",
      "metadata": {
        "id": "YMhj2H_ekSNp",
        "colab_type": "text"
      },
      "source": [
        "Above, we can see that data points with column laureate_type filled with Organization still have sex, because they are actually Individuals. There are two options when facing this obstacle, we believe the data as it is, or we can change it with caution. Right now, we will change it."
      ]
    },
    {
      "cell_type": "code",
      "metadata": {
        "id": "JVWAa5zBmMf2",
        "colab_type": "code",
        "outputId": "d8883e1b-a72f-414b-b047-9426aabc0f36",
        "colab": {
          "base_uri": "https://localhost:8080/",
          "height": 68
        }
      },
      "source": [
        "df.loc[(df['laureate_type'] == 'Organization') & (~df['sex'].isnull()), ['laureate_type']] = 'Individual'\n",
        "print(\"Our alteration is correct if we got empty data frame: \", df.loc[(df['laureate_type'] == 'Organization') & (~df['sex'].isnull()), ['laureate_type']].isnull())"
      ],
      "execution_count": 31,
      "outputs": [
        {
          "output_type": "stream",
          "text": [
            "Our alteration is correct if we got empty data frame:  Empty DataFrame\n",
            "Columns: [laureate_type]\n",
            "Index: []\n"
          ],
          "name": "stdout"
        }
      ]
    },
    {
      "cell_type": "code",
      "metadata": {
        "id": "X6Fjg2PQffUx",
        "colab_type": "code",
        "colab": {}
      },
      "source": [
        "ltype_count = df['laureate_type'].value_counts()"
      ],
      "execution_count": 0,
      "outputs": []
    },
    {
      "cell_type": "code",
      "metadata": {
        "id": "Lsq0AnCvfBzx",
        "colab_type": "code",
        "outputId": "ff631801-339f-4fe9-ff65-1b9a52633d73",
        "colab": {
          "base_uri": "https://localhost:8080/",
          "height": 314
        }
      },
      "source": [
        "fig, ax = plt.subplots(figsize=[8, 4])\n",
        "sns.barplot(ax=ax, x=ltype_count.index, y=ltype_count.values)\n",
        "ax.set(xlabel='Type', ylabel='Count')\n",
        "fig.suptitle('The number of Nobel Laureates in each type', fontsize=18, fontweight='semibold');"
      ],
      "execution_count": 33,
      "outputs": [
        {
          "output_type": "display_data",
          "data": {
            "image/png": "[encoded data removed]",
            "text/plain": [
              "<Figure size 576x288 with 1 Axes>"
            ]
          },
          "metadata": {
            "tags": [],
            "needs_background": "light"
          }
        }
      ]
    },
    {
      "cell_type": "markdown",
      "metadata": {
        "id": "aDx1kwpufrzP",
        "colab_type": "text"
      },
      "source": [
        "In here, we know one of the reasons why we have many missing values (due to Organization which doesn't have any specific value for a feature like sex or birth city. Also, individual nobel laureates out-numbered organization nobel laureates."
      ]
    },
    {
      "cell_type": "markdown",
      "metadata": {
        "id": "yNwBD_7bg9DS",
        "colab_type": "text"
      },
      "source": [
        "### sex"
      ]
    },
    {
      "cell_type": "markdown",
      "metadata": {
        "id": "fnXYgyJdiXn9",
        "colab_type": "text"
      },
      "source": [
        "This is probably one of the most interesting column to explore, what is the percentage of male nobel laureates compare to female nobel laureates. Is it any imbalanced in here? So, let's explore it further!"
      ]
    },
    {
      "cell_type": "code",
      "metadata": {
        "id": "Smco72s3iuVK",
        "colab_type": "code",
        "outputId": "de059c1e-beb6-4802-d27b-c280fb021d10",
        "colab": {
          "base_uri": "https://localhost:8080/",
          "height": 119
        }
      },
      "source": [
        "df['sex'].head(5)"
      ],
      "execution_count": 34,
      "outputs": [
        {
          "output_type": "execute_result",
          "data": {
            "text/plain": [
              "0    Male\n",
              "1    Male\n",
              "2    Male\n",
              "3    Male\n",
              "4    Male\n",
              "Name: sex, dtype: object"
            ]
          },
          "metadata": {
            "tags": []
          },
          "execution_count": 34
        }
      ]
    },
    {
      "cell_type": "code",
      "metadata": {
        "id": "nZJ131I-ixIl",
        "colab_type": "code",
        "outputId": "9bdf1efe-b815-4292-b7db-17c80d68c0ce",
        "colab": {
          "base_uri": "https://localhost:8080/",
          "height": 119
        }
      },
      "source": [
        "df['sex'].tail(5)"
      ],
      "execution_count": 35,
      "outputs": [
        {
          "output_type": "execute_result",
          "data": {
            "text/plain": [
              "906    Male\n",
              "907    Male\n",
              "908    Male\n",
              "909    Male\n",
              "910    Male\n",
              "Name: sex, dtype: object"
            ]
          },
          "metadata": {
            "tags": []
          },
          "execution_count": 35
        }
      ]
    },
    {
      "cell_type": "markdown",
      "metadata": {
        "id": "4En9NPZzi1DG",
        "colab_type": "text"
      },
      "source": [
        "How the number told us about this column?"
      ]
    },
    {
      "cell_type": "code",
      "metadata": {
        "id": "08rKs9FQjFlA",
        "colab_type": "code",
        "colab": {}
      },
      "source": [
        "sex_count = df['sex'].value_counts()\n",
        "sex_fraction = df['sex'].value_counts(normalize=True)"
      ],
      "execution_count": 0,
      "outputs": []
    },
    {
      "cell_type": "code",
      "metadata": {
        "id": "j0rS7I4yjoMG",
        "colab_type": "code",
        "outputId": "1b987cab-8764-47f3-ee8a-ef59a8331957",
        "colab": {
          "base_uri": "https://localhost:8080/",
          "height": 68
        }
      },
      "source": [
        "sex_count"
      ],
      "execution_count": 37,
      "outputs": [
        {
          "output_type": "execute_result",
          "data": {
            "text/plain": [
              "Male      836\n",
              "Female     49\n",
              "Name: sex, dtype: int64"
            ]
          },
          "metadata": {
            "tags": []
          },
          "execution_count": 37
        }
      ]
    },
    {
      "cell_type": "code",
      "metadata": {
        "id": "OfuJOvX5jpk6",
        "colab_type": "code",
        "outputId": "e447248b-fe58-486e-97a2-d9795ece9dc7",
        "colab": {
          "base_uri": "https://localhost:8080/",
          "height": 68
        }
      },
      "source": [
        "sex_fraction"
      ],
      "execution_count": 38,
      "outputs": [
        {
          "output_type": "execute_result",
          "data": {
            "text/plain": [
              "Male      0.944633\n",
              "Female    0.055367\n",
              "Name: sex, dtype: float64"
            ]
          },
          "metadata": {
            "tags": []
          },
          "execution_count": 38
        }
      ]
    },
    {
      "cell_type": "markdown",
      "metadata": {
        "id": "X-92v3jtjqqZ",
        "colab_type": "text"
      },
      "source": [
        "Certainly a large gap between male and female, almost 95% are males and 5% are females, and don't forget about the organization which we don't count in here. Before try to make any arguable arguments or conclusions, let's continue our exploration by visualizing the number we got above as a bar plot."
      ]
    },
    {
      "cell_type": "code",
      "metadata": {
        "id": "vKRLBZxWlE5l",
        "colab_type": "code",
        "outputId": "b5243400-2850-4098-b70a-30f302c1bd06",
        "colab": {
          "base_uri": "https://localhost:8080/",
          "height": 375
        }
      },
      "source": [
        "fig, ax = plt.subplots(figsize=[8, 5])\n",
        "sns.barplot(ax=ax, x=sex_fraction.index, y=sex_fraction.values)\n",
        "ax.set(xlabel='Sex', ylabel='Fraction', ylim=(0, 1))\n",
        "fig.suptitle('The number of Nobel Laureates in each type', fontsize=18, fontweight='semibold');"
      ],
      "execution_count": 39,
      "outputs": [
        {
          "output_type": "display_data",
          "data": {
            "image/png": "[encoded data removed]",
            "text/plain": [
              "<Figure size 576x360 with 1 Axes>"
            ]
          },
          "metadata": {
            "tags": [],
            "needs_background": "light"
          }
        }
      ]
    },
    {
      "cell_type": "markdown",
      "metadata": {
        "id": "Bc72xPZHlaY8",
        "colab_type": "text"
      },
      "source": [
        "Simple conclusion that we can make right now is there are more male than female nobel laureates, and the ratio between these two is quite high with almost 95% nobel laureates are males. But we will continue our exploratory data analysis before try to make any arguable conclusions."
      ]
    },
    {
      "cell_type": "markdown",
      "metadata": {
        "id": "eY_q4bsHonlE",
        "colab_type": "text"
      },
      "source": [
        "### birth_country"
      ]
    },
    {
      "cell_type": "markdown",
      "metadata": {
        "id": "_V7iyrU-oyW-",
        "colab_type": "text"
      },
      "source": [
        "First, we will look for how much null values in this column (reevaluate the result we have at the beginning of this section)."
      ]
    },
    {
      "cell_type": "code",
      "metadata": {
        "id": "NCmthCjatD-q",
        "colab_type": "code",
        "colab": {
          "base_uri": "https://localhost:8080/",
          "height": 34
        },
        "outputId": "b831b737-0791-49ef-e249-abc2d14f6566"
      },
      "source": [
        "df['birth_country'].isnull().sum()"
      ],
      "execution_count": 40,
      "outputs": [
        {
          "output_type": "execute_result",
          "data": {
            "text/plain": [
              "26"
            ]
          },
          "metadata": {
            "tags": []
          },
          "execution_count": 40
        }
      ]
    },
    {
      "cell_type": "markdown",
      "metadata": {
        "id": "NsoV67PwtHCg",
        "colab_type": "text"
      },
      "source": [
        "If we look back, we got the same number as the number of organization in this dataset (note that we have changed 4 data points with value Organization to Individual)."
      ]
    },
    {
      "cell_type": "code",
      "metadata": {
        "id": "uGI0MiDytoUx",
        "colab_type": "code",
        "colab": {
          "base_uri": "https://localhost:8080/",
          "height": 799
        },
        "outputId": "07214bbe-7dd6-427b-a447-b6733bfca472"
      },
      "source": [
        "print(\"How many unique countries are there?\", len(df['birth_country'].unique()))\n",
        "df['birth_country'].unique()"
      ],
      "execution_count": 41,
      "outputs": [
        {
          "output_type": "stream",
          "text": [
            "How many unique countries are there? 122\n"
          ],
          "name": "stdout"
        },
        {
          "output_type": "execute_result",
          "data": {
            "text/plain": [
              "array(['Netherlands', 'France', 'Prussia (Poland)', 'Switzerland',\n",
              "       'Prussia (Germany)', 'Schleswig (Germany)', 'India', 'Sweden',\n",
              "       'Norway', 'Faroe Islands (Denmark)', 'United Kingdom',\n",
              "       'Russian Empire (Poland)', 'Scotland', 'Spain', 'Russia', nan,\n",
              "       'Poland', 'Germany', 'Austrian Empire (Czech Republic)',\n",
              "       'Hungary (Slovakia)', 'Tuscany (Italy)', 'Italy',\n",
              "       'United States of America', 'Bavaria (Germany)',\n",
              "       'British India (India)', 'Austrian Empire (Italy)', 'New Zealand',\n",
              "       'East Friesland (Germany)', 'Russian Empire (Ukraine)', 'Denmark',\n",
              "       'Luxembourg', 'Russian Empire (Latvia)', 'Belgium',\n",
              "       'Hesse-Kassel (Germany)', 'Germany (Russia)',\n",
              "       'Mecklenburg (Germany)', 'Austria', 'Prussia (Russia)',\n",
              "       'Australia', 'Austria-Hungary (Slovenia)', 'Ireland', 'Canada',\n",
              "       'Java, Dutch East Indies (Indonesia)', 'Austrian Empire (Austria)',\n",
              "       'Germany (Poland)', 'W&uuml;rttemberg (Germany)', 'Argentina',\n",
              "       'Austria-Hungary (Hungary)', 'Austria-Hungary (Austria)',\n",
              "       'Austria-Hungary (Croatia)', 'Russian Empire (Finland)',\n",
              "       'Austria-Hungary (Poland)', 'Chile',\n",
              "       'Austria-Hungary (Czech Republic)', 'Portugal', 'Japan',\n",
              "       'South Africa', 'Germany (France)', 'Iceland', 'China',\n",
              "       'French Algeria (Algeria)', 'Guadeloupe Island', 'Brazil',\n",
              "       'Southern Rhodesia (Zimbabwe)', 'Bosnia (Bosnia and Herzegovina)',\n",
              "       'Hungary', 'Russian Empire (Azerbaijan)',\n",
              "       'Ottoman Empire (Turkey)', 'Egypt',\n",
              "       'Union of Soviet Socialist Republics (Russia)',\n",
              "       'Austria-Hungary (Ukraine)', 'Guatemala',\n",
              "       'Russian Empire (Belarus)', 'Vietnam', 'Romania',\n",
              "       'Austria-Hungary (Bosnia and Herzegovina)',\n",
              "       'Russian Empire (Russia)', 'Northern Ireland',\n",
              "       'Poland (Lithuania)', 'British West Indies (Saint Lucia)',\n",
              "       'Crete (Greece)', 'Ottoman Empire (Republic of Macedonia)',\n",
              "       'India (Pakistan)', 'Russian Empire (Lithuania)', 'Venezuela',\n",
              "       'Poland (Ukraine)', 'Bulgaria', 'Lithuania', 'Colombia', 'Mexico',\n",
              "       'Madagascar', 'German-occupied Poland (Poland)', 'Taiwan',\n",
              "       'Nigeria', 'West Germany (Germany)', 'Korea (South Korea)',\n",
              "       'Costa Rica', \"Tibet (People's Republic of China)\",\n",
              "       'Burma (Myanmar)', 'Saint Lucia', 'Poland (Belarus)',\n",
              "       'British Mandate of Palestine (Israel)', 'East Timor',\n",
              "       'Free City of Danzig (Poland)',\n",
              "       'Union of Soviet Socialist Republics (Belarus)', 'Trinidad',\n",
              "       'Gold Coast (Ghana)', 'Iran',\n",
              "       'British Protectorate of Palestine (Israel)', 'Kenya', 'Turkey',\n",
              "       'British India (Bangladesh)', 'Persia (Iran)',\n",
              "       'Czechoslovakia (Czech Republic)', 'Finland', 'Cyprus', 'Peru',\n",
              "       'Liberia', 'Yemen', 'Morocco', 'Pakistan', 'Ukraine'], dtype=object)"
            ]
          },
          "metadata": {
            "tags": []
          },
          "execution_count": 41
        }
      ]
    },
    {
      "cell_type": "markdown",
      "metadata": {
        "id": "a_GWCpJstrWX",
        "colab_type": "text"
      },
      "source": [
        "We have a lot of nobel laureates with different country, eventhough at the early time of nobel prize, mostly nobel laureates dominated by European countries. One of the reason for this diversity is how several countries have changed after World War I and World War II. To make our exploration simpler with losing important informations, we only care about the countries based on current situation, for example, West Germany will be considered as Germany and British India will be considered as Bangladesh."
      ]
    },
    {
      "cell_type": "code",
      "metadata": {
        "id": "v0oNXgBQzSsA",
        "colab_type": "code",
        "colab": {}
      },
      "source": [
        "# extract the current country name\n",
        "def extract_country(country):\n",
        "    match = re.search(r\"\\w*\\((\\w+\\))\", str(country))\n",
        "    if match == None:\n",
        "        return country\n",
        "    else:\n",
        "        return match.group()"
      ],
      "execution_count": 0,
      "outputs": []
    },
    {
      "cell_type": "code",
      "metadata": {
        "id": "EKFKi8Iyua1Y",
        "colab_type": "code",
        "colab": {}
      },
      "source": [
        "# replace country name with current country name\n",
        "df['birth_country'] = df['birth_country'].apply(extract_country).str.replace(r\"[()]\", '')"
      ],
      "execution_count": 0,
      "outputs": []
    },
    {
      "cell_type": "markdown",
      "metadata": {
        "id": "JerLPFaMw1XN",
        "colab_type": "text"
      },
      "source": [
        "How many unique countires now?"
      ]
    },
    {
      "cell_type": "code",
      "metadata": {
        "id": "P4qFRNAZ2NBa",
        "colab_type": "code",
        "colab": {
          "base_uri": "https://localhost:8080/",
          "height": 391
        },
        "outputId": "095b24ce-2e7a-40e3-d5d4-f425ff43423e"
      },
      "source": [
        "print(\"How many unique countries now?\", len(df['birth_country'].unique()))\n",
        "df['birth_country'].unique()"
      ],
      "execution_count": 44,
      "outputs": [
        {
          "output_type": "stream",
          "text": [
            "How many unique countries now? 84\n"
          ],
          "name": "stdout"
        },
        {
          "output_type": "execute_result",
          "data": {
            "text/plain": [
              "array(['Netherlands', 'France', 'Poland', 'Switzerland', 'Germany',\n",
              "       'India', 'Sweden', 'Norway', 'Denmark', 'United Kingdom',\n",
              "       'Scotland', 'Spain', 'Russia', nan,\n",
              "       'Austrian Empire Czech Republic', 'Slovakia', 'Italy',\n",
              "       'United States of America', 'New Zealand', 'Ukraine', 'Luxembourg',\n",
              "       'Latvia', 'Belgium', 'Austria', 'Australia', 'Slovenia', 'Ireland',\n",
              "       'Canada', 'Indonesia', 'Argentina', 'Hungary', 'Croatia',\n",
              "       'Finland', 'Chile', 'Austria-Hungary Czech Republic', 'Portugal',\n",
              "       'Japan', 'South Africa', 'Iceland', 'China', 'Algeria',\n",
              "       'Guadeloupe Island', 'Brazil', 'Zimbabwe',\n",
              "       'Bosnia Bosnia and Herzegovina', 'Azerbaijan', 'Turkey', 'Egypt',\n",
              "       'Guatemala', 'Belarus', 'Vietnam', 'Romania',\n",
              "       'Austria-Hungary Bosnia and Herzegovina', 'Northern Ireland',\n",
              "       'Lithuania', 'British West Indies Saint Lucia', 'Greece',\n",
              "       'Ottoman Empire Republic of Macedonia', 'Pakistan', 'Venezuela',\n",
              "       'Bulgaria', 'Colombia', 'Mexico', 'Madagascar', 'Taiwan',\n",
              "       'Nigeria', 'Korea South Korea', 'Costa Rica',\n",
              "       \"Tibet People's Republic of China\", 'Myanmar', 'Saint Lucia',\n",
              "       'Israel', 'East Timor', 'Trinidad', 'Ghana', 'Iran', 'Kenya',\n",
              "       'Bangladesh', 'Czechoslovakia Czech Republic', 'Cyprus', 'Peru',\n",
              "       'Liberia', 'Yemen', 'Morocco'], dtype=object)"
            ]
          },
          "metadata": {
            "tags": []
          },
          "execution_count": 44
        }
      ]
    },
    {
      "cell_type": "markdown",
      "metadata": {
        "id": "-ZmY_tV32VBI",
        "colab_type": "text"
      },
      "source": [
        "In here we decrease the number from 122 to 84, quite significant. Now, we will count how many nobel laureates in each country."
      ]
    },
    {
      "cell_type": "code",
      "metadata": {
        "id": "8HRdGDNj267W",
        "colab_type": "code",
        "colab": {
          "base_uri": "https://localhost:8080/",
          "height": 221
        },
        "outputId": "9f57dda5-69df-4c56-ee06-d5656d2434c3"
      },
      "source": [
        "df['birth_country'].value_counts()"
      ],
      "execution_count": 45,
      "outputs": [
        {
          "output_type": "execute_result",
          "data": {
            "text/plain": [
              "United States of America    259\n",
              "United Kingdom               85\n",
              "Germany                      80\n",
              "France                       54\n",
              "Sweden                       29\n",
              "                           ... \n",
              "Yemen                         1\n",
              "Taiwan                        1\n",
              "Greece                        1\n",
              "Vietnam                       1\n",
              "Guadeloupe Island             1\n",
              "Name: birth_country, Length: 83, dtype: int64"
            ]
          },
          "metadata": {
            "tags": []
          },
          "execution_count": 45
        }
      ]
    },
    {
      "cell_type": "markdown",
      "metadata": {
        "id": "gWvvG3VF3AFo",
        "colab_type": "text"
      },
      "source": [
        "We will chop the number down, so we just focus on countries with the number of nobel laureates greater than 10 and normalize it so we can easily understand the relative ratio."
      ]
    },
    {
      "cell_type": "code",
      "metadata": {
        "id": "P8huDlWh3qVn",
        "colab_type": "code",
        "colab": {
          "base_uri": "https://localhost:8080/",
          "height": 323
        },
        "outputId": "eb1c3a1e-bea1-4419-c994-8c60a2edb8ca"
      },
      "source": [
        "birth_country_fraction = df['birth_country'].value_counts(normalize=True)[df['birth_country'].value_counts() >= 10]\n",
        "birth_country_fraction"
      ],
      "execution_count": 46,
      "outputs": [
        {
          "output_type": "execute_result",
          "data": {
            "text/plain": [
              "United States of America    0.292655\n",
              "United Kingdom              0.096045\n",
              "Germany                     0.090395\n",
              "France                      0.061017\n",
              "Sweden                      0.032768\n",
              "Poland                      0.029379\n",
              "Russia                      0.029379\n",
              "Japan                       0.027119\n",
              "Italy                       0.021469\n",
              "Netherlands                 0.020339\n",
              "Canada                      0.020339\n",
              "Austria                     0.019209\n",
              "Switzerland                 0.018079\n",
              "Denmark                     0.013559\n",
              "Norway                      0.013559\n",
              "China                       0.012429\n",
              "Australia                   0.011299\n",
              "Name: birth_country, dtype: float64"
            ]
          },
          "metadata": {
            "tags": []
          },
          "execution_count": 46
        }
      ]
    },
    {
      "cell_type": "code",
      "metadata": {
        "id": "QvJlFUu632V5",
        "colab_type": "code",
        "colab": {
          "base_uri": "https://localhost:8080/",
          "height": 437
        },
        "outputId": "1c7ff1bd-08f2-4d4f-d091-3ebebd83010c"
      },
      "source": [
        "fig, ax_fraction = plt.subplots(figsize=[10, 6])\n",
        "sns.barplot(ax=ax_fraction, x=birth_country_fraction.values, y=birth_country_fraction.index)\n",
        "ax_fraction.set(xlabel='fraction', ylabel='Countries')\n",
        "fig.suptitle('The number of Nobel Laureates based on their birth country', fontsize=18, fontweight='semibold');"
      ],
      "execution_count": 47,
      "outputs": [
        {
          "output_type": "display_data",
          "data": {
            "image/png": "[encoded data removed]",
            "text/plain": [
              "<Figure size 720x432 with 1 Axes>"
            ]
          },
          "metadata": {
            "tags": [],
            "needs_background": "light"
          }
        }
      ]
    },
    {
      "cell_type": "markdown",
      "metadata": {
        "id": "MHEMOFKK4qhy",
        "colab_type": "text"
      },
      "source": [
        "More than 25% of nobel laureates are born in USA. But are they also died in the same Country? We will find out later."
      ]
    },
    {
      "cell_type": "markdown",
      "metadata": {
        "id": "YhxdRvCw5g8E",
        "colab_type": "text"
      },
      "source": [
        "### death_country"
      ]
    },
    {
      "cell_type": "markdown",
      "metadata": {
        "id": "cQ6y2LX65l6E",
        "colab_type": "text"
      },
      "source": [
        "First, we will look for how much null values in this column (reevaluate the result we have at the beginning of this section)."
      ]
    },
    {
      "cell_type": "code",
      "metadata": {
        "id": "ZhvbvPRY5vSe",
        "colab_type": "code",
        "colab": {
          "base_uri": "https://localhost:8080/",
          "height": 34
        },
        "outputId": "c75e1efe-7da5-4155-ad20-74d950263e42"
      },
      "source": [
        "df['death_country'].isnull().sum()"
      ],
      "execution_count": 48,
      "outputs": [
        {
          "output_type": "execute_result",
          "data": {
            "text/plain": [
              "329"
            ]
          },
          "metadata": {
            "tags": []
          },
          "execution_count": 48
        }
      ]
    },
    {
      "cell_type": "markdown",
      "metadata": {
        "id": "ApBxUsFz5y0q",
        "colab_type": "text"
      },
      "source": [
        "Okay, so we have a larger number than what we have when evaluate birth_country. One of the reason probably, a lot of nobel laureates are still alive, atleast until 2016 (the last data point we have). Let's validate our hypothesis by taking 3 samples and validate it using the best friend of us, Google."
      ]
    },
    {
      "cell_type": "code",
      "metadata": {
        "id": "-F0zSRRW6cxe",
        "colab_type": "code",
        "colab": {
          "base_uri": "https://localhost:8080/",
          "height": 349
        },
        "outputId": "cbd0d1bb-8095-46c1-d849-b961880e28c6"
      },
      "source": [
        "df[df['death_country'].isnull()].sample(n=3)"
      ],
      "execution_count": 49,
      "outputs": [
        {
          "output_type": "execute_result",
          "data": {
            "text/html": [
              "<div>\n",
              "<style scoped>\n",
              "    .dataframe tbody tr th:only-of-type {\n",
              "        vertical-align: middle;\n",
              "    }\n",
              "\n",
              "    .dataframe tbody tr th {\n",
              "        vertical-align: top;\n",
              "    }\n",
              "\n",
              "    .dataframe thead th {\n",
              "        text-align: right;\n",
              "    }\n",
              "</style>\n",
              "<table border=\"1\" class=\"dataframe\">\n",
              "  <thead>\n",
              "    <tr style=\"text-align: right;\">\n",
              "      <th></th>\n",
              "      <th>year</th>\n",
              "      <th>category</th>\n",
              "      <th>prize</th>\n",
              "      <th>motivation</th>\n",
              "      <th>prize_share</th>\n",
              "      <th>laureate_id</th>\n",
              "      <th>laureate_type</th>\n",
              "      <th>full_name</th>\n",
              "      <th>birth_date</th>\n",
              "      <th>birth_city</th>\n",
              "      <th>birth_country</th>\n",
              "      <th>sex</th>\n",
              "      <th>organization_name</th>\n",
              "      <th>organization_city</th>\n",
              "      <th>organization_country</th>\n",
              "      <th>death_date</th>\n",
              "      <th>death_city</th>\n",
              "      <th>death_country</th>\n",
              "    </tr>\n",
              "  </thead>\n",
              "  <tbody>\n",
              "    <tr>\n",
              "      <th>815</th>\n",
              "      <td>2008</td>\n",
              "      <td>Physics</td>\n",
              "      <td>The Nobel Prize in Physics 2008</td>\n",
              "      <td>\"for the discovery of the origin of the broken...</td>\n",
              "      <td>1/4</td>\n",
              "      <td>828</td>\n",
              "      <td>Individual</td>\n",
              "      <td>Toshihide Maskawa</td>\n",
              "      <td>1940-02-07</td>\n",
              "      <td>Nagoya</td>\n",
              "      <td>Japan</td>\n",
              "      <td>Male</td>\n",
              "      <td>Kyoto Sangyo University</td>\n",
              "      <td>Kyoto</td>\n",
              "      <td>Japan</td>\n",
              "      <td>NaT</td>\n",
              "      <td>NaN</td>\n",
              "      <td>NaN</td>\n",
              "    </tr>\n",
              "    <tr>\n",
              "      <th>564</th>\n",
              "      <td>1986</td>\n",
              "      <td>Literature</td>\n",
              "      <td>The Nobel Prize in Literature 1986</td>\n",
              "      <td>\"who in a wide cultural perspective and with p...</td>\n",
              "      <td>1/1</td>\n",
              "      <td>663</td>\n",
              "      <td>Individual</td>\n",
              "      <td>Wole Soyinka</td>\n",
              "      <td>1934-07-13</td>\n",
              "      <td>Abeokuta</td>\n",
              "      <td>Nigeria</td>\n",
              "      <td>Male</td>\n",
              "      <td>NaN</td>\n",
              "      <td>NaN</td>\n",
              "      <td>NaN</td>\n",
              "      <td>NaT</td>\n",
              "      <td>NaN</td>\n",
              "      <td>NaN</td>\n",
              "    </tr>\n",
              "    <tr>\n",
              "      <th>810</th>\n",
              "      <td>2008</td>\n",
              "      <td>Medicine</td>\n",
              "      <td>The Nobel Prize in Physiology or Medicine 2008</td>\n",
              "      <td>\"for their discovery of human immunodeficiency...</td>\n",
              "      <td>1/4</td>\n",
              "      <td>824</td>\n",
              "      <td>Individual</td>\n",
              "      <td>Françoise Barré-Sinoussi</td>\n",
              "      <td>1947-07-30</td>\n",
              "      <td>Paris</td>\n",
              "      <td>France</td>\n",
              "      <td>Female</td>\n",
              "      <td>Regulation of Retroviral Infections Unit, Viro...</td>\n",
              "      <td>Paris</td>\n",
              "      <td>France</td>\n",
              "      <td>NaT</td>\n",
              "      <td>NaN</td>\n",
              "      <td>NaN</td>\n",
              "    </tr>\n",
              "  </tbody>\n",
              "</table>\n",
              "</div>"
            ],
            "text/plain": [
              "     year    category  ... death_city death_country\n",
              "815  2008     Physics  ...        NaN           NaN\n",
              "564  1986  Literature  ...        NaN           NaN\n",
              "810  2008    Medicine  ...        NaN           NaN\n",
              "\n",
              "[3 rows x 18 columns]"
            ]
          },
          "metadata": {
            "tags": []
          },
          "execution_count": 49
        }
      ]
    },
    {
      "cell_type": "markdown",
      "metadata": {
        "id": "oEmR2jUd6nxL",
        "colab_type": "text"
      },
      "source": [
        "First, Sir Peter Mansfield died in 2017. Second, Robert J. Lefkowitz is still alive up to now (in 2020), lastly Serge Haroche is still alive up to now. So, our hypothesis better likely right. (I make a strong assumption by doing this to make the exploration simpler)"
      ]
    },
    {
      "cell_type": "markdown",
      "metadata": {
        "id": "Hw5GJy1a8mOn",
        "colab_type": "text"
      },
      "source": [
        "Let's see how many unique values in this column"
      ]
    },
    {
      "cell_type": "code",
      "metadata": {
        "id": "KtJRgKud8ljG",
        "colab_type": "code",
        "colab": {
          "base_uri": "https://localhost:8080/",
          "height": 255
        },
        "outputId": "d6d177b9-719d-477e-8e22-f049b25d2321"
      },
      "source": [
        "print(\"How many unique countries (death_country)?\", len(df['death_country'].unique()))\n",
        "df['death_country'].unique()"
      ],
      "execution_count": 50,
      "outputs": [
        {
          "output_type": "stream",
          "text": [
            "How many unique countries (death_country)? 51\n"
          ],
          "name": "stdout"
        },
        {
          "output_type": "execute_result",
          "data": {
            "text/plain": [
              "array(['Germany', 'France', 'Switzerland', 'United Kingdom',\n",
              "       'Netherlands', 'Sweden', 'Denmark', 'Spain', 'Russia', nan,\n",
              "       'Austria', 'Italy', 'United States of America', 'Romania',\n",
              "       'Germany (Poland)', 'India', 'Belgium', 'West Germany (Germany)',\n",
              "       'Scotland', 'Norway', 'Canada', 'Poland', 'East Germany',\n",
              "       'Tunisia', 'Argentina', 'Finland', 'Ireland', 'Portugal', 'Japan',\n",
              "       'Jamaica', 'Northern Ireland', 'Gabon', 'Iceland',\n",
              "       'Union of Soviet Socialist Republics', 'Puerto Rico',\n",
              "       'Union of Soviet Socialist Republics (Russia)', 'Czechoslovakia',\n",
              "       'Australia', 'South Africa', 'Yugoslavia (Serbia)',\n",
              "       'Northern Rhodesia (Zambia)', 'Greece', 'Israel', 'Chile',\n",
              "       'Vietnam', 'Egypt', 'Barbados', 'Mexico', 'Hungary', 'Kenya',\n",
              "       'Philippines'], dtype=object)"
            ]
          },
          "metadata": {
            "tags": []
          },
          "execution_count": 50
        }
      ]
    },
    {
      "cell_type": "markdown",
      "metadata": {
        "id": "74ZpLT108Jhf",
        "colab_type": "text"
      },
      "source": [
        "Just as the process we performed before, we only care about the current name of certain countries. Then let's parse the string."
      ]
    },
    {
      "cell_type": "code",
      "metadata": {
        "id": "1IA1ESEq8UAK",
        "colab_type": "code",
        "colab": {}
      },
      "source": [
        "# replace country name with current country name\n",
        "df['death_country'] = df['death_country'].apply(extract_country).str.replace(r\"[()]\", '')"
      ],
      "execution_count": 0,
      "outputs": []
    },
    {
      "cell_type": "code",
      "metadata": {
        "id": "Ifug6GSf8CBH",
        "colab_type": "code",
        "colab": {
          "base_uri": "https://localhost:8080/",
          "height": 204
        },
        "outputId": "f1008270-3699-433a-eca9-5234df6d77ff"
      },
      "source": [
        "print(\"How many unique countries (death_country)? now\", len(df['death_country'].unique()))\n",
        "df['death_country'].unique()"
      ],
      "execution_count": 52,
      "outputs": [
        {
          "output_type": "stream",
          "text": [
            "How many unique countries (death_country)? now 48\n"
          ],
          "name": "stdout"
        },
        {
          "output_type": "execute_result",
          "data": {
            "text/plain": [
              "array(['Germany', 'France', 'Switzerland', 'United Kingdom',\n",
              "       'Netherlands', 'Sweden', 'Denmark', 'Spain', 'Russia', nan,\n",
              "       'Austria', 'Italy', 'United States of America', 'Romania',\n",
              "       'Poland', 'India', 'Belgium', 'Scotland', 'Norway', 'Canada',\n",
              "       'East Germany', 'Tunisia', 'Argentina', 'Finland', 'Ireland',\n",
              "       'Portugal', 'Japan', 'Jamaica', 'Northern Ireland', 'Gabon',\n",
              "       'Iceland', 'Union of Soviet Socialist Republics', 'Puerto Rico',\n",
              "       'Czechoslovakia', 'Australia', 'South Africa', 'Serbia', 'Zambia',\n",
              "       'Greece', 'Israel', 'Chile', 'Vietnam', 'Egypt', 'Barbados',\n",
              "       'Mexico', 'Hungary', 'Kenya', 'Philippines'], dtype=object)"
            ]
          },
          "metadata": {
            "tags": []
          },
          "execution_count": 52
        }
      ]
    },
    {
      "cell_type": "markdown",
      "metadata": {
        "id": "vLqeSfN98Bo4",
        "colab_type": "text"
      },
      "source": [
        "From 51 to 48 different countries. Now, we will count the number of nobel laureates that died in each country."
      ]
    },
    {
      "cell_type": "code",
      "metadata": {
        "id": "dHgPVVtJ9MKo",
        "colab_type": "code",
        "colab": {
          "base_uri": "https://localhost:8080/",
          "height": 833
        },
        "outputId": "2c7bab5b-6398-48bd-a3d7-733f792c1f38"
      },
      "source": [
        "df['death_country'].value_counts()"
      ],
      "execution_count": 53,
      "outputs": [
        {
          "output_type": "execute_result",
          "data": {
            "text/plain": [
              "United States of America               203\n",
              "United Kingdom                          73\n",
              "Germany                                 55\n",
              "France                                  51\n",
              "Sweden                                  28\n",
              "Switzerland                             26\n",
              "Italy                                   14\n",
              "Russia                                  11\n",
              "Spain                                   10\n",
              "Netherlands                              9\n",
              "Denmark                                  9\n",
              "Norway                                   8\n",
              "Belgium                                  7\n",
              "Canada                                   6\n",
              "Austria                                  6\n",
              "Japan                                    6\n",
              "Poland                                   5\n",
              "Scotland                                 5\n",
              "Argentina                                4\n",
              "Israel                                   4\n",
              "India                                    3\n",
              "South Africa                             3\n",
              "Union of Soviet Socialist Republics      3\n",
              "Ireland                                  3\n",
              "Mexico                                   3\n",
              "Australia                                2\n",
              "Finland                                  2\n",
              "Czechoslovakia                           2\n",
              "Greece                                   2\n",
              "Egypt                                    2\n",
              "Jamaica                                  1\n",
              "Kenya                                    1\n",
              "East Germany                             1\n",
              "Puerto Rico                              1\n",
              "Iceland                                  1\n",
              "Hungary                                  1\n",
              "Vietnam                                  1\n",
              "Chile                                    1\n",
              "Serbia                                   1\n",
              "Tunisia                                  1\n",
              "Philippines                              1\n",
              "Romania                                  1\n",
              "Gabon                                    1\n",
              "Barbados                                 1\n",
              "Northern Ireland                         1\n",
              "Zambia                                   1\n",
              "Portugal                                 1\n",
              "Name: death_country, dtype: int64"
            ]
          },
          "metadata": {
            "tags": []
          },
          "execution_count": 53
        }
      ]
    },
    {
      "cell_type": "markdown",
      "metadata": {
        "id": "VRF_Xawi9QwB",
        "colab_type": "text"
      },
      "source": [
        "Just like the colum birth_country, let's focus on country with value greater than 10."
      ]
    },
    {
      "cell_type": "code",
      "metadata": {
        "id": "T4NUpoVy9Z2c",
        "colab_type": "code",
        "colab": {
          "base_uri": "https://localhost:8080/",
          "height": 187
        },
        "outputId": "6fbf716a-cf8b-46ac-b5da-3362701b19ec"
      },
      "source": [
        "death_country_fraction = df['death_country'].value_counts(normalize=True)[df['death_country'].value_counts() >= 10]\n",
        "death_country_fraction"
      ],
      "execution_count": 54,
      "outputs": [
        {
          "output_type": "execute_result",
          "data": {
            "text/plain": [
              "United States of America    0.348797\n",
              "United Kingdom              0.125430\n",
              "Germany                     0.094502\n",
              "France                      0.087629\n",
              "Sweden                      0.048110\n",
              "Switzerland                 0.044674\n",
              "Italy                       0.024055\n",
              "Russia                      0.018900\n",
              "Spain                       0.017182\n",
              "Name: death_country, dtype: float64"
            ]
          },
          "metadata": {
            "tags": []
          },
          "execution_count": 54
        }
      ]
    },
    {
      "cell_type": "code",
      "metadata": {
        "id": "_56eRLzr9jtJ",
        "colab_type": "code",
        "colab": {
          "base_uri": "https://localhost:8080/",
          "height": 437
        },
        "outputId": "b925e7d5-a01f-4703-eec4-8d0cd0ad4608"
      },
      "source": [
        "fig, ax_fraction = plt.subplots(figsize=[10, 6])\n",
        "sns.barplot(ax=ax_fraction, x=death_country_fraction.values, y=death_country_fraction.index)\n",
        "ax_fraction.set(xlabel='fraction', ylabel='Countries')\n",
        "fig.suptitle('The number of Nobel Laureates based on their birth country', fontsize=18, fontweight='semibold');"
      ],
      "execution_count": 55,
      "outputs": [
        {
          "output_type": "display_data",
          "data": {
            "image/png": "[encoded data removed]",
            "text/plain": [
              "<Figure size 720x432 with 1 Axes>"
            ]
          },
          "metadata": {
            "tags": [],
            "needs_background": "light"
          }
        }
      ]
    },
    {
      "cell_type": "markdown",
      "metadata": {
        "id": "NZtdoz6W9q29",
        "colab_type": "text"
      },
      "source": [
        "USA takes the first place again with 34% nobel laureates died in here."
      ]
    },
    {
      "cell_type": "markdown",
      "metadata": {
        "id": "4XYvI9Ae-ADb",
        "colab_type": "text"
      },
      "source": [
        "### diff_birth_death_country"
      ]
    },
    {
      "cell_type": "markdown",
      "metadata": {
        "id": "8H5PXtaq-FCc",
        "colab_type": "text"
      },
      "source": [
        "This column will be the new column we introduce that represents is certain nobel laureate changed their citizenship or moved to another country. If we take an example, Albert Einstein born in Germany and decided to move to USA, because of the condition in Germany at that time (since he was a Jew). Are there any same cases like Einstein? Let's figure it out..."
      ]
    },
    {
      "cell_type": "markdown",
      "metadata": {
        "id": "02QsBcNU-7b8",
        "colab_type": "text"
      },
      "source": [
        "We will only take nobel laureates that have died, and leave the alive undisturbed."
      ]
    },
    {
      "cell_type": "code",
      "metadata": {
        "id": "MxcHxUaF_Od-",
        "colab_type": "code",
        "colab": {
          "base_uri": "https://localhost:8080/",
          "height": 366
        },
        "outputId": "0f1959ac-2425-49cb-c6f0-c61a835d64ca"
      },
      "source": [
        "dead_nobel_laureates = df[~df['death_country'].isnull()]\n",
        "dead_nobel_laureates.head(3)"
      ],
      "execution_count": 56,
      "outputs": [
        {
          "output_type": "execute_result",
          "data": {
            "text/html": [
              "<div>\n",
              "<style scoped>\n",
              "    .dataframe tbody tr th:only-of-type {\n",
              "        vertical-align: middle;\n",
              "    }\n",
              "\n",
              "    .dataframe tbody tr th {\n",
              "        vertical-align: top;\n",
              "    }\n",
              "\n",
              "    .dataframe thead th {\n",
              "        text-align: right;\n",
              "    }\n",
              "</style>\n",
              "<table border=\"1\" class=\"dataframe\">\n",
              "  <thead>\n",
              "    <tr style=\"text-align: right;\">\n",
              "      <th></th>\n",
              "      <th>year</th>\n",
              "      <th>category</th>\n",
              "      <th>prize</th>\n",
              "      <th>motivation</th>\n",
              "      <th>prize_share</th>\n",
              "      <th>laureate_id</th>\n",
              "      <th>laureate_type</th>\n",
              "      <th>full_name</th>\n",
              "      <th>birth_date</th>\n",
              "      <th>birth_city</th>\n",
              "      <th>birth_country</th>\n",
              "      <th>sex</th>\n",
              "      <th>organization_name</th>\n",
              "      <th>organization_city</th>\n",
              "      <th>organization_country</th>\n",
              "      <th>death_date</th>\n",
              "      <th>death_city</th>\n",
              "      <th>death_country</th>\n",
              "    </tr>\n",
              "  </thead>\n",
              "  <tbody>\n",
              "    <tr>\n",
              "      <th>0</th>\n",
              "      <td>1901</td>\n",
              "      <td>Chemistry</td>\n",
              "      <td>The Nobel Prize in Chemistry 1901</td>\n",
              "      <td>\"in recognition of the extraordinary services ...</td>\n",
              "      <td>1/1</td>\n",
              "      <td>160</td>\n",
              "      <td>Individual</td>\n",
              "      <td>Jacobus Henricus van 't Hoff</td>\n",
              "      <td>1852-08-30</td>\n",
              "      <td>Rotterdam</td>\n",
              "      <td>Netherlands</td>\n",
              "      <td>Male</td>\n",
              "      <td>Berlin University</td>\n",
              "      <td>Berlin</td>\n",
              "      <td>Germany</td>\n",
              "      <td>1911-03-01</td>\n",
              "      <td>Berlin</td>\n",
              "      <td>Germany</td>\n",
              "    </tr>\n",
              "    <tr>\n",
              "      <th>1</th>\n",
              "      <td>1901</td>\n",
              "      <td>Literature</td>\n",
              "      <td>The Nobel Prize in Literature 1901</td>\n",
              "      <td>\"in special recognition of his poetic composit...</td>\n",
              "      <td>1/1</td>\n",
              "      <td>569</td>\n",
              "      <td>Individual</td>\n",
              "      <td>Sully Prudhomme</td>\n",
              "      <td>1839-03-16</td>\n",
              "      <td>Paris</td>\n",
              "      <td>France</td>\n",
              "      <td>Male</td>\n",
              "      <td>NaN</td>\n",
              "      <td>NaN</td>\n",
              "      <td>NaN</td>\n",
              "      <td>1907-09-07</td>\n",
              "      <td>Châtenay</td>\n",
              "      <td>France</td>\n",
              "    </tr>\n",
              "    <tr>\n",
              "      <th>2</th>\n",
              "      <td>1901</td>\n",
              "      <td>Medicine</td>\n",
              "      <td>The Nobel Prize in Physiology or Medicine 1901</td>\n",
              "      <td>\"for his work on serum therapy, especially its...</td>\n",
              "      <td>1/1</td>\n",
              "      <td>293</td>\n",
              "      <td>Individual</td>\n",
              "      <td>Emil Adolf von Behring</td>\n",
              "      <td>1854-03-15</td>\n",
              "      <td>Hansdorf (Lawice)</td>\n",
              "      <td>Poland</td>\n",
              "      <td>Male</td>\n",
              "      <td>Marburg University</td>\n",
              "      <td>Marburg</td>\n",
              "      <td>Germany</td>\n",
              "      <td>1917-03-31</td>\n",
              "      <td>Marburg</td>\n",
              "      <td>Germany</td>\n",
              "    </tr>\n",
              "  </tbody>\n",
              "</table>\n",
              "</div>"
            ],
            "text/plain": [
              "   year    category  ... death_city death_country\n",
              "0  1901   Chemistry  ...     Berlin       Germany\n",
              "1  1901  Literature  ...   Châtenay        France\n",
              "2  1901    Medicine  ...    Marburg       Germany\n",
              "\n",
              "[3 rows x 18 columns]"
            ]
          },
          "metadata": {
            "tags": []
          },
          "execution_count": 56
        }
      ]
    },
    {
      "cell_type": "code",
      "metadata": {
        "id": "lXIbh1ZG_VZN",
        "colab_type": "code",
        "colab": {
          "base_uri": "https://localhost:8080/",
          "height": 400
        },
        "outputId": "8e18d9db-a9d8-4b8d-ef20-c33d1cbcddfe"
      },
      "source": [
        "dead_nobel_laureates[dead_nobel_laureates['birth_country'] != dead_nobel_laureates['death_country']].head(3)"
      ],
      "execution_count": 57,
      "outputs": [
        {
          "output_type": "execute_result",
          "data": {
            "text/html": [
              "<div>\n",
              "<style scoped>\n",
              "    .dataframe tbody tr th:only-of-type {\n",
              "        vertical-align: middle;\n",
              "    }\n",
              "\n",
              "    .dataframe tbody tr th {\n",
              "        vertical-align: top;\n",
              "    }\n",
              "\n",
              "    .dataframe thead th {\n",
              "        text-align: right;\n",
              "    }\n",
              "</style>\n",
              "<table border=\"1\" class=\"dataframe\">\n",
              "  <thead>\n",
              "    <tr style=\"text-align: right;\">\n",
              "      <th></th>\n",
              "      <th>year</th>\n",
              "      <th>category</th>\n",
              "      <th>prize</th>\n",
              "      <th>motivation</th>\n",
              "      <th>prize_share</th>\n",
              "      <th>laureate_id</th>\n",
              "      <th>laureate_type</th>\n",
              "      <th>full_name</th>\n",
              "      <th>birth_date</th>\n",
              "      <th>birth_city</th>\n",
              "      <th>birth_country</th>\n",
              "      <th>sex</th>\n",
              "      <th>organization_name</th>\n",
              "      <th>organization_city</th>\n",
              "      <th>organization_country</th>\n",
              "      <th>death_date</th>\n",
              "      <th>death_city</th>\n",
              "      <th>death_country</th>\n",
              "    </tr>\n",
              "  </thead>\n",
              "  <tbody>\n",
              "    <tr>\n",
              "      <th>0</th>\n",
              "      <td>1901</td>\n",
              "      <td>Chemistry</td>\n",
              "      <td>The Nobel Prize in Chemistry 1901</td>\n",
              "      <td>\"in recognition of the extraordinary services ...</td>\n",
              "      <td>1/1</td>\n",
              "      <td>160</td>\n",
              "      <td>Individual</td>\n",
              "      <td>Jacobus Henricus van 't Hoff</td>\n",
              "      <td>1852-08-30</td>\n",
              "      <td>Rotterdam</td>\n",
              "      <td>Netherlands</td>\n",
              "      <td>Male</td>\n",
              "      <td>Berlin University</td>\n",
              "      <td>Berlin</td>\n",
              "      <td>Germany</td>\n",
              "      <td>1911-03-01</td>\n",
              "      <td>Berlin</td>\n",
              "      <td>Germany</td>\n",
              "    </tr>\n",
              "    <tr>\n",
              "      <th>2</th>\n",
              "      <td>1901</td>\n",
              "      <td>Medicine</td>\n",
              "      <td>The Nobel Prize in Physiology or Medicine 1901</td>\n",
              "      <td>\"for his work on serum therapy, especially its...</td>\n",
              "      <td>1/1</td>\n",
              "      <td>293</td>\n",
              "      <td>Individual</td>\n",
              "      <td>Emil Adolf von Behring</td>\n",
              "      <td>1854-03-15</td>\n",
              "      <td>Hansdorf (Lawice)</td>\n",
              "      <td>Poland</td>\n",
              "      <td>Male</td>\n",
              "      <td>Marburg University</td>\n",
              "      <td>Marburg</td>\n",
              "      <td>Germany</td>\n",
              "      <td>1917-03-31</td>\n",
              "      <td>Marburg</td>\n",
              "      <td>Germany</td>\n",
              "    </tr>\n",
              "    <tr>\n",
              "      <th>8</th>\n",
              "      <td>1902</td>\n",
              "      <td>Medicine</td>\n",
              "      <td>The Nobel Prize in Physiology or Medicine 1902</td>\n",
              "      <td>\"for his work on malaria, by which he has show...</td>\n",
              "      <td>1/1</td>\n",
              "      <td>294</td>\n",
              "      <td>Individual</td>\n",
              "      <td>Ronald Ross</td>\n",
              "      <td>1857-05-13</td>\n",
              "      <td>Almora</td>\n",
              "      <td>India</td>\n",
              "      <td>Male</td>\n",
              "      <td>University College</td>\n",
              "      <td>Liverpool</td>\n",
              "      <td>United Kingdom</td>\n",
              "      <td>1932-09-16</td>\n",
              "      <td>Putney Heath</td>\n",
              "      <td>United Kingdom</td>\n",
              "    </tr>\n",
              "  </tbody>\n",
              "</table>\n",
              "</div>"
            ],
            "text/plain": [
              "   year   category  ...    death_city   death_country\n",
              "0  1901  Chemistry  ...        Berlin         Germany\n",
              "2  1901   Medicine  ...       Marburg         Germany\n",
              "8  1902   Medicine  ...  Putney Heath  United Kingdom\n",
              "\n",
              "[3 rows x 18 columns]"
            ]
          },
          "metadata": {
            "tags": []
          },
          "execution_count": 57
        }
      ]
    },
    {
      "cell_type": "code",
      "metadata": {
        "id": "aVMaemTi_tUE",
        "colab_type": "code",
        "colab": {
          "base_uri": "https://localhost:8080/",
          "height": 34
        },
        "outputId": "928ec387-b58d-4a8f-e0f4-1c488b95880d"
      },
      "source": [
        "# how many nobel laureates have moved from their birth country to a new country up until their death\n",
        "moved = dead_nobel_laureates[dead_nobel_laureates['birth_country'] != dead_nobel_laureates['death_country']].shape[0]\n",
        "print('Moved nobel laureates: ', moved)"
      ],
      "execution_count": 58,
      "outputs": [
        {
          "output_type": "stream",
          "text": [
            "Moved nobel laureates:  191\n"
          ],
          "name": "stdout"
        }
      ]
    },
    {
      "cell_type": "code",
      "metadata": {
        "id": "gveBNVLoAfKG",
        "colab_type": "code",
        "colab": {
          "base_uri": "https://localhost:8080/",
          "height": 34
        },
        "outputId": "e7004a35-0332-42fa-8fb8-bd4b80651f34"
      },
      "source": [
        "# total nobel laureates that have died\n",
        "dead_nobel_laureates.shape[0]"
      ],
      "execution_count": 59,
      "outputs": [
        {
          "output_type": "execute_result",
          "data": {
            "text/plain": [
              "582"
            ]
          },
          "metadata": {
            "tags": []
          },
          "execution_count": 59
        }
      ]
    },
    {
      "cell_type": "markdown",
      "metadata": {
        "id": "02BBO5iPAI0N",
        "colab_type": "text"
      },
      "source": [
        "191 nobel laureates have moved from total 582. Certainly not a small number, let's visualize it"
      ]
    },
    {
      "cell_type": "code",
      "metadata": {
        "id": "d3Q3tSLVAuPe",
        "colab_type": "code",
        "colab": {
          "base_uri": "https://localhost:8080/",
          "height": 437
        },
        "outputId": "b32197e6-da62-48fb-92a3-262bfe098351"
      },
      "source": [
        "fig, ax = plt.subplots(figsize=[10, 6])\n",
        "sns.barplot(ax=ax, x=['Moved', 'Stay'], y=[191, 582-191])\n",
        "ax.set(xlabel='Moved or Stay', ylabel='Count')\n",
        "fig.suptitle('The number of Nobel Laureates', fontsize=18, fontweight='semibold');"
      ],
      "execution_count": 60,
      "outputs": [
        {
          "output_type": "display_data",
          "data": {
            "image/png": "[encoded data removed]",
            "text/plain": [
              "<Figure size 720x432 with 1 Axes>"
            ]
          },
          "metadata": {
            "tags": [],
            "needs_background": "light"
          }
        }
      ]
    },
    {
      "cell_type": "markdown",
      "metadata": {
        "id": "UzVmLgqNBHD5",
        "colab_type": "text"
      },
      "source": [
        "Almost half of nobel laureates have moved from their birth country, why? Many reasons behind it, and I think one of them must be due to World War I and World War II."
      ]
    },
    {
      "cell_type": "markdown",
      "metadata": {
        "id": "yg1zYkjTBmhl",
        "colab_type": "text"
      },
      "source": [
        "### birth_date"
      ]
    },
    {
      "cell_type": "markdown",
      "metadata": {
        "id": "3jq_KcsNUx-X",
        "colab_type": "text"
      },
      "source": [
        "In this column, we'll only care about the year. Then, we'll create a new column called birth_year."
      ]
    },
    {
      "cell_type": "code",
      "metadata": {
        "id": "hz-hblg6Uj8W",
        "colab_type": "code",
        "colab": {}
      },
      "source": [
        "# take birth_date column to birth_year an impute missing values as -1\n",
        "df['birth_year'] = df['birth_date'].dt.year.fillna(-1).astype('int')"
      ],
      "execution_count": 0,
      "outputs": []
    },
    {
      "cell_type": "code",
      "metadata": {
        "id": "kRow1hCcUvYM",
        "colab_type": "code",
        "colab": {
          "base_uri": "https://localhost:8080/",
          "height": 119
        },
        "outputId": "c38f7346-2ed7-42d9-c837-8a50b158aed8"
      },
      "source": [
        "# display top 5\n",
        "df['birth_year'].head()"
      ],
      "execution_count": 62,
      "outputs": [
        {
          "output_type": "execute_result",
          "data": {
            "text/plain": [
              "0    1852\n",
              "1    1839\n",
              "2    1854\n",
              "3    1828\n",
              "4    1822\n",
              "Name: birth_year, dtype: int64"
            ]
          },
          "metadata": {
            "tags": []
          },
          "execution_count": 62
        }
      ]
    },
    {
      "cell_type": "code",
      "metadata": {
        "id": "wCZd13WXXwEG",
        "colab_type": "code",
        "colab": {
          "base_uri": "https://localhost:8080/",
          "height": 221
        },
        "outputId": "91d180f8-dcd0-4a50-c2d9-e6b81a5724df"
      },
      "source": [
        "df['birth_year'].value_counts()"
      ],
      "execution_count": 63,
      "outputs": [
        {
          "output_type": "execute_result",
          "data": {
            "text/plain": [
              "-1       28\n",
              " 1918    23\n",
              " 1911    17\n",
              " 1943    16\n",
              " 1927    15\n",
              "         ..\n",
              " 1958     1\n",
              " 1956     1\n",
              " 1847     1\n",
              " 1849     1\n",
              " 1997     1\n",
              "Name: birth_year, Length: 139, dtype: int64"
            ]
          },
          "metadata": {
            "tags": []
          },
          "execution_count": 63
        }
      ]
    },
    {
      "cell_type": "markdown",
      "metadata": {
        "id": "2AhJv9IdVY0G",
        "colab_type": "text"
      },
      "source": [
        "There are 28 missing values (encoded as -1), and 1918 become the golden year because 23 nobel laureates born in this year. We'll take top 10 of this result (excluding the missing values)."
      ]
    },
    {
      "cell_type": "code",
      "metadata": {
        "id": "vckovrGebMn4",
        "colab_type": "code",
        "colab": {
          "base_uri": "https://localhost:8080/",
          "height": 221
        },
        "outputId": "862a3632-f10b-4ed9-84af-013342d742e7"
      },
      "source": [
        "birth_year_count = df['birth_year'].value_counts()[1:12]\n",
        "birth_year_count"
      ],
      "execution_count": 64,
      "outputs": [
        {
          "output_type": "execute_result",
          "data": {
            "text/plain": [
              "1918    23\n",
              "1911    17\n",
              "1943    16\n",
              "1927    15\n",
              "1940    15\n",
              "1941    14\n",
              "1929    14\n",
              "1930    14\n",
              "1931    14\n",
              "1936    14\n",
              "1917    13\n",
              "Name: birth_year, dtype: object"
            ]
          },
          "metadata": {
            "tags": []
          },
          "execution_count": 64
        }
      ]
    },
    {
      "cell_type": "code",
      "metadata": {
        "id": "ZxGYBk80bgrL",
        "colab_type": "code",
        "colab": {
          "base_uri": "https://localhost:8080/",
          "height": 437
        },
        "outputId": "5cf2626d-00cd-4edc-a2c7-8daae9f96dae"
      },
      "source": [
        "fig, ax = plt.subplots(figsize=[10, 6])\n",
        "sns.barplot(ax=ax, x=birth_year_count.index, y=birth_year_count.values)\n",
        "ax.set(xlabel='Year', ylabel='Count')\n",
        "fig.suptitle('The number of Nobel Laureates', fontsize=18, fontweight='semibold');"
      ],
      "execution_count": 65,
      "outputs": [
        {
          "output_type": "display_data",
          "data": {
            "image/png": "[encoded data removed]",
            "text/plain": [
              "<Figure size 720x432 with 1 Axes>"
            ]
          },
          "metadata": {
            "tags": [],
            "needs_background": "light"
          }
        }
      ]
    },
    {
      "cell_type": "markdown",
      "metadata": {
        "id": "wbop5cEXbudu",
        "colab_type": "text"
      },
      "source": [
        "### death_date"
      ]
    },
    {
      "cell_type": "markdown",
      "metadata": {
        "id": "yPzj5gtdf-wN",
        "colab_type": "text"
      },
      "source": [
        "We will perform the same analysis as birth_date column."
      ]
    },
    {
      "cell_type": "code",
      "metadata": {
        "id": "zZUmWu36fnon",
        "colab_type": "code",
        "colab": {
          "base_uri": "https://localhost:8080/",
          "height": 119
        },
        "outputId": "874c6bc3-b95a-4e38-a0b4-381ff933f810"
      },
      "source": [
        "# take death_date column to death_year an impute missing values as -1\n",
        "df['death_year'] = df['death_date'].dt.year.fillna(-1).astype('int')\n",
        "\n",
        "# display top 5\n",
        "df['death_year'].head()"
      ],
      "execution_count": 66,
      "outputs": [
        {
          "output_type": "execute_result",
          "data": {
            "text/plain": [
              "0    1911\n",
              "1    1907\n",
              "2    1917\n",
              "3    1910\n",
              "4    1912\n",
              "Name: death_year, dtype: int64"
            ]
          },
          "metadata": {
            "tags": []
          },
          "execution_count": 66
        }
      ]
    },
    {
      "cell_type": "code",
      "metadata": {
        "id": "96HmXusQgQt1",
        "colab_type": "code",
        "colab": {
          "base_uri": "https://localhost:8080/",
          "height": 221
        },
        "outputId": "03b00cf5-7b2f-4757-ce59-ae1bc62e1f36"
      },
      "source": [
        "df['death_year'].value_counts()"
      ],
      "execution_count": 68,
      "outputs": [
        {
          "output_type": "execute_result",
          "data": {
            "text/plain": [
              "-1       318\n",
              " 2013     19\n",
              " 2016     12\n",
              " 2004     12\n",
              " 2011     12\n",
              "        ... \n",
              " 1933      1\n",
              " 1939      1\n",
              " 1904      1\n",
              " 1903      1\n",
              " 1946      1\n",
              "Name: death_year, Length: 112, dtype: int64"
            ]
          },
          "metadata": {
            "tags": []
          },
          "execution_count": 68
        }
      ]
    },
    {
      "cell_type": "code",
      "metadata": {
        "id": "NM5za48_gRSu",
        "colab_type": "code",
        "colab": {
          "base_uri": "https://localhost:8080/",
          "height": 221
        },
        "outputId": "933c2bac-d76e-4902-d56d-6d32c47b3754"
      },
      "source": [
        "death_year_count = df['death_year'].value_counts()[1:12]\n",
        "death_year_count"
      ],
      "execution_count": 69,
      "outputs": [
        {
          "output_type": "execute_result",
          "data": {
            "text/plain": [
              "2013    19\n",
              "2016    12\n",
              "2004    12\n",
              "2011    12\n",
              "1994    11\n",
              "1991    11\n",
              "1998    11\n",
              "2015    11\n",
              "1995    10\n",
              "1971    10\n",
              "2009     9\n",
              "Name: death_year, dtype: int64"
            ]
          },
          "metadata": {
            "tags": []
          },
          "execution_count": 69
        }
      ]
    },
    {
      "cell_type": "code",
      "metadata": {
        "id": "juAgvfbFgfXW",
        "colab_type": "code",
        "colab": {
          "base_uri": "https://localhost:8080/",
          "height": 437
        },
        "outputId": "8ddbec69-9c64-4425-e799-bb73d099d062"
      },
      "source": [
        "fig, ax = plt.subplots(figsize=[10, 6])\n",
        "sns.barplot(ax=ax, x=death_year_count.index, y=death_year_count.values)\n",
        "ax.set(xlabel='Year', ylabel='Count')\n",
        "fig.suptitle('The number of Nobel Laureates', fontsize=18, fontweight='semibold');"
      ],
      "execution_count": 70,
      "outputs": [
        {
          "output_type": "display_data",
          "data": {
            "image/png": "[encoded data removed]",
            "text/plain": [
              "<Figure size 720x432 with 1 Axes>"
            ]
          },
          "metadata": {
            "tags": [],
            "needs_background": "light"
          }
        }
      ]
    },
    {
      "cell_type": "markdown",
      "metadata": {
        "id": "rxRCryJvgjnI",
        "colab_type": "text"
      },
      "source": [
        "Based on the information we got, 2013 become the loss year, because 19 nobel laureates died this year. But up to 2016, 318 nobel laureates are still alive (we assume missing values as still alive)."
      ]
    }
  ]
}