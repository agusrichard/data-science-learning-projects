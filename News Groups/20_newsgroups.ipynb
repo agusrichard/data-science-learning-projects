{
  "nbformat": 4,
  "nbformat_minor": 0,
  "metadata": {
    "colab": {
      "name": "20_newsgroups.ipynb",
      "provenance": [],
      "collapsed_sections": [],
      "authorship_tag": "ABX9TyM50Aqn5ud9COTqVx8BctOE",
      "include_colab_link": true
    },
    "kernelspec": {
      "name": "python3",
      "display_name": "Python 3"
    }
  },
  "cells": [
    {
      "cell_type": "markdown",
      "metadata": {
        "id": "view-in-github",
        "colab_type": "text"
      },
      "source": [
        "<a href=\"https://colab.research.google.com/github/agusrichard/data-science-projects/blob/master/News%20Groups/20_newsgroups.ipynb\" target=\"_parent\"><img src=\"https://colab.research.google.com/assets/colab-badge.svg\" alt=\"Open In Colab\"/></a>"
      ]
    },
    {
      "cell_type": "markdown",
      "metadata": {
        "id": "FV38MQurmS0Q",
        "colab_type": "text"
      },
      "source": [
        "# Predictive Modeling: 20 Newsgroups"
      ]
    },
    {
      "cell_type": "markdown",
      "metadata": {
        "id": "uQFpY9_4nkSt",
        "colab_type": "text"
      },
      "source": [
        "__Import Libraries__"
      ]
    },
    {
      "cell_type": "code",
      "metadata": {
        "id": "hWc8AnEnnmFR",
        "colab_type": "code",
        "colab": {
          "base_uri": "https://localhost:8080/",
          "height": 71
        },
        "outputId": "48a77dc2-65f1-4f6e-c965-a31f638444c0"
      },
      "source": [
        "# Essentials\n",
        "import re\n",
        "import time\n",
        "import pickle\n",
        "import numpy as np\n",
        "import pandas as pd\n",
        "import matplotlib.pyplot as plt\n",
        "import seaborn as sns\n",
        "plt.style.use('ggplot')\n",
        "sns.set_palette('colorblind')\n",
        "\n",
        "\n",
        "# Machine Learning\n",
        "from sklearn.preprocessing import label_binarize\n",
        "from sklearn.decomposition import NMF, LatentDirichletAllocation\n",
        "from sklearn.feature_extraction.text import TfidfVectorizer, CountVectorizer\n",
        "from sklearn.model_selection import cross_val_score, train_test_split\n",
        "from sklearn.pipeline import Pipeline\n",
        "from sklearn.metrics import confusion_matrix, roc_curve\n",
        "from sklearn.neighbors import KNeighborsClassifier\n",
        "from sklearn.naive_bayes import MultinomialNB, BernoulliNB, ComplementNB\n",
        "from sklearn.linear_model import SGDClassifier, LogisticRegression\n",
        "from sklearn.svm import LinearSVC\n",
        "from sklearn.ensemble import RandomForestClassifier, GradientBoostingClassifier\n",
        "\n",
        "\n",
        "\n",
        "# Deep Learning\n",
        "\n",
        "\n",
        "# Fetch data from sklearn\n",
        "from sklearn.datasets import fetch_20newsgroups\n",
        "\n",
        "\n",
        "# Ignore warning\n",
        "# import warnings\n",
        "# warnings.filterwarnings('ignore')"
      ],
      "execution_count": 1,
      "outputs": [
        {
          "output_type": "stream",
          "text": [
            "/usr/local/lib/python3.6/dist-packages/statsmodels/tools/_testing.py:19: FutureWarning: pandas.util.testing is deprecated. Use the functions in the public API at pandas.testing instead.\n",
            "  import pandas.util.testing as tm\n"
          ],
          "name": "stderr"
        }
      ]
    },
    {
      "cell_type": "markdown",
      "metadata": {
        "id": "wqBsq0HPNkQ9",
        "colab_type": "text"
      },
      "source": [
        "__Helper functions and classes__"
      ]
    },
    {
      "cell_type": "code",
      "metadata": {
        "id": "jPeHdT-xNmtk",
        "colab_type": "code",
        "colab": {}
      },
      "source": [
        "RANDOM_STATE = 42\n",
        "\n",
        "def check_none(ls):\n",
        "    \"\"\"\n",
        "    Check is there any NoneType element inside a list\n",
        "    \"\"\"\n",
        "    num_none = 0\n",
        "    for element in ls:\n",
        "        if element is None:\n",
        "            num_none += 1\n",
        "    return num_none\n",
        "\n",
        "\n",
        "def cleaning_text(text):\n",
        "    \"\"\"\n",
        "    Cleaning each text with custom specification using Regular Expression\n",
        "\n",
        "    Parameters\n",
        "    ----------\n",
        "    text : str\n",
        "        Text to clean\n",
        "\n",
        "    Return\n",
        "    ------\n",
        "    Cleaned text\n",
        "    \"\"\"\n",
        "\n",
        "    splitted = text.split('\\n')\n",
        "    email_pattern = re.compile(r\"\\S+@\\S+\")      \n",
        "    special_chars_pattern = re.compile(r\"[^\\w\\s]\")\n",
        "    space_pattern = re.compile(r\"\\s+\")\n",
        "    num_pattern = re.compile(r\"\\d+\")\n",
        "\n",
        "    for i in range(len(splitted)):\n",
        "\n",
        "        # Replace the sentence which startswith From, Subject, In-Reply-To, Organization, Lines (header)\n",
        "        # with single white space\n",
        "        if splitted[i].startswith('From:') or splitted[i].startswith('Subject:') or \\\n",
        "                splitted[i].startswith('In-Reply-To') or splitted[i].startswith('Organization:') or \\\n",
        "                splitted[i].startswith('Lines:') or splitted[i].startswith('Originator:') or \\\n",
        "                splitted[i].startswith('Nntp-Posting-Host:') or splitted[i].startswith('Distribution:'):\n",
        "            splitted[i] = ' '\n",
        "\n",
        "        # Lowercasing text\n",
        "        splitted[i] = splitted[i].lower()\n",
        "\n",
        "        # if the sentence contains email, it will be replaced with single white space\n",
        "        splitted[i] = email_pattern.sub('', splitted[i])\n",
        "\n",
        "        # Removing some special characters\n",
        "        splitted[i] = special_chars_pattern.sub('', splitted[i])\n",
        "\n",
        "        # If more than one white space between words, replace it with single white space\n",
        "        splitted[i] = space_pattern.sub(' ', splitted[i])\n",
        "\n",
        "        # Removing numbers\n",
        "        splitted[i] = num_pattern.sub('', splitted[i])\n",
        "\n",
        "        # Remove another rubbish patterns\n",
        "        splitted[i] = re.compile('nntppostinghost').sub('', splitted[i])\n",
        "        splitted[i] = re.compile('___').sub('', splitted[i])\n",
        "        splitted[i] = re.compile('__').sub('', splitted[i])\n",
        "        splitted[i] = re.compile('replyto').sub('', splitted[i])\n",
        "        splitted[i] = re.compile('xnewsreader').sub('', splitted[i])\n",
        "        splitted[i] = re.compile('maxaxaxaxaxaxaxaxaxaxaxaxaxaxax').sub('', splitted[i])\n",
        "    \n",
        "    return ' '.join(splitted).strip()\n",
        "\n",
        "\n",
        "def print_nwords_each_topic(feature_names, topics, n_words=10):\n",
        "    \"\"\"\n",
        "    Print the extracted words for each topic\n",
        "\n",
        "    Parameters\n",
        "    ----------\n",
        "    feature_names : list\n",
        "        We get this from vectorizer.get_feature_names()\n",
        "    topics : ndarray\n",
        "        components_ property of NMF or LDA\n",
        "    n_words : int, default=10\n",
        "        number of words to print\n",
        "    \"\"\"\n",
        "    feature_names = np.array(feature_names)\n",
        "    for i, topic in enumerate(topics):\n",
        "        print(f\"Topic {(i + 1):2}: {', '.join([str(word) for word in feature_names[topic.argsort()[-n_words:]]])}\")\n",
        "\n",
        "\n",
        "def scoring(estimator, X, y, cv=5, **kwargs):\n",
        "    \"\"\"\n",
        "    The evaluation function to show cross validation score, confusion_matrix, ROC curve\n",
        "    \"\"\"\n",
        "\n",
        "    n_classes = 20\n",
        "\n",
        "    # Scoring with cross_val_score\n",
        "    y_ohe = label_binarize(y, classes=np.arange(0, n_classes))\n",
        "    accuracy_score = cross_val_score(estimator, X, y, scoring='accuracy', cv=cv, **kwargs)\n",
        "    roc_auc_score = cross_val_score(estimator, X, y_ohe, scoring='roc_auc', cv=cv, **kwargs)\n",
        "    print('Accuracy Score : ', accuracy_score)\n",
        "    print('ROC-AUC Score  : ', roc_auc_score)\n",
        "\n",
        "\n",
        "    # Split into training and validation set, fit it, and create predictions and its probability\n",
        "    X_tr, X_val, y_tr, y_val = train_test_split(X, y, test_size=0.15, random_state=RANDOM_STATE)\n",
        "    estimator.fit(X_tr, y_tr)\n",
        "    predictions = estimator.predict(X_val)\n",
        "    preds_prob = estimator.predict_proba(X_val)\n",
        "\n",
        "    fig, axes = plt.subplots(1, 2, figsize=(15, 7))\n",
        "\n",
        "    # Confusion matrix and plot it\n",
        "    confmat = confusion_matrix(y_val, predictions)\n",
        "    sns.heatmap(confmat, annot=True, fmt='d', ax=axes[0])\n",
        "    axes[0].set(title='Confusion Matrix')\n",
        "\n",
        "    # ROC Curve\n",
        "    y_val_ohe = label_binarize(y_val, classes=np.arange(0, n_classes))\n",
        "    axes[1].plot([0, 1], [0, 1], 'k:')\n",
        "    for i in range(n_classes):\n",
        "        fpr, tpr, _ = roc_curve(y_val_ohe[:, i], preds_prob[:, i])\n",
        "        axes[1].plot(fpr, tpr, linestyle='--', label=f\"Class {i}\")\n",
        "\n",
        "    plt.legend(ncol=4)\n",
        "\n",
        "    return accuracy_score, roc_auc_score\n",
        "\n",
        "\n",
        "class Report():\n",
        "    \"\"\"\n",
        "\n",
        "    \"\"\"\n",
        "\n",
        "    def __init__(self, name, description, scorings):\n",
        "        self.name = name\n",
        "        self.description = description\n",
        "        self.report = {\n",
        "            'scores': {},\n",
        "            'best_scores': {scoring: 0 for scoring in scorings},\n",
        "            'best_estimator': {scoring: None for scoring in scorings}\n",
        "        }\n",
        "\n",
        "    def add_report(self, name, estimator, scores):\n",
        "        self.report['scores'][name] = scores\n",
        "        for scoring, score in scores.items():\n",
        "            if score.mean() > self.report['best_scores'][scoring]:\n",
        "                self.report['best_scores'][scoring] = score.mean()\n",
        "                self.report['best_estimator'][scoring] = estimator\n",
        "\n",
        "    def print_report(self):\n",
        "        for key, val in self.report.items():\n",
        "            print(key + ':')\n",
        "            print(val)\n",
        "            print()"
      ],
      "execution_count": 2,
      "outputs": []
    },
    {
      "cell_type": "markdown",
      "metadata": {
        "id": "eN4GJ18ZoQzT",
        "colab_type": "text"
      },
      "source": [
        "__Load the data__"
      ]
    },
    {
      "cell_type": "code",
      "metadata": {
        "id": "T5WagmCroSyl",
        "colab_type": "code",
        "colab": {}
      },
      "source": [
        "bunch_train = fetch_20newsgroups(subset='train')\n",
        "bunch_test = fetch_20newsgroups(subset='test')"
      ],
      "execution_count": 3,
      "outputs": []
    },
    {
      "cell_type": "markdown",
      "metadata": {
        "id": "Nzy7WNIHsMRA",
        "colab_type": "text"
      },
      "source": [
        "See what kind of keys available in bunch object."
      ]
    },
    {
      "cell_type": "code",
      "metadata": {
        "id": "n7J78xUasqow",
        "colab_type": "code",
        "colab": {
          "base_uri": "https://localhost:8080/",
          "height": 34
        },
        "outputId": "772d2778-26a2-43e6-e5e2-2120ee16580a"
      },
      "source": [
        "bunch_train.keys()"
      ],
      "execution_count": 4,
      "outputs": [
        {
          "output_type": "execute_result",
          "data": {
            "text/plain": [
              "dict_keys(['data', 'filenames', 'target_names', 'target', 'DESCR'])"
            ]
          },
          "metadata": {
            "tags": []
          },
          "execution_count": 4
        }
      ]
    },
    {
      "cell_type": "code",
      "metadata": {
        "id": "NJephh84sufo",
        "colab_type": "code",
        "colab": {
          "base_uri": "https://localhost:8080/",
          "height": 1000
        },
        "outputId": "769a5492-cd92-4763-ce47-a7fa3fff3e78"
      },
      "source": [
        "print(bunch_train['DESCR'])"
      ],
      "execution_count": 5,
      "outputs": [
        {
          "output_type": "stream",
          "text": [
            ".. _20newsgroups_dataset:\n",
            "\n",
            "The 20 newsgroups text dataset\n",
            "------------------------------\n",
            "\n",
            "The 20 newsgroups dataset comprises around 18000 newsgroups posts on\n",
            "20 topics split in two subsets: one for training (or development)\n",
            "and the other one for testing (or for performance evaluation). The split\n",
            "between the train and test set is based upon a messages posted before\n",
            "and after a specific date.\n",
            "\n",
            "This module contains two loaders. The first one,\n",
            ":func:`sklearn.datasets.fetch_20newsgroups`,\n",
            "returns a list of the raw texts that can be fed to text feature\n",
            "extractors such as :class:`sklearn.feature_extraction.text.CountVectorizer`\n",
            "with custom parameters so as to extract feature vectors.\n",
            "The second one, :func:`sklearn.datasets.fetch_20newsgroups_vectorized`,\n",
            "returns ready-to-use features, i.e., it is not necessary to use a feature\n",
            "extractor.\n",
            "\n",
            "**Data Set Characteristics:**\n",
            "\n",
            "    =================   ==========\n",
            "    Classes                     20\n",
            "    Samples total            18846\n",
            "    Dimensionality               1\n",
            "    Features                  text\n",
            "    =================   ==========\n",
            "\n",
            "Usage\n",
            "~~~~~\n",
            "\n",
            "The :func:`sklearn.datasets.fetch_20newsgroups` function is a data\n",
            "fetching / caching functions that downloads the data archive from\n",
            "the original `20 newsgroups website`_, extracts the archive contents\n",
            "in the ``~/scikit_learn_data/20news_home`` folder and calls the\n",
            ":func:`sklearn.datasets.load_files` on either the training or\n",
            "testing set folder, or both of them::\n",
            "\n",
            "  >>> from sklearn.datasets import fetch_20newsgroups\n",
            "  >>> newsgroups_train = fetch_20newsgroups(subset='train')\n",
            "\n",
            "  >>> from pprint import pprint\n",
            "  >>> pprint(list(newsgroups_train.target_names))\n",
            "  ['alt.atheism',\n",
            "   'comp.graphics',\n",
            "   'comp.os.ms-windows.misc',\n",
            "   'comp.sys.ibm.pc.hardware',\n",
            "   'comp.sys.mac.hardware',\n",
            "   'comp.windows.x',\n",
            "   'misc.forsale',\n",
            "   'rec.autos',\n",
            "   'rec.motorcycles',\n",
            "   'rec.sport.baseball',\n",
            "   'rec.sport.hockey',\n",
            "   'sci.crypt',\n",
            "   'sci.electronics',\n",
            "   'sci.med',\n",
            "   'sci.space',\n",
            "   'soc.religion.christian',\n",
            "   'talk.politics.guns',\n",
            "   'talk.politics.mideast',\n",
            "   'talk.politics.misc',\n",
            "   'talk.religion.misc']\n",
            "\n",
            "The real data lies in the ``filenames`` and ``target`` attributes. The target\n",
            "attribute is the integer index of the category::\n",
            "\n",
            "  >>> newsgroups_train.filenames.shape\n",
            "  (11314,)\n",
            "  >>> newsgroups_train.target.shape\n",
            "  (11314,)\n",
            "  >>> newsgroups_train.target[:10]\n",
            "  array([ 7,  4,  4,  1, 14, 16, 13,  3,  2,  4])\n",
            "\n",
            "It is possible to load only a sub-selection of the categories by passing the\n",
            "list of the categories to load to the\n",
            ":func:`sklearn.datasets.fetch_20newsgroups` function::\n",
            "\n",
            "  >>> cats = ['alt.atheism', 'sci.space']\n",
            "  >>> newsgroups_train = fetch_20newsgroups(subset='train', categories=cats)\n",
            "\n",
            "  >>> list(newsgroups_train.target_names)\n",
            "  ['alt.atheism', 'sci.space']\n",
            "  >>> newsgroups_train.filenames.shape\n",
            "  (1073,)\n",
            "  >>> newsgroups_train.target.shape\n",
            "  (1073,)\n",
            "  >>> newsgroups_train.target[:10]\n",
            "  array([0, 1, 1, 1, 0, 1, 1, 0, 0, 0])\n",
            "\n",
            "Converting text to vectors\n",
            "~~~~~~~~~~~~~~~~~~~~~~~~~~\n",
            "\n",
            "In order to feed predictive or clustering models with the text data,\n",
            "one first need to turn the text into vectors of numerical values suitable\n",
            "for statistical analysis. This can be achieved with the utilities of the\n",
            "``sklearn.feature_extraction.text`` as demonstrated in the following\n",
            "example that extract `TF-IDF`_ vectors of unigram tokens\n",
            "from a subset of 20news::\n",
            "\n",
            "  >>> from sklearn.feature_extraction.text import TfidfVectorizer\n",
            "  >>> categories = ['alt.atheism', 'talk.religion.misc',\n",
            "  ...               'comp.graphics', 'sci.space']\n",
            "  >>> newsgroups_train = fetch_20newsgroups(subset='train',\n",
            "  ...                                       categories=categories)\n",
            "  >>> vectorizer = TfidfVectorizer()\n",
            "  >>> vectors = vectorizer.fit_transform(newsgroups_train.data)\n",
            "  >>> vectors.shape\n",
            "  (2034, 34118)\n",
            "\n",
            "The extracted TF-IDF vectors are very sparse, with an average of 159 non-zero\n",
            "components by sample in a more than 30000-dimensional space\n",
            "(less than .5% non-zero features)::\n",
            "\n",
            "  >>> vectors.nnz / float(vectors.shape[0])\n",
            "  159.01327...\n",
            "\n",
            ":func:`sklearn.datasets.fetch_20newsgroups_vectorized` is a function which \n",
            "returns ready-to-use token counts features instead of file names.\n",
            "\n",
            ".. _`20 newsgroups website`: http://people.csail.mit.edu/jrennie/20Newsgroups/\n",
            ".. _`TF-IDF`: https://en.wikipedia.org/wiki/Tf-idf\n",
            "\n",
            "\n",
            "Filtering text for more realistic training\n",
            "~~~~~~~~~~~~~~~~~~~~~~~~~~~~~~~~~~~~~~~~~~\n",
            "\n",
            "It is easy for a classifier to overfit on particular things that appear in the\n",
            "20 Newsgroups data, such as newsgroup headers. Many classifiers achieve very\n",
            "high F-scores, but their results would not generalize to other documents that\n",
            "aren't from this window of time.\n",
            "\n",
            "For example, let's look at the results of a multinomial Naive Bayes classifier,\n",
            "which is fast to train and achieves a decent F-score::\n",
            "\n",
            "  >>> from sklearn.naive_bayes import MultinomialNB\n",
            "  >>> from sklearn import metrics\n",
            "  >>> newsgroups_test = fetch_20newsgroups(subset='test',\n",
            "  ...                                      categories=categories)\n",
            "  >>> vectors_test = vectorizer.transform(newsgroups_test.data)\n",
            "  >>> clf = MultinomialNB(alpha=.01)\n",
            "  >>> clf.fit(vectors, newsgroups_train.target)\n",
            "  MultinomialNB(alpha=0.01, class_prior=None, fit_prior=True)\n",
            "\n",
            "  >>> pred = clf.predict(vectors_test)\n",
            "  >>> metrics.f1_score(newsgroups_test.target, pred, average='macro')\n",
            "  0.88213...\n",
            "\n",
            "(The example :ref:`sphx_glr_auto_examples_text_plot_document_classification_20newsgroups.py` shuffles\n",
            "the training and test data, instead of segmenting by time, and in that case\n",
            "multinomial Naive Bayes gets a much higher F-score of 0.88. Are you suspicious\n",
            "yet of what's going on inside this classifier?)\n",
            "\n",
            "Let's take a look at what the most informative features are:\n",
            "\n",
            "  >>> import numpy as np\n",
            "  >>> def show_top10(classifier, vectorizer, categories):\n",
            "  ...     feature_names = np.asarray(vectorizer.get_feature_names())\n",
            "  ...     for i, category in enumerate(categories):\n",
            "  ...         top10 = np.argsort(classifier.coef_[i])[-10:]\n",
            "  ...         print(\"%s: %s\" % (category, \" \".join(feature_names[top10])))\n",
            "  ...\n",
            "  >>> show_top10(clf, vectorizer, newsgroups_train.target_names)\n",
            "  alt.atheism: edu it and in you that is of to the\n",
            "  comp.graphics: edu in graphics it is for and of to the\n",
            "  sci.space: edu it that is in and space to of the\n",
            "  talk.religion.misc: not it you in is that and to of the\n",
            "\n",
            "\n",
            "You can now see many things that these features have overfit to:\n",
            "\n",
            "- Almost every group is distinguished by whether headers such as\n",
            "  ``NNTP-Posting-Host:`` and ``Distribution:`` appear more or less often.\n",
            "- Another significant feature involves whether the sender is affiliated with\n",
            "  a university, as indicated either by their headers or their signature.\n",
            "- The word \"article\" is a significant feature, based on how often people quote\n",
            "  previous posts like this: \"In article [article ID], [name] <[e-mail address]>\n",
            "  wrote:\"\n",
            "- Other features match the names and e-mail addresses of particular people who\n",
            "  were posting at the time.\n",
            "\n",
            "With such an abundance of clues that distinguish newsgroups, the classifiers\n",
            "barely have to identify topics from text at all, and they all perform at the\n",
            "same high level.\n",
            "\n",
            "For this reason, the functions that load 20 Newsgroups data provide a\n",
            "parameter called **remove**, telling it what kinds of information to strip out\n",
            "of each file. **remove** should be a tuple containing any subset of\n",
            "``('headers', 'footers', 'quotes')``, telling it to remove headers, signature\n",
            "blocks, and quotation blocks respectively.\n",
            "\n",
            "  >>> newsgroups_test = fetch_20newsgroups(subset='test',\n",
            "  ...                                      remove=('headers', 'footers', 'quotes'),\n",
            "  ...                                      categories=categories)\n",
            "  >>> vectors_test = vectorizer.transform(newsgroups_test.data)\n",
            "  >>> pred = clf.predict(vectors_test)\n",
            "  >>> metrics.f1_score(pred, newsgroups_test.target, average='macro')\n",
            "  0.77310...\n",
            "\n",
            "This classifier lost over a lot of its F-score, just because we removed\n",
            "metadata that has little to do with topic classification.\n",
            "It loses even more if we also strip this metadata from the training data:\n",
            "\n",
            "  >>> newsgroups_train = fetch_20newsgroups(subset='train',\n",
            "  ...                                       remove=('headers', 'footers', 'quotes'),\n",
            "  ...                                       categories=categories)\n",
            "  >>> vectors = vectorizer.fit_transform(newsgroups_train.data)\n",
            "  >>> clf = MultinomialNB(alpha=.01)\n",
            "  >>> clf.fit(vectors, newsgroups_train.target)\n",
            "  MultinomialNB(alpha=0.01, class_prior=None, fit_prior=True)\n",
            "\n",
            "  >>> vectors_test = vectorizer.transform(newsgroups_test.data)\n",
            "  >>> pred = clf.predict(vectors_test)\n",
            "  >>> metrics.f1_score(newsgroups_test.target, pred, average='macro')\n",
            "  0.76995...\n",
            "\n",
            "Some other classifiers cope better with this harder version of the task. Try\n",
            "running :ref:`sphx_glr_auto_examples_model_selection_grid_search_text_feature_extraction.py` with and without\n",
            "the ``--filter`` option to compare the results.\n",
            "\n",
            ".. topic:: Recommendation\n",
            "\n",
            "  When evaluating text classifiers on the 20 Newsgroups data, you\n",
            "  should strip newsgroup-related metadata. In scikit-learn, you can do this by\n",
            "  setting ``remove=('headers', 'footers', 'quotes')``. The F-score will be\n",
            "  lower because it is more realistic.\n",
            "\n",
            ".. topic:: Examples\n",
            "\n",
            "   * :ref:`sphx_glr_auto_examples_model_selection_grid_search_text_feature_extraction.py`\n",
            "\n",
            "   * :ref:`sphx_glr_auto_examples_text_plot_document_classification_20newsgroups.py`\n",
            "\n"
          ],
          "name": "stdout"
        }
      ]
    },
    {
      "cell_type": "code",
      "metadata": {
        "id": "ml1-MWlgsx3G",
        "colab_type": "code",
        "colab": {
          "base_uri": "https://localhost:8080/",
          "height": 68
        },
        "outputId": "a24b4863-597f-45b6-ee4a-1cf43f57512d"
      },
      "source": [
        "# How many data points in training set and test set\n",
        "print(f'Number of data points in training set: {len(bunch_train.target)}')\n",
        "print(f'Number of data points in test set: {len(bunch_test.target)}')\n",
        "print(f'Total data points: {len(bunch_train.target) + len(bunch_test.target)}')"
      ],
      "execution_count": 6,
      "outputs": [
        {
          "output_type": "stream",
          "text": [
            "Number of data points in training set: 11314\n",
            "Number of data points in test set: 7532\n",
            "Total data points: 18846\n"
          ],
          "name": "stdout"
        }
      ]
    },
    {
      "cell_type": "code",
      "metadata": {
        "id": "9K_8QjSEuXYQ",
        "colab_type": "code",
        "colab": {
          "base_uri": "https://localhost:8080/",
          "height": 357
        },
        "outputId": "06150a0a-5811-466d-9ef9-beaac9577c3f"
      },
      "source": [
        "# Target names \n",
        "bunch_train.target_names"
      ],
      "execution_count": 7,
      "outputs": [
        {
          "output_type": "execute_result",
          "data": {
            "text/plain": [
              "['alt.atheism',\n",
              " 'comp.graphics',\n",
              " 'comp.os.ms-windows.misc',\n",
              " 'comp.sys.ibm.pc.hardware',\n",
              " 'comp.sys.mac.hardware',\n",
              " 'comp.windows.x',\n",
              " 'misc.forsale',\n",
              " 'rec.autos',\n",
              " 'rec.motorcycles',\n",
              " 'rec.sport.baseball',\n",
              " 'rec.sport.hockey',\n",
              " 'sci.crypt',\n",
              " 'sci.electronics',\n",
              " 'sci.med',\n",
              " 'sci.space',\n",
              " 'soc.religion.christian',\n",
              " 'talk.politics.guns',\n",
              " 'talk.politics.mideast',\n",
              " 'talk.politics.misc',\n",
              " 'talk.religion.misc']"
            ]
          },
          "metadata": {
            "tags": []
          },
          "execution_count": 7
        }
      ]
    },
    {
      "cell_type": "markdown",
      "metadata": {
        "id": "VPuS1LnNvQDT",
        "colab_type": "text"
      },
      "source": [
        "Let's check one of the data point in training set, what it looks like?"
      ]
    },
    {
      "cell_type": "code",
      "metadata": {
        "id": "Jd6TKfU6vWjz",
        "colab_type": "code",
        "colab": {
          "base_uri": "https://localhost:8080/",
          "height": 391
        },
        "outputId": "1d79826b-9195-4f6d-e61b-eff216ea54cd"
      },
      "source": [
        "print(bunch_train.data[0])"
      ],
      "execution_count": 8,
      "outputs": [
        {
          "output_type": "stream",
          "text": [
            "From: lerxst@wam.umd.edu (where's my thing)\n",
            "Subject: WHAT car is this!?\n",
            "Nntp-Posting-Host: rac3.wam.umd.edu\n",
            "Organization: University of Maryland, College Park\n",
            "Lines: 15\n",
            "\n",
            " I was wondering if anyone out there could enlighten me on this car I saw\n",
            "the other day. It was a 2-door sports car, looked to be from the late 60s/\n",
            "early 70s. It was called a Bricklin. The doors were really small. In addition,\n",
            "the front bumper was separate from the rest of the body. This is \n",
            "all I know. If anyone can tellme a model name, engine specs, years\n",
            "of production, where this car is made, history, or whatever info you\n",
            "have on this funky looking car, please e-mail.\n",
            "\n",
            "Thanks,\n",
            "- IL\n",
            "   ---- brought to you by your neighborhood Lerxst ----\n",
            "\n",
            "\n",
            "\n",
            "\n",
            "\n"
          ],
          "name": "stdout"
        }
      ]
    },
    {
      "cell_type": "markdown",
      "metadata": {
        "id": "p2k7DmcNvaM9",
        "colab_type": "text"
      },
      "source": [
        "If we see the above text, what it will be classified to? Some text which talked about car or automotive seems pretty reasonable. But what is it actually?"
      ]
    },
    {
      "cell_type": "code",
      "metadata": {
        "id": "gice8YHnv7pW",
        "colab_type": "code",
        "colab": {
          "base_uri": "https://localhost:8080/",
          "height": 34
        },
        "outputId": "8f130def-1d20-412d-a383-9fde247922d3"
      },
      "source": [
        "print(bunch_train.target_names[bunch_train.target[0]])"
      ],
      "execution_count": 9,
      "outputs": [
        {
          "output_type": "stream",
          "text": [
            "rec.autos\n"
          ],
          "name": "stdout"
        }
      ]
    },
    {
      "cell_type": "markdown",
      "metadata": {
        "id": "NItqJcqRv-cx",
        "colab_type": "text"
      },
      "source": [
        "The main purpose of this notebook is to classify newsgroups into one of the twenty possible options. It could be 'rec.autos' which certainly talked about automotive, it could be 'sci.space', or another. Let's start with preliminary step."
      ]
    },
    {
      "cell_type": "markdown",
      "metadata": {
        "id": "UQvPYwTUxA1g",
        "colab_type": "text"
      },
      "source": [
        "---"
      ]
    },
    {
      "cell_type": "markdown",
      "metadata": {
        "id": "wOamZPhhw-aO",
        "colab_type": "text"
      },
      "source": [
        "## Preliminary Step"
      ]
    },
    {
      "cell_type": "markdown",
      "metadata": {
        "id": "duDGhF4QxANc",
        "colab_type": "text"
      },
      "source": [
        "In the preliminary step, we will evaluate our data. Is it contain null values? Or anything suspicious that will make our model less predictive."
      ]
    },
    {
      "cell_type": "code",
      "metadata": {
        "id": "dQ_wovtyyIwY",
        "colab_type": "code",
        "colab": {
          "base_uri": "https://localhost:8080/",
          "height": 51
        },
        "outputId": "d58bad71-cc8a-40e5-e242-27b615fa6f45"
      },
      "source": [
        "# any missing values in target vector (training and test)\n",
        "print('Any missing values in training target vector:', np.isnan(bunch_train.target).sum())\n",
        "print('Any missing values in test target vector: ', np.isnan(bunch_test.target).sum())"
      ],
      "execution_count": 10,
      "outputs": [
        {
          "output_type": "stream",
          "text": [
            "Any missing values in training target vector: 0\n",
            "Any missing values in test target vector:  0\n"
          ],
          "name": "stdout"
        }
      ]
    },
    {
      "cell_type": "markdown",
      "metadata": {
        "id": "g0-BAI4oMpsj",
        "colab_type": "text"
      },
      "source": [
        "No missing values in target vectors."
      ]
    },
    {
      "cell_type": "code",
      "metadata": {
        "id": "-2w8JZ4eNV1C",
        "colab_type": "code",
        "colab": {
          "base_uri": "https://localhost:8080/",
          "height": 51
        },
        "outputId": "4b5507d1-076b-4ed5-f53c-444185e69f26"
      },
      "source": [
        "# any missing value in feature data (training and test)\n",
        "print('Any missing values in training feature data:', check_none(bunch_train.data))\n",
        "print('Any missing values in test feature data:', check_none(bunch_test.data))"
      ],
      "execution_count": 11,
      "outputs": [
        {
          "output_type": "stream",
          "text": [
            "Any missing values in training feature data: 0\n",
            "Any missing values in test feature data: 0\n"
          ],
          "name": "stdout"
        }
      ]
    },
    {
      "cell_type": "markdown",
      "metadata": {
        "id": "VdToIADgOF7z",
        "colab_type": "text"
      },
      "source": [
        "Also no missing values in feature data."
      ]
    },
    {
      "cell_type": "markdown",
      "metadata": {
        "id": "he9J2nRPOJd-",
        "colab_type": "text"
      },
      "source": [
        "Now, to become more convenience we put feature data (training and test set) also target vector into their own variable."
      ]
    },
    {
      "cell_type": "code",
      "metadata": {
        "id": "5dzUuvzlOj6N",
        "colab_type": "code",
        "colab": {}
      },
      "source": [
        "train_data = bunch_train.data\n",
        "test_data = bunch_test.data\n",
        "train_target = bunch_train.target\n",
        "test_target = bunch_test.target"
      ],
      "execution_count": 12,
      "outputs": []
    },
    {
      "cell_type": "code",
      "metadata": {
        "id": "fMHmnc29O0c-",
        "colab_type": "code",
        "colab": {
          "base_uri": "https://localhost:8080/",
          "height": 391
        },
        "outputId": "8d234f6d-038a-41a9-a6c3-324166906822"
      },
      "source": [
        "# Look at 100th data point in feature data\n",
        "print(train_data[99])"
      ],
      "execution_count": 13,
      "outputs": [
        {
          "output_type": "stream",
          "text": [
            "From: tmc@spartan.ac.BrockU.CA (Tim Ciceran)\n",
            "Subject: Re: Hijaak\n",
            "Organization: Brock University, St. Catharines Ontario\n",
            "X-Newsreader: TIN [version 1.1 PL9]\n",
            "Lines: 15\n",
            "\n",
            "Haston, Donald Wayne (haston@utkvx.utk.edu) wrote:\n",
            ": Currently, I use a shareware program called Graphics Workshop.\n",
            ": What kinds of things will Hijaak do that these shareware programs\n",
            ": will not do?\n",
            "\n",
            "I also use Graphic Workshop and the only differences that I know of are that\n",
            "Hijaak has screen capture capabilities and acn convert to/from a couple of\n",
            "more file formats (don't know specifically which one).  In the April 13\n",
            "issue of PC Magazine they test the twelve best selling image capture/convert\n",
            "utilities, including Hijaak.\n",
            "\n",
            "TMC.\n",
            "(tmc@spartan.ac.brocku.ca)\n",
            "\n",
            "\n",
            "\n"
          ],
          "name": "stdout"
        }
      ]
    },
    {
      "cell_type": "markdown",
      "metadata": {
        "id": "gHMpipkOO_t3",
        "colab_type": "text"
      },
      "source": [
        "As we can see, our data composed by header and footer, which would not be beneficial or probably make our model tend to overfit. This time, we will remove it manually. (Actually, we can set arguments in \"fetch_20newsgroups\" function to exclude headers, footers and quotes, but for learning purpose, we will do it manually)"
      ]
    },
    {
      "cell_type": "markdown",
      "metadata": {
        "id": "-fIBrKlvSzr2",
        "colab_type": "text"
      },
      "source": [
        "Now, evaluate how many data points for each class in target vector."
      ]
    },
    {
      "cell_type": "code",
      "metadata": {
        "id": "q7L51Xl9SzZW",
        "colab_type": "code",
        "colab": {}
      },
      "source": [
        "# value counts training set\n",
        "train_count = pd.Series(train_target).value_counts(normalize=True).sort_index()\n",
        "test_count = pd.Series(test_target).value_counts(normalize=True).sort_index()\n",
        "train_count.index = bunch_train.target_names\n",
        "test_count.index = bunch_test.target_names\n",
        "train_count = train_count.sort_values(ascending=False)\n",
        "test_count = test_count.sort_values(ascending=False)"
      ],
      "execution_count": 14,
      "outputs": []
    },
    {
      "cell_type": "code",
      "metadata": {
        "id": "beBNSBmqTmR0",
        "colab_type": "code",
        "colab": {
          "base_uri": "https://localhost:8080/",
          "height": 479
        },
        "outputId": "e7eca722-39b6-4998-f2aa-6b925f9112ed"
      },
      "source": [
        "fig, axes = plt.subplots(1, 2, figsize=(17, 7), sharey=True)\n",
        "sns.barplot(ax=axes[0], x=train_count, y=train_count.index)\n",
        "axes[0].set(title='Training Set')\n",
        "sns.barplot(ax=axes[1], x=test_count, y=test_count.index)\n",
        "axes[1].set(title='Test set')\n",
        "fig.suptitle('Training and Test Set', fontsize=18);"
      ],
      "execution_count": 15,
      "outputs": [
        {
          "output_type": "display_data",
          "data": {
            "image/png": "[encoded data removed]",
            "text/plain": [
              "<Figure size 1224x504 with 2 Axes>"
            ]
          },
          "metadata": {
            "tags": [],
            "needs_background": "light"
          }
        }
      ]
    },
    {
      "cell_type": "markdown",
      "metadata": {
        "id": "VAbuqBFTVgdK",
        "colab_type": "text"
      },
      "source": [
        "We have the same distribution in training set and test set. Also the last five topics have lower number of data points, so we have to be careful about imbalance dataset."
      ]
    },
    {
      "cell_type": "markdown",
      "metadata": {
        "id": "ZkcQxtwjUwHW",
        "colab_type": "text"
      },
      "source": [
        "---"
      ]
    },
    {
      "cell_type": "markdown",
      "metadata": {
        "id": "UwSQ12HzUwc6",
        "colab_type": "text"
      },
      "source": [
        "## Data Cleaning"
      ]
    },
    {
      "cell_type": "markdown",
      "metadata": {
        "id": "wvcp_9lh5fyg",
        "colab_type": "text"
      },
      "source": [
        "In the section helper function above, we have defined a function to clean our data."
      ]
    },
    {
      "cell_type": "code",
      "metadata": {
        "id": "7jxGIwoC5m0H",
        "colab_type": "code",
        "colab": {}
      },
      "source": [
        "train_data_cleaned = []\n",
        "for element in train_data:\n",
        "    train_data_cleaned.append(cleaning_text(element))\n",
        "\n",
        "test_data_cleaned = []\n",
        "for element in test_data:\n",
        "    test_data_cleaned.append(cleaning_text(element))"
      ],
      "execution_count": 16,
      "outputs": []
    },
    {
      "cell_type": "markdown",
      "metadata": {
        "id": "vu0IO5iz6sBb",
        "colab_type": "text"
      },
      "source": [
        "__Comparing uncleaned and cleaned data__"
      ]
    },
    {
      "cell_type": "code",
      "metadata": {
        "id": "oQ3I4quw6NUw",
        "colab_type": "code",
        "colab": {
          "base_uri": "https://localhost:8080/",
          "height": 510
        },
        "outputId": "1ab4e3f5-c928-4833-8c1c-9ef9942ad45f"
      },
      "source": [
        "# original data\n",
        "print(train_data[2109])"
      ],
      "execution_count": 17,
      "outputs": [
        {
          "output_type": "stream",
          "text": [
            "From: jvigneau@cs.ulowell.edu (Joe Vigneau)\n",
            "Subject: Re: [soc.motss, et al.] \"Princeton axes matching funds for Boy Scouts\"\n",
            "In-Reply-To: bevans@carina.unm.edu's message of 4 Apr 1993 12:19:20 GMT\n",
            "Organization: -\n",
            "\t<1993Apr3.214557.24073@midway.uchicago.edu> <1pmjo8INN2l0@lynx.unm.edu>\n",
            "Lines: 21\n",
            "\n",
            "In article <1pmjo8INN2l0@lynx.unm.edu> bevans@carina.unm.edu (Mathemagician) writes:\n",
            "\n",
            "   Just what do gay people do that straight people don't?\n",
            "\n",
            "Absolutely nothing.\n",
            "\n",
            "I'm a VERY straight(as an arrow), 17-year old male that is involved in the BSA.\n",
            "\n",
            "I don't care what gay people do among each other, as long as they don't make\n",
            "passes at me or anything.  At my summer camp where I work, my boss is gay.\n",
            "Not in a 'pansy' way of gay (I know a few), but just 'one of the guys'.\n",
            "He doesn't push anything on me, and we give him the same respect back, due\n",
            "to his position.\n",
            "\n",
            "If anything, the BSA has taught me, I don't know, tolerance or something.\n",
            "Before I met this guy, I thought all gays were 'faries'.  So, the BSA HAS\n",
            "taught me to be an antibigot.\n",
            "\n",
            "Basically, It comes down to this: What you do among yourself is your own\n",
            "business. No one else has the right to tell you otherwise, unless it\n",
            "violates someone else's civil rights.\n",
            "\n"
          ],
          "name": "stdout"
        }
      ]
    },
    {
      "cell_type": "code",
      "metadata": {
        "id": "HJTpK6YK6gHx",
        "colab_type": "code",
        "colab": {
          "base_uri": "https://localhost:8080/",
          "height": 54
        },
        "outputId": "fe8f5e7b-c8b4-4ae0-8322-4fc7e7bb29c1"
      },
      "source": [
        "# cleaned data\n",
        "print(train_data_cleaned[2109])"
      ],
      "execution_count": 18,
      "outputs": [
        {
          "output_type": "stream",
          "text": [
            "in article mathemagician writes   just what do gay people do that straight people dont  absolutely nothing  im a very straightas an arrow year old male that is involved in the bsa  i dont care what gay people do among each other as long as they dont make passes at me or anything at my summer camp where i work my boss is gay not in a pansy way of gay i know a few but just one of the guys he doesnt push anything on me and we give him the same respect back due to his position  if anything the bsa has taught me i dont know tolerance or something before i met this guy i thought all gays were faries so the bsa has taught me to be an antibigot  basically it comes down to this what you do among yourself is your own business no one else has the right to tell you otherwise unless it violates someone elses civil rights\n"
          ],
          "name": "stdout"
        }
      ]
    },
    {
      "cell_type": "markdown",
      "metadata": {
        "id": "-a3Uu0BD69j4",
        "colab_type": "text"
      },
      "source": [
        "Note that we have removed email address, special characters, headers, and numbers. Which probably will impacting our model performance, in the end of this notebook, we will compare whether cleaning the data really improve the performance or not."
      ]
    },
    {
      "cell_type": "markdown",
      "metadata": {
        "id": "Vn-frw_E7e8M",
        "colab_type": "text"
      },
      "source": [
        "---"
      ]
    },
    {
      "cell_type": "markdown",
      "metadata": {
        "id": "ERSK-SQh7kJH",
        "colab_type": "text"
      },
      "source": [
        "## Text Vectorization"
      ]
    },
    {
      "cell_type": "markdown",
      "metadata": {
        "id": "2Uz9Wt1ifR9h",
        "colab_type": "text"
      },
      "source": [
        "In this section, we will transform the document set into feature matrix using two vectorizer provided by scikit-learn."
      ]
    },
    {
      "cell_type": "code",
      "metadata": {
        "id": "AJHcFVI5bUrG",
        "colab_type": "code",
        "colab": {}
      },
      "source": [
        "count_vectorizer = CountVectorizer(stop_words='english', min_df=0.05, max_df=0.95)\n",
        "tfidf_vectorizer = TfidfVectorizer(stop_words='english', min_df=0.05, max_df=0.95)"
      ],
      "execution_count": 19,
      "outputs": []
    },
    {
      "cell_type": "code",
      "metadata": {
        "id": "l52-LCCWdwZ7",
        "colab_type": "code",
        "colab": {}
      },
      "source": [
        "X_train_count = count_vectorizer.fit_transform(train_data_cleaned)\n",
        "X_train_tfidf = tfidf_vectorizer.fit_transform(train_data_cleaned)\n",
        "X_test_count = count_vectorizer.transform(test_data_cleaned)\n",
        "X_test_tfidf = tfidf_vectorizer.transform(test_data_cleaned)"
      ],
      "execution_count": 20,
      "outputs": []
    },
    {
      "cell_type": "code",
      "metadata": {
        "id": "EL1LOL9OejM_",
        "colab_type": "code",
        "colab": {
          "base_uri": "https://localhost:8080/",
          "height": 85
        },
        "outputId": "4eba0923-6e96-4c63-edb6-8b9aadf45c7f"
      },
      "source": [
        "print('X_train_count.shape', X_train_count.shape)\n",
        "print('X_train_tfidf.shape', X_train_tfidf.shape)\n",
        "print('X_test_count.shape', X_test_count.shape)\n",
        "print('X_test_tfidf.shape', X_test_tfidf.shape)"
      ],
      "execution_count": 21,
      "outputs": [
        {
          "output_type": "stream",
          "text": [
            "X_train_count.shape (11314, 164)\n",
            "X_train_tfidf.shape (11314, 164)\n",
            "X_test_count.shape (7532, 164)\n",
            "X_test_tfidf.shape (7532, 164)\n"
          ],
          "name": "stdout"
        }
      ]
    },
    {
      "cell_type": "markdown",
      "metadata": {
        "id": "YVndgPfvgWq2",
        "colab_type": "text"
      },
      "source": [
        "By using min_df and max_df, we are preventing too rare words and too common words."
      ]
    },
    {
      "cell_type": "markdown",
      "metadata": {
        "id": "N3rwd814gewe",
        "colab_type": "text"
      },
      "source": [
        "----"
      ]
    },
    {
      "cell_type": "markdown",
      "metadata": {
        "id": "WsDhMtG9gltO",
        "colab_type": "text"
      },
      "source": [
        "## Topic Extraction"
      ]
    },
    {
      "cell_type": "markdown",
      "metadata": {
        "id": "CCcRo8jQhPN-",
        "colab_type": "text"
      },
      "source": [
        "### Non Negative Matrix Factorization (NMF)"
      ]
    },
    {
      "cell_type": "code",
      "metadata": {
        "id": "dWTmacSNhSpn",
        "colab_type": "code",
        "colab": {}
      },
      "source": [
        "# Using CountVectorizer\n",
        "nmf_count = NMF(n_components=20, solver='mu', random_state=RANDOM_STATE)\n",
        "W_count_nmf = nmf_count.fit_transform(X_train_count)\n",
        "H_count_nmf = nmf_count.components_\n",
        "\n",
        "# Using TfidfVectorizer\n",
        "nmf_tfidf = NMF(n_components=20, solver='mu', random_state=RANDOM_STATE)\n",
        "W_tfidf_nmf = nmf_tfidf.fit_transform(X_train_tfidf)\n",
        "H_tfidf_nmf = nmf_tfidf.components_"
      ],
      "execution_count": 22,
      "outputs": []
    },
    {
      "cell_type": "markdown",
      "metadata": {
        "id": "BAZw2eJpj09k",
        "colab_type": "text"
      },
      "source": [
        "Inspecting shape of the transformed matrix"
      ]
    },
    {
      "cell_type": "code",
      "metadata": {
        "id": "DLWA0jgEiYkq",
        "colab_type": "code",
        "colab": {
          "base_uri": "https://localhost:8080/",
          "height": 85
        },
        "outputId": "d3d9702d-fa6f-4b24-f036-221bf199775f"
      },
      "source": [
        "print('Transformed matrix using NMF (CountVectorizer): ', W_count_nmf.shape)\n",
        "print('Topic Components (CountVectorizer):             ', H_count_nmf.shape)\n",
        "print('Transformed matrix using NMF (TfidfVectorizer): ', W_count_nmf.shape)\n",
        "print('Topic Components (TfidfVectorizer):             ', H_tfidf_nmf.shape)"
      ],
      "execution_count": 23,
      "outputs": [
        {
          "output_type": "stream",
          "text": [
            "Transformed matrix using NMF (CountVectorizer):  (11314, 20)\n",
            "Topic Components (CountVectorizer):              (20, 164)\n",
            "Transformed matrix using NMF (TfidfVectorizer):  (11314, 20)\n",
            "Topic Components (TfidfVectorizer):              (20, 164)\n"
          ],
          "name": "stdout"
        }
      ]
    },
    {
      "cell_type": "markdown",
      "metadata": {
        "id": "024_ZX04jxP5",
        "colab_type": "text"
      },
      "source": [
        "We chose 20 to specify n_components in NMF initialization because we know that there are 20 topics (classes) in this dataset. Now, let's check what words emerge in each topic, both for CountVectorizer data and TfidfVectorizer data."
      ]
    },
    {
      "cell_type": "code",
      "metadata": {
        "id": "s56yffBsoHL5",
        "colab_type": "code",
        "colab": {
          "base_uri": "https://localhost:8080/",
          "height": 357
        },
        "outputId": "9c27085e-423f-4023-9126-cae2324b06fd"
      },
      "source": [
        "print_nwords_each_topic(count_vectorizer.get_feature_names(), H_count_nmf)"
      ],
      "execution_count": 24,
      "outputs": [
        {
          "output_type": "stream",
          "text": [
            "Topic  1: time, didnt, say, did, going, like, just, said, dont, know\n",
            "Topic  2: does, new, work, information, run, number, need, using, used, use\n",
            "Topic  3: things, way, just, say, people, true, life, does, believe, god\n",
            "Topic  4: general, available, new, send, public, list, computer, email, information, internet\n",
            "Topic  5: fax, support, send, free, program, systems, set, software, version, available\n",
            "Topic  6: said, come, right, want, just, work, things, like, didnt, people\n",
            "Topic  7: bad, id, run, power, note, high, data, systems, hard, drive\n",
            "Topic  8: university, opinions, ive, really, dont, im, just, like, article, writes\n",
            "Topic  9: general, government, list, available, university, time, year, world, years, new\n",
            "Topic 10: want, support, thats, government, make, program, work, going, people, think\n",
            "Topic 11: long, sure, email, send, information, read, number, line, year, program\n",
            "Topic 12: use, data, fact, used, information, article, public, people, state, government\n",
            "Topic 13: used, read, program, good, fax, time, bit, like, software, data\n",
            "Topic 14: run, free, version, support, used, hard, windows, like, software, bit\n",
            "Topic 15: order, did, just, says, right, say, think, like, day, law\n",
            "Topic 16: free, best, people, power, make, does, year, dont, better, good\n",
            "Topic 17: make, example, used, did, true, question, way, problem, time, does\n",
            "Topic 18: want, got, left, make, state, like, second, just, power, right\n",
            "Topic 19: let, look, come, im, got, home, going, say, says, said\n",
            "Topic 20: know, help, need, using, ive, im, want, problem, work, windows\n"
          ],
          "name": "stdout"
        }
      ]
    },
    {
      "cell_type": "code",
      "metadata": {
        "id": "Xrs5YAJ0pUij",
        "colab_type": "code",
        "colab": {
          "base_uri": "https://localhost:8080/",
          "height": 357
        },
        "outputId": "d70e824e-8c24-4d3d-ee62-2aa3ae3724f6"
      },
      "source": [
        "print_nwords_each_topic(tfidf_vectorizer.get_feature_names(), H_tfidf_nmf)"
      ],
      "execution_count": 25,
      "outputs": [
        {
          "output_type": "stream",
          "text": [
            "Topic  1: did, going, know, really, want, say, time, make, way, dont\n",
            "Topic  2: post, help, university, send, phone, looking, interested, fax, email, thanks\n",
            "Topic  3: thats, university, says, articleid, internet, opinions, david, john, writes, article\n",
            "Topic  4: john, says, world, true, say, man, does, life, believe, god\n",
            "Topic  5: opinions, phone, ago, interested, world, state, old, years, university, new\n",
            "Topic  6: problems, set, work, software, run, program, problem, using, use, windows\n",
            "Topic  7: fact, order, people, phone, right, public, use, state, law, government\n",
            "Topic  8: look, right, able, doesnt, dont, let, mean, thanks, know, does\n",
            "Topic  9: problems, use, does, work, computer, problem, software, power, hard, drive\n",
            "Topic 10: group, believe, person, today, said, think, article, writes, dont, people\n",
            "Topic 11: left, didnt, got, ago, old, did, said, years, time, year\n",
            "Topic 12: just, getting, interested, using, like, id, ive, sure, looking, im\n",
            "Topic 13: work, make, time, things, doesnt, said, just, look, id, like\n",
            "Topic 14: im, look, power, best, looking, better, pretty, bad, use, good\n",
            "Topic 15: dont, called, little, thought, articleid, problem, big, got, right, just\n",
            "Topic 16: start, heard, home, point, end, phone, email, looking, best, keywords\n",
            "Topic 17: time, ive, used, called, bit, available, software, program, wrote, version\n",
            "Topic 18: good, better, lot, believe, bit, dont, really, university, david, think\n",
            "Topic 19: systems, internet, software, available, help, computer, program, need, information, data\n",
            "Topic 20: long, post, state, group, free, interested, send, power, john, list\n"
          ],
          "name": "stdout"
        }
      ]
    },
    {
      "cell_type": "markdown",
      "metadata": {
        "id": "pOPzNXfg7iyi",
        "colab_type": "text"
      },
      "source": [
        "When we look at the topic extraction result above, we see that each topic talks about something specific, such as Topic 4 from Tfidf data, with words 'church, believe, gods, christian, christians, faith, christ, bible, jesus, god', surely talk about religion (christianity). Some of those topics are not so obvious, some others are."
      ]
    },
    {
      "cell_type": "markdown",
      "metadata": {
        "id": "5zayQe3t8RJM",
        "colab_type": "text"
      },
      "source": [
        "### Latent Dirichlet Allocation (LDA)"
      ]
    },
    {
      "cell_type": "code",
      "metadata": {
        "id": "B_txdqkK8bhF",
        "colab_type": "code",
        "colab": {}
      },
      "source": [
        "# Using CountVectorizer\n",
        "lda_count = LatentDirichletAllocation(n_components=20, max_iter=5,\n",
        "                                        learning_method='online',\n",
        "                                        learning_offset=50.,\n",
        "                                        random_state=RANDOM_STATE)\n",
        "W_count_lda = lda_count.fit_transform(X_train_count)\n",
        "H_count_lda = lda_count.components_\n",
        "\n",
        "# Using TfidfVectorizer\n",
        "lda_tfidf = LatentDirichletAllocation(n_components=20, max_iter=5,\n",
        "                                        learning_method='online',\n",
        "                                        learning_offset=50.,\n",
        "                                        random_state=RANDOM_STATE)\n",
        "W_tfidf_lda = lda_tfidf.fit_transform(X_train_tfidf)\n",
        "H_tfidf_lda = lda_tfidf.components_"
      ],
      "execution_count": 26,
      "outputs": []
    },
    {
      "cell_type": "code",
      "metadata": {
        "id": "xdOpIXno-SRo",
        "colab_type": "code",
        "colab": {
          "base_uri": "https://localhost:8080/",
          "height": 85
        },
        "outputId": "905d553f-c11c-49c1-efef-f11cd44d34ac"
      },
      "source": [
        "print('Transformed matrix using LDA (CountVectorizer): ', W_count_lda.shape)\n",
        "print('Topic Components (CountVectorizer):             ', H_count_lda.shape)\n",
        "print('Transformed matrix using LDA (TfidfVectorizer): ', W_count_lda.shape)\n",
        "print('Topic Components (TfidfVectorizer):             ', H_tfidf_nmf.shape)"
      ],
      "execution_count": 27,
      "outputs": [
        {
          "output_type": "stream",
          "text": [
            "Transformed matrix using LDA (CountVectorizer):  (11314, 20)\n",
            "Topic Components (CountVectorizer):              (20, 164)\n",
            "Transformed matrix using LDA (TfidfVectorizer):  (11314, 20)\n",
            "Topic Components (TfidfVectorizer):              (20, 164)\n"
          ],
          "name": "stdout"
        }
      ]
    },
    {
      "cell_type": "code",
      "metadata": {
        "id": "guiI-uY2-eC7",
        "colab_type": "code",
        "colab": {
          "base_uri": "https://localhost:8080/",
          "height": 357
        },
        "outputId": "d978d4f9-fc10-45e4-8353-058f8e0e14b4"
      },
      "source": [
        "print_nwords_each_topic(count_vectorizer.get_feature_names(), H_count_lda)"
      ],
      "execution_count": 28,
      "outputs": [
        {
          "output_type": "stream",
          "text": [
            "Topic  1: make, lot, way, ive, know, time, need, want, dont, like\n",
            "Topic  2: doesnt, place, great, bad, run, come, look, best, group, better\n",
            "Topic  3: used, means, try, keywords, opinions, university, computer, read, david, internet\n",
            "Topic  4: long, fact, second, far, world, did, times, true, time, power\n",
            "Topic  5: like, thing, case, bad, little, time, john, just, problems, problem\n",
            "Topic  6: world, order, general, years, right, state, today, public, government, people\n",
            "Topic  7: number, time, article, second, does, yes, state, day, question, law\n",
            "Topic  8: way, good, reason, know, say, man, people, does, believe, god\n",
            "Topic  9: wrote, id, looking, does, like, post, know, email, version, thanks\n",
            "Topic 10: great, going, wrote, support, means, example, kind, person, life, end\n",
            "Topic 11: said, going, did, like, just, know, say, people, think, dont\n",
            "Topic 12: run, number, email, bit, send, software, available, windows, program, information\n",
            "Topic 13: know, different, like, need, using, work, does, help, used, use\n",
            "Topic 14: bit, know, articleid, does, think, dont, like, just, article, writes\n",
            "Topic 15: sure, line, says, just, want, point, im, writes, article, right\n",
            "Topic 16: maybe, didnt, getting, heard, home, ive, just, got, im, good\n",
            "Topic 17: know, software, group, time, start, left, called, set, list, said\n",
            "Topic 18: interested, university, make, great, small, ago, old, years, year, new\n",
            "Topic 19: order, got, works, email, computer, fax, phone, university, hard, drive\n",
            "Topic 20: run, case, using, use, high, free, possible, systems, note, data\n"
          ],
          "name": "stdout"
        }
      ]
    },
    {
      "cell_type": "code",
      "metadata": {
        "id": "sOJOJ0cr-iCp",
        "colab_type": "code",
        "colab": {
          "base_uri": "https://localhost:8080/",
          "height": 357
        },
        "outputId": "8c31d283-8f12-41ec-916e-a8803232f92a"
      },
      "source": [
        "print_nwords_each_topic(tfidf_vectorizer.get_feature_names(), H_tfidf_lda)"
      ],
      "execution_count": 29,
      "outputs": [
        {
          "output_type": "stream",
          "text": [
            "Topic  1: know, like, does, thanks, version, works, run, use, using, windows\n",
            "Topic  2: read, know, ill, ive, thanks, seen, heard, group, email, post\n",
            "Topic  3: make, time, dont, opinions, means, youre, long, public, article, writes\n",
            "Topic  4: general, believe, article, high, state, today, world, john, wrote, version\n",
            "Topic  5: little, use, think, like, idea, just, article, writes, makes, bit\n",
            "Topic  6: dont, im, just, think, like, writes, article, says, id, david\n",
            "Topic  7: remember, home, new, days, article, old, writes, ago, years, year\n",
            "Topic  8: doesnt, mean, just, isnt, article, think, people, writes, wrong, dont\n",
            "Topic  9: writes, using, does, know, use, work, set, support, problems, problem\n",
            "Topic 10: writes, try, great, want, good, did, available, best, end, keywords\n",
            "Topic 11: order, just, right, dont, state, article, writes, people, law, government\n",
            "Topic 12: thanks, information, computer, systems, phone, send, email, university, internet, fax\n",
            "Topic 13: interested, information, im, need, help, email, know, does, looking, thanks\n",
            "Topic 14: like, trying, way, writes, just, doing, use, called, different, program\n",
            "Topic 15: like, going, thought, just, right, second, article, writes, day, left\n",
            "Topic 16: note, ask, email, try, small, new, line, phone, number, data\n",
            "Topic 17: email, use, thanks, new, articleid, software, hard, power, list, drive\n",
            "Topic 18: dont, say, think, article, writes, believe, people, man, life, god\n",
            "Topic 19: got, think, writes, law, dont, article, drive, years, course, given\n",
            "Topic 20: bad, think, like, dont, article, just, writes, times, good, better\n"
          ],
          "name": "stdout"
        }
      ]
    },
    {
      "cell_type": "markdown",
      "metadata": {
        "id": "NAZ8Vd9A-nr2",
        "colab_type": "text"
      },
      "source": [
        "---"
      ]
    },
    {
      "cell_type": "markdown",
      "metadata": {
        "id": "6S-YCKdZAqAG",
        "colab_type": "text"
      },
      "source": [
        "## Predictive Modeling (Base)"
      ]
    },
    {
      "cell_type": "markdown",
      "metadata": {
        "id": "3qPR8EdnA08u",
        "colab_type": "text"
      },
      "source": [
        "In this section, we will use several default machine learning algorithms (without specifying hyperparameters) to predict and evaluate its performance based on roc_auc and accuracy score. Also, we are using Tfidf data instead of count data."
      ]
    },
    {
      "cell_type": "code",
      "metadata": {
        "id": "AfoYqKNeNl6Q",
        "colab_type": "code",
        "colab": {}
      },
      "source": [
        "y_train = train_target\n",
        "y_test = test_target"
      ],
      "execution_count": 30,
      "outputs": []
    },
    {
      "cell_type": "code",
      "metadata": {
        "id": "mscm09s5jarb",
        "colab_type": "code",
        "colab": {}
      },
      "source": [
        "base_report = Report('Base', \n",
        "                     'Default Hyperparameters and Untweaked Dataset',\n",
        "                     ['accuracy', 'roc_auc_score'])"
      ],
      "execution_count": 31,
      "outputs": []
    },
    {
      "cell_type": "markdown",
      "metadata": {
        "id": "BhGlVgxyCmk8",
        "colab_type": "text"
      },
      "source": [
        "### KNeighborsClassfier"
      ]
    },
    {
      "cell_type": "code",
      "metadata": {
        "id": "7BgwHhOlCo9k",
        "colab_type": "code",
        "colab": {}
      },
      "source": [
        "knn = KNeighborsClassifier().fit(X_train_tfidf, y_train)"
      ],
      "execution_count": 32,
      "outputs": []
    },
    {
      "cell_type": "code",
      "metadata": {
        "id": "FU8JwRAJPzfZ",
        "colab_type": "code",
        "colab": {
          "base_uri": "https://localhost:8080/",
          "height": 479
        },
        "outputId": "e9b4016d-45db-4908-b229-b52a336fae6d"
      },
      "source": [
        "accuracy_score, roc_auc_score = scoring(knn, X_train_tfidf, y_train)"
      ],
      "execution_count": 33,
      "outputs": [
        {
          "output_type": "stream",
          "text": [
            "Accuracy Score :  [0.32390632 0.32655767 0.33583738 0.33406982 0.33333333]\n",
            "ROC-AUC Score  :  [0.75418366 0.75134441 0.75846847 0.75468096 0.75732338]\n"
          ],
          "name": "stdout"
        },
        {
          "output_type": "display_data",
          "data": {
            "image/png": "[encoded data removed]",
            "text/plain": [
              "<Figure size 1080x504 with 3 Axes>"
            ]
          },
          "metadata": {
            "tags": [],
            "needs_background": "light"
          }
        }
      ]
    },
    {
      "cell_type": "code",
      "metadata": {
        "id": "4L-23eY-RJ-J",
        "colab_type": "code",
        "colab": {}
      },
      "source": [
        "base_report.add_report('KNeighborsClassifier Default Hyperparameter',\n",
        "                       knn, {'accuracy': accuracy_score, 'roc_auc_score': roc_auc_score})"
      ],
      "execution_count": 34,
      "outputs": []
    },
    {
      "cell_type": "code",
      "metadata": {
        "id": "xb1PU6AAlY0y",
        "colab_type": "code",
        "colab": {
          "base_uri": "https://localhost:8080/",
          "height": 258
        },
        "outputId": "c3887aa9-b99d-4994-e7dd-e551a4f9e11b"
      },
      "source": [
        "base_report.print_report()"
      ],
      "execution_count": 35,
      "outputs": [
        {
          "output_type": "stream",
          "text": [
            "scores:\n",
            "{'KNeighborsClassifier Default Hyperparameter': {'accuracy': array([0.32390632, 0.32655767, 0.33583738, 0.33406982, 0.33333333]), 'roc_auc_score': array([0.75418366, 0.75134441, 0.75846847, 0.75468096, 0.75732338])}}\n",
            "\n",
            "best_scores:\n",
            "{'accuracy': 0.33074090440418324, 'roc_auc_score': 0.7552001780657747}\n",
            "\n",
            "best_estimator:\n",
            "{'accuracy': KNeighborsClassifier(algorithm='auto', leaf_size=30, metric='minkowski',\n",
            "                     metric_params=None, n_jobs=None, n_neighbors=5, p=2,\n",
            "                     weights='uniform'), 'roc_auc_score': KNeighborsClassifier(algorithm='auto', leaf_size=30, metric='minkowski',\n",
            "                     metric_params=None, n_jobs=None, n_neighbors=5, p=2,\n",
            "                     weights='uniform')}\n",
            "\n"
          ],
          "name": "stdout"
        }
      ]
    }
  ]
}