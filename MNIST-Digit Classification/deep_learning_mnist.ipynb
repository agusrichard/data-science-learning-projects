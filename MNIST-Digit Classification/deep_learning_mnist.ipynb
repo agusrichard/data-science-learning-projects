{
  "nbformat": 4,
  "nbformat_minor": 0,
  "metadata": {
    "colab": {
      "name": "deep-learning-mnist.ipynb",
      "provenance": [],
      "collapsed_sections": []
    },
    "kernelspec": {
      "name": "python3",
      "display_name": "Python 3"
    }
  },
  "cells": [
    {
      "cell_type": "markdown",
      "metadata": {
        "id": "Ym-BF1JSkMTF",
        "colab_type": "text"
      },
      "source": [
        "# Implementing Deep Learning to MNIST dataset"
      ]
    },
    {
      "cell_type": "markdown",
      "metadata": {
        "id": "9TFKXxRl2RGt",
        "colab_type": "text"
      },
      "source": [
        "Import libraries\n"
      ]
    },
    {
      "cell_type": "code",
      "metadata": {
        "id": "q6Zz2HB6kcRG",
        "colab_type": "code",
        "colab": {}
      },
      "source": [
        "from __future__ import print_function\n",
        "import numpy as np\n",
        "import keras\n",
        "import matplotlib.pyplot as plt\n",
        "import seaborn as sns\n",
        "sns.set_style('darkgrid')\n",
        "np.random.seed(42)"
      ],
      "execution_count": 0,
      "outputs": []
    },
    {
      "cell_type": "markdown",
      "metadata": {
        "id": "jwTiLH1qlHbP",
        "colab_type": "text"
      },
      "source": [
        "Load dataset"
      ]
    },
    {
      "cell_type": "code",
      "metadata": {
        "id": "6YzTq5Tj2XzY",
        "colab_type": "code",
        "colab": {}
      },
      "source": [
        "(X_train, y_train), (X_test, y_test) = keras.datasets.mnist.load_data()"
      ],
      "execution_count": 0,
      "outputs": []
    },
    {
      "cell_type": "markdown",
      "metadata": {
        "id": "wxxDSytY2flC",
        "colab_type": "text"
      },
      "source": [
        "---\n"
      ]
    },
    {
      "cell_type": "markdown",
      "metadata": {
        "id": "mCbQiIpi2kS8",
        "colab_type": "text"
      },
      "source": [
        "## Building Simple Neural Net"
      ]
    },
    {
      "cell_type": "code",
      "metadata": {
        "id": "qusRMl822nKF",
        "colab_type": "code",
        "outputId": "c8ef8790-ea4e-459a-e6dd-be02baf5b503",
        "colab": {
          "base_uri": "https://localhost:8080/",
          "height": 127
        }
      },
      "source": [
        "# tuning parameter\n",
        "NUM_EPOCHS = 200\n",
        "BATCH_SIZE = 128\n",
        "VERBOSE = 1\n",
        "NUM_CLASSES = 10\n",
        "OPTIMIZER = keras.optimizers.SGD()\n",
        "N_HIDDEN = 128\n",
        "VALIDATION_SPLIT = 0.2\n",
        "\n",
        "# reshape the X_train and X_test from (:, 28, 28) to (:, 784)\n",
        "X_train = X_train.reshape(X_train.shape[0], X_train.shape[1]*X_train.shape[2])\n",
        "X_test = X_test.reshape(X_test.shape[0], X_test.shape[1]*X_test.shape[2])\n",
        "\n",
        "# normalize\n",
        "X_train = X_train / 255.0\n",
        "X_test = X_test / 255.0\n",
        "\n",
        "print(\"Number of training samples: \", X_train.shape[0])\n",
        "print(\"Number of test samples: \", X_test.shape[0])\n",
        "\n",
        "# convert class vectors to binary class matrices\n",
        "Y_train = keras.utils.np_utils.to_categorical(y_train, NUM_CLASSES)\n",
        "Y_test = keras.utils.np_utils.to_categorical(y_test, NUM_CLASSES)\n",
        "\n",
        "print(\"Training data shape: \", X_train.shape)\n",
        "print(\"Test data shape: \", X_test.shape)\n",
        "print(\"Training labels shape: \", Y_train.shape)\n",
        "print(\"Test labels shape: \", Y_test.shape)\n"
      ],
      "execution_count": 13,
      "outputs": [
        {
          "output_type": "stream",
          "text": [
            "Number of training samples:  60000\n",
            "Number of test samples:  10000\n",
            "Training data shape:  (60000, 784)\n",
            "Test data shape:  (10000, 784)\n",
            "Training labels shape:  (60000, 10)\n",
            "Test labels shape:  (10000, 10)\n"
          ],
          "name": "stdout"
        }
      ]
    },
    {
      "cell_type": "markdown",
      "metadata": {
        "id": "3KNmE4XT5i8s",
        "colab_type": "text"
      },
      "source": [
        "### First Model"
      ]
    },
    {
      "cell_type": "markdown",
      "metadata": {
        "id": "HMkKCPTi58Wr",
        "colab_type": "text"
      },
      "source": [
        "Using only one layer which is the output layer"
      ]
    },
    {
      "cell_type": "code",
      "metadata": {
        "id": "f8b2laUg6K0s",
        "colab_type": "code",
        "outputId": "f0f0bb9d-12c3-42d9-a7a1-ffe3404e1af3",
        "colab": {
          "base_uri": "https://localhost:8080/",
          "height": 1000
        }
      },
      "source": [
        "# constants\n",
        "NUM_EPOCHS = 20\n",
        "BATCH_SIZE = 128\n",
        "VERBOSE = 1\n",
        "NUM_CLASSES = 10\n",
        "OPTIMIZER = keras.optimizers.SGD()\n",
        "N_HIDDEN = 128\n",
        "VALIDATION_SPLIT = 0.2\n",
        "\n",
        "# build the model\n",
        "model = keras.models.Sequential()\n",
        "model.add(keras.layers.Dense(NUM_CLASSES, input_shape=(X_train.shape[1],),\n",
        "                             activation='softmax'))\n",
        "\n",
        "# compile\n",
        "model.compile(loss='categorical_crossentropy', optimizer=OPTIMIZER,\n",
        "              metrics=['accuracy'])\n",
        "\n",
        "# train the model\n",
        "history = model.fit(X_train, Y_train, batch_size=BATCH_SIZE, verbose=VERBOSE,\n",
        "                    validation_split=VALIDATION_SPLIT, epochs=NUM_EPOCHS)\n",
        "\n",
        "# evaluation\n",
        "score = model.evaluate(X_test, Y_test, verbose=VERBOSE)\n",
        "print(\"Loss score: \", score[0])\n",
        "print(\"Accuracy score: \", score[1])\n",
        "model.summary()"
      ],
      "execution_count": 4,
      "outputs": [
        {
          "output_type": "stream",
          "text": [
            "WARNING:tensorflow:From /usr/local/lib/python3.6/dist-packages/keras/backend/tensorflow_backend.py:66: The name tf.get_default_graph is deprecated. Please use tf.compat.v1.get_default_graph instead.\n",
            "\n",
            "WARNING:tensorflow:From /usr/local/lib/python3.6/dist-packages/keras/backend/tensorflow_backend.py:541: The name tf.placeholder is deprecated. Please use tf.compat.v1.placeholder instead.\n",
            "\n",
            "WARNING:tensorflow:From /usr/local/lib/python3.6/dist-packages/keras/backend/tensorflow_backend.py:4432: The name tf.random_uniform is deprecated. Please use tf.random.uniform instead.\n",
            "\n",
            "WARNING:tensorflow:From /usr/local/lib/python3.6/dist-packages/keras/optimizers.py:793: The name tf.train.Optimizer is deprecated. Please use tf.compat.v1.train.Optimizer instead.\n",
            "\n",
            "WARNING:tensorflow:From /usr/local/lib/python3.6/dist-packages/keras/backend/tensorflow_backend.py:3576: The name tf.log is deprecated. Please use tf.math.log instead.\n",
            "\n",
            "WARNING:tensorflow:From /usr/local/lib/python3.6/dist-packages/tensorflow_core/python/ops/math_grad.py:1424: where (from tensorflow.python.ops.array_ops) is deprecated and will be removed in a future version.\n",
            "Instructions for updating:\n",
            "Use tf.where in 2.0, which has the same broadcast rule as np.where\n",
            "WARNING:tensorflow:From /usr/local/lib/python3.6/dist-packages/keras/backend/tensorflow_backend.py:1033: The name tf.assign_add is deprecated. Please use tf.compat.v1.assign_add instead.\n",
            "\n",
            "WARNING:tensorflow:From /usr/local/lib/python3.6/dist-packages/keras/backend/tensorflow_backend.py:1020: The name tf.assign is deprecated. Please use tf.compat.v1.assign instead.\n",
            "\n",
            "WARNING:tensorflow:From /usr/local/lib/python3.6/dist-packages/keras/backend/tensorflow_backend.py:3005: The name tf.Session is deprecated. Please use tf.compat.v1.Session instead.\n",
            "\n",
            "Train on 48000 samples, validate on 12000 samples\n",
            "Epoch 1/20\n",
            "WARNING:tensorflow:From /usr/local/lib/python3.6/dist-packages/keras/backend/tensorflow_backend.py:190: The name tf.get_default_session is deprecated. Please use tf.compat.v1.get_default_session instead.\n",
            "\n",
            "WARNING:tensorflow:From /usr/local/lib/python3.6/dist-packages/keras/backend/tensorflow_backend.py:197: The name tf.ConfigProto is deprecated. Please use tf.compat.v1.ConfigProto instead.\n",
            "\n",
            "WARNING:tensorflow:From /usr/local/lib/python3.6/dist-packages/keras/backend/tensorflow_backend.py:207: The name tf.global_variables is deprecated. Please use tf.compat.v1.global_variables instead.\n",
            "\n",
            "WARNING:tensorflow:From /usr/local/lib/python3.6/dist-packages/keras/backend/tensorflow_backend.py:216: The name tf.is_variable_initialized is deprecated. Please use tf.compat.v1.is_variable_initialized instead.\n",
            "\n",
            "WARNING:tensorflow:From /usr/local/lib/python3.6/dist-packages/keras/backend/tensorflow_backend.py:223: The name tf.variables_initializer is deprecated. Please use tf.compat.v1.variables_initializer instead.\n",
            "\n",
            "48000/48000 [==============================] - 2s 37us/step - loss: 1.3825 - acc: 0.6687 - val_loss: 0.8941 - val_acc: 0.8307\n",
            "Epoch 2/20\n",
            "48000/48000 [==============================] - 1s 23us/step - loss: 0.7918 - acc: 0.8290 - val_loss: 0.6553 - val_acc: 0.8598\n",
            "Epoch 3/20\n",
            "48000/48000 [==============================] - 1s 22us/step - loss: 0.6417 - acc: 0.8507 - val_loss: 0.5596 - val_acc: 0.8707\n",
            "Epoch 4/20\n",
            "48000/48000 [==============================] - 1s 22us/step - loss: 0.5693 - acc: 0.8619 - val_loss: 0.5070 - val_acc: 0.8786\n",
            "Epoch 5/20\n",
            "48000/48000 [==============================] - 1s 23us/step - loss: 0.5254 - acc: 0.8690 - val_loss: 0.4732 - val_acc: 0.8832\n",
            "Epoch 6/20\n",
            "48000/48000 [==============================] - 1s 22us/step - loss: 0.4953 - acc: 0.8738 - val_loss: 0.4494 - val_acc: 0.8862\n",
            "Epoch 7/20\n",
            "48000/48000 [==============================] - 1s 22us/step - loss: 0.4730 - acc: 0.8779 - val_loss: 0.4313 - val_acc: 0.8891\n",
            "Epoch 8/20\n",
            "48000/48000 [==============================] - 1s 23us/step - loss: 0.4558 - acc: 0.8809 - val_loss: 0.4174 - val_acc: 0.8913\n",
            "Epoch 9/20\n",
            "48000/48000 [==============================] - 1s 23us/step - loss: 0.4419 - acc: 0.8837 - val_loss: 0.4058 - val_acc: 0.8936\n",
            "Epoch 10/20\n",
            "48000/48000 [==============================] - 1s 22us/step - loss: 0.4304 - acc: 0.8861 - val_loss: 0.3964 - val_acc: 0.8953\n",
            "Epoch 11/20\n",
            "48000/48000 [==============================] - 1s 22us/step - loss: 0.4206 - acc: 0.8878 - val_loss: 0.3883 - val_acc: 0.8968\n",
            "Epoch 12/20\n",
            "48000/48000 [==============================] - 1s 23us/step - loss: 0.4123 - acc: 0.8895 - val_loss: 0.3814 - val_acc: 0.8992\n",
            "Epoch 13/20\n",
            "48000/48000 [==============================] - 1s 23us/step - loss: 0.4051 - acc: 0.8909 - val_loss: 0.3756 - val_acc: 0.8997\n",
            "Epoch 14/20\n",
            "48000/48000 [==============================] - 1s 23us/step - loss: 0.3986 - acc: 0.8920 - val_loss: 0.3703 - val_acc: 0.9006\n",
            "Epoch 15/20\n",
            "48000/48000 [==============================] - 1s 23us/step - loss: 0.3929 - acc: 0.8935 - val_loss: 0.3654 - val_acc: 0.9016\n",
            "Epoch 16/20\n",
            "48000/48000 [==============================] - 1s 22us/step - loss: 0.3877 - acc: 0.8947 - val_loss: 0.3613 - val_acc: 0.9024\n",
            "Epoch 17/20\n",
            "48000/48000 [==============================] - 1s 23us/step - loss: 0.3831 - acc: 0.8953 - val_loss: 0.3573 - val_acc: 0.9038\n",
            "Epoch 18/20\n",
            "48000/48000 [==============================] - 1s 22us/step - loss: 0.3788 - acc: 0.8966 - val_loss: 0.3539 - val_acc: 0.9043\n",
            "Epoch 19/20\n",
            "48000/48000 [==============================] - 1s 22us/step - loss: 0.3748 - acc: 0.8975 - val_loss: 0.3509 - val_acc: 0.9050\n",
            "Epoch 20/20\n",
            "48000/48000 [==============================] - 1s 22us/step - loss: 0.3713 - acc: 0.8984 - val_loss: 0.3478 - val_acc: 0.9058\n",
            "10000/10000 [==============================] - 0s 21us/step\n",
            "Loss score:  0.3478010445356369\n",
            "Accuracy score:  0.9066\n",
            "Model: \"sequential_1\"\n",
            "_________________________________________________________________\n",
            "Layer (type)                 Output Shape              Param #   \n",
            "=================================================================\n",
            "dense_1 (Dense)              (None, 10)                7850      \n",
            "=================================================================\n",
            "Total params: 7,850\n",
            "Trainable params: 7,850\n",
            "Non-trainable params: 0\n",
            "_________________________________________________________________\n"
          ],
          "name": "stdout"
        }
      ]
    },
    {
      "cell_type": "markdown",
      "metadata": {
        "id": "Q3he6C56G7zB",
        "colab_type": "text"
      },
      "source": [
        "__Visualizing__"
      ]
    },
    {
      "cell_type": "code",
      "metadata": {
        "id": "o8RAYQj9Hdb4",
        "colab_type": "code",
        "outputId": "3bb20db8-4667-40c4-d660-7becdbb17dd2",
        "colab": {
          "base_uri": "https://localhost:8080/",
          "height": 370
        }
      },
      "source": [
        "fig, axes = plt.subplots(1, 2, figsize=(10, 5))\n",
        "\n",
        "# loss\n",
        "axes[0].plot(range(NUM_EPOCHS), history.history['loss'])\n",
        "axes[0].plot(range(NUM_EPOCHS), history.history['val_loss'])\n",
        "axes[0].set(title='Model Loss', xlabel='Epochs', ylabel='Loss')\n",
        "\n",
        "# accuracy\n",
        "axes[1].plot(range(NUM_EPOCHS), history.history['acc'])\n",
        "axes[1].plot(range(NUM_EPOCHS), history.history['val_acc'])\n",
        "axes[0].set(title='Model Accuracy', xlabel='Epochs', ylabel='Accuracy');"
      ],
      "execution_count": 5,
      "outputs": [
        {
          "output_type": "display_data",
          "data": {
            "image/png": "[encoded data removed]",
            "text/plain": [
              "<Figure size 720x360 with 2 Axes>"
            ]
          },
          "metadata": {
            "tags": []
          }
        }
      ]
    },
    {
      "cell_type": "markdown",
      "metadata": {
        "id": "Zsz-y9aREPhQ",
        "colab_type": "text"
      },
      "source": [
        "### Second Model"
      ]
    },
    {
      "cell_type": "markdown",
      "metadata": {
        "id": "asXnioneEYhY",
        "colab_type": "text"
      },
      "source": [
        "Making a deeper neural network"
      ]
    },
    {
      "cell_type": "code",
      "metadata": {
        "id": "NJ2rphXh95Zn",
        "colab_type": "code",
        "outputId": "79859fd3-95b9-46f5-cafc-70c3f27ea836",
        "colab": {
          "base_uri": "https://localhost:8080/",
          "height": 1000
        }
      },
      "source": [
        "# constants\n",
        "NUM_EPOCHS = 20\n",
        "BATCH_SIZE = 128\n",
        "VERBOSE = 1\n",
        "NUM_CLASSES = 10\n",
        "OPTIMIZER = keras.optimizers.SGD()\n",
        "N_HIDDEN = 128\n",
        "VALIDATION_SPLIT = 0.2\n",
        "\n",
        "# build the model, composed by one input layer, one hidden layer, and \n",
        "model = keras.models.Sequential()\n",
        "model.add(keras.layers.Dense(N_HIDDEN, activation='relu', input_shape=(X_train.shape[1],)))\n",
        "model.add(keras.layers.Dense(N_HIDDEN, activation='relu'))\n",
        "model.add(keras.layers.Dense(NUM_CLASSES, activation='softmax'))\n",
        "\n",
        "# compile\n",
        "model.compile(optimizer=OPTIMIZER, loss='categorical_crossentropy',\n",
        "              metrics=['accuracy'])\n",
        "\n",
        "# train the model\n",
        "history = model.fit(X_train, Y_train, batch_size=BATCH_SIZE, epochs=NUM_EPOCHS, \n",
        "                    verbose=VERBOSE, validation_split=VALIDATION_SPLIT)\n",
        "model.summary()\n",
        "\n",
        "# evaluation\n",
        "score = model.evaluate(X_test, Y_test, verbose=VERBOSE)\n",
        "\n",
        "print(\"Loss score: \", score[0])\n",
        "print(\"Accuracy score: \", score[1])"
      ],
      "execution_count": 6,
      "outputs": [
        {
          "output_type": "stream",
          "text": [
            "Train on 48000 samples, validate on 12000 samples\n",
            "Epoch 1/20\n",
            "48000/48000 [==============================] - 2s 45us/step - loss: 1.4106 - acc: 0.6541 - val_loss: 0.7031 - val_acc: 0.8467\n",
            "Epoch 2/20\n",
            "48000/48000 [==============================] - 2s 40us/step - loss: 0.5694 - acc: 0.8579 - val_loss: 0.4380 - val_acc: 0.8868\n",
            "Epoch 3/20\n",
            "48000/48000 [==============================] - 2s 40us/step - loss: 0.4263 - acc: 0.8850 - val_loss: 0.3660 - val_acc: 0.9004\n",
            "Epoch 4/20\n",
            "48000/48000 [==============================] - 2s 41us/step - loss: 0.3717 - acc: 0.8975 - val_loss: 0.3300 - val_acc: 0.9064\n",
            "Epoch 5/20\n",
            "48000/48000 [==============================] - 2s 40us/step - loss: 0.3400 - acc: 0.9049 - val_loss: 0.3073 - val_acc: 0.9130\n",
            "Epoch 6/20\n",
            "48000/48000 [==============================] - 2s 41us/step - loss: 0.3180 - acc: 0.9102 - val_loss: 0.2909 - val_acc: 0.9171\n",
            "Epoch 7/20\n",
            "48000/48000 [==============================] - 2s 43us/step - loss: 0.3007 - acc: 0.9149 - val_loss: 0.2774 - val_acc: 0.9218\n",
            "Epoch 8/20\n",
            "48000/48000 [==============================] - 2s 43us/step - loss: 0.2864 - acc: 0.9186 - val_loss: 0.2660 - val_acc: 0.9245\n",
            "Epoch 9/20\n",
            "48000/48000 [==============================] - 2s 40us/step - loss: 0.2743 - acc: 0.9221 - val_loss: 0.2573 - val_acc: 0.9260\n",
            "Epoch 10/20\n",
            "48000/48000 [==============================] - 2s 40us/step - loss: 0.2633 - acc: 0.9251 - val_loss: 0.2474 - val_acc: 0.9290\n",
            "Epoch 11/20\n",
            "48000/48000 [==============================] - 2s 41us/step - loss: 0.2534 - acc: 0.9278 - val_loss: 0.2413 - val_acc: 0.9323\n",
            "Epoch 12/20\n",
            "48000/48000 [==============================] - 2s 41us/step - loss: 0.2446 - acc: 0.9310 - val_loss: 0.2322 - val_acc: 0.9345\n",
            "Epoch 13/20\n",
            "48000/48000 [==============================] - 2s 41us/step - loss: 0.2360 - acc: 0.9332 - val_loss: 0.2278 - val_acc: 0.9351\n",
            "Epoch 14/20\n",
            "48000/48000 [==============================] - 2s 41us/step - loss: 0.2282 - acc: 0.9359 - val_loss: 0.2212 - val_acc: 0.9376\n",
            "Epoch 15/20\n",
            "48000/48000 [==============================] - 2s 41us/step - loss: 0.2212 - acc: 0.9377 - val_loss: 0.2143 - val_acc: 0.9392\n",
            "Epoch 16/20\n",
            "48000/48000 [==============================] - 2s 46us/step - loss: 0.2145 - acc: 0.9393 - val_loss: 0.2079 - val_acc: 0.9405\n",
            "Epoch 17/20\n",
            "48000/48000 [==============================] - 2s 46us/step - loss: 0.2081 - acc: 0.9411 - val_loss: 0.2031 - val_acc: 0.9422\n",
            "Epoch 18/20\n",
            "48000/48000 [==============================] - 2s 44us/step - loss: 0.2023 - acc: 0.9426 - val_loss: 0.1995 - val_acc: 0.9429\n",
            "Epoch 19/20\n",
            "48000/48000 [==============================] - 2s 45us/step - loss: 0.1966 - acc: 0.9441 - val_loss: 0.1961 - val_acc: 0.9440\n",
            "Epoch 20/20\n",
            "48000/48000 [==============================] - 2s 44us/step - loss: 0.1914 - acc: 0.9452 - val_loss: 0.1904 - val_acc: 0.9458\n",
            "Model: \"sequential_2\"\n",
            "_________________________________________________________________\n",
            "Layer (type)                 Output Shape              Param #   \n",
            "=================================================================\n",
            "dense_2 (Dense)              (None, 128)               100480    \n",
            "_________________________________________________________________\n",
            "dense_3 (Dense)              (None, 128)               16512     \n",
            "_________________________________________________________________\n",
            "dense_4 (Dense)              (None, 10)                1290      \n",
            "=================================================================\n",
            "Total params: 118,282\n",
            "Trainable params: 118,282\n",
            "Non-trainable params: 0\n",
            "_________________________________________________________________\n",
            "10000/10000 [==============================] - 0s 27us/step\n",
            "Loss score:  0.1900625631093979\n",
            "Accuracy score:  0.9453\n"
          ],
          "name": "stdout"
        }
      ]
    },
    {
      "cell_type": "code",
      "metadata": {
        "id": "b4mp4HjFGiNW",
        "colab_type": "code",
        "outputId": "dcbf64dd-c841-4ac5-dc4d-a5532c46bf5f",
        "colab": {
          "base_uri": "https://localhost:8080/",
          "height": 370
        }
      },
      "source": [
        "fig, axes = plt.subplots(1, 2, figsize=(10, 5))\n",
        "\n",
        "# loss\n",
        "axes[0].plot(range(NUM_EPOCHS), history.history['loss'])\n",
        "axes[0].plot(range(NUM_EPOCHS), history.history['val_loss'])\n",
        "axes[0].set(title='Model Loss', xlabel='Epochs', ylabel='Loss')\n",
        "\n",
        "# accuracy\n",
        "axes[1].plot(range(NUM_EPOCHS), history.history['acc'])\n",
        "axes[1].plot(range(NUM_EPOCHS), history.history['val_acc'])\n",
        "axes[0].set(title='Model Accuracy', xlabel='Epochs', ylabel='Accuracy');"
      ],
      "execution_count": 7,
      "outputs": [
        {
          "output_type": "display_data",
          "data": {
            "image/png": "[encoded data removed]",
            "text/plain": [
              "<Figure size 720x360 with 2 Axes>"
            ]
          },
          "metadata": {
            "tags": []
          }
        }
      ]
    },
    {
      "cell_type": "markdown",
      "metadata": {
        "id": "upcOmJ6UKD1W",
        "colab_type": "text"
      },
      "source": [
        "### Third Model"
      ]
    },
    {
      "cell_type": "markdown",
      "metadata": {
        "id": "buuGR_I4KFeF",
        "colab_type": "text"
      },
      "source": [
        "Using deeper neural networks with Dropout"
      ]
    },
    {
      "cell_type": "code",
      "metadata": {
        "id": "PqD6IcqvKJ2r",
        "colab_type": "code",
        "outputId": "5eb503a0-7536-4e4e-97df-ba7b8d2ec7cb",
        "colab": {
          "base_uri": "https://localhost:8080/",
          "height": 1000
        }
      },
      "source": [
        "# ======== constants =========\n",
        "NUM_EPOCHS = 25\n",
        "BATCH_SIZE = 128\n",
        "VERBOSE = 1\n",
        "NUM_CLASSES = 10\n",
        "OPTIMIZER = keras.optimizers.Adam()\n",
        "N_HIDDEN = 128\n",
        "VALIDATION_SPLIT = 0.1\n",
        "DROPOUT_RATE = 0.1\n",
        "\n",
        "# ======= build the model ==========\n",
        "model = keras.models.Sequential()\n",
        "# input layer\n",
        "model.add(keras.layers.Dense(32, input_shape=(X_train.shape[1],)))\n",
        "model.add(keras.layers.Activation('relu'))\n",
        "# 1st hidden layer\n",
        "model.add(keras.layers.Dense(N_HIDDEN))\n",
        "model.add(keras.layers.Activation('relu'))\n",
        "model.add(keras.layers.Dropout(DROPOUT_RATE))\n",
        "# 2nd hidden layer\n",
        "model.add(keras.layers.Dense(N_HIDDEN))\n",
        "model.add(keras.layers.Activation('relu'))\n",
        "model.add(keras.layers.Dropout(DROPOUT_RATE))\n",
        "# output layer\n",
        "model.add(keras.layers.Dense(NUM_CLASSES))\n",
        "model.add(keras.layers.Activation('softmax'))\n",
        "\n",
        "# ========= compile the model ============\n",
        "model.compile(optimizer=OPTIMIZER, loss='categorical_crossentropy',\n",
        "              metrics=['accuracy'])\n",
        "\n",
        "# =========== train the model ===============\n",
        "history = model.fit(X_train, Y_train, batch_size=BATCH_SIZE, epochs=NUM_EPOCHS,\n",
        "                    verbose=VERBOSE, validation_split=VALIDATION_SPLIT)\n",
        "model.summary()\n",
        "\n",
        "# ==========  evaluation ==============\n",
        "score = model.evaluate(X_test, Y_test, verbose=VERBOSE)\n",
        "print(\"Loss score: \", score[0])\n",
        "print(\"Accuracy score: \", score[1])"
      ],
      "execution_count": 8,
      "outputs": [
        {
          "output_type": "stream",
          "text": [
            "WARNING:tensorflow:From /usr/local/lib/python3.6/dist-packages/keras/backend/tensorflow_backend.py:148: The name tf.placeholder_with_default is deprecated. Please use tf.compat.v1.placeholder_with_default instead.\n",
            "\n",
            "WARNING:tensorflow:From /usr/local/lib/python3.6/dist-packages/keras/backend/tensorflow_backend.py:3733: calling dropout (from tensorflow.python.ops.nn_ops) with keep_prob is deprecated and will be removed in a future version.\n",
            "Instructions for updating:\n",
            "Please use `rate` instead of `keep_prob`. Rate should be set to `rate = 1 - keep_prob`.\n",
            "Train on 54000 samples, validate on 6000 samples\n",
            "Epoch 1/25\n",
            "54000/54000 [==============================] - 2s 45us/step - loss: 0.4626 - acc: 0.8599 - val_loss: 0.1710 - val_acc: 0.9517\n",
            "Epoch 2/25\n",
            "54000/54000 [==============================] - 2s 40us/step - loss: 0.2035 - acc: 0.9385 - val_loss: 0.1364 - val_acc: 0.9588\n",
            "Epoch 3/25\n",
            "54000/54000 [==============================] - 2s 39us/step - loss: 0.1567 - acc: 0.9518 - val_loss: 0.1162 - val_acc: 0.9638\n",
            "Epoch 4/25\n",
            "54000/54000 [==============================] - 2s 39us/step - loss: 0.1280 - acc: 0.9607 - val_loss: 0.1002 - val_acc: 0.9705\n",
            "Epoch 5/25\n",
            "54000/54000 [==============================] - 2s 40us/step - loss: 0.1105 - acc: 0.9658 - val_loss: 0.0947 - val_acc: 0.9715\n",
            "Epoch 6/25\n",
            "54000/54000 [==============================] - 2s 40us/step - loss: 0.0956 - acc: 0.9702 - val_loss: 0.0922 - val_acc: 0.9747\n",
            "Epoch 7/25\n",
            "54000/54000 [==============================] - 2s 40us/step - loss: 0.0859 - acc: 0.9732 - val_loss: 0.0916 - val_acc: 0.9742\n",
            "Epoch 8/25\n",
            "54000/54000 [==============================] - 2s 41us/step - loss: 0.0753 - acc: 0.9755 - val_loss: 0.0898 - val_acc: 0.9758\n",
            "Epoch 9/25\n",
            "54000/54000 [==============================] - 2s 40us/step - loss: 0.0691 - acc: 0.9778 - val_loss: 0.0912 - val_acc: 0.9740\n",
            "Epoch 10/25\n",
            "54000/54000 [==============================] - 2s 40us/step - loss: 0.0651 - acc: 0.9787 - val_loss: 0.0896 - val_acc: 0.9750\n",
            "Epoch 11/25\n",
            "54000/54000 [==============================] - 2s 40us/step - loss: 0.0597 - acc: 0.9806 - val_loss: 0.0954 - val_acc: 0.9758\n",
            "Epoch 12/25\n",
            "54000/54000 [==============================] - 2s 40us/step - loss: 0.0539 - acc: 0.9820 - val_loss: 0.0930 - val_acc: 0.9757\n",
            "Epoch 13/25\n",
            "54000/54000 [==============================] - 2s 39us/step - loss: 0.0499 - acc: 0.9835 - val_loss: 0.1027 - val_acc: 0.9718\n",
            "Epoch 14/25\n",
            "54000/54000 [==============================] - 2s 38us/step - loss: 0.0450 - acc: 0.9847 - val_loss: 0.0925 - val_acc: 0.9763\n",
            "Epoch 15/25\n",
            "54000/54000 [==============================] - 2s 39us/step - loss: 0.0418 - acc: 0.9859 - val_loss: 0.0966 - val_acc: 0.9765\n",
            "Epoch 16/25\n",
            "54000/54000 [==============================] - 2s 39us/step - loss: 0.0413 - acc: 0.9854 - val_loss: 0.0985 - val_acc: 0.9742\n",
            "Epoch 17/25\n",
            "54000/54000 [==============================] - 2s 39us/step - loss: 0.0355 - acc: 0.9881 - val_loss: 0.1019 - val_acc: 0.9747\n",
            "Epoch 18/25\n",
            "54000/54000 [==============================] - 2s 40us/step - loss: 0.0358 - acc: 0.9879 - val_loss: 0.1098 - val_acc: 0.9733\n",
            "Epoch 19/25\n",
            "54000/54000 [==============================] - 2s 42us/step - loss: 0.0340 - acc: 0.9884 - val_loss: 0.1018 - val_acc: 0.9755\n",
            "Epoch 20/25\n",
            "54000/54000 [==============================] - 2s 40us/step - loss: 0.0345 - acc: 0.9880 - val_loss: 0.0966 - val_acc: 0.9758\n",
            "Epoch 21/25\n",
            "54000/54000 [==============================] - 2s 39us/step - loss: 0.0302 - acc: 0.9897 - val_loss: 0.1026 - val_acc: 0.9767\n",
            "Epoch 22/25\n",
            "54000/54000 [==============================] - 2s 39us/step - loss: 0.0283 - acc: 0.9902 - val_loss: 0.0944 - val_acc: 0.9770\n",
            "Epoch 23/25\n",
            "54000/54000 [==============================] - 2s 40us/step - loss: 0.0268 - acc: 0.9908 - val_loss: 0.0989 - val_acc: 0.9775\n",
            "Epoch 24/25\n",
            "54000/54000 [==============================] - 2s 40us/step - loss: 0.0279 - acc: 0.9904 - val_loss: 0.1087 - val_acc: 0.9742\n",
            "Epoch 25/25\n",
            "54000/54000 [==============================] - 2s 40us/step - loss: 0.0259 - acc: 0.9914 - val_loss: 0.0961 - val_acc: 0.9780\n",
            "Model: \"sequential_3\"\n",
            "_________________________________________________________________\n",
            "Layer (type)                 Output Shape              Param #   \n",
            "=================================================================\n",
            "dense_5 (Dense)              (None, 32)                25120     \n",
            "_________________________________________________________________\n",
            "activation_1 (Activation)    (None, 32)                0         \n",
            "_________________________________________________________________\n",
            "dense_6 (Dense)              (None, 128)               4224      \n",
            "_________________________________________________________________\n",
            "activation_2 (Activation)    (None, 128)               0         \n",
            "_________________________________________________________________\n",
            "dropout_1 (Dropout)          (None, 128)               0         \n",
            "_________________________________________________________________\n",
            "dense_7 (Dense)              (None, 128)               16512     \n",
            "_________________________________________________________________\n",
            "activation_3 (Activation)    (None, 128)               0         \n",
            "_________________________________________________________________\n",
            "dropout_2 (Dropout)          (None, 128)               0         \n",
            "_________________________________________________________________\n",
            "dense_8 (Dense)              (None, 10)                1290      \n",
            "_________________________________________________________________\n",
            "activation_4 (Activation)    (None, 10)                0         \n",
            "=================================================================\n",
            "Total params: 47,146\n",
            "Trainable params: 47,146\n",
            "Non-trainable params: 0\n",
            "_________________________________________________________________\n",
            "10000/10000 [==============================] - 0s 25us/step\n",
            "Loss score:  0.10337059689476791\n",
            "Accuracy score:  0.9751\n"
          ],
          "name": "stdout"
        }
      ]
    },
    {
      "cell_type": "code",
      "metadata": {
        "id": "Pr48q5wTKva7",
        "colab_type": "code",
        "outputId": "b381c6c0-7330-4f48-ebef-552b0888475e",
        "colab": {
          "base_uri": "https://localhost:8080/",
          "height": 370
        }
      },
      "source": [
        "fig, axes = plt.subplots(1, 2, figsize=(10, 5))\n",
        "\n",
        "# loss\n",
        "axes[0].plot(range(NUM_EPOCHS), history.history['loss'])\n",
        "axes[0].plot(range(NUM_EPOCHS), history.history['val_loss'])\n",
        "axes[0].set(title='Model Loss', xlabel='Epochs', ylabel='Loss')\n",
        "\n",
        "# accuracy\n",
        "axes[1].plot(range(NUM_EPOCHS), history.history['acc'])\n",
        "axes[1].plot(range(NUM_EPOCHS), history.history['val_acc'])\n",
        "axes[1].set(title='Model Accuracy', xlabel='Epochs', ylabel='Accuracy');"
      ],
      "execution_count": 9,
      "outputs": [
        {
          "output_type": "display_data",
          "data": {
            "image/png": "[encoded data removed]",
            "text/plain": [
              "<Figure size 720x360 with 2 Axes>"
            ]
          },
          "metadata": {
            "tags": []
          }
        }
      ]
    },
    {
      "cell_type": "markdown",
      "metadata": {
        "id": "E_aMbWqE_OKw",
        "colab_type": "text"
      },
      "source": [
        "---"
      ]
    },
    {
      "cell_type": "markdown",
      "metadata": {
        "id": "OnDMYSMb_OxP",
        "colab_type": "text"
      },
      "source": [
        "## Deep Learning Using Convolutional Neural Networks"
      ]
    },
    {
      "cell_type": "markdown",
      "metadata": {
        "id": "e23yxKLXEuoV",
        "colab_type": "text"
      },
      "source": [
        "__Preprocessing__"
      ]
    },
    {
      "cell_type": "code",
      "metadata": {
        "id": "-nVOChUAEtdH",
        "colab_type": "code",
        "colab": {
          "base_uri": "https://localhost:8080/",
          "height": 219
        },
        "outputId": "a077f5d5-979f-422d-8a98-b36cf394cb66"
      },
      "source": [
        "NUM_CLASSES = 10\n",
        "\n",
        "(X_train, y_train), (X_test, y_test) = keras.datasets.mnist.load_data()\n",
        "\n",
        "print(\"Before preprocessing: \")\n",
        "print(\"X_train.shape: \", X_train.shape)\n",
        "print(\"X_test.shape: \", X_test.shape)\n",
        "print(\"y_train.shape: \", y_train.shape)\n",
        "print(\"y_test.shape: \", y_test.shape)\n",
        "\n",
        "# data to float and normalize\n",
        "X_train = X_train.astype('float32')\n",
        "X_test = X_test.astype('float32')\n",
        "X_train = X_train / 255.0\n",
        "X_test = X_test / 255.0\n",
        "\n",
        "# reshape the data\n",
        "X_train = X_train[:, :, :, np.newaxis]\n",
        "X_test = X_test[:, :, :, np.newaxis]\n",
        "\n",
        "# format the labels data\n",
        "Y_train = keras.utils.np_utils.to_categorical(y_train, NUM_CLASSES)\n",
        "Y_test = keras.utils.np_utils.to_categorical(y_test, NUM_CLASSES)\n",
        "\n",
        "print(\"\\nAfter preprocessing: \")\n",
        "print(\"X_train.shape: \", X_train.shape)\n",
        "print(\"X_test.shape: \", X_test.shape)\n",
        "print(\"y_train.shape: \", Y_train.shape)\n",
        "print(\"y_test.shape: \", Y_test.shape)"
      ],
      "execution_count": 17,
      "outputs": [
        {
          "output_type": "stream",
          "text": [
            "Before preprocessing: \n",
            "X_train.shape:  (60000, 28, 28)\n",
            "X_test.shape:  (10000, 28, 28)\n",
            "y_train.shape:  (60000,)\n",
            "y_test.shape:  (10000,)\n",
            "\n",
            "After preprocessing: \n",
            "X_train.shape:  (60000, 28, 28, 1)\n",
            "X_test.shape:  (10000, 28, 28, 1)\n",
            "y_train.shape:  (60000,)\n",
            "y_test.shape:  (10000,)\n"
          ],
          "name": "stdout"
        }
      ]
    },
    {
      "cell_type": "markdown",
      "metadata": {
        "id": "XdXHPbtYWvdD",
        "colab_type": "text"
      },
      "source": [
        "### First Model"
      ]
    },
    {
      "cell_type": "code",
      "metadata": {
        "id": "iyuyvAjg_WJ9",
        "colab_type": "code",
        "colab": {
          "base_uri": "https://localhost:8080/",
          "height": 1000
        },
        "outputId": "ec42200f-48dd-4677-9da9-818ab4c7fbec"
      },
      "source": [
        "# ======== constants =========\n",
        "NUM_EPOCHS = 25\n",
        "BATCH_SIZE = 128\n",
        "VERBOSE = 1\n",
        "NUM_CLASSES = 10\n",
        "OPTIMIZER = keras.optimizers.SGD()\n",
        "VALIDATION_SPLIT = 0.1\n",
        "\n",
        "# =========== build the model ==============\n",
        "model = keras.models.Sequential()\n",
        "# 1st convolutional layer\n",
        "model.add(keras.layers.Conv2D(20, kernel_size=5, padding='same',\n",
        "                              input_shape=(X_train.shape[1], X_train.shape[2], 1)))\n",
        "model.add(keras.layers.Activation('relu'))\n",
        "model.add(keras.layers.MaxPooling2D(pool_size=(2, 2), strides=(2, 2)))\n",
        "# dense layer\n",
        "model.add(keras.layers.Flatten())\n",
        "model.add(keras.layers.Dense(512))\n",
        "model.add(keras.layers.Activation('relu'))\n",
        "# output layer\n",
        "model.add(keras.layers.Dense(NUM_CLASSES))\n",
        "model.add(keras.layers.Activation('softmax'))\n",
        "\n",
        "# ========== compile the model ===========\n",
        "model.compile(optimizer=OPTIMIZER, loss='categorical_crossentropy', \n",
        "              metrics=['accuracy'])\n",
        "\n",
        "# ============ train the model ================\n",
        "history = model.fit(X_train, Y_train, verbose=VERBOSE, batch_size=BATCH_SIZE, \n",
        "                    epochs=NUM_EPOCHS, validation_split=VALIDATION_SPLIT)\n",
        "\n",
        "# ========== evaluation ================\n",
        "score = model.evaluate(X_test, Y_test, verbose=VERBOSE)\n",
        "print(\"Loss score: \", score[0])\n",
        "print(\"Accuracy score: \", score[1])"
      ],
      "execution_count": 20,
      "outputs": [
        {
          "output_type": "stream",
          "text": [
            "Train on 54000 samples, validate on 6000 samples\n",
            "Epoch 1/25\n",
            "54000/54000 [==============================] - 48s 884us/step - loss: 0.8834 - acc: 0.7825 - val_loss: 0.3021 - val_acc: 0.9192\n",
            "Epoch 2/25\n",
            "54000/54000 [==============================] - 47s 873us/step - loss: 0.3270 - acc: 0.9064 - val_loss: 0.2299 - val_acc: 0.9353\n",
            "Epoch 3/25\n",
            "54000/54000 [==============================] - 47s 873us/step - loss: 0.2684 - acc: 0.9220 - val_loss: 0.1969 - val_acc: 0.9450\n",
            "Epoch 4/25\n",
            "54000/54000 [==============================] - 47s 869us/step - loss: 0.2302 - acc: 0.9326 - val_loss: 0.1746 - val_acc: 0.9517\n",
            "Epoch 5/25\n",
            "54000/54000 [==============================] - 47s 867us/step - loss: 0.2014 - acc: 0.9407 - val_loss: 0.1559 - val_acc: 0.9565\n",
            "Epoch 6/25\n",
            "54000/54000 [==============================] - 47s 863us/step - loss: 0.1793 - acc: 0.9479 - val_loss: 0.1395 - val_acc: 0.9607\n",
            "Epoch 7/25\n",
            "54000/54000 [==============================] - 47s 870us/step - loss: 0.1612 - acc: 0.9530 - val_loss: 0.1260 - val_acc: 0.9655\n",
            "Epoch 8/25\n",
            "54000/54000 [==============================] - 47s 873us/step - loss: 0.1469 - acc: 0.9569 - val_loss: 0.1169 - val_acc: 0.9683\n",
            "Epoch 9/25\n",
            "54000/54000 [==============================] - 46s 861us/step - loss: 0.1347 - acc: 0.9601 - val_loss: 0.1138 - val_acc: 0.9693\n",
            "Epoch 10/25\n",
            "54000/54000 [==============================] - 46s 859us/step - loss: 0.1249 - acc: 0.9632 - val_loss: 0.1044 - val_acc: 0.9735\n",
            "Epoch 11/25\n",
            "54000/54000 [==============================] - 47s 863us/step - loss: 0.1160 - acc: 0.9658 - val_loss: 0.1009 - val_acc: 0.9712\n",
            "Epoch 12/25\n",
            "54000/54000 [==============================] - 47s 864us/step - loss: 0.1086 - acc: 0.9683 - val_loss: 0.0954 - val_acc: 0.9758\n",
            "Epoch 13/25\n",
            "54000/54000 [==============================] - 46s 850us/step - loss: 0.1020 - acc: 0.9703 - val_loss: 0.0882 - val_acc: 0.9760\n",
            "Epoch 14/25\n",
            "54000/54000 [==============================] - 47s 866us/step - loss: 0.0955 - acc: 0.9722 - val_loss: 0.0865 - val_acc: 0.9775\n",
            "Epoch 15/25\n",
            "54000/54000 [==============================] - 47s 862us/step - loss: 0.0905 - acc: 0.9740 - val_loss: 0.0853 - val_acc: 0.9768\n",
            "Epoch 16/25\n",
            "54000/54000 [==============================] - 47s 864us/step - loss: 0.0861 - acc: 0.9753 - val_loss: 0.0781 - val_acc: 0.9792\n",
            "Epoch 17/25\n",
            "54000/54000 [==============================] - 46s 860us/step - loss: 0.0818 - acc: 0.9765 - val_loss: 0.0763 - val_acc: 0.9800\n",
            "Epoch 18/25\n",
            "54000/54000 [==============================] - 46s 861us/step - loss: 0.0778 - acc: 0.9778 - val_loss: 0.0770 - val_acc: 0.9788\n",
            "Epoch 19/25\n",
            "54000/54000 [==============================] - 47s 863us/step - loss: 0.0741 - acc: 0.9786 - val_loss: 0.0747 - val_acc: 0.9793\n",
            "Epoch 20/25\n",
            "54000/54000 [==============================] - 47s 865us/step - loss: 0.0712 - acc: 0.9793 - val_loss: 0.0690 - val_acc: 0.9815\n",
            "Epoch 21/25\n",
            "54000/54000 [==============================] - 47s 869us/step - loss: 0.0678 - acc: 0.9802 - val_loss: 0.0704 - val_acc: 0.9810\n",
            "Epoch 22/25\n",
            "54000/54000 [==============================] - 46s 854us/step - loss: 0.0653 - acc: 0.9816 - val_loss: 0.0708 - val_acc: 0.9803\n",
            "Epoch 23/25\n",
            "54000/54000 [==============================] - 46s 849us/step - loss: 0.0627 - acc: 0.9814 - val_loss: 0.0684 - val_acc: 0.9820\n",
            "Epoch 24/25\n",
            "54000/54000 [==============================] - 46s 851us/step - loss: 0.0603 - acc: 0.9825 - val_loss: 0.0643 - val_acc: 0.9827\n",
            "Epoch 25/25\n",
            "54000/54000 [==============================] - 46s 851us/step - loss: 0.0582 - acc: 0.9832 - val_loss: 0.0638 - val_acc: 0.9822\n",
            "10000/10000 [==============================] - 4s 398us/step\n",
            "Loss score:  0.06209118326753378\n",
            "Accuracy score:  0.9813\n"
          ],
          "name": "stdout"
        }
      ]
    },
    {
      "cell_type": "code",
      "metadata": {
        "id": "3ar5tjFzDuVM",
        "colab_type": "code",
        "colab": {
          "base_uri": "https://localhost:8080/",
          "height": 370
        },
        "outputId": "d0a87b99-df96-432d-e720-e6edfb8c64e4"
      },
      "source": [
        "fig, axes = plt.subplots(1, 2, figsize=(10, 5))\n",
        "\n",
        "# loss\n",
        "axes[0].plot(range(NUM_EPOCHS), history.history['loss'])\n",
        "axes[0].plot(range(NUM_EPOCHS), history.history['val_loss'])\n",
        "axes[0].set(title='Model Loss', xlabel='Epochs', ylabel='Loss')\n",
        "\n",
        "# accuracy\n",
        "axes[1].plot(range(NUM_EPOCHS), history.history['acc'])\n",
        "axes[1].plot(range(NUM_EPOCHS), history.history['val_acc'])\n",
        "axes[1].set(title='Model Accuracy', xlabel='Epochs', ylabel='Accuracy');"
      ],
      "execution_count": 21,
      "outputs": [
        {
          "output_type": "display_data",
          "data": {
            "image/png": "[encoded data removed]",
            "text/plain": [
              "<Figure size 720x360 with 2 Axes>"
            ]
          },
          "metadata": {
            "tags": []
          }
        }
      ]
    },
    {
      "cell_type": "markdown",
      "metadata": {
        "id": "knjY0QNiWrfc",
        "colab_type": "text"
      },
      "source": [
        "### Second Model"
      ]
    },
    {
      "cell_type": "code",
      "metadata": {
        "id": "snslzJX0W4G_",
        "colab_type": "code",
        "colab": {
          "base_uri": "https://localhost:8080/",
          "height": 1000
        },
        "outputId": "4f0442e7-e4a8-4a64-edb3-65a63099115f"
      },
      "source": [
        "# ======== constants =========\n",
        "NUM_EPOCHS = 25\n",
        "BATCH_SIZE = 128\n",
        "VERBOSE = 1\n",
        "NUM_CLASSES = 10\n",
        "OPTIMIZER = keras.optimizers.SGD()\n",
        "VALIDATION_SPLIT = 0.1\n",
        "\n",
        "# =========== build the model ==============\n",
        "model = keras.models.Sequential()\n",
        "# 1st convolutional layer\n",
        "model.add(keras.layers.Conv2D(20, kernel_size=5, padding='same',\n",
        "                              input_shape=(X_train.shape[1], X_train.shape[2], 1)))\n",
        "model.add(keras.layers.Activation('relu'))\n",
        "model.add(keras.layers.MaxPooling2D(pool_size=(2, 2), strides=(2, 2)))\n",
        "# 2nd convolutional layer\n",
        "model.add(keras.layers.Conv2D(50, kernel_size=5, border_mode='same' ))\n",
        "model.add(keras.layers.Activation('relu'))\n",
        "model.add(keras.layers.MaxPooling2D(pool_size=(2, 2), strides=(2, 2)))\n",
        "# dense layer\n",
        "model.add(keras.layers.Flatten())\n",
        "model.add(keras.layers.Dense(512))\n",
        "model.add(keras.layers.Activation('relu'))\n",
        "# output layer\n",
        "model.add(keras.layers.Dense(NUM_CLASSES))\n",
        "model.add(keras.layers.Activation('softmax'))\n",
        "\n",
        "# ========== compile the model ===========\n",
        "model.compile(optimizer=OPTIMIZER, loss='categorical_crossentropy', \n",
        "              metrics=['accuracy'])\n",
        "\n",
        "# ============ train the model ================\n",
        "history = model.fit(X_train, Y_train, verbose=VERBOSE, batch_size=BATCH_SIZE, \n",
        "                    epochs=NUM_EPOCHS, validation_split=VALIDATION_SPLIT)\n",
        "\n",
        "# ========== evaluation ================\n",
        "score = model.evaluate(X_test, Y_test, verbose=VERBOSE)\n",
        "print(\"Loss score: \", score[0])\n",
        "print(\"Accuracy score: \", score[1])"
      ],
      "execution_count": 22,
      "outputs": [
        {
          "output_type": "stream",
          "text": [
            "/usr/local/lib/python3.6/dist-packages/ipykernel_launcher.py:16: UserWarning: Update your `Conv2D` call to the Keras 2 API: `Conv2D(50, kernel_size=5, padding=\"same\")`\n",
            "  app.launch_new_instance()\n"
          ],
          "name": "stderr"
        },
        {
          "output_type": "stream",
          "text": [
            "Train on 54000 samples, validate on 6000 samples\n",
            "Epoch 1/25\n",
            "54000/54000 [==============================] - 102s 2ms/step - loss: 0.9280 - acc: 0.7489 - val_loss: 0.2820 - val_acc: 0.9190\n",
            "Epoch 2/25\n",
            "54000/54000 [==============================] - 101s 2ms/step - loss: 0.2909 - acc: 0.9127 - val_loss: 0.2032 - val_acc: 0.9388\n",
            "Epoch 3/25\n",
            "54000/54000 [==============================] - 102s 2ms/step - loss: 0.2131 - acc: 0.9354 - val_loss: 0.1452 - val_acc: 0.9588\n",
            "Epoch 4/25\n",
            "54000/54000 [==============================] - 101s 2ms/step - loss: 0.1663 - acc: 0.9500 - val_loss: 0.1190 - val_acc: 0.9668\n",
            "Epoch 5/25\n",
            "54000/54000 [==============================] - 101s 2ms/step - loss: 0.1377 - acc: 0.9588 - val_loss: 0.1108 - val_acc: 0.9697\n",
            "Epoch 6/25\n",
            "54000/54000 [==============================] - 100s 2ms/step - loss: 0.1154 - acc: 0.9649 - val_loss: 0.0931 - val_acc: 0.9743\n",
            "Epoch 7/25\n",
            "54000/54000 [==============================] - 100s 2ms/step - loss: 0.1017 - acc: 0.9695 - val_loss: 0.0879 - val_acc: 0.9748\n",
            "Epoch 8/25\n",
            "54000/54000 [==============================] - 101s 2ms/step - loss: 0.0901 - acc: 0.9723 - val_loss: 0.0768 - val_acc: 0.9780\n",
            "Epoch 9/25\n",
            "54000/54000 [==============================] - 100s 2ms/step - loss: 0.0819 - acc: 0.9750 - val_loss: 0.0748 - val_acc: 0.9792\n",
            "Epoch 10/25\n",
            "54000/54000 [==============================] - 101s 2ms/step - loss: 0.0749 - acc: 0.9776 - val_loss: 0.0737 - val_acc: 0.9803\n",
            "Epoch 11/25\n",
            "54000/54000 [==============================] - 102s 2ms/step - loss: 0.0698 - acc: 0.9791 - val_loss: 0.0634 - val_acc: 0.9832\n",
            "Epoch 12/25\n",
            "54000/54000 [==============================] - 101s 2ms/step - loss: 0.0637 - acc: 0.9807 - val_loss: 0.0623 - val_acc: 0.9825\n",
            "Epoch 13/25\n",
            "54000/54000 [==============================] - 101s 2ms/step - loss: 0.0603 - acc: 0.9814 - val_loss: 0.0659 - val_acc: 0.9800\n",
            "Epoch 14/25\n",
            "54000/54000 [==============================] - 100s 2ms/step - loss: 0.0568 - acc: 0.9827 - val_loss: 0.0574 - val_acc: 0.9842\n",
            "Epoch 15/25\n",
            "54000/54000 [==============================] - 101s 2ms/step - loss: 0.0531 - acc: 0.9835 - val_loss: 0.0614 - val_acc: 0.9815\n",
            "Epoch 16/25\n",
            "54000/54000 [==============================] - 101s 2ms/step - loss: 0.0502 - acc: 0.9845 - val_loss: 0.0561 - val_acc: 0.9838\n",
            "Epoch 17/25\n",
            "54000/54000 [==============================] - 101s 2ms/step - loss: 0.0486 - acc: 0.9849 - val_loss: 0.0574 - val_acc: 0.9823\n",
            "Epoch 18/25\n",
            "54000/54000 [==============================] - 101s 2ms/step - loss: 0.0461 - acc: 0.9854 - val_loss: 0.0527 - val_acc: 0.9852\n",
            "Epoch 19/25\n",
            "54000/54000 [==============================] - 101s 2ms/step - loss: 0.0437 - acc: 0.9864 - val_loss: 0.0503 - val_acc: 0.9853\n",
            "Epoch 20/25\n",
            "54000/54000 [==============================] - 101s 2ms/step - loss: 0.0418 - acc: 0.9873 - val_loss: 0.0504 - val_acc: 0.9853\n",
            "Epoch 21/25\n",
            "54000/54000 [==============================] - 101s 2ms/step - loss: 0.0398 - acc: 0.9878 - val_loss: 0.0546 - val_acc: 0.9850\n",
            "Epoch 22/25\n",
            "54000/54000 [==============================] - 102s 2ms/step - loss: 0.0380 - acc: 0.9886 - val_loss: 0.0506 - val_acc: 0.9862\n",
            "Epoch 23/25\n",
            "54000/54000 [==============================] - 102s 2ms/step - loss: 0.0365 - acc: 0.9890 - val_loss: 0.0499 - val_acc: 0.9868\n",
            "Epoch 24/25\n",
            "54000/54000 [==============================] - 101s 2ms/step - loss: 0.0353 - acc: 0.9893 - val_loss: 0.0470 - val_acc: 0.9880\n",
            "Epoch 25/25\n",
            "54000/54000 [==============================] - 100s 2ms/step - loss: 0.0339 - acc: 0.9893 - val_loss: 0.0484 - val_acc: 0.9873\n",
            "10000/10000 [==============================] - 10s 1ms/step\n",
            "Loss score:  0.03665368114167359\n",
            "Accuracy score:  0.9876\n"
          ],
          "name": "stdout"
        }
      ]
    },
    {
      "cell_type": "code",
      "metadata": {
        "id": "zNXP1MuSXU6V",
        "colab_type": "code",
        "colab": {
          "base_uri": "https://localhost:8080/",
          "height": 370
        },
        "outputId": "60db94d6-2d0d-4b1d-ace1-1fa3e99319d0"
      },
      "source": [
        "fig, axes = plt.subplots(1, 2, figsize=(10, 5))\n",
        "\n",
        "# loss\n",
        "axes[0].plot(range(NUM_EPOCHS), history.history['loss'])\n",
        "axes[0].plot(range(NUM_EPOCHS), history.history['val_loss'])\n",
        "axes[0].set(title='Model Loss', xlabel='Epochs', ylabel='Loss')\n",
        "\n",
        "# accuracy\n",
        "axes[1].plot(range(NUM_EPOCHS), history.history['acc'])\n",
        "axes[1].plot(range(NUM_EPOCHS), history.history['val_acc'])\n",
        "axes[1].set(title='Model Accuracy', xlabel='Epochs', ylabel='Accuracy');"
      ],
      "execution_count": 23,
      "outputs": [
        {
          "output_type": "display_data",
          "data": {
            "image/png": "[encoded data removed]",
            "text/plain": [
              "<Figure size 720x360 with 2 Axes>"
            ]
          },
          "metadata": {
            "tags": []
          }
        }
      ]
    }
  ]
}