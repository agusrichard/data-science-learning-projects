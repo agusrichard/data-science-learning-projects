{
  "nbformat": 4,
  "nbformat_minor": 0,
  "metadata": {
    "colab": {
      "name": "mnist.ipynb",
      "provenance": [],
      "collapsed_sections": []
    },
    "kernelspec": {
      "name": "python3",
      "display_name": "Python 3"
    }
  },
  "cells": [
    {
      "cell_type": "markdown",
      "metadata": {
        "id": "BlScUqk676Ye",
        "colab_type": "text"
      },
      "source": [
        "# Machine Learning Project: MNIST"
      ]
    },
    {
      "cell_type": "markdown",
      "metadata": {
        "id": "9xv_mMGLAb8L",
        "colab_type": "text"
      },
      "source": [
        "---"
      ]
    },
    {
      "cell_type": "markdown",
      "metadata": {
        "id": "LcyOYJPqAeUg",
        "colab_type": "text"
      },
      "source": [
        "## Preliminary"
      ]
    },
    {
      "cell_type": "markdown",
      "metadata": {
        "id": "7KX0Q9Ul-l4P",
        "colab_type": "text"
      },
      "source": [
        "Import the necessary modules:"
      ]
    },
    {
      "cell_type": "code",
      "metadata": {
        "id": "kaJs2S098CNj",
        "colab_type": "code",
        "outputId": "dc0c5b46-5e27-4ce5-a4ec-365f818c89d6",
        "colab": {
          "base_uri": "https://localhost:8080/",
          "height": 35
        }
      },
      "source": [
        "# essentials\n",
        "import numpy as np\n",
        "import pandas as pd\n",
        "import matplotlib.pyplot as plt\n",
        "import seaborn as sns\n",
        "%matplotlib inline\n",
        "sns.set_style('darkgrid')\n",
        "\n",
        "# preprocessing and decomposition\n",
        "from sklearn.preprocessing import MinMaxScaler\n",
        "from sklearn.model_selection import train_test_split\n",
        "from sklearn.decomposition import PCA, KernelPCA, NMF\n",
        "\n",
        "# mnist dataset from keras\n",
        "from keras.datasets import mnist\n",
        "\n",
        "# machine learning algorihtms\n",
        "from sklearn.neighbors import KNeighborsClassifier\n",
        "from sklearn.linear_model import SGDClassifier, LogisticRegression\n",
        "from sklearn.ensemble import RandomForestClassifier, GradientBoostingClassifier"
      ],
      "execution_count": 0,
      "outputs": [
        {
          "output_type": "stream",
          "text": [
            "Using TensorFlow backend.\n"
          ],
          "name": "stderr"
        }
      ]
    },
    {
      "cell_type": "markdown",
      "metadata": {
        "id": "OwmpffJm-b7P",
        "colab_type": "text"
      },
      "source": [
        "Load the dataset: (training set and test set)"
      ]
    },
    {
      "cell_type": "code",
      "metadata": {
        "id": "fZbom0PP-tTv",
        "colab_type": "code",
        "outputId": "b604631c-d7b6-407c-a779-9b71ae121dc9",
        "colab": {
          "base_uri": "https://localhost:8080/",
          "height": 54
        }
      },
      "source": [
        "(X_train, y_train), (X_test, y_test) = mnist.load_data()"
      ],
      "execution_count": 0,
      "outputs": [
        {
          "output_type": "stream",
          "text": [
            "Downloading data from https://s3.amazonaws.com/img-datasets/mnist.npz\n",
            "11493376/11490434 [==============================] - 0s 0us/step\n"
          ],
          "name": "stdout"
        }
      ]
    },
    {
      "cell_type": "markdown",
      "metadata": {
        "id": "GUVViSwy-ywR",
        "colab_type": "text"
      },
      "source": [
        "Let's check the shape of training set and test set"
      ]
    },
    {
      "cell_type": "code",
      "metadata": {
        "id": "uP7ZJAor-4ZJ",
        "colab_type": "code",
        "colab": {}
      },
      "source": [
        "print(\"X_train.shape: \", X_train.shape)\n",
        "print(\"X_test.shape: \", X_test.shape)\n",
        "print(\"y_train.shape: \", y_train.shape)\n",
        "print(\"y_test.shape: \", y_test.shape)"
      ],
      "execution_count": 0,
      "outputs": []
    },
    {
      "cell_type": "markdown",
      "metadata": {
        "id": "t2LqpBAp_IeY",
        "colab_type": "text"
      },
      "source": [
        "Reshape (flatten) the feature tensor."
      ]
    },
    {
      "cell_type": "code",
      "metadata": {
        "id": "6MlgKJpG_S11",
        "colab_type": "code",
        "colab": {}
      },
      "source": [
        "X_train = X_train.reshape(60000, 28*28).astype('float32')\n",
        "X_test = X_test.reshape(10000, 28*28).astype('float32')"
      ],
      "execution_count": 0,
      "outputs": []
    },
    {
      "cell_type": "code",
      "metadata": {
        "id": "53_IRtpz_mjY",
        "colab_type": "code",
        "outputId": "c224aac6-984e-4fa0-bc29-ef6e32ff0319",
        "colab": {
          "base_uri": "https://localhost:8080/",
          "height": 54
        }
      },
      "source": [
        "print(\"X_train.shape: \", X_train.shape)\n",
        "print(\"X_test.shape: \", X_test.shape)"
      ],
      "execution_count": 0,
      "outputs": [
        {
          "output_type": "stream",
          "text": [
            "X_train.shape:  (60000, 784)\n",
            "X_test.shape:  (10000, 784)\n"
          ],
          "name": "stdout"
        }
      ]
    },
    {
      "cell_type": "markdown",
      "metadata": {
        "id": "4aRNVncM_vRD",
        "colab_type": "text"
      },
      "source": [
        "Normalize"
      ]
    },
    {
      "cell_type": "code",
      "metadata": {
        "id": "ceG2DiqZ_3H9",
        "colab_type": "code",
        "colab": {}
      },
      "source": [
        "X_train /= 255\n",
        "X_test /= 255"
      ],
      "execution_count": 0,
      "outputs": []
    },
    {
      "cell_type": "markdown",
      "metadata": {
        "id": "TWTNSlRZA-BQ",
        "colab_type": "text"
      },
      "source": [
        "Split the training set into smaller training set and validation set."
      ]
    },
    {
      "cell_type": "code",
      "metadata": {
        "id": "e4rSUMw7BHt8",
        "colab_type": "code",
        "colab": {}
      },
      "source": [
        "X_train_tr, X_train_val, y_train_tr, y_train_val = train_test_split(X_train, y_train, random_state=42, test_size=0.1)"
      ],
      "execution_count": 0,
      "outputs": []
    },
    {
      "cell_type": "code",
      "metadata": {
        "id": "yAlPQnxOBclF",
        "colab_type": "code",
        "outputId": "6453bcfa-d398-4375-8f83-99d9b32b134f",
        "colab": {
          "base_uri": "https://localhost:8080/",
          "height": 90
        }
      },
      "source": [
        "print(\"X training  shape: \", X_train_tr.shape)\n",
        "print(\"X validation shape: \", X_train_val.shape)\n",
        "print(\"y training  shape: \", y_train_tr.shape)\n",
        "print(\"y validation shape: \", y_train_val.shape)"
      ],
      "execution_count": 0,
      "outputs": [
        {
          "output_type": "stream",
          "text": [
            "X training  shape:  (54000, 784)\n",
            "X validation shape:  (6000, 784)\n",
            "y training  shape:  (54000,)\n",
            "y validation shape:  (6000,)\n"
          ],
          "name": "stdout"
        }
      ]
    },
    {
      "cell_type": "markdown",
      "metadata": {
        "id": "RBbQfvAOAV_R",
        "colab_type": "text"
      },
      "source": [
        "---"
      ]
    },
    {
      "cell_type": "markdown",
      "metadata": {
        "id": "oHHtxq0EAWp4",
        "colab_type": "text"
      },
      "source": [
        "## Machine Learning"
      ]
    },
    {
      "cell_type": "markdown",
      "metadata": {
        "id": "Vc6QI_-DJfX8",
        "colab_type": "text"
      },
      "source": [
        "### With Default Hyperparameters:"
      ]
    },
    {
      "cell_type": "markdown",
      "metadata": {
        "id": "cDTPFURZCyJJ",
        "colab_type": "text"
      },
      "source": [
        "#### SGDClassifier"
      ]
    },
    {
      "cell_type": "code",
      "metadata": {
        "id": "_WuCeq3HApaa",
        "colab_type": "code",
        "colab": {}
      },
      "source": [
        "sgd = SGDClassifier().fit(X_train_tr, y_train_tr)"
      ],
      "execution_count": 0,
      "outputs": []
    },
    {
      "cell_type": "code",
      "metadata": {
        "id": "IRWUlB77CbIK",
        "colab_type": "code",
        "outputId": "7be5f65f-78a7-4733-83d0-2e5619a3bdd9",
        "colab": {
          "base_uri": "https://localhost:8080/",
          "height": 35
        }
      },
      "source": [
        "print(sgd.score(X_train_val, y_train_val))"
      ],
      "execution_count": 0,
      "outputs": [
        {
          "output_type": "stream",
          "text": [
            "0.9143333333333333\n"
          ],
          "name": "stdout"
        }
      ]
    },
    {
      "cell_type": "markdown",
      "metadata": {
        "id": "m9c2UCh3CiEc",
        "colab_type": "text"
      },
      "source": [
        "#### LogisticRegression"
      ]
    },
    {
      "cell_type": "code",
      "metadata": {
        "id": "hEw9JA7CC3he",
        "colab_type": "code",
        "outputId": "92081065-bc8d-4e6e-e19d-a0bed4e73bad",
        "colab": {
          "base_uri": "https://localhost:8080/",
          "height": 129
        }
      },
      "source": [
        "logreg = LogisticRegression().fit(X_train_tr, y_train_tr)\n",
        "print(logreg.score(X_train_val, y_train_val))"
      ],
      "execution_count": 0,
      "outputs": [
        {
          "output_type": "stream",
          "text": [
            "/usr/local/lib/python3.6/dist-packages/sklearn/linear_model/logistic.py:432: FutureWarning: Default solver will be changed to 'lbfgs' in 0.22. Specify a solver to silence this warning.\n",
            "  FutureWarning)\n",
            "/usr/local/lib/python3.6/dist-packages/sklearn/linear_model/logistic.py:469: FutureWarning: Default multi_class will be changed to 'auto' in 0.22. Specify the multi_class option to silence this warning.\n",
            "  \"this warning.\", FutureWarning)\n"
          ],
          "name": "stderr"
        },
        {
          "output_type": "stream",
          "text": [
            "0.9228333333333333\n"
          ],
          "name": "stdout"
        }
      ]
    },
    {
      "cell_type": "markdown",
      "metadata": {
        "id": "wYMyWHYTC_7Y",
        "colab_type": "text"
      },
      "source": [
        "#### KNeighborsClassifier"
      ]
    },
    {
      "cell_type": "code",
      "metadata": {
        "id": "RqEY1YOhDGo7",
        "colab_type": "code",
        "outputId": "7b466d9b-3ac7-47b6-c8b7-6af1d9d44107",
        "colab": {
          "base_uri": "https://localhost:8080/",
          "height": 35
        }
      },
      "source": [
        "knn = KNeighborsClassifier().fit(X_train_tr, y_train_tr)\n",
        "print(knn.score(X_train_val, y_train_val))"
      ],
      "execution_count": 0,
      "outputs": [
        {
          "output_type": "stream",
          "text": [
            "0.9735\n"
          ],
          "name": "stdout"
        }
      ]
    },
    {
      "cell_type": "markdown",
      "metadata": {
        "id": "3oIEjwLrDOpT",
        "colab_type": "text"
      },
      "source": [
        "#### RandomForestClassifier"
      ]
    },
    {
      "cell_type": "code",
      "metadata": {
        "id": "GjG8wyuXDPze",
        "colab_type": "code",
        "outputId": "36dbdb9c-afa9-443b-c7b0-d8f121feeafc",
        "colab": {
          "base_uri": "https://localhost:8080/",
          "height": 92
        }
      },
      "source": [
        "rf = RandomForestClassifier().fit(X_train_tr, y_train_tr)\n",
        "print(rf.score(X_train_val, y_train_val))"
      ],
      "execution_count": 0,
      "outputs": [
        {
          "output_type": "stream",
          "text": [
            "/usr/local/lib/python3.6/dist-packages/sklearn/ensemble/forest.py:245: FutureWarning: The default value of n_estimators will change from 10 in version 0.20 to 100 in 0.22.\n",
            "  \"10 in version 0.20 to 100 in 0.22.\", FutureWarning)\n"
          ],
          "name": "stderr"
        },
        {
          "output_type": "stream",
          "text": [
            "0.9495\n"
          ],
          "name": "stdout"
        }
      ]
    },
    {
      "cell_type": "markdown",
      "metadata": {
        "id": "FvSp2eSPKPQT",
        "colab_type": "text"
      },
      "source": [
        "#### GradientBoostingClassifier"
      ]
    },
    {
      "cell_type": "code",
      "metadata": {
        "id": "tjnC_H6QKQGW",
        "colab_type": "code",
        "outputId": "7e9f03ec-5faa-4c35-f5fd-3af937424fa4",
        "colab": {
          "base_uri": "https://localhost:8080/"
        }
      },
      "source": [
        "gbrt = GradientBoostingClassifier().fit(X_train_tr, y_train_tr)\n",
        "print(gbrt.score(X_train_val, y_train_val))"
      ],
      "execution_count": 0,
      "outputs": [
        {
          "output_type": "stream",
          "text": [
            "0.9498333333333333\n"
          ],
          "name": "stdout"
        }
      ]
    },
    {
      "cell_type": "markdown",
      "metadata": {
        "id": "3CrAJdPyJ6TY",
        "colab_type": "text"
      },
      "source": [
        "### Tuned Models"
      ]
    },
    {
      "cell_type": "markdown",
      "metadata": {
        "id": "OEWJ6uJkKFcP",
        "colab_type": "text"
      },
      "source": [
        "#### SGDClassifier"
      ]
    },
    {
      "cell_type": "code",
      "metadata": {
        "id": "mdBwQ_KX1bfF",
        "colab_type": "code",
        "outputId": "5c838836-ebb2-43f0-a641-f06cdf36bbb0",
        "colab": {
          "base_uri": "https://localhost:8080/",
          "height": 35
        }
      },
      "source": [
        "sgd = SGDClassifier(penalty='elasticnet', l1_ratio=0.1, alpha=0.0001, epsilon=0.05).fit(X_train_tr, y_train_tr)\n",
        "print(sgd.score(X_train_val, y_train_val))"
      ],
      "execution_count": 0,
      "outputs": [
        {
          "output_type": "stream",
          "text": [
            "0.9156666666666666\n"
          ],
          "name": "stdout"
        }
      ]
    },
    {
      "cell_type": "markdown",
      "metadata": {
        "id": "GIW2no7O1tOO",
        "colab_type": "text"
      },
      "source": [
        "#### LogisticRegression"
      ]
    },
    {
      "cell_type": "code",
      "metadata": {
        "id": "8c59MY951uB_",
        "colab_type": "code",
        "outputId": "156f748d-c904-482f-d65a-2cfae236b236",
        "colab": {
          "base_uri": "https://localhost:8080/",
          "height": 129
        }
      },
      "source": [
        "logreg = LogisticRegression(penalty='l2', C=10).fit(X_train_tr, y_train_tr)\n",
        "print(logreg.score(X_train_val, y_train_val))"
      ],
      "execution_count": 0,
      "outputs": [
        {
          "output_type": "stream",
          "text": [
            "/usr/local/lib/python3.6/dist-packages/sklearn/linear_model/logistic.py:432: FutureWarning: Default solver will be changed to 'lbfgs' in 0.22. Specify a solver to silence this warning.\n",
            "  FutureWarning)\n",
            "/usr/local/lib/python3.6/dist-packages/sklearn/linear_model/logistic.py:469: FutureWarning: Default multi_class will be changed to 'auto' in 0.22. Specify the multi_class option to silence this warning.\n",
            "  \"this warning.\", FutureWarning)\n"
          ],
          "name": "stderr"
        },
        {
          "output_type": "stream",
          "text": [
            "0.9216666666666666\n"
          ],
          "name": "stdout"
        }
      ]
    },
    {
      "cell_type": "markdown",
      "metadata": {
        "id": "2dtlq4o21udW",
        "colab_type": "text"
      },
      "source": [
        "#### KNeighborsClassifier"
      ]
    },
    {
      "cell_type": "code",
      "metadata": {
        "id": "bWfVuJj_1vNK",
        "colab_type": "code",
        "outputId": "f8c20853-5e5c-40b7-891f-629dd0628d82",
        "colab": {
          "base_uri": "https://localhost:8080/",
          "height": 35
        }
      },
      "source": [
        "knn = KNeighborsClassifier(n_neighbors=5, weights='distance').fit(X_train_tr, y_train_tr)\n",
        "print(knn.score(X_train_val, y_train_val))"
      ],
      "execution_count": 0,
      "outputs": [
        {
          "output_type": "stream",
          "text": [
            "0.9746666666666667\n"
          ],
          "name": "stdout"
        }
      ]
    },
    {
      "cell_type": "markdown",
      "metadata": {
        "id": "J9JlslHx1vxb",
        "colab_type": "text"
      },
      "source": [
        "#### RandomForestClassifier"
      ]
    },
    {
      "cell_type": "code",
      "metadata": {
        "id": "U2lmhGtI1-Wy",
        "colab_type": "code",
        "outputId": "5ad37585-bb5c-48a6-a11e-1bf5ee5cf033",
        "colab": {
          "base_uri": "https://localhost:8080/",
          "height": 35
        }
      },
      "source": [
        "rf = RandomForestClassifier(n_estimators=100, max_depth=5).fit(X_train_tr, y_train_tr)\n",
        "print(rf.score(X_train_val, y_train_val))"
      ],
      "execution_count": 0,
      "outputs": [
        {
          "output_type": "stream",
          "text": [
            "0.8545\n"
          ],
          "name": "stdout"
        }
      ]
    },
    {
      "cell_type": "markdown",
      "metadata": {
        "id": "nCp_enSU3kb1",
        "colab_type": "text"
      },
      "source": [
        "### With Dimensionality Decomposition"
      ]
    },
    {
      "cell_type": "code",
      "metadata": {
        "id": "fOIOr4mp3oL1",
        "colab_type": "code",
        "colab": {}
      },
      "source": [
        "N_COMPONENTS = 500\n",
        "\n",
        "pca = PCA(n_components=N_COMPONENTS, whiten=True)\n",
        "nmf = NMF(n_components=N_COMPONENTS)"
      ],
      "execution_count": 0,
      "outputs": []
    },
    {
      "cell_type": "code",
      "metadata": {
        "id": "xJehSCNdflCQ",
        "colab_type": "code",
        "colab": {}
      },
      "source": [
        "X_train_tr_pca = pca.fit_transform(X_train_tr)\n",
        "X_train_val_pca = pca.transform(X_train_val)\n",
        "X_train_tr_nmf = nmf.fit_transform(X_train_tr)\n",
        "X_train_val_nmf = nmf.transform(X_train_val)"
      ],
      "execution_count": 0,
      "outputs": []
    },
    {
      "cell_type": "markdown",
      "metadata": {
        "id": "yjIvkeA_rZJu",
        "colab_type": "text"
      },
      "source": [
        "#### PCA"
      ]
    },
    {
      "cell_type": "code",
      "metadata": {
        "id": "EOmJn_y7qJQ-",
        "colab_type": "code",
        "outputId": "4a820dda-defd-4514-83ff-4e41e33986b6",
        "colab": {
          "base_uri": "https://localhost:8080/",
          "height": 149
        }
      },
      "source": [
        "sgd = SGDClassifier(penalty='elasticnet', l1_ratio=0.1, alpha=0.0001, epsilon=0.05).fit(X_train_tr_pca, y_train_tr)\n",
        "logreg = LogisticRegression().fit(X_train_tr_pca, y_train_tr)\n",
        "knn = KNeighborsClassifier(n_neighbors=5, weights='distance').fit(X_train_tr_pca, y_train_tr)\n",
        "rf = RandomForestClassifier().fit(X_train_tr_pca, y_train_tr)"
      ],
      "execution_count": 0,
      "outputs": [
        {
          "output_type": "stream",
          "text": [
            "/usr/local/lib/python3.6/dist-packages/sklearn/linear_model/logistic.py:432: FutureWarning: Default solver will be changed to 'lbfgs' in 0.22. Specify a solver to silence this warning.\n",
            "  FutureWarning)\n",
            "/usr/local/lib/python3.6/dist-packages/sklearn/linear_model/logistic.py:469: FutureWarning: Default multi_class will be changed to 'auto' in 0.22. Specify the multi_class option to silence this warning.\n",
            "  \"this warning.\", FutureWarning)\n",
            "/usr/local/lib/python3.6/dist-packages/sklearn/ensemble/forest.py:245: FutureWarning: The default value of n_estimators will change from 10 in version 0.20 to 100 in 0.22.\n",
            "  \"10 in version 0.20 to 100 in 0.22.\", FutureWarning)\n"
          ],
          "name": "stderr"
        }
      ]
    },
    {
      "cell_type": "code",
      "metadata": {
        "id": "Br1XeHygqvW8",
        "colab_type": "code",
        "outputId": "b866d00a-046c-4fd4-99c8-b6561c407988",
        "colab": {
          "base_uri": "https://localhost:8080/",
          "height": 112
        }
      },
      "source": [
        "print(\"SGD accuracy score with PCA decomposition: \", sgd.score(X_train_val_pca, y_train_val))\n",
        "print(\"LogisticRegression accuracy score with PCA decomposition: \", logreg.score(X_train_val_pca, y_train_val))\n",
        "print(\"KNeighborsClassifier accuracy score with PCA decomposition: \", knn.score(X_train_val_pca, y_train_val))\n",
        "print(\"RandomForestClassifier accuracy score with PCA decomposition: \", rf.score(X_train_val_pca, y_train_val))"
      ],
      "execution_count": 0,
      "outputs": [
        {
          "output_type": "stream",
          "text": [
            "SGD accuracy score with PCA decomposition:  0.8955\n",
            "LogisticRegression accuracy score with PCA decomposition:  0.9211666666666667\n",
            "KNeighborsClassifier accuracy score with PCA decomposition:  0.49316666666666664\n",
            "RandomForestClassifier accuracy score with PCA decomposition:  0.8201666666666667\n"
          ],
          "name": "stdout"
        }
      ]
    },
    {
      "cell_type": "markdown",
      "metadata": {
        "id": "Aaa1wSp2sZ4s",
        "colab_type": "text"
      },
      "source": [
        "#### NMF "
      ]
    },
    {
      "cell_type": "code",
      "metadata": {
        "id": "gYQ9I0o-sqQ7",
        "colab_type": "code",
        "outputId": "818a8fe2-668d-4f37-eff4-7097a9bc41ef",
        "colab": {
          "base_uri": "https://localhost:8080/",
          "height": 149
        }
      },
      "source": [
        "sgd = SGDClassifier(penalty='elasticnet', l1_ratio=0.1, alpha=0.0001, epsilon=0.05).fit(X_train_tr_nmf, y_train_tr)\n",
        "logreg = LogisticRegression().fit(X_train_tr_nmf, y_train_tr)\n",
        "knn = KNeighborsClassifier(n_neighbors=5, weights='distance').fit(X_train_tr_nmf, y_train_tr)\n",
        "rf = RandomForestClassifier().fit(X_train_tr_nmf, y_train_tr)"
      ],
      "execution_count": 0,
      "outputs": [
        {
          "output_type": "stream",
          "text": [
            "/usr/local/lib/python3.6/dist-packages/sklearn/linear_model/logistic.py:432: FutureWarning: Default solver will be changed to 'lbfgs' in 0.22. Specify a solver to silence this warning.\n",
            "  FutureWarning)\n",
            "/usr/local/lib/python3.6/dist-packages/sklearn/linear_model/logistic.py:469: FutureWarning: Default multi_class will be changed to 'auto' in 0.22. Specify the multi_class option to silence this warning.\n",
            "  \"this warning.\", FutureWarning)\n",
            "/usr/local/lib/python3.6/dist-packages/sklearn/ensemble/forest.py:245: FutureWarning: The default value of n_estimators will change from 10 in version 0.20 to 100 in 0.22.\n",
            "  \"10 in version 0.20 to 100 in 0.22.\", FutureWarning)\n"
          ],
          "name": "stderr"
        }
      ]
    },
    {
      "cell_type": "code",
      "metadata": {
        "id": "bqfdnzHEsynU",
        "colab_type": "code",
        "outputId": "575b109e-041a-4ec6-feb0-3f5526f396c1",
        "colab": {
          "base_uri": "https://localhost:8080/",
          "height": 112
        }
      },
      "source": [
        "print(\"SGD accuracy score with NMF decomposition: \", sgd.score(X_train_val_nmf, y_train_val))\n",
        "print(\"LogisticRegression accuracy score with NMF decomposition: \", logreg.score(X_train_val_nmf, y_train_val))\n",
        "print(\"KNeighborsClassifier accuracy score with NMF decomposition: \", knn.score(X_train_val_nmf, y_train_val))\n",
        "print(\"RandomForestClassifier accuracy score with NMF decomposition: \", rf.score(X_train_val_nmf, y_train_val))"
      ],
      "execution_count": 0,
      "outputs": [
        {
          "output_type": "stream",
          "text": [
            "SGD accuracy score with NMF decomposition:  0.8618333333333333\n",
            "LogisticRegression accuracy score with NMF decomposition:  0.8718333333333333\n",
            "KNeighborsClassifier accuracy score with NMF decomposition:  0.8966666666666666\n",
            "RandomForestClassifier accuracy score with NMF decomposition:  0.9243333333333333\n"
          ],
          "name": "stdout"
        }
      ]
    }
  ]
}