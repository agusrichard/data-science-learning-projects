{
  "nbformat": 4,
  "nbformat_minor": 0,
  "metadata": {
    "colab": {
      "name": "tensorflow-fashion-mnist.ipynb",
      "provenance": [],
      "collapsed_sections": []
    },
    "kernelspec": {
      "name": "python3",
      "display_name": "Python 3"
    }
  },
  "cells": [
    {
      "cell_type": "markdown",
      "metadata": {
        "id": "1UnpSzrOM8gr",
        "colab_type": "text"
      },
      "source": [
        "# Convolutional Neural Networks with TensorFlow on Fashion MNIST Dataset"
      ]
    },
    {
      "cell_type": "code",
      "metadata": {
        "id": "0FZ_iRmAN7EG",
        "colab_type": "code",
        "outputId": "bf9e317c-4824-411d-ae1c-cae8df7a0cdd",
        "colab": {
          "base_uri": "https://localhost:8080/",
          "height": 35
        }
      },
      "source": [
        "import numpy as np\n",
        "import keras\n",
        "import tensorflow as tf\n",
        "import matplotlib.pyplot as plt\n",
        "\n",
        "(X_train, y_train), (X_test, y_test) = keras.datasets.fashion_mnist.load_data()"
      ],
      "execution_count": 0,
      "outputs": [
        {
          "output_type": "stream",
          "text": [
            "Using TensorFlow backend.\n"
          ],
          "name": "stderr"
        }
      ]
    },
    {
      "cell_type": "code",
      "metadata": {
        "id": "wRVsaN8SOLoz",
        "colab_type": "code",
        "outputId": "9fbb96a4-9ba6-40a7-8ffa-ab258ea61f15",
        "colab": {
          "base_uri": "https://localhost:8080/",
          "height": 90
        }
      },
      "source": [
        "print(\"X_train.shape: \", X_train.shape)\n",
        "print(\"X_test.shape: \", X_test.shape)\n",
        "print(\"y_train.shape: \", y_train.shape)\n",
        "print(\"y_test.shape: \", y_test.shape)"
      ],
      "execution_count": 0,
      "outputs": [
        {
          "output_type": "stream",
          "text": [
            "X_train.shape:  (60000, 28, 28)\n",
            "X_test.shape:  (10000, 28, 28)\n",
            "y_train.shape:  (60000,)\n",
            "y_test.shape:  (10000,)\n"
          ],
          "name": "stdout"
        }
      ]
    },
    {
      "cell_type": "code",
      "metadata": {
        "id": "b_OFPu2AOtMg",
        "colab_type": "code",
        "outputId": "865bd616-09e1-4053-eaac-10743cd5058e",
        "colab": {
          "base_uri": "https://localhost:8080/",
          "height": 615
        }
      },
      "source": [
        "fig, axes = plt.subplots(3, 3, figsize=(10, 10))\n",
        "\n",
        "axes = axes.ravel()\n",
        "\n",
        "for ax, num in zip(axes, [90, 78, 54, 22, 89, 1021, 6787, 10, 1]):\n",
        "    ax.imshow(X_train[num], cmap=plt.cm.binary)\n",
        "    plt.grid(False)\n",
        "\n",
        "plt.show()"
      ],
      "execution_count": 0,
      "outputs": [
        {
          "output_type": "display_data",
          "data": {
            "image/png": "[encoded data removed]",
            "text/plain": [
              "<Figure size 720x720 with 9 Axes>"
            ]
          },
          "metadata": {
            "tags": []
          }
        }
      ]
    },
    {
      "cell_type": "code",
      "metadata": {
        "id": "a_yV-I04OkEB",
        "colab_type": "code",
        "colab": {}
      },
      "source": [
        "# ============ preprocess the data =============\n",
        "# reshape the Xs\n",
        "X_train = X_train.reshape(-1, X_train.shape[1]*X_train.shape[2])\n",
        "X_test = X_test.reshape(-1, X_test.shape[1]*X_test.shape[1])\n",
        "# normalize\n",
        "X_train = X_train / 255.0\n",
        "X_test = X_test / 255.0\n",
        "# labels to categorical\n",
        "Y_train = keras.utils.to_categorical(y_train, 10)\n",
        "Y_test = keras.utils.to_categorical(y_test, 10)"
      ],
      "execution_count": 0,
      "outputs": []
    },
    {
      "cell_type": "code",
      "metadata": {
        "id": "GnxO9ShmQor2",
        "colab_type": "code",
        "outputId": "c9222835-6c2b-460a-a728-f2800ac8697f",
        "colab": {
          "base_uri": "https://localhost:8080/",
          "height": 90
        }
      },
      "source": [
        "print(\"X_train.shape: \", X_train.shape)\n",
        "print(\"X_test.shape: \", X_test.shape)\n",
        "print(\"y_train.shape: \", y_train.shape)\n",
        "print(\"y_test.shape: \", y_test.shape)"
      ],
      "execution_count": 0,
      "outputs": [
        {
          "output_type": "stream",
          "text": [
            "X_train.shape:  (60000, 784)\n",
            "X_test.shape:  (10000, 784)\n",
            "y_train.shape:  (60000,)\n",
            "y_test.shape:  (10000,)\n"
          ],
          "name": "stdout"
        }
      ]
    },
    {
      "cell_type": "code",
      "metadata": {
        "id": "9LzEVBySROGA",
        "colab_type": "code",
        "colab": {}
      },
      "source": [
        "# =========== defining the functions ===============\n",
        "def weigth_variable(shape):\n",
        "    initial = tf.truncated_normal(shape=shape, stddev=0.3)\n",
        "    return tf.Variable(initial)\n",
        "\n",
        "def bias_variable(shape):\n",
        "    initial = tf.constant(value=0.1, shape=shape)\n",
        "    return tf.Variable(initial)\n",
        "\n",
        "def conv2d(x, W):\n",
        "    return tf.nn.conv2d(x, W, strides=[1, 1, 1, 1], padding='SAME')\n",
        "\n",
        "def max_pooling_2x2(x):\n",
        "    return tf.nn.max_pool(x, ksize=[1, 2, 2, 1], strides=[1, 2, 2, 1], padding='SAME')\n",
        "\n",
        "def conv_layer(input, shape):\n",
        "    W = weigth_variable(shape)\n",
        "    b = bias_variable([shape[3]])\n",
        "    return tf.nn.relu(conv2d(input, W) + b)\n",
        "\n",
        "def full_layer(input, size):\n",
        "    input_size = int(input.get_shape()[1])\n",
        "    W = weigth_variable([input_size, size])\n",
        "    b = bias_variable([size])\n",
        "    return tf.matmul(input, W) + b"
      ],
      "execution_count": 0,
      "outputs": []
    },
    {
      "cell_type": "code",
      "metadata": {
        "id": "E9Ml7LvZWve3",
        "colab_type": "code",
        "colab": {}
      },
      "source": [
        "# ======== the arcitechture ==============\n",
        "x = tf.placeholder(tf.float32, shape=[None, 784])\n",
        "y_true = tf.placeholder(tf.float32, shape=[None, 10])\n",
        "\n",
        "x_image = tf.reshape(x, shape=[-1, 28, 28, 1])\n",
        "conv1 = conv_layer(x_image, shape=[5, 5, 1, 32])\n",
        "conv1_pool = max_pooling_2x2(conv1)\n",
        "\n",
        "conv2 = conv_layer(conv1_pool, shape=[5, 5, 32, 64])\n",
        "conv2_pool = max_pooling_2x2(conv2)\n",
        "\n",
        "conv2_flat = tf.reshape(conv2_pool, shape=[-1, conv2_pool.shape[1]*conv2_pool.shape[2]*conv2_pool.shape[3]])\n",
        "full_1 = tf.nn.relu(full_layer(conv2_flat, 1024))\n",
        "\n",
        "rate = tf.placeholder(tf.float32)\n",
        "full_1_drop = tf.nn.dropout(full_1, rate=rate)\n",
        "\n",
        "y_pred = full_layer(full_1_drop, 10)"
      ],
      "execution_count": 0,
      "outputs": []
    },
    {
      "cell_type": "code",
      "metadata": {
        "id": "vw3-cPfUYqYp",
        "colab_type": "code",
        "outputId": "90408799-2d4a-44dc-a26d-12ee67e18710",
        "colab": {
          "base_uri": "https://localhost:8080/",
          "height": 733
        }
      },
      "source": [
        "LEARNING_RATE = 0.01\n",
        "EPOCHS = 3\n",
        "\n",
        "cross_entropy = tf.reduce_mean(tf.nn.sigmoid_cross_entropy_with_logits(labels=y_true, logits=y_pred))\n",
        "\n",
        "train_step = tf.train.AdamOptimizer(LEARNING_RATE).minimize(cross_entropy)\n",
        "\n",
        "correct_prediction = tf.equal(tf.argmax(y_pred, 1), tf.argmax(y_true, 1))\n",
        "accuracy = tf.reduce_mean(tf.cast(correct_prediction, tf.float32))\n",
        "\n",
        "with tf.Session() as sess:\n",
        "    sess.run(tf.global_variables_initializer())\n",
        "\n",
        "    for epoch in range(EPOCHS):\n",
        "        percentage = 0\n",
        "        batch_index = np.split(np.random.permutation(X_train.shape[0]), 600)\n",
        "        print(\"Epoch {}:\".format(epoch+1))\n",
        "\n",
        "        for batch in range(600):\n",
        "            batch_X = X_train[batch_index[batch]]\n",
        "            batch_Y = Y_train[batch_index[batch]]\n",
        "            if batch%60 == 0:\n",
        "                train_accuracy = sess.run(accuracy, feed_dict={x: batch_X,\n",
        "                                                               y_true: batch_Y,\n",
        "                                                               rate: 0})\n",
        "                print(\"{}%, training accuracy = {}\".format(percentage, train_accuracy))\n",
        "                percentage += 10\n",
        "\n",
        "            sess.run(train_step, feed_dict={x: batch_X,\n",
        "                                            y_true: batch_Y,\n",
        "                                            rate: 0.1})\n",
        "        train_accuracy = sess.run(accuracy, feed_dict={x: batch_X, \n",
        "                                                           y_true: batch_Y,\n",
        "                                                           rate: 0})\n",
        "        print(\"{}%, training accuracy = {}\".format(percentage, train_accuracy))\n",
        "        print()"
      ],
      "execution_count": 0,
      "outputs": [
        {
          "output_type": "stream",
          "text": [
            "Epoch 0:\n",
            "0%, training accuracy = 0.12999999523162842\n",
            "10%, training accuracy = 0.6600000262260437\n",
            "20%, training accuracy = 0.6499999761581421\n",
            "30%, training accuracy = 0.6899999976158142\n",
            "40%, training accuracy = 0.7699999809265137\n",
            "50%, training accuracy = 0.8299999833106995\n",
            "60%, training accuracy = 0.75\n",
            "70%, training accuracy = 0.8100000023841858\n",
            "80%, training accuracy = 0.7599999904632568\n",
            "90%, training accuracy = 0.7900000214576721\n",
            "100%, training accuracy = 0.8299999833106995\n",
            "\n",
            "Epoch 1:\n",
            "0%, training accuracy = 0.8399999737739563\n",
            "10%, training accuracy = 0.8100000023841858\n",
            "20%, training accuracy = 0.8700000047683716\n",
            "30%, training accuracy = 0.8500000238418579\n",
            "40%, training accuracy = 0.7699999809265137\n",
            "50%, training accuracy = 0.8399999737739563\n",
            "60%, training accuracy = 0.8299999833106995\n",
            "70%, training accuracy = 0.8299999833106995\n",
            "80%, training accuracy = 0.8399999737739563\n",
            "90%, training accuracy = 0.8100000023841858\n",
            "100%, training accuracy = 0.8999999761581421\n",
            "\n",
            "Epoch 2:\n",
            "0%, training accuracy = 0.7699999809265137\n",
            "10%, training accuracy = 0.8199999928474426\n",
            "20%, training accuracy = 0.8799999952316284\n",
            "30%, training accuracy = 0.8700000047683716\n",
            "40%, training accuracy = 0.8799999952316284\n",
            "50%, training accuracy = 0.8399999737739563\n",
            "60%, training accuracy = 0.8399999737739563\n",
            "70%, training accuracy = 0.8299999833106995\n",
            "80%, training accuracy = 0.8899999856948853\n",
            "90%, training accuracy = 0.8399999737739563\n",
            "100%, training accuracy = 0.8100000023841858\n",
            "\n"
          ],
          "name": "stdout"
        }
      ]
    }
  ]
}