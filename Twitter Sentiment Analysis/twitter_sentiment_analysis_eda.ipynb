{
  "nbformat": 4,
  "nbformat_minor": 0,
  "metadata": {
    "colab": {
      "name": "twitter_sentiment_analysis_eda.ipynb",
      "provenance": [],
      "collapsed_sections": [],
      "authorship_tag": "ABX9TyMo57hOqJu3wO72jYWNBTsx",
      "include_colab_link": true
    },
    "kernelspec": {
      "name": "python3",
      "display_name": "Python 3"
    }
  },
  "cells": [
    {
      "cell_type": "markdown",
      "metadata": {
        "id": "view-in-github",
        "colab_type": "text"
      },
      "source": [
        "<a href=\"https://colab.research.google.com/github/agusrichard/data-science-projects/blob/master/Twitter%20Sentiment%20Analysis/twitter_sentiment_analysis_eda.ipynb\" target=\"_parent\"><img src=\"https://colab.research.google.com/assets/colab-badge.svg\" alt=\"Open In Colab\"/></a>"
      ]
    },
    {
      "cell_type": "markdown",
      "metadata": {
        "id": "TQP6Io9fvkn-",
        "colab_type": "text"
      },
      "source": [
        "# Twitter Sentiment Analysis: EDA"
      ]
    },
    {
      "cell_type": "markdown",
      "metadata": {
        "id": "WtS4Bod5v0pG",
        "colab_type": "text"
      },
      "source": [
        "__Import Libraries__"
      ]
    },
    {
      "cell_type": "code",
      "metadata": {
        "id": "uS7nb0c2wUvj",
        "colab_type": "code",
        "colab": {
          "base_uri": "https://localhost:8080/",
          "height": 71
        },
        "outputId": "6a00fd11-48f0-4289-8fd7-666e23c0910c"
      },
      "source": [
        "# Essentials\n",
        "import numpy as np\n",
        "import pandas as pd\n",
        "import matplotlib.pyplot as plt\n",
        "import seaborn as sns\n",
        "plt.style.use('ggplot')\n",
        "sns.set_palette('colorblind')"
      ],
      "execution_count": 1,
      "outputs": [
        {
          "output_type": "stream",
          "text": [
            "/usr/local/lib/python3.6/dist-packages/statsmodels/tools/_testing.py:19: FutureWarning: pandas.util.testing is deprecated. Use the functions in the public API at pandas.testing instead.\n",
            "  import pandas.util.testing as tm\n"
          ],
          "name": "stderr"
        }
      ]
    },
    {
      "cell_type": "markdown",
      "metadata": {
        "id": "89k_zMYrw8np",
        "colab_type": "text"
      },
      "source": [
        "__Load dataset__"
      ]
    },
    {
      "cell_type": "code",
      "metadata": {
        "id": "dw3cXyma0HiX",
        "colab_type": "code",
        "colab": {}
      },
      "source": [
        "train = pd.read_csv('train.csv')\n",
        "test = pd.read_csv('test.csv')"
      ],
      "execution_count": 2,
      "outputs": []
    },
    {
      "cell_type": "markdown",
      "metadata": {
        "id": "aKmdeNsaZckn",
        "colab_type": "text"
      },
      "source": [
        "## Introduction and Preliminary Step"
      ]
    },
    {
      "cell_type": "markdown",
      "metadata": {
        "id": "mt3lbq5QZhhr",
        "colab_type": "text"
      },
      "source": [
        "The objective of this task is to detect hate speech in tweets. For the sake of simplicity, we say a tweet contains hate speech if it has a racist or sexist sentiment associated with it. So, the task is to classify racist or sexist tweets from other tweets.\n",
        "\n",
        "Formally, given a training sample of tweets and labels, where label '1' denotes the tweet is racist/sexist and label '0' denotes the tweet is not racist/sexist, your objective is to predict the labels on the test dataset."
      ]
    },
    {
      "cell_type": "markdown",
      "metadata": {
        "id": "vHK2UINvZqgB",
        "colab_type": "text"
      },
      "source": [
        "__Motivation__"
      ]
    },
    {
      "cell_type": "markdown",
      "metadata": {
        "id": "ddSqmp2hZuqS",
        "colab_type": "text"
      },
      "source": [
        "Hate  speech  is  an  unfortunately  common  occurrence  on  the  Internet.  Often social media sites like Facebook and Twitter face the problem of identifying and censoring  problematic  posts  while weighing the right to freedom of speech. The  importance  of  detecting  and  moderating hate  speech  is  evident  from  the  strong  connection between hate speech and actual hate crimes. Early identification of users promoting  hate  speech  could  enable  outreach  programs that attempt to prevent an escalation from speech to action. Sites such as Twitter and Facebook have been seeking  to  actively  combat  hate  speech. In spite of these reasons, NLP research on hate speech has been very limited, primarily due to the lack of a general definition of hate speech, an analysis of its demographic influences, and an investigation of the most effective features."
      ]
    },
    {
      "cell_type": "markdown",
      "metadata": {
        "id": "m12f-tY9ZvLy",
        "colab_type": "text"
      },
      "source": [
        "First, we check whether the dataset contains missing values or not."
      ]
    },
    {
      "cell_type": "code",
      "metadata": {
        "id": "W2fN4ntMZ3j_",
        "colab_type": "code",
        "colab": {}
      },
      "source": [
        ""
      ],
      "execution_count": null,
      "outputs": []
    }
  ]
}