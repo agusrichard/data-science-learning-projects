{
  "nbformat": 4,
  "nbformat_minor": 0,
  "metadata": {
    "colab": {
      "name": "twitter_sentiment_analysis_eda.ipynb",
      "provenance": [],
      "collapsed_sections": [],
      "authorship_tag": "ABX9TyO4RyFJPZaCTeJJgoKQ0PYt",
      "include_colab_link": true
    },
    "kernelspec": {
      "name": "python3",
      "display_name": "Python 3"
    }
  },
  "cells": [
    {
      "cell_type": "markdown",
      "metadata": {
        "id": "view-in-github",
        "colab_type": "text"
      },
      "source": [
        "<a href=\"https://colab.research.google.com/github/agusrichard/data-science-projects/blob/master/Twitter%20Sentiment%20Analysis/twitter_sentiment_analysis_eda.ipynb\" target=\"_parent\"><img src=\"https://colab.research.google.com/assets/colab-badge.svg\" alt=\"Open In Colab\"/></a>"
      ]
    },
    {
      "cell_type": "markdown",
      "metadata": {
        "id": "TQP6Io9fvkn-",
        "colab_type": "text"
      },
      "source": [
        "# Twitter Sentiment Analysis: EDA"
      ]
    },
    {
      "cell_type": "markdown",
      "metadata": {
        "id": "WtS4Bod5v0pG",
        "colab_type": "text"
      },
      "source": [
        "__Import Libraries__"
      ]
    },
    {
      "cell_type": "code",
      "metadata": {
        "id": "uS7nb0c2wUvj",
        "colab_type": "code",
        "colab": {
          "base_uri": "https://localhost:8080/",
          "height": 71
        },
        "outputId": "783cea1c-a550-4445-c79a-8d21f99576db"
      },
      "source": [
        "# Essentials\n",
        "import numpy as np\n",
        "import pandas as pd\n",
        "import matplotlib.pyplot as plt\n",
        "import seaborn as sns\n",
        "plt.style.use('ggplot')\n",
        "sns.set_palette('colorblind')\n",
        "\n",
        "# NLTK\n",
        "import nltk\n",
        "from nltk.tokenize import sent_tokenize\n",
        "\n",
        "\n",
        "# Ignore warning\n",
        "# import warnings\n",
        "# warnings.filterwarnings('ignore')"
      ],
      "execution_count": 1,
      "outputs": [
        {
          "output_type": "stream",
          "text": [
            "/usr/local/lib/python3.6/dist-packages/statsmodels/tools/_testing.py:19: FutureWarning: pandas.util.testing is deprecated. Use the functions in the public API at pandas.testing instead.\n",
            "  import pandas.util.testing as tm\n"
          ],
          "name": "stderr"
        }
      ]
    },
    {
      "cell_type": "code",
      "metadata": {
        "id": "AVfUx9x9q0SR",
        "colab_type": "code",
        "colab": {
          "base_uri": "https://localhost:8080/",
          "height": 68
        },
        "outputId": "10da7c2a-2db4-4f8f-8002-f0776a1be3d1"
      },
      "source": [
        "nltk.download('punkt')"
      ],
      "execution_count": 2,
      "outputs": [
        {
          "output_type": "stream",
          "text": [
            "[nltk_data] Downloading package punkt to /root/nltk_data...\n",
            "[nltk_data]   Package punkt is already up-to-date!\n"
          ],
          "name": "stdout"
        },
        {
          "output_type": "execute_result",
          "data": {
            "text/plain": [
              "True"
            ]
          },
          "metadata": {
            "tags": []
          },
          "execution_count": 2
        }
      ]
    },
    {
      "cell_type": "markdown",
      "metadata": {
        "id": "89k_zMYrw8np",
        "colab_type": "text"
      },
      "source": [
        "__Load dataset__"
      ]
    },
    {
      "cell_type": "code",
      "metadata": {
        "id": "dw3cXyma0HiX",
        "colab_type": "code",
        "colab": {}
      },
      "source": [
        "train = pd.read_csv('train.csv')\n",
        "test = pd.read_csv('test.csv')"
      ],
      "execution_count": 3,
      "outputs": []
    },
    {
      "cell_type": "markdown",
      "metadata": {
        "id": "etVMWbSnmi32",
        "colab_type": "text"
      },
      "source": [
        "__Helper Function__"
      ]
    },
    {
      "cell_type": "code",
      "metadata": {
        "id": "cHe3ddYdmk3y",
        "colab_type": "code",
        "colab": {}
      },
      "source": [
        "def hist_count(col_name, title):\n",
        "    plt.figure(figsize=(10, 7))\n",
        "    for i in np.sort(train['label'].unique()):\n",
        "        sns.distplot(train.loc[train['label'] == i, col_name], label=i)\n",
        "    plt.title('Character Count')\n",
        "    plt.legend();"
      ],
      "execution_count": 4,
      "outputs": []
    },
    {
      "cell_type": "markdown",
      "metadata": {
        "id": "9m2HCA1xdSAN",
        "colab_type": "text"
      },
      "source": [
        "---"
      ]
    },
    {
      "cell_type": "markdown",
      "metadata": {
        "id": "aKmdeNsaZckn",
        "colab_type": "text"
      },
      "source": [
        "## Introduction and Preliminary Step"
      ]
    },
    {
      "cell_type": "markdown",
      "metadata": {
        "id": "mt3lbq5QZhhr",
        "colab_type": "text"
      },
      "source": [
        "The objective of this task is to detect hate speech in tweets. For the sake of simplicity, we say a tweet contains hate speech if it has a racist or sexist sentiment associated with it. So, the task is to classify racist or sexist tweets from other tweets.\n",
        "\n",
        "Formally, given a training sample of tweets and labels, where label '1' denotes the tweet is racist/sexist and label '0' denotes the tweet is not racist/sexist, your objective is to predict the labels on the test dataset."
      ]
    },
    {
      "cell_type": "markdown",
      "metadata": {
        "id": "vHK2UINvZqgB",
        "colab_type": "text"
      },
      "source": [
        "__Motivation__"
      ]
    },
    {
      "cell_type": "markdown",
      "metadata": {
        "id": "ddSqmp2hZuqS",
        "colab_type": "text"
      },
      "source": [
        "Hate  speech  is  an  unfortunately  common  occurrence  on  the  Internet.  Often social media sites like Facebook and Twitter face the problem of identifying and censoring  problematic  posts  while weighing the right to freedom of speech. The  importance  of  detecting  and  moderating hate  speech  is  evident  from  the  strong  connection between hate speech and actual hate crimes. Early identification of users promoting  hate  speech  could  enable  outreach  programs that attempt to prevent an escalation from speech to action. Sites such as Twitter and Facebook have been seeking  to  actively  combat  hate  speech. In spite of these reasons, NLP research on hate speech has been very limited, primarily due to the lack of a general definition of hate speech, an analysis of its demographic influences, and an investigation of the most effective features."
      ]
    },
    {
      "cell_type": "markdown",
      "metadata": {
        "id": "m12f-tY9ZvLy",
        "colab_type": "text"
      },
      "source": [
        "First, we check whether the dataset contains missing values or not."
      ]
    },
    {
      "cell_type": "code",
      "metadata": {
        "id": "W2fN4ntMZ3j_",
        "colab_type": "code",
        "colab": {
          "base_uri": "https://localhost:8080/",
          "height": 204
        },
        "outputId": "eeccb12b-1164-49ff-a17a-7da1a5accede"
      },
      "source": [
        "print('Does train set have missing values? ')\n",
        "print(train.isnull().any(), '\\n')\n",
        "print('Does test set have missing values? ')\n",
        "print(test.isnull().any(), '\\n')"
      ],
      "execution_count": 5,
      "outputs": [
        {
          "output_type": "stream",
          "text": [
            "Does train set have missing values? \n",
            "id       False\n",
            "label    False\n",
            "tweet    False\n",
            "dtype: bool \n",
            "\n",
            "Does test set have missing values? \n",
            "id       False\n",
            "tweet    False\n",
            "dtype: bool \n",
            "\n"
          ],
          "name": "stdout"
        }
      ]
    },
    {
      "cell_type": "markdown",
      "metadata": {
        "id": "uaxgFDPDay80",
        "colab_type": "text"
      },
      "source": [
        "Check the data type for each column."
      ]
    },
    {
      "cell_type": "code",
      "metadata": {
        "id": "UsuFRRdxbIWN",
        "colab_type": "code",
        "colab": {
          "base_uri": "https://localhost:8080/",
          "height": 204
        },
        "outputId": "894feb9b-9750-49c3-99bd-633883a1aa00"
      },
      "source": [
        "print('Train set data types: ')\n",
        "print(train.dtypes, '\\n')\n",
        "print('Test set data types: ')\n",
        "print(test.dtypes, '\\n')"
      ],
      "execution_count": 6,
      "outputs": [
        {
          "output_type": "stream",
          "text": [
            "Train set data types: \n",
            "id        int64\n",
            "label     int64\n",
            "tweet    object\n",
            "dtype: object \n",
            "\n",
            "Test set data types: \n",
            "id        int64\n",
            "tweet    object\n",
            "dtype: object \n",
            "\n"
          ],
          "name": "stdout"
        }
      ]
    },
    {
      "cell_type": "markdown",
      "metadata": {
        "id": "-UJswJmTbKSp",
        "colab_type": "text"
      },
      "source": [
        "Do we have imbalance dataset?"
      ]
    },
    {
      "cell_type": "code",
      "metadata": {
        "id": "kTrmSR91cKUQ",
        "colab_type": "code",
        "colab": {
          "base_uri": "https://localhost:8080/",
          "height": 68
        },
        "outputId": "60f7eade-9f87-4994-e4b5-0daf4c374684"
      },
      "source": [
        "train['label'].value_counts()"
      ],
      "execution_count": 7,
      "outputs": [
        {
          "output_type": "execute_result",
          "data": {
            "text/plain": [
              "0    29720\n",
              "1     2242\n",
              "Name: label, dtype: int64"
            ]
          },
          "metadata": {
            "tags": []
          },
          "execution_count": 7
        }
      ]
    },
    {
      "cell_type": "markdown",
      "metadata": {
        "id": "NIvRGgpscNbM",
        "colab_type": "text"
      },
      "source": [
        "So we have an imbalance dataset since 29,720 data points are label 0 (does not contain hate speech) and 2,242 data points are label 1 (contains hate speech). Therefore, accuracy won't be a good metric of choice, f-1 score or ROC AUC Score probably are better options. Let's focus on those two and set f-1 score to be the primary metric."
      ]
    },
    {
      "cell_type": "markdown",
      "metadata": {
        "id": "pBfvlbjEdMmv",
        "colab_type": "text"
      },
      "source": [
        "---"
      ]
    },
    {
      "cell_type": "markdown",
      "metadata": {
        "id": "IUGvjY8bdQ-F",
        "colab_type": "text"
      },
      "source": [
        "## Exploratory Data Analysis"
      ]
    },
    {
      "cell_type": "markdown",
      "metadata": {
        "id": "kcPh644ndWGb",
        "colab_type": "text"
      },
      "source": [
        "Counting the number of characters within each data point."
      ]
    },
    {
      "cell_type": "code",
      "metadata": {
        "id": "a3IBtDWjf3rC",
        "colab_type": "code",
        "colab": {
          "base_uri": "https://localhost:8080/",
          "height": 204
        },
        "outputId": "2b28a14f-edc2-485e-b2f3-ec4ca323aa47"
      },
      "source": [
        "train['char_count'] = train['tweet'].str.len()\n",
        "train[['tweet', 'char_count']].head()"
      ],
      "execution_count": 8,
      "outputs": [
        {
          "output_type": "execute_result",
          "data": {
            "text/html": [
              "<div>\n",
              "<style scoped>\n",
              "    .dataframe tbody tr th:only-of-type {\n",
              "        vertical-align: middle;\n",
              "    }\n",
              "\n",
              "    .dataframe tbody tr th {\n",
              "        vertical-align: top;\n",
              "    }\n",
              "\n",
              "    .dataframe thead th {\n",
              "        text-align: right;\n",
              "    }\n",
              "</style>\n",
              "<table border=\"1\" class=\"dataframe\">\n",
              "  <thead>\n",
              "    <tr style=\"text-align: right;\">\n",
              "      <th></th>\n",
              "      <th>tweet</th>\n",
              "      <th>char_count</th>\n",
              "    </tr>\n",
              "  </thead>\n",
              "  <tbody>\n",
              "    <tr>\n",
              "      <th>0</th>\n",
              "      <td>@user when a father is dysfunctional and is s...</td>\n",
              "      <td>102</td>\n",
              "    </tr>\n",
              "    <tr>\n",
              "      <th>1</th>\n",
              "      <td>@user @user thanks for #lyft credit i can't us...</td>\n",
              "      <td>122</td>\n",
              "    </tr>\n",
              "    <tr>\n",
              "      <th>2</th>\n",
              "      <td>bihday your majesty</td>\n",
              "      <td>21</td>\n",
              "    </tr>\n",
              "    <tr>\n",
              "      <th>3</th>\n",
              "      <td>#model   i love u take with u all the time in ...</td>\n",
              "      <td>86</td>\n",
              "    </tr>\n",
              "    <tr>\n",
              "      <th>4</th>\n",
              "      <td>factsguide: society now    #motivation</td>\n",
              "      <td>39</td>\n",
              "    </tr>\n",
              "  </tbody>\n",
              "</table>\n",
              "</div>"
            ],
            "text/plain": [
              "                                               tweet  char_count\n",
              "0   @user when a father is dysfunctional and is s...         102\n",
              "1  @user @user thanks for #lyft credit i can't us...         122\n",
              "2                                bihday your majesty          21\n",
              "3  #model   i love u take with u all the time in ...          86\n",
              "4             factsguide: society now    #motivation          39"
            ]
          },
          "metadata": {
            "tags": []
          },
          "execution_count": 8
        }
      ]
    },
    {
      "cell_type": "code",
      "metadata": {
        "id": "EWjcvzbRis6p",
        "colab_type": "code",
        "colab": {
          "base_uri": "https://localhost:8080/",
          "height": 462
        },
        "outputId": "14ffc96b-ee9e-4578-e146-1248b8f475c8"
      },
      "source": [
        "hist_count('char_count', 'Character Count')"
      ],
      "execution_count": 9,
      "outputs": [
        {
          "output_type": "display_data",
          "data": {
            "image/png": "[encoded data removed]",
            "text/plain": [
              "<Figure size 720x504 with 1 Axes>"
            ]
          },
          "metadata": {
            "tags": [],
            "needs_background": "light"
          }
        }
      ]
    },
    {
      "cell_type": "markdown",
      "metadata": {
        "id": "w8dycU2Ei3Sc",
        "colab_type": "text"
      },
      "source": [
        "Negative tweet tends to slightly have more characters."
      ]
    },
    {
      "cell_type": "code",
      "metadata": {
        "id": "DZZR4qVVlv4C",
        "colab_type": "code",
        "colab": {
          "base_uri": "https://localhost:8080/",
          "height": 204
        },
        "outputId": "b7401e2e-139e-46e9-cfc2-440a67e645a8"
      },
      "source": [
        "train['word_count'] = train['tweet'].apply(lambda x: len(x.split()))\n",
        "train[['tweet', 'word_count']].head()"
      ],
      "execution_count": 10,
      "outputs": [
        {
          "output_type": "execute_result",
          "data": {
            "text/html": [
              "<div>\n",
              "<style scoped>\n",
              "    .dataframe tbody tr th:only-of-type {\n",
              "        vertical-align: middle;\n",
              "    }\n",
              "\n",
              "    .dataframe tbody tr th {\n",
              "        vertical-align: top;\n",
              "    }\n",
              "\n",
              "    .dataframe thead th {\n",
              "        text-align: right;\n",
              "    }\n",
              "</style>\n",
              "<table border=\"1\" class=\"dataframe\">\n",
              "  <thead>\n",
              "    <tr style=\"text-align: right;\">\n",
              "      <th></th>\n",
              "      <th>tweet</th>\n",
              "      <th>word_count</th>\n",
              "    </tr>\n",
              "  </thead>\n",
              "  <tbody>\n",
              "    <tr>\n",
              "      <th>0</th>\n",
              "      <td>@user when a father is dysfunctional and is s...</td>\n",
              "      <td>18</td>\n",
              "    </tr>\n",
              "    <tr>\n",
              "      <th>1</th>\n",
              "      <td>@user @user thanks for #lyft credit i can't us...</td>\n",
              "      <td>19</td>\n",
              "    </tr>\n",
              "    <tr>\n",
              "      <th>2</th>\n",
              "      <td>bihday your majesty</td>\n",
              "      <td>3</td>\n",
              "    </tr>\n",
              "    <tr>\n",
              "      <th>3</th>\n",
              "      <td>#model   i love u take with u all the time in ...</td>\n",
              "      <td>14</td>\n",
              "    </tr>\n",
              "    <tr>\n",
              "      <th>4</th>\n",
              "      <td>factsguide: society now    #motivation</td>\n",
              "      <td>4</td>\n",
              "    </tr>\n",
              "  </tbody>\n",
              "</table>\n",
              "</div>"
            ],
            "text/plain": [
              "                                               tweet  word_count\n",
              "0   @user when a father is dysfunctional and is s...          18\n",
              "1  @user @user thanks for #lyft credit i can't us...          19\n",
              "2                                bihday your majesty           3\n",
              "3  #model   i love u take with u all the time in ...          14\n",
              "4             factsguide: society now    #motivation           4"
            ]
          },
          "metadata": {
            "tags": []
          },
          "execution_count": 10
        }
      ]
    },
    {
      "cell_type": "code",
      "metadata": {
        "id": "vEpbXnnNnoOn",
        "colab_type": "code",
        "colab": {
          "base_uri": "https://localhost:8080/",
          "height": 462
        },
        "outputId": "28eb4a2a-ace5-4cab-d8b6-e4cc740c2b53"
      },
      "source": [
        "hist_count('word_count', 'Word Count')"
      ],
      "execution_count": 11,
      "outputs": [
        {
          "output_type": "display_data",
          "data": {
            "image/png": "[encoded data removed]",
            "text/plain": [
              "<Figure size 720x504 with 1 Axes>"
            ]
          },
          "metadata": {
            "tags": [],
            "needs_background": "light"
          }
        }
      ]
    },
    {
      "cell_type": "code",
      "metadata": {
        "id": "tpSv_Ev5nsQ1",
        "colab_type": "code",
        "colab": {
          "base_uri": "https://localhost:8080/",
          "height": 204
        },
        "outputId": "760f610f-2533-4b80-9170-32ac5253245b"
      },
      "source": [
        "# note that white spaces are included with this calculation\n",
        "train['avg_word'] = train['char_count'] / train['word_count']\n",
        "train[['tweet', 'avg_word']].head()"
      ],
      "execution_count": 12,
      "outputs": [
        {
          "output_type": "execute_result",
          "data": {
            "text/html": [
              "<div>\n",
              "<style scoped>\n",
              "    .dataframe tbody tr th:only-of-type {\n",
              "        vertical-align: middle;\n",
              "    }\n",
              "\n",
              "    .dataframe tbody tr th {\n",
              "        vertical-align: top;\n",
              "    }\n",
              "\n",
              "    .dataframe thead th {\n",
              "        text-align: right;\n",
              "    }\n",
              "</style>\n",
              "<table border=\"1\" class=\"dataframe\">\n",
              "  <thead>\n",
              "    <tr style=\"text-align: right;\">\n",
              "      <th></th>\n",
              "      <th>tweet</th>\n",
              "      <th>avg_word</th>\n",
              "    </tr>\n",
              "  </thead>\n",
              "  <tbody>\n",
              "    <tr>\n",
              "      <th>0</th>\n",
              "      <td>@user when a father is dysfunctional and is s...</td>\n",
              "      <td>5.666667</td>\n",
              "    </tr>\n",
              "    <tr>\n",
              "      <th>1</th>\n",
              "      <td>@user @user thanks for #lyft credit i can't us...</td>\n",
              "      <td>6.421053</td>\n",
              "    </tr>\n",
              "    <tr>\n",
              "      <th>2</th>\n",
              "      <td>bihday your majesty</td>\n",
              "      <td>7.000000</td>\n",
              "    </tr>\n",
              "    <tr>\n",
              "      <th>3</th>\n",
              "      <td>#model   i love u take with u all the time in ...</td>\n",
              "      <td>6.142857</td>\n",
              "    </tr>\n",
              "    <tr>\n",
              "      <th>4</th>\n",
              "      <td>factsguide: society now    #motivation</td>\n",
              "      <td>9.750000</td>\n",
              "    </tr>\n",
              "  </tbody>\n",
              "</table>\n",
              "</div>"
            ],
            "text/plain": [
              "                                               tweet  avg_word\n",
              "0   @user when a father is dysfunctional and is s...  5.666667\n",
              "1  @user @user thanks for #lyft credit i can't us...  6.421053\n",
              "2                                bihday your majesty  7.000000\n",
              "3  #model   i love u take with u all the time in ...  6.142857\n",
              "4             factsguide: society now    #motivation  9.750000"
            ]
          },
          "metadata": {
            "tags": []
          },
          "execution_count": 12
        }
      ]
    },
    {
      "cell_type": "code",
      "metadata": {
        "id": "8G1BjLO_n6_n",
        "colab_type": "code",
        "colab": {
          "base_uri": "https://localhost:8080/",
          "height": 462
        },
        "outputId": "e1ca0e39-5324-4185-b41a-af90b0ba24ff"
      },
      "source": [
        "hist_count('avg_word', 'Average Word')"
      ],
      "execution_count": 13,
      "outputs": [
        {
          "output_type": "display_data",
          "data": {
            "image/png": "[encoded data removed]",
            "text/plain": [
              "<Figure size 720x504 with 1 Axes>"
            ]
          },
          "metadata": {
            "tags": [],
            "needs_background": "light"
          }
        }
      ]
    },
    {
      "cell_type": "code",
      "metadata": {
        "id": "M7URV9nSpB-Q",
        "colab_type": "code",
        "colab": {
          "base_uri": "https://localhost:8080/",
          "height": 204
        },
        "outputId": "d5b368f3-269f-424d-ae0c-e63a7c37a04c"
      },
      "source": [
        "# note that white spaces are included with this calculation\n",
        "train['hashtags_mentions_count'] = train['tweet'].apply(lambda x: len([word for word in x.split() if word.startswith('@') or word.startswith('#')]))\n",
        "train[['tweet', 'hashtags_mentions_count']].head()"
      ],
      "execution_count": 14,
      "outputs": [
        {
          "output_type": "execute_result",
          "data": {
            "text/html": [
              "<div>\n",
              "<style scoped>\n",
              "    .dataframe tbody tr th:only-of-type {\n",
              "        vertical-align: middle;\n",
              "    }\n",
              "\n",
              "    .dataframe tbody tr th {\n",
              "        vertical-align: top;\n",
              "    }\n",
              "\n",
              "    .dataframe thead th {\n",
              "        text-align: right;\n",
              "    }\n",
              "</style>\n",
              "<table border=\"1\" class=\"dataframe\">\n",
              "  <thead>\n",
              "    <tr style=\"text-align: right;\">\n",
              "      <th></th>\n",
              "      <th>tweet</th>\n",
              "      <th>hashtags_mentions_count</th>\n",
              "    </tr>\n",
              "  </thead>\n",
              "  <tbody>\n",
              "    <tr>\n",
              "      <th>0</th>\n",
              "      <td>@user when a father is dysfunctional and is s...</td>\n",
              "      <td>2</td>\n",
              "    </tr>\n",
              "    <tr>\n",
              "      <th>1</th>\n",
              "      <td>@user @user thanks for #lyft credit i can't us...</td>\n",
              "      <td>5</td>\n",
              "    </tr>\n",
              "    <tr>\n",
              "      <th>2</th>\n",
              "      <td>bihday your majesty</td>\n",
              "      <td>0</td>\n",
              "    </tr>\n",
              "    <tr>\n",
              "      <th>3</th>\n",
              "      <td>#model   i love u take with u all the time in ...</td>\n",
              "      <td>1</td>\n",
              "    </tr>\n",
              "    <tr>\n",
              "      <th>4</th>\n",
              "      <td>factsguide: society now    #motivation</td>\n",
              "      <td>1</td>\n",
              "    </tr>\n",
              "  </tbody>\n",
              "</table>\n",
              "</div>"
            ],
            "text/plain": [
              "                                               tweet  hashtags_mentions_count\n",
              "0   @user when a father is dysfunctional and is s...                        2\n",
              "1  @user @user thanks for #lyft credit i can't us...                        5\n",
              "2                                bihday your majesty                        0\n",
              "3  #model   i love u take with u all the time in ...                        1\n",
              "4             factsguide: society now    #motivation                        1"
            ]
          },
          "metadata": {
            "tags": []
          },
          "execution_count": 14
        }
      ]
    },
    {
      "cell_type": "code",
      "metadata": {
        "id": "0aCrCbMkpwWz",
        "colab_type": "code",
        "colab": {
          "base_uri": "https://localhost:8080/",
          "height": 462
        },
        "outputId": "e7afad50-8c1f-4f14-bfe0-94ce4f848eca"
      },
      "source": [
        "hist_count('hashtags_mentions_count', 'Hastags and Mentions Count')"
      ],
      "execution_count": 15,
      "outputs": [
        {
          "output_type": "display_data",
          "data": {
            "image/png": "[encoded data removed]",
            "text/plain": [
              "<Figure size 720x504 with 1 Axes>"
            ]
          },
          "metadata": {
            "tags": [],
            "needs_background": "light"
          }
        }
      ]
    },
    {
      "cell_type": "code",
      "metadata": {
        "id": "RTiz214Mqcmi",
        "colab_type": "code",
        "colab": {
          "base_uri": "https://localhost:8080/",
          "height": 204
        },
        "outputId": "68207eaa-e272-4d7a-c3d4-ab5e312c64ba"
      },
      "source": [
        "# note that white spaces are included with this calculation\n",
        "train['sentence_count'] = train['tweet'].apply(lambda x: len(sent_tokenize(x)))\n",
        "train[['tweet', 'sentence_count']].head()"
      ],
      "execution_count": 16,
      "outputs": [
        {
          "output_type": "execute_result",
          "data": {
            "text/html": [
              "<div>\n",
              "<style scoped>\n",
              "    .dataframe tbody tr th:only-of-type {\n",
              "        vertical-align: middle;\n",
              "    }\n",
              "\n",
              "    .dataframe tbody tr th {\n",
              "        vertical-align: top;\n",
              "    }\n",
              "\n",
              "    .dataframe thead th {\n",
              "        text-align: right;\n",
              "    }\n",
              "</style>\n",
              "<table border=\"1\" class=\"dataframe\">\n",
              "  <thead>\n",
              "    <tr style=\"text-align: right;\">\n",
              "      <th></th>\n",
              "      <th>tweet</th>\n",
              "      <th>sentence_count</th>\n",
              "    </tr>\n",
              "  </thead>\n",
              "  <tbody>\n",
              "    <tr>\n",
              "      <th>0</th>\n",
              "      <td>@user when a father is dysfunctional and is s...</td>\n",
              "      <td>2</td>\n",
              "    </tr>\n",
              "    <tr>\n",
              "      <th>1</th>\n",
              "      <td>@user @user thanks for #lyft credit i can't us...</td>\n",
              "      <td>2</td>\n",
              "    </tr>\n",
              "    <tr>\n",
              "      <th>2</th>\n",
              "      <td>bihday your majesty</td>\n",
              "      <td>1</td>\n",
              "    </tr>\n",
              "    <tr>\n",
              "      <th>3</th>\n",
              "      <td>#model   i love u take with u all the time in ...</td>\n",
              "      <td>2</td>\n",
              "    </tr>\n",
              "    <tr>\n",
              "      <th>4</th>\n",
              "      <td>factsguide: society now    #motivation</td>\n",
              "      <td>1</td>\n",
              "    </tr>\n",
              "  </tbody>\n",
              "</table>\n",
              "</div>"
            ],
            "text/plain": [
              "                                               tweet  sentence_count\n",
              "0   @user when a father is dysfunctional and is s...               2\n",
              "1  @user @user thanks for #lyft credit i can't us...               2\n",
              "2                                bihday your majesty               1\n",
              "3  #model   i love u take with u all the time in ...               2\n",
              "4             factsguide: society now    #motivation               1"
            ]
          },
          "metadata": {
            "tags": []
          },
          "execution_count": 16
        }
      ]
    },
    {
      "cell_type": "code",
      "metadata": {
        "id": "U5KKH-buqyJq",
        "colab_type": "code",
        "colab": {
          "base_uri": "https://localhost:8080/",
          "height": 462
        },
        "outputId": "e82b7557-cbc1-49e0-c29a-46828214096e"
      },
      "source": [
        "hist_count('sentence_count', 'Sentence Count')"
      ],
      "execution_count": 17,
      "outputs": [
        {
          "output_type": "display_data",
          "data": {
            "image/png": "[encoded data removed]",
            "text/plain": [
              "<Figure size 720x504 with 1 Axes>"
            ]
          },
          "metadata": {
            "tags": [],
            "needs_background": "light"
          }
        }
      ]
    },
    {
      "cell_type": "code",
      "metadata": {
        "id": "AFMk-79gEzsQ",
        "colab_type": "code",
        "colab": {
          "base_uri": "https://localhost:8080/",
          "height": 297
        },
        "outputId": "c8faf400-1b33-4017-ff52-ecf82a461340"
      },
      "source": [
        "num_cols = ['char_count', 'word_count', 'avg_word', 'hashtags_mentions_count', 'sentence_count']\n",
        "train[num_cols].describe()"
      ],
      "execution_count": 20,
      "outputs": [
        {
          "output_type": "execute_result",
          "data": {
            "text/html": [
              "<div>\n",
              "<style scoped>\n",
              "    .dataframe tbody tr th:only-of-type {\n",
              "        vertical-align: middle;\n",
              "    }\n",
              "\n",
              "    .dataframe tbody tr th {\n",
              "        vertical-align: top;\n",
              "    }\n",
              "\n",
              "    .dataframe thead th {\n",
              "        text-align: right;\n",
              "    }\n",
              "</style>\n",
              "<table border=\"1\" class=\"dataframe\">\n",
              "  <thead>\n",
              "    <tr style=\"text-align: right;\">\n",
              "      <th></th>\n",
              "      <th>char_count</th>\n",
              "      <th>word_count</th>\n",
              "      <th>avg_word</th>\n",
              "      <th>hashtags_mentions_count</th>\n",
              "      <th>sentence_count</th>\n",
              "    </tr>\n",
              "  </thead>\n",
              "  <tbody>\n",
              "    <tr>\n",
              "      <th>count</th>\n",
              "      <td>31962.000000</td>\n",
              "      <td>31962.00000</td>\n",
              "      <td>31962.000000</td>\n",
              "      <td>31962.000000</td>\n",
              "      <td>31962.000000</td>\n",
              "    </tr>\n",
              "    <tr>\n",
              "      <th>mean</th>\n",
              "      <td>84.739628</td>\n",
              "      <td>13.15872</td>\n",
              "      <td>6.778732</td>\n",
              "      <td>2.892998</td>\n",
              "      <td>1.632564</td>\n",
              "    </tr>\n",
              "    <tr>\n",
              "      <th>std</th>\n",
              "      <td>29.455749</td>\n",
              "      <td>5.47815</td>\n",
              "      <td>1.990603</td>\n",
              "      <td>2.483222</td>\n",
              "      <td>0.823166</td>\n",
              "    </tr>\n",
              "    <tr>\n",
              "      <th>min</th>\n",
              "      <td>11.000000</td>\n",
              "      <td>3.00000</td>\n",
              "      <td>2.000000</td>\n",
              "      <td>0.000000</td>\n",
              "      <td>1.000000</td>\n",
              "    </tr>\n",
              "    <tr>\n",
              "      <th>25%</th>\n",
              "      <td>63.000000</td>\n",
              "      <td>9.00000</td>\n",
              "      <td>5.666667</td>\n",
              "      <td>1.000000</td>\n",
              "      <td>1.000000</td>\n",
              "    </tr>\n",
              "    <tr>\n",
              "      <th>50%</th>\n",
              "      <td>88.000000</td>\n",
              "      <td>13.00000</td>\n",
              "      <td>6.363636</td>\n",
              "      <td>2.000000</td>\n",
              "      <td>1.000000</td>\n",
              "    </tr>\n",
              "    <tr>\n",
              "      <th>75%</th>\n",
              "      <td>108.000000</td>\n",
              "      <td>17.00000</td>\n",
              "      <td>7.428571</td>\n",
              "      <td>4.000000</td>\n",
              "      <td>2.000000</td>\n",
              "    </tr>\n",
              "    <tr>\n",
              "      <th>max</th>\n",
              "      <td>274.000000</td>\n",
              "      <td>34.00000</td>\n",
              "      <td>82.333333</td>\n",
              "      <td>16.000000</td>\n",
              "      <td>14.000000</td>\n",
              "    </tr>\n",
              "  </tbody>\n",
              "</table>\n",
              "</div>"
            ],
            "text/plain": [
              "         char_count   word_count  ...  hashtags_mentions_count  sentence_count\n",
              "count  31962.000000  31962.00000  ...             31962.000000    31962.000000\n",
              "mean      84.739628     13.15872  ...                 2.892998        1.632564\n",
              "std       29.455749      5.47815  ...                 2.483222        0.823166\n",
              "min       11.000000      3.00000  ...                 0.000000        1.000000\n",
              "25%       63.000000      9.00000  ...                 1.000000        1.000000\n",
              "50%       88.000000     13.00000  ...                 2.000000        1.000000\n",
              "75%      108.000000     17.00000  ...                 4.000000        2.000000\n",
              "max      274.000000     34.00000  ...                16.000000       14.000000\n",
              "\n",
              "[8 rows x 5 columns]"
            ]
          },
          "metadata": {
            "tags": []
          },
          "execution_count": 20
        }
      ]
    },
    {
      "cell_type": "code",
      "metadata": {
        "id": "R8KYBVbqE1I3",
        "colab_type": "code",
        "colab": {
          "base_uri": "https://localhost:8080/",
          "height": 193
        },
        "outputId": "86f8b300-bef5-423c-caa9-e96270c47844"
      },
      "source": [
        "train.groupby('label')[['char_count', 'word_count', 'avg_word', 'hashtags_mentions_count', 'sentence_count']].agg(['mean', 'std', 'min', 'max'])"
      ],
      "execution_count": 26,
      "outputs": [
        {
          "output_type": "execute_result",
          "data": {
            "text/html": [
              "<div>\n",
              "<style scoped>\n",
              "    .dataframe tbody tr th:only-of-type {\n",
              "        vertical-align: middle;\n",
              "    }\n",
              "\n",
              "    .dataframe tbody tr th {\n",
              "        vertical-align: top;\n",
              "    }\n",
              "\n",
              "    .dataframe thead tr th {\n",
              "        text-align: left;\n",
              "    }\n",
              "\n",
              "    .dataframe thead tr:last-of-type th {\n",
              "        text-align: right;\n",
              "    }\n",
              "</style>\n",
              "<table border=\"1\" class=\"dataframe\">\n",
              "  <thead>\n",
              "    <tr>\n",
              "      <th></th>\n",
              "      <th colspan=\"4\" halign=\"left\">char_count</th>\n",
              "      <th colspan=\"4\" halign=\"left\">word_count</th>\n",
              "      <th colspan=\"4\" halign=\"left\">avg_word</th>\n",
              "      <th colspan=\"4\" halign=\"left\">hashtags_mentions_count</th>\n",
              "      <th colspan=\"4\" halign=\"left\">sentence_count</th>\n",
              "    </tr>\n",
              "    <tr>\n",
              "      <th></th>\n",
              "      <th>mean</th>\n",
              "      <th>std</th>\n",
              "      <th>min</th>\n",
              "      <th>max</th>\n",
              "      <th>mean</th>\n",
              "      <th>std</th>\n",
              "      <th>min</th>\n",
              "      <th>max</th>\n",
              "      <th>mean</th>\n",
              "      <th>std</th>\n",
              "      <th>min</th>\n",
              "      <th>max</th>\n",
              "      <th>mean</th>\n",
              "      <th>std</th>\n",
              "      <th>min</th>\n",
              "      <th>max</th>\n",
              "      <th>mean</th>\n",
              "      <th>std</th>\n",
              "      <th>min</th>\n",
              "      <th>max</th>\n",
              "    </tr>\n",
              "    <tr>\n",
              "      <th>label</th>\n",
              "      <th></th>\n",
              "      <th></th>\n",
              "      <th></th>\n",
              "      <th></th>\n",
              "      <th></th>\n",
              "      <th></th>\n",
              "      <th></th>\n",
              "      <th></th>\n",
              "      <th></th>\n",
              "      <th></th>\n",
              "      <th></th>\n",
              "      <th></th>\n",
              "      <th></th>\n",
              "      <th></th>\n",
              "      <th></th>\n",
              "      <th></th>\n",
              "      <th></th>\n",
              "      <th></th>\n",
              "      <th></th>\n",
              "      <th></th>\n",
              "    </tr>\n",
              "  </thead>\n",
              "  <tbody>\n",
              "    <tr>\n",
              "      <th>0</th>\n",
              "      <td>84.328634</td>\n",
              "      <td>29.566484</td>\n",
              "      <td>11</td>\n",
              "      <td>274</td>\n",
              "      <td>13.091252</td>\n",
              "      <td>5.510082</td>\n",
              "      <td>3</td>\n",
              "      <td>34</td>\n",
              "      <td>6.792765</td>\n",
              "      <td>2.034816</td>\n",
              "      <td>2.0</td>\n",
              "      <td>82.333333</td>\n",
              "      <td>2.889334</td>\n",
              "      <td>2.500062</td>\n",
              "      <td>0</td>\n",
              "      <td>16</td>\n",
              "      <td>1.633513</td>\n",
              "      <td>0.823954</td>\n",
              "      <td>1</td>\n",
              "      <td>14</td>\n",
              "    </tr>\n",
              "    <tr>\n",
              "      <th>1</th>\n",
              "      <td>90.187779</td>\n",
              "      <td>27.375502</td>\n",
              "      <td>12</td>\n",
              "      <td>152</td>\n",
              "      <td>14.053078</td>\n",
              "      <td>4.950747</td>\n",
              "      <td>3</td>\n",
              "      <td>30</td>\n",
              "      <td>6.592710</td>\n",
              "      <td>1.251722</td>\n",
              "      <td>4.0</td>\n",
              "      <td>13.000000</td>\n",
              "      <td>2.941570</td>\n",
              "      <td>2.248044</td>\n",
              "      <td>0</td>\n",
              "      <td>15</td>\n",
              "      <td>1.619982</td>\n",
              "      <td>0.812724</td>\n",
              "      <td>1</td>\n",
              "      <td>9</td>\n",
              "    </tr>\n",
              "  </tbody>\n",
              "</table>\n",
              "</div>"
            ],
            "text/plain": [
              "      char_count                      ... sentence_count                  \n",
              "            mean        std min  max  ...           mean       std min max\n",
              "label                                 ...                                 \n",
              "0      84.328634  29.566484  11  274  ...       1.633513  0.823954   1  14\n",
              "1      90.187779  27.375502  12  152  ...       1.619982  0.812724   1   9\n",
              "\n",
              "[2 rows x 20 columns]"
            ]
          },
          "metadata": {
            "tags": []
          },
          "execution_count": 26
        }
      ]
    }
  ]
}