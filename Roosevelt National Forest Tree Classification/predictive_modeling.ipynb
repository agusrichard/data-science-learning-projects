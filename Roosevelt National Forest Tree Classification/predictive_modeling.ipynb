{
  "nbformat": 4,
  "nbformat_minor": 0,
  "metadata": {
    "kernelspec": {
      "display_name": "Python 3",
      "language": "python",
      "name": "python3"
    },
    "language_info": {
      "codemirror_mode": {
        "name": "ipython",
        "version": 3
      },
      "file_extension": ".py",
      "mimetype": "text/x-python",
      "name": "python",
      "nbconvert_exporter": "python",
      "pygments_lexer": "ipython3",
      "version": "3.7.3"
    },
    "colab": {
      "name": "predictive-modeling.ipynb",
      "version": "0.3.2",
      "provenance": [],
      "toc_visible": true
    }
  },
  "cells": [
    {
      "cell_type": "markdown",
      "metadata": {
        "id": "WEEN3UIdCjqb",
        "colab_type": "text"
      },
      "source": [
        "# Classification Problem"
      ]
    },
    {
      "cell_type": "markdown",
      "metadata": {
        "id": "QlcPE15MCjqq",
        "colab_type": "text"
      },
      "source": [
        "In this notebook, we will try to make predictions to tree type classification problem from Roosevelt National Forest."
      ]
    },
    {
      "cell_type": "markdown",
      "metadata": {
        "id": "imC2nydpCjqw",
        "colab_type": "text"
      },
      "source": [
        "---"
      ]
    },
    {
      "cell_type": "markdown",
      "metadata": {
        "id": "qW_M8aPVCjq3",
        "colab_type": "text"
      },
      "source": [
        "## Preliminary"
      ]
    },
    {
      "cell_type": "markdown",
      "metadata": {
        "id": "04Ok3HDICjq9",
        "colab_type": "text"
      },
      "source": [
        "__Import Libraries__"
      ]
    },
    {
      "cell_type": "code",
      "metadata": {
        "id": "TkdCkP7aCjrG",
        "colab_type": "code",
        "colab": {}
      },
      "source": [
        "# essentials \n",
        "import numpy as np\n",
        "import pandas as pd\n",
        "import matplotlib.pyplot as plt\n",
        "import seaborn as sns\n",
        "\n",
        "# preprocessing \n",
        "from sklearn.preprocessing import StandardScaler\n",
        "\n",
        "# model selection \n",
        "from sklearn.model_selection import train_test_split, cross_val_score, GridSearchCV, RandomizedSearchCV\n",
        "\n",
        "# pipeline\n",
        "from sklearn.pipeline import Pipeline\n",
        "\n",
        "# ML algorithms \n",
        "from sklearn.neighbors import KNeighborsClassifier\n",
        "from sklearn.naive_bayes import GaussianNB\n",
        "from sklearn.linear_model import SGDClassifier, LogisticRegression\n",
        "from sklearn.svm import LinearSVC, SVC\n",
        "from sklearn.ensemble import RandomForestClassifier, GradientBoostingClassifier, AdaBoostClassifier\n",
        "from xgboost.sklearn import XGBClassifier\n",
        "\n",
        "# supress warnings\n",
        "import warnings\n",
        "warnings.filterwarnings('ignore')"
      ],
      "execution_count": 0,
      "outputs": []
    },
    {
      "cell_type": "markdown",
      "metadata": {
        "id": "vAUVjtlZCjrZ",
        "colab_type": "text"
      },
      "source": [
        "Load the dataset:"
      ]
    },
    {
      "cell_type": "code",
      "metadata": {
        "id": "ugophIHbCjre",
        "colab_type": "code",
        "colab": {}
      },
      "source": [
        "dataset = pd.read_csv('train.csv')"
      ],
      "execution_count": 0,
      "outputs": []
    },
    {
      "cell_type": "markdown",
      "metadata": {
        "id": "seVed5rACjru",
        "colab_type": "text"
      },
      "source": [
        "Look at the first five of our dataset."
      ]
    },
    {
      "cell_type": "code",
      "metadata": {
        "id": "UU-2kCZBCjrz",
        "colab_type": "code",
        "outputId": "d8dc1e89-5526-4ff2-cef8-91d233c2ef72",
        "colab": {
          "base_uri": "https://localhost:8080/",
          "height": 226
        }
      },
      "source": [
        "dataset.head()"
      ],
      "execution_count": 0,
      "outputs": [
        {
          "output_type": "execute_result",
          "data": {
            "text/html": [
              "<div>\n",
              "<style scoped>\n",
              "    .dataframe tbody tr th:only-of-type {\n",
              "        vertical-align: middle;\n",
              "    }\n",
              "\n",
              "    .dataframe tbody tr th {\n",
              "        vertical-align: top;\n",
              "    }\n",
              "\n",
              "    .dataframe thead th {\n",
              "        text-align: right;\n",
              "    }\n",
              "</style>\n",
              "<table border=\"1\" class=\"dataframe\">\n",
              "  <thead>\n",
              "    <tr style=\"text-align: right;\">\n",
              "      <th></th>\n",
              "      <th>Id</th>\n",
              "      <th>Elevation</th>\n",
              "      <th>Aspect</th>\n",
              "      <th>Slope</th>\n",
              "      <th>Horizontal_Distance_To_Hydrology</th>\n",
              "      <th>Vertical_Distance_To_Hydrology</th>\n",
              "      <th>Horizontal_Distance_To_Roadways</th>\n",
              "      <th>Hillshade_9am</th>\n",
              "      <th>Hillshade_Noon</th>\n",
              "      <th>Hillshade_3pm</th>\n",
              "      <th>Horizontal_Distance_To_Fire_Points</th>\n",
              "      <th>Wilderness_Area1</th>\n",
              "      <th>Wilderness_Area2</th>\n",
              "      <th>Wilderness_Area3</th>\n",
              "      <th>Wilderness_Area4</th>\n",
              "      <th>Soil_Type1</th>\n",
              "      <th>Soil_Type2</th>\n",
              "      <th>Soil_Type3</th>\n",
              "      <th>Soil_Type4</th>\n",
              "      <th>Soil_Type5</th>\n",
              "      <th>Soil_Type6</th>\n",
              "      <th>Soil_Type7</th>\n",
              "      <th>Soil_Type8</th>\n",
              "      <th>Soil_Type9</th>\n",
              "      <th>Soil_Type10</th>\n",
              "      <th>Soil_Type11</th>\n",
              "      <th>Soil_Type12</th>\n",
              "      <th>Soil_Type13</th>\n",
              "      <th>Soil_Type14</th>\n",
              "      <th>Soil_Type15</th>\n",
              "      <th>Soil_Type16</th>\n",
              "      <th>Soil_Type17</th>\n",
              "      <th>Soil_Type18</th>\n",
              "      <th>Soil_Type19</th>\n",
              "      <th>Soil_Type20</th>\n",
              "      <th>Soil_Type21</th>\n",
              "      <th>Soil_Type22</th>\n",
              "      <th>Soil_Type23</th>\n",
              "      <th>Soil_Type24</th>\n",
              "      <th>Soil_Type25</th>\n",
              "      <th>Soil_Type26</th>\n",
              "      <th>Soil_Type27</th>\n",
              "      <th>Soil_Type28</th>\n",
              "      <th>Soil_Type29</th>\n",
              "      <th>Soil_Type30</th>\n",
              "      <th>Soil_Type31</th>\n",
              "      <th>Soil_Type32</th>\n",
              "      <th>Soil_Type33</th>\n",
              "      <th>Soil_Type34</th>\n",
              "      <th>Soil_Type35</th>\n",
              "      <th>Soil_Type36</th>\n",
              "      <th>Soil_Type37</th>\n",
              "      <th>Soil_Type38</th>\n",
              "      <th>Soil_Type39</th>\n",
              "      <th>Soil_Type40</th>\n",
              "      <th>Cover_Type</th>\n",
              "    </tr>\n",
              "  </thead>\n",
              "  <tbody>\n",
              "    <tr>\n",
              "      <th>0</th>\n",
              "      <td>1</td>\n",
              "      <td>2596</td>\n",
              "      <td>51</td>\n",
              "      <td>3</td>\n",
              "      <td>258</td>\n",
              "      <td>0</td>\n",
              "      <td>510</td>\n",
              "      <td>221</td>\n",
              "      <td>232</td>\n",
              "      <td>148</td>\n",
              "      <td>6279</td>\n",
              "      <td>1</td>\n",
              "      <td>0</td>\n",
              "      <td>0</td>\n",
              "      <td>0</td>\n",
              "      <td>0</td>\n",
              "      <td>0</td>\n",
              "      <td>0</td>\n",
              "      <td>0</td>\n",
              "      <td>0</td>\n",
              "      <td>0</td>\n",
              "      <td>0</td>\n",
              "      <td>0</td>\n",
              "      <td>0</td>\n",
              "      <td>0</td>\n",
              "      <td>0</td>\n",
              "      <td>0</td>\n",
              "      <td>0</td>\n",
              "      <td>0</td>\n",
              "      <td>0</td>\n",
              "      <td>0</td>\n",
              "      <td>0</td>\n",
              "      <td>0</td>\n",
              "      <td>0</td>\n",
              "      <td>0</td>\n",
              "      <td>0</td>\n",
              "      <td>0</td>\n",
              "      <td>0</td>\n",
              "      <td>0</td>\n",
              "      <td>0</td>\n",
              "      <td>0</td>\n",
              "      <td>0</td>\n",
              "      <td>0</td>\n",
              "      <td>1</td>\n",
              "      <td>0</td>\n",
              "      <td>0</td>\n",
              "      <td>0</td>\n",
              "      <td>0</td>\n",
              "      <td>0</td>\n",
              "      <td>0</td>\n",
              "      <td>0</td>\n",
              "      <td>0</td>\n",
              "      <td>0</td>\n",
              "      <td>0</td>\n",
              "      <td>0</td>\n",
              "      <td>5</td>\n",
              "    </tr>\n",
              "    <tr>\n",
              "      <th>1</th>\n",
              "      <td>2</td>\n",
              "      <td>2590</td>\n",
              "      <td>56</td>\n",
              "      <td>2</td>\n",
              "      <td>212</td>\n",
              "      <td>-6</td>\n",
              "      <td>390</td>\n",
              "      <td>220</td>\n",
              "      <td>235</td>\n",
              "      <td>151</td>\n",
              "      <td>6225</td>\n",
              "      <td>1</td>\n",
              "      <td>0</td>\n",
              "      <td>0</td>\n",
              "      <td>0</td>\n",
              "      <td>0</td>\n",
              "      <td>0</td>\n",
              "      <td>0</td>\n",
              "      <td>0</td>\n",
              "      <td>0</td>\n",
              "      <td>0</td>\n",
              "      <td>0</td>\n",
              "      <td>0</td>\n",
              "      <td>0</td>\n",
              "      <td>0</td>\n",
              "      <td>0</td>\n",
              "      <td>0</td>\n",
              "      <td>0</td>\n",
              "      <td>0</td>\n",
              "      <td>0</td>\n",
              "      <td>0</td>\n",
              "      <td>0</td>\n",
              "      <td>0</td>\n",
              "      <td>0</td>\n",
              "      <td>0</td>\n",
              "      <td>0</td>\n",
              "      <td>0</td>\n",
              "      <td>0</td>\n",
              "      <td>0</td>\n",
              "      <td>0</td>\n",
              "      <td>0</td>\n",
              "      <td>0</td>\n",
              "      <td>0</td>\n",
              "      <td>1</td>\n",
              "      <td>0</td>\n",
              "      <td>0</td>\n",
              "      <td>0</td>\n",
              "      <td>0</td>\n",
              "      <td>0</td>\n",
              "      <td>0</td>\n",
              "      <td>0</td>\n",
              "      <td>0</td>\n",
              "      <td>0</td>\n",
              "      <td>0</td>\n",
              "      <td>0</td>\n",
              "      <td>5</td>\n",
              "    </tr>\n",
              "    <tr>\n",
              "      <th>2</th>\n",
              "      <td>3</td>\n",
              "      <td>2804</td>\n",
              "      <td>139</td>\n",
              "      <td>9</td>\n",
              "      <td>268</td>\n",
              "      <td>65</td>\n",
              "      <td>3180</td>\n",
              "      <td>234</td>\n",
              "      <td>238</td>\n",
              "      <td>135</td>\n",
              "      <td>6121</td>\n",
              "      <td>1</td>\n",
              "      <td>0</td>\n",
              "      <td>0</td>\n",
              "      <td>0</td>\n",
              "      <td>0</td>\n",
              "      <td>0</td>\n",
              "      <td>0</td>\n",
              "      <td>0</td>\n",
              "      <td>0</td>\n",
              "      <td>0</td>\n",
              "      <td>0</td>\n",
              "      <td>0</td>\n",
              "      <td>0</td>\n",
              "      <td>0</td>\n",
              "      <td>0</td>\n",
              "      <td>1</td>\n",
              "      <td>0</td>\n",
              "      <td>0</td>\n",
              "      <td>0</td>\n",
              "      <td>0</td>\n",
              "      <td>0</td>\n",
              "      <td>0</td>\n",
              "      <td>0</td>\n",
              "      <td>0</td>\n",
              "      <td>0</td>\n",
              "      <td>0</td>\n",
              "      <td>0</td>\n",
              "      <td>0</td>\n",
              "      <td>0</td>\n",
              "      <td>0</td>\n",
              "      <td>0</td>\n",
              "      <td>0</td>\n",
              "      <td>0</td>\n",
              "      <td>0</td>\n",
              "      <td>0</td>\n",
              "      <td>0</td>\n",
              "      <td>0</td>\n",
              "      <td>0</td>\n",
              "      <td>0</td>\n",
              "      <td>0</td>\n",
              "      <td>0</td>\n",
              "      <td>0</td>\n",
              "      <td>0</td>\n",
              "      <td>0</td>\n",
              "      <td>2</td>\n",
              "    </tr>\n",
              "    <tr>\n",
              "      <th>3</th>\n",
              "      <td>4</td>\n",
              "      <td>2785</td>\n",
              "      <td>155</td>\n",
              "      <td>18</td>\n",
              "      <td>242</td>\n",
              "      <td>118</td>\n",
              "      <td>3090</td>\n",
              "      <td>238</td>\n",
              "      <td>238</td>\n",
              "      <td>122</td>\n",
              "      <td>6211</td>\n",
              "      <td>1</td>\n",
              "      <td>0</td>\n",
              "      <td>0</td>\n",
              "      <td>0</td>\n",
              "      <td>0</td>\n",
              "      <td>0</td>\n",
              "      <td>0</td>\n",
              "      <td>0</td>\n",
              "      <td>0</td>\n",
              "      <td>0</td>\n",
              "      <td>0</td>\n",
              "      <td>0</td>\n",
              "      <td>0</td>\n",
              "      <td>0</td>\n",
              "      <td>0</td>\n",
              "      <td>0</td>\n",
              "      <td>0</td>\n",
              "      <td>0</td>\n",
              "      <td>0</td>\n",
              "      <td>0</td>\n",
              "      <td>0</td>\n",
              "      <td>0</td>\n",
              "      <td>0</td>\n",
              "      <td>0</td>\n",
              "      <td>0</td>\n",
              "      <td>0</td>\n",
              "      <td>0</td>\n",
              "      <td>0</td>\n",
              "      <td>0</td>\n",
              "      <td>0</td>\n",
              "      <td>0</td>\n",
              "      <td>0</td>\n",
              "      <td>0</td>\n",
              "      <td>1</td>\n",
              "      <td>0</td>\n",
              "      <td>0</td>\n",
              "      <td>0</td>\n",
              "      <td>0</td>\n",
              "      <td>0</td>\n",
              "      <td>0</td>\n",
              "      <td>0</td>\n",
              "      <td>0</td>\n",
              "      <td>0</td>\n",
              "      <td>0</td>\n",
              "      <td>2</td>\n",
              "    </tr>\n",
              "    <tr>\n",
              "      <th>4</th>\n",
              "      <td>5</td>\n",
              "      <td>2595</td>\n",
              "      <td>45</td>\n",
              "      <td>2</td>\n",
              "      <td>153</td>\n",
              "      <td>-1</td>\n",
              "      <td>391</td>\n",
              "      <td>220</td>\n",
              "      <td>234</td>\n",
              "      <td>150</td>\n",
              "      <td>6172</td>\n",
              "      <td>1</td>\n",
              "      <td>0</td>\n",
              "      <td>0</td>\n",
              "      <td>0</td>\n",
              "      <td>0</td>\n",
              "      <td>0</td>\n",
              "      <td>0</td>\n",
              "      <td>0</td>\n",
              "      <td>0</td>\n",
              "      <td>0</td>\n",
              "      <td>0</td>\n",
              "      <td>0</td>\n",
              "      <td>0</td>\n",
              "      <td>0</td>\n",
              "      <td>0</td>\n",
              "      <td>0</td>\n",
              "      <td>0</td>\n",
              "      <td>0</td>\n",
              "      <td>0</td>\n",
              "      <td>0</td>\n",
              "      <td>0</td>\n",
              "      <td>0</td>\n",
              "      <td>0</td>\n",
              "      <td>0</td>\n",
              "      <td>0</td>\n",
              "      <td>0</td>\n",
              "      <td>0</td>\n",
              "      <td>0</td>\n",
              "      <td>0</td>\n",
              "      <td>0</td>\n",
              "      <td>0</td>\n",
              "      <td>0</td>\n",
              "      <td>1</td>\n",
              "      <td>0</td>\n",
              "      <td>0</td>\n",
              "      <td>0</td>\n",
              "      <td>0</td>\n",
              "      <td>0</td>\n",
              "      <td>0</td>\n",
              "      <td>0</td>\n",
              "      <td>0</td>\n",
              "      <td>0</td>\n",
              "      <td>0</td>\n",
              "      <td>0</td>\n",
              "      <td>5</td>\n",
              "    </tr>\n",
              "  </tbody>\n",
              "</table>\n",
              "</div>"
            ],
            "text/plain": [
              "   Id  Elevation  Aspect  ...  Soil_Type39  Soil_Type40  Cover_Type\n",
              "0   1       2596      51  ...            0            0           5\n",
              "1   2       2590      56  ...            0            0           5\n",
              "2   3       2804     139  ...            0            0           2\n",
              "3   4       2785     155  ...            0            0           2\n",
              "4   5       2595      45  ...            0            0           5\n",
              "\n",
              "[5 rows x 56 columns]"
            ]
          },
          "metadata": {
            "tags": []
          },
          "execution_count": 3
        }
      ]
    },
    {
      "cell_type": "markdown",
      "metadata": {
        "id": "B8-T-BDMCjsN",
        "colab_type": "text"
      },
      "source": [
        "How many data points and columns are there?"
      ]
    },
    {
      "cell_type": "code",
      "metadata": {
        "id": "BiI4YV7DCjsS",
        "colab_type": "code",
        "outputId": "48eaec29-d6fc-48c7-8511-72a0728dd13f",
        "colab": {
          "base_uri": "https://localhost:8080/",
          "height": 35
        }
      },
      "source": [
        "dataset.shape"
      ],
      "execution_count": 0,
      "outputs": [
        {
          "output_type": "execute_result",
          "data": {
            "text/plain": [
              "(15120, 56)"
            ]
          },
          "metadata": {
            "tags": []
          },
          "execution_count": 4
        }
      ]
    },
    {
      "cell_type": "markdown",
      "metadata": {
        "id": "wfsGbpGVCjsh",
        "colab_type": "text"
      },
      "source": [
        "So... This dataset contains 15120 data points and 56 features. Let's see what features are there"
      ]
    },
    {
      "cell_type": "code",
      "metadata": {
        "id": "rT1ynqGgCjsj",
        "colab_type": "code",
        "outputId": "ace87698-2250-42c1-cb9e-4f0b4493a250",
        "colab": {
          "base_uri": "https://localhost:8080/",
          "height": 331
        }
      },
      "source": [
        "dataset.columns"
      ],
      "execution_count": 0,
      "outputs": [
        {
          "output_type": "execute_result",
          "data": {
            "text/plain": [
              "Index(['Id', 'Elevation', 'Aspect', 'Slope',\n",
              "       'Horizontal_Distance_To_Hydrology', 'Vertical_Distance_To_Hydrology',\n",
              "       'Horizontal_Distance_To_Roadways', 'Hillshade_9am', 'Hillshade_Noon',\n",
              "       'Hillshade_3pm', 'Horizontal_Distance_To_Fire_Points',\n",
              "       'Wilderness_Area1', 'Wilderness_Area2', 'Wilderness_Area3',\n",
              "       'Wilderness_Area4', 'Soil_Type1', 'Soil_Type2', 'Soil_Type3',\n",
              "       'Soil_Type4', 'Soil_Type5', 'Soil_Type6', 'Soil_Type7', 'Soil_Type8',\n",
              "       'Soil_Type9', 'Soil_Type10', 'Soil_Type11', 'Soil_Type12',\n",
              "       'Soil_Type13', 'Soil_Type14', 'Soil_Type15', 'Soil_Type16',\n",
              "       'Soil_Type17', 'Soil_Type18', 'Soil_Type19', 'Soil_Type20',\n",
              "       'Soil_Type21', 'Soil_Type22', 'Soil_Type23', 'Soil_Type24',\n",
              "       'Soil_Type25', 'Soil_Type26', 'Soil_Type27', 'Soil_Type28',\n",
              "       'Soil_Type29', 'Soil_Type30', 'Soil_Type31', 'Soil_Type32',\n",
              "       'Soil_Type33', 'Soil_Type34', 'Soil_Type35', 'Soil_Type36',\n",
              "       'Soil_Type37', 'Soil_Type38', 'Soil_Type39', 'Soil_Type40',\n",
              "       'Cover_Type'],\n",
              "      dtype='object')"
            ]
          },
          "metadata": {
            "tags": []
          },
          "execution_count": 5
        }
      ]
    },
    {
      "cell_type": "markdown",
      "metadata": {
        "id": "-i_hKkolCjs0",
        "colab_type": "text"
      },
      "source": [
        "Note that we have 4 columns of Wilderness Area already encoded and 40 columns of Soil Type also already encoded. "
      ]
    },
    {
      "cell_type": "code",
      "metadata": {
        "id": "-_d1Vr-nCjs4",
        "colab_type": "code",
        "outputId": "89d16aeb-52bd-4eba-f37a-a2158e33276d",
        "colab": {
          "base_uri": "https://localhost:8080/",
          "height": 1000
        }
      },
      "source": [
        "dataset.info()"
      ],
      "execution_count": 0,
      "outputs": [
        {
          "output_type": "stream",
          "text": [
            "<class 'pandas.core.frame.DataFrame'>\n",
            "RangeIndex: 15120 entries, 0 to 15119\n",
            "Data columns (total 56 columns):\n",
            "Id                                    15120 non-null int64\n",
            "Elevation                             15120 non-null int64\n",
            "Aspect                                15120 non-null int64\n",
            "Slope                                 15120 non-null int64\n",
            "Horizontal_Distance_To_Hydrology      15120 non-null int64\n",
            "Vertical_Distance_To_Hydrology        15120 non-null int64\n",
            "Horizontal_Distance_To_Roadways       15120 non-null int64\n",
            "Hillshade_9am                         15120 non-null int64\n",
            "Hillshade_Noon                        15120 non-null int64\n",
            "Hillshade_3pm                         15120 non-null int64\n",
            "Horizontal_Distance_To_Fire_Points    15120 non-null int64\n",
            "Wilderness_Area1                      15120 non-null int64\n",
            "Wilderness_Area2                      15120 non-null int64\n",
            "Wilderness_Area3                      15120 non-null int64\n",
            "Wilderness_Area4                      15120 non-null int64\n",
            "Soil_Type1                            15120 non-null int64\n",
            "Soil_Type2                            15120 non-null int64\n",
            "Soil_Type3                            15120 non-null int64\n",
            "Soil_Type4                            15120 non-null int64\n",
            "Soil_Type5                            15120 non-null int64\n",
            "Soil_Type6                            15120 non-null int64\n",
            "Soil_Type7                            15120 non-null int64\n",
            "Soil_Type8                            15120 non-null int64\n",
            "Soil_Type9                            15120 non-null int64\n",
            "Soil_Type10                           15120 non-null int64\n",
            "Soil_Type11                           15120 non-null int64\n",
            "Soil_Type12                           15120 non-null int64\n",
            "Soil_Type13                           15120 non-null int64\n",
            "Soil_Type14                           15120 non-null int64\n",
            "Soil_Type15                           15120 non-null int64\n",
            "Soil_Type16                           15120 non-null int64\n",
            "Soil_Type17                           15120 non-null int64\n",
            "Soil_Type18                           15120 non-null int64\n",
            "Soil_Type19                           15120 non-null int64\n",
            "Soil_Type20                           15120 non-null int64\n",
            "Soil_Type21                           15120 non-null int64\n",
            "Soil_Type22                           15120 non-null int64\n",
            "Soil_Type23                           15120 non-null int64\n",
            "Soil_Type24                           15120 non-null int64\n",
            "Soil_Type25                           15120 non-null int64\n",
            "Soil_Type26                           15120 non-null int64\n",
            "Soil_Type27                           15120 non-null int64\n",
            "Soil_Type28                           15120 non-null int64\n",
            "Soil_Type29                           15120 non-null int64\n",
            "Soil_Type30                           15120 non-null int64\n",
            "Soil_Type31                           15120 non-null int64\n",
            "Soil_Type32                           15120 non-null int64\n",
            "Soil_Type33                           15120 non-null int64\n",
            "Soil_Type34                           15120 non-null int64\n",
            "Soil_Type35                           15120 non-null int64\n",
            "Soil_Type36                           15120 non-null int64\n",
            "Soil_Type37                           15120 non-null int64\n",
            "Soil_Type38                           15120 non-null int64\n",
            "Soil_Type39                           15120 non-null int64\n",
            "Soil_Type40                           15120 non-null int64\n",
            "Cover_Type                            15120 non-null int64\n",
            "dtypes: int64(56)\n",
            "memory usage: 6.5 MB\n"
          ],
          "name": "stdout"
        }
      ]
    },
    {
      "cell_type": "markdown",
      "metadata": {
        "id": "t9cwxOTkCjtI",
        "colab_type": "text"
      },
      "source": [
        "We have clean data without null values. Now let's convert the dataset to Numpy array and seperate it to feature matrix and target vector (Cover_Type)."
      ]
    },
    {
      "cell_type": "code",
      "metadata": {
        "id": "3sD5n0BWCjtN",
        "colab_type": "code",
        "colab": {}
      },
      "source": [
        "X = dataset.iloc[:, 1:-1].values # exclude the columns id and target vector\n",
        "y = dataset.iloc[:, -1].values # the target vector"
      ],
      "execution_count": 0,
      "outputs": []
    },
    {
      "cell_type": "code",
      "metadata": {
        "id": "fr3Gh7zRCjte",
        "colab_type": "code",
        "outputId": "1b59d479-de76-4286-dcc2-7b26464d1189",
        "colab": {
          "base_uri": "https://localhost:8080/",
          "height": 54
        }
      },
      "source": [
        "print(\"Feature matrix shape: {}\".format(X.shape))\n",
        "print(\"Target vector shape:{}\".format(y.shape))"
      ],
      "execution_count": 68,
      "outputs": [
        {
          "output_type": "stream",
          "text": [
            "Feature matrix shape: (15120, 54)\n",
            "Target vector shape:(15120,)\n"
          ],
          "name": "stdout"
        }
      ]
    },
    {
      "cell_type": "markdown",
      "metadata": {
        "id": "F6biDFD8Cjtt",
        "colab_type": "text"
      },
      "source": [
        "Let's move to the next phase which is predictive modeling."
      ]
    },
    {
      "cell_type": "markdown",
      "metadata": {
        "id": "rf0IvAcmCjtx",
        "colab_type": "text"
      },
      "source": [
        "----"
      ]
    },
    {
      "cell_type": "markdown",
      "metadata": {
        "id": "QUdqeW7yCjtz",
        "colab_type": "text"
      },
      "source": [
        "## Predictive Modeling"
      ]
    },
    {
      "cell_type": "markdown",
      "metadata": {
        "id": "rBkWSEFOCjt2",
        "colab_type": "text"
      },
      "source": [
        "In predictive modeling, we will use several machine learning algorithms to make the predictions. At each ML algorithm, we will evalute the model performance with accuracy metric using cross_val_score and look for the best hyperparameters using GridSearchCV or RandomizedSearchCV class."
      ]
    },
    {
      "cell_type": "markdown",
      "metadata": {
        "id": "dQhOaAumCjt6",
        "colab_type": "text"
      },
      "source": [
        "### KNeighborsClassifier"
      ]
    },
    {
      "cell_type": "markdown",
      "metadata": {
        "id": "OCsuZBu2Cjt9",
        "colab_type": "text"
      },
      "source": [
        "This ML algorithm is one of the simplest model to use and commonly used at early stage of predictive modeling, before step up to more advanced ML algorithm. Note  that this model need scaled data to get better performance, but for learning purpose, we dont scale the data first and use the default hyperparameters."
      ]
    },
    {
      "cell_type": "code",
      "metadata": {
        "id": "oUn_JlRjCjuM",
        "colab_type": "code",
        "outputId": "50486333-d2a6-4b46-a9d1-76f827fab084",
        "colab": {
          "base_uri": "https://localhost:8080/",
          "height": 54
        }
      },
      "source": [
        "knn_default_no_scaling_score = cross_val_score(KNeighborsClassifier(), X, y, cv=5, scoring='accuracy')\n",
        "print(\"KNeighborsClassifier cross val score (default & no scaling): {}\".format(knn_default_no_scaling_score))\n",
        "print(\"The mean score: {:.3f}\".format(knn_default_no_scaling_score.mean()))"
      ],
      "execution_count": 0,
      "outputs": [
        {
          "output_type": "stream",
          "text": [
            "KNeighborsClassifier cross val score (default & no scaling): [0.69477513 0.66104497 0.65046296 0.65674603 0.79199735]\n",
            "The mean score: 0.691\n"
          ],
          "name": "stdout"
        }
      ]
    },
    {
      "cell_type": "markdown",
      "metadata": {
        "id": "rRT8Lm76CjuY",
        "colab_type": "text"
      },
      "source": [
        "Without scaling the data and using default hyperparameters give us a quite good performance (above 50% is quite good for balanced dataset). Now, we scale the data using StandardScaler, to see the performance"
      ]
    },
    {
      "cell_type": "code",
      "metadata": {
        "id": "gt3PgYFbCjua",
        "colab_type": "code",
        "colab": {}
      },
      "source": [
        "pipe_knn = Pipeline([\n",
        "    ('scaler', StandardScaler()),\n",
        "    ('knn', KNeighborsClassifier())\n",
        "])"
      ],
      "execution_count": 0,
      "outputs": []
    },
    {
      "cell_type": "code",
      "metadata": {
        "id": "yaz76Dg7Cjuk",
        "colab_type": "code",
        "outputId": "ccd73753-23bd-495a-d9de-5a6fa13ac269",
        "colab": {
          "base_uri": "https://localhost:8080/",
          "height": 54
        }
      },
      "source": [
        "knn_default_score = cross_val_score(pipe_knn, X, y, cv=5, scoring='accuracy')\n",
        "print(\"KNeighborsClassifier cross val score (default & scaled): {}\".format(knn_default_score))\n",
        "print(\"The mean score: {:.3f}\".format(knn_default_score.mean()))"
      ],
      "execution_count": 0,
      "outputs": [
        {
          "output_type": "stream",
          "text": [
            "KNeighborsClassifier cross val score (default & scaled): [0.6630291  0.64451058 0.64153439 0.70701058 0.76256614]\n",
            "The mean score: 0.684\n"
          ],
          "name": "stdout"
        }
      ]
    },
    {
      "cell_type": "markdown",
      "metadata": {
        "id": "XlEal25-Cjuz",
        "colab_type": "text"
      },
      "source": [
        "It goes down a bit (~0.01), probably because we try to prevent data leakage. Let's see what happens if we tweak the hyperparameters. In here we only use weights and n_neighbors."
      ]
    },
    {
      "cell_type": "code",
      "metadata": {
        "id": "bif1OBnhCju2",
        "colab_type": "code",
        "colab": {}
      },
      "source": [
        "param_grid = {\n",
        "    'knn__weights' : ['distance', 'uniform'],\n",
        "    'knn__n_neighbors' : list(range(2, 21)) # we test n_neighbors parameter from 2 to 20\n",
        "}\n",
        "\n",
        "grid_knn = RandomizedSearchCV(pipe_knn, param_distributions=param_grid, cv=5, scoring='accuracy', n_iter=10, n_jobs=-1).fit(X, y)"
      ],
      "execution_count": 0,
      "outputs": []
    },
    {
      "cell_type": "code",
      "metadata": {
        "id": "-uKZ9_4yCju9",
        "colab_type": "code",
        "outputId": "39e9b572-2fd3-4fa0-8f9d-64306fd4e0db",
        "colab": {
          "base_uri": "https://localhost:8080/",
          "height": 35
        }
      },
      "source": [
        "grid_knn.best_score_"
      ],
      "execution_count": 0,
      "outputs": [
        {
          "output_type": "execute_result",
          "data": {
            "text/plain": [
              "0.7066137566137566"
            ]
          },
          "metadata": {
            "tags": []
          },
          "execution_count": 13
        }
      ]
    },
    {
      "cell_type": "code",
      "metadata": {
        "id": "jyIWG0bSCjvI",
        "colab_type": "code",
        "outputId": "d904b879-c608-4aaf-b384-26ed3ee5378f",
        "colab": {
          "base_uri": "https://localhost:8080/",
          "height": 35
        }
      },
      "source": [
        "grid_knn.best_params_"
      ],
      "execution_count": 0,
      "outputs": [
        {
          "output_type": "execute_result",
          "data": {
            "text/plain": [
              "{'knn__n_neighbors': 5, 'knn__weights': 'distance'}"
            ]
          },
          "metadata": {
            "tags": []
          },
          "execution_count": 14
        }
      ]
    },
    {
      "cell_type": "code",
      "metadata": {
        "id": "OHrfE9uRCjvS",
        "colab_type": "code",
        "outputId": "ab2f3062-88a3-4f7a-895d-6031763e1c8d",
        "colab": {
          "base_uri": "https://localhost:8080/",
          "height": 395
        }
      },
      "source": [
        "knn_results = pd.DataFrame(grid_knn.cv_results_)[['param_knn__weights', 'param_knn__n_neighbors', 'mean_test_score']].groupby(['param_knn__weights', 'param_knn__n_neighbors']).mean()\n",
        "knn_results"
      ],
      "execution_count": 0,
      "outputs": [
        {
          "output_type": "execute_result",
          "data": {
            "text/html": [
              "<div>\n",
              "<style scoped>\n",
              "    .dataframe tbody tr th:only-of-type {\n",
              "        vertical-align: middle;\n",
              "    }\n",
              "\n",
              "    .dataframe tbody tr th {\n",
              "        vertical-align: top;\n",
              "    }\n",
              "\n",
              "    .dataframe thead th {\n",
              "        text-align: right;\n",
              "    }\n",
              "</style>\n",
              "<table border=\"1\" class=\"dataframe\">\n",
              "  <thead>\n",
              "    <tr style=\"text-align: right;\">\n",
              "      <th></th>\n",
              "      <th></th>\n",
              "      <th>mean_test_score</th>\n",
              "    </tr>\n",
              "    <tr>\n",
              "      <th>param_knn__weights</th>\n",
              "      <th>param_knn__n_neighbors</th>\n",
              "      <th></th>\n",
              "    </tr>\n",
              "  </thead>\n",
              "  <tbody>\n",
              "    <tr>\n",
              "      <th rowspan=\"6\" valign=\"top\">distance</th>\n",
              "      <th>5</th>\n",
              "      <td>0.706614</td>\n",
              "    </tr>\n",
              "    <tr>\n",
              "      <th>7</th>\n",
              "      <td>0.700595</td>\n",
              "    </tr>\n",
              "    <tr>\n",
              "      <th>10</th>\n",
              "      <td>0.692394</td>\n",
              "    </tr>\n",
              "    <tr>\n",
              "      <th>14</th>\n",
              "      <td>0.681019</td>\n",
              "    </tr>\n",
              "    <tr>\n",
              "      <th>18</th>\n",
              "      <td>0.673611</td>\n",
              "    </tr>\n",
              "    <tr>\n",
              "      <th>20</th>\n",
              "      <td>0.668783</td>\n",
              "    </tr>\n",
              "    <tr>\n",
              "      <th rowspan=\"4\" valign=\"top\">uniform</th>\n",
              "      <th>2</th>\n",
              "      <td>0.689153</td>\n",
              "    </tr>\n",
              "    <tr>\n",
              "      <th>4</th>\n",
              "      <td>0.690146</td>\n",
              "    </tr>\n",
              "    <tr>\n",
              "      <th>11</th>\n",
              "      <td>0.660251</td>\n",
              "    </tr>\n",
              "    <tr>\n",
              "      <th>12</th>\n",
              "      <td>0.656944</td>\n",
              "    </tr>\n",
              "  </tbody>\n",
              "</table>\n",
              "</div>"
            ],
            "text/plain": [
              "                                           mean_test_score\n",
              "param_knn__weights param_knn__n_neighbors                 \n",
              "distance           5                              0.706614\n",
              "                   7                              0.700595\n",
              "                   10                             0.692394\n",
              "                   14                             0.681019\n",
              "                   18                             0.673611\n",
              "                   20                             0.668783\n",
              "uniform            2                              0.689153\n",
              "                   4                              0.690146\n",
              "                   11                             0.660251\n",
              "                   12                             0.656944"
            ]
          },
          "metadata": {
            "tags": []
          },
          "execution_count": 15
        }
      ]
    },
    {
      "cell_type": "code",
      "metadata": {
        "id": "KztZumpsCjve",
        "colab_type": "code",
        "outputId": "b0e79b66-a735-4775-8815-97924ef4dee4",
        "colab": {
          "base_uri": "https://localhost:8080/",
          "height": 371
        }
      },
      "source": [
        "fig, ax = plt.subplots(1, 2, figsize=(13, 5), sharey=True)\n",
        "\n",
        "sns.barplot(data=knn_results.reset_index()[knn_results.reset_index()['param_knn__weights'] == 'distance'], x='param_knn__n_neighbors', y='mean_test_score', ax=ax[0])\n",
        "sns.barplot(data=knn_results.reset_index()[knn_results.reset_index()['param_knn__weights'] == 'uniform'], x='param_knn__n_neighbors', y='mean_test_score', ax=ax[1])\n",
        "ax[0].set(title='distance', ylim=(0, 1))\n",
        "ax[1].set(title='uniform', ylim=(0, 1))\n",
        "fig.suptitle('weights');"
      ],
      "execution_count": 0,
      "outputs": [
        {
          "output_type": "display_data",
          "data": {
            "image/png": "[encoded data removed]",
            "text/plain": [
              "<Figure size 936x360 with 2 Axes>"
            ]
          },
          "metadata": {
            "tags": []
          }
        }
      ]
    },
    {
      "cell_type": "code",
      "metadata": {
        "id": "bjRhEFhPCjvq",
        "colab_type": "code",
        "outputId": "57fbeca8-1c67-442d-f2d8-0bd499e97adf",
        "colab": {
          "base_uri": "https://localhost:8080/",
          "height": 54
        }
      },
      "source": [
        "knn_optimized_score = cross_val_score(grid_knn.best_estimator_, X, y, cv=5, scoring='accuracy')\n",
        "print(\"KNeighborsClassifier cross val score (optimized): {}\".format(knn_optimized_score))\n",
        "print(\"The mean score: {:.3f}\".format(knn_optimized_score.mean()))"
      ],
      "execution_count": 0,
      "outputs": [
        {
          "output_type": "stream",
          "text": [
            "KNeighborsClassifier cross val score (optimized): [0.68882275 0.66005291 0.66865079 0.73313492 0.78240741]\n",
            "The mean score: 0.707\n"
          ],
          "name": "stdout"
        }
      ]
    },
    {
      "cell_type": "markdown",
      "metadata": {
        "id": "iEdDZ3DBCjv2",
        "colab_type": "text"
      },
      "source": [
        "The best score is 0.71, which use hyperparameter n_neighbors=3 and weights=distance. Note that since we are using RandomizedSearchCV, not all hyperparameters listed in param_grid are used. So it is probable if we missed the real hyperparameters."
      ]
    },
    {
      "cell_type": "markdown",
      "metadata": {
        "id": "YX7y4x_ACjv5",
        "colab_type": "text"
      },
      "source": [
        "### Gaussian NB"
      ]
    },
    {
      "cell_type": "markdown",
      "metadata": {
        "id": "eCC4hiPtCjv9",
        "colab_type": "text"
      },
      "source": [
        "Another simple ML algorithms to use without complex hyperparameter."
      ]
    },
    {
      "cell_type": "code",
      "metadata": {
        "id": "N2SyKQZ-Cjv_",
        "colab_type": "code",
        "outputId": "d519af67-6b0d-4b7e-a5e2-ccb1e9d1c7c2",
        "colab": {
          "base_uri": "https://localhost:8080/",
          "height": 54
        }
      },
      "source": [
        "gaussian_score = cross_val_score(GaussianNB(), X, y, cv=5, scoring='accuracy')\n",
        "print(\"GaussianNB cross val score: {}\".format(gaussian_score))\n",
        "print(\"The mean score: {:.3f}\".format(gaussian_score.mean()))"
      ],
      "execution_count": 0,
      "outputs": [
        {
          "output_type": "stream",
          "text": [
            "GaussianNB cross val score: [0.56084656 0.51719577 0.55886243 0.61011905 0.59556878]\n",
            "The mean score: 0.569\n"
          ],
          "name": "stdout"
        }
      ]
    },
    {
      "cell_type": "markdown",
      "metadata": {
        "id": "urR6f132CjwH",
        "colab_type": "text"
      },
      "source": [
        "Certainly not better than using KNeighborsClassifier, but it is worth to understand. Since for common text classification and if we are working with sparsed data, we oftenly use GaussianNB, MultinomialNB, and BernoulliNB."
      ]
    },
    {
      "cell_type": "markdown",
      "metadata": {
        "id": "xNHZC0N8CjwK",
        "colab_type": "text"
      },
      "source": [
        "### LogisticRegression"
      ]
    },
    {
      "cell_type": "markdown",
      "metadata": {
        "id": "WB-U0-MbCjwM",
        "colab_type": "text"
      },
      "source": [
        "Now, we will use LogisticRegression, let's start with default hyperparameters."
      ]
    },
    {
      "cell_type": "code",
      "metadata": {
        "id": "qG-CY16FCjwP",
        "colab_type": "code",
        "outputId": "fdb1eaa9-609d-4234-9e62-e96d89be68e2",
        "colab": {
          "base_uri": "https://localhost:8080/",
          "height": 54
        }
      },
      "source": [
        "logreg_default_score = cross_val_score(LogisticRegression(), X, y, cv=5, scoring='accuracy')\n",
        "print(\"LogisticRegression cross val score (default): {}\".format(logreg_default_score))\n",
        "print(\"The mean score: {:.3f}\".format(logreg_default_score.mean()))"
      ],
      "execution_count": 0,
      "outputs": [
        {
          "output_type": "stream",
          "text": [
            "LogisticRegression cross val score (default): [0.54332011 0.55919312 0.63425926 0.63558201 0.66832011]\n",
            "The mean score: 0.608\n"
          ],
          "name": "stdout"
        }
      ]
    },
    {
      "cell_type": "markdown",
      "metadata": {
        "id": "3ScfH2uUCjwX",
        "colab_type": "text"
      },
      "source": [
        "Now, we use RandomizedSearchCV to find the optimized model, we use two hyperparameters: penalty and C."
      ]
    },
    {
      "cell_type": "code",
      "metadata": {
        "id": "MdjfkMogCjwa",
        "colab_type": "code",
        "colab": {}
      },
      "source": [
        "param_grid = {\n",
        "    'penalty' : ['l1', 'l2'],\n",
        "    'C' : [0.0001, 0.001, 0.01, 0.1, 1, 10, 100]\n",
        "}\n",
        "\n",
        "grid_logreg = RandomizedSearchCV(LogisticRegression(), param_distributions=param_grid, cv=3, scoring='accuracy', n_iter=10, n_jobs=-1).fit(X, y)"
      ],
      "execution_count": 0,
      "outputs": []
    },
    {
      "cell_type": "code",
      "metadata": {
        "id": "kTL4k9ZxCjwl",
        "colab_type": "code",
        "outputId": "108be327-43b4-4639-c257-70deb152add9",
        "colab": {
          "base_uri": "https://localhost:8080/",
          "height": 35
        }
      },
      "source": [
        "grid_logreg.best_score_"
      ],
      "execution_count": 0,
      "outputs": [
        {
          "output_type": "execute_result",
          "data": {
            "text/plain": [
              "0.6244047619047619"
            ]
          },
          "metadata": {
            "tags": []
          },
          "execution_count": 21
        }
      ]
    },
    {
      "cell_type": "code",
      "metadata": {
        "id": "7EjV6-hZCjwz",
        "colab_type": "code",
        "outputId": "2517991c-7349-4959-d920-cf1a449f03a9",
        "colab": {
          "base_uri": "https://localhost:8080/",
          "height": 35
        }
      },
      "source": [
        "grid_logreg.best_params_"
      ],
      "execution_count": 0,
      "outputs": [
        {
          "output_type": "execute_result",
          "data": {
            "text/plain": [
              "{'C': 10, 'penalty': 'l1'}"
            ]
          },
          "metadata": {
            "tags": []
          },
          "execution_count": 22
        }
      ]
    },
    {
      "cell_type": "code",
      "metadata": {
        "id": "waqEwPXACjw6",
        "colab_type": "code",
        "outputId": "b2eaa398-830d-4ed3-f04d-42c6e66a55bc",
        "colab": {
          "base_uri": "https://localhost:8080/",
          "height": 395
        }
      },
      "source": [
        "logreg_results = pd.DataFrame(grid_logreg.cv_results_)[['param_penalty', 'param_C', 'mean_test_score']].groupby(['param_penalty', 'param_C']).mean()\n",
        "logreg_results"
      ],
      "execution_count": 0,
      "outputs": [
        {
          "output_type": "execute_result",
          "data": {
            "text/html": [
              "<div>\n",
              "<style scoped>\n",
              "    .dataframe tbody tr th:only-of-type {\n",
              "        vertical-align: middle;\n",
              "    }\n",
              "\n",
              "    .dataframe tbody tr th {\n",
              "        vertical-align: top;\n",
              "    }\n",
              "\n",
              "    .dataframe thead th {\n",
              "        text-align: right;\n",
              "    }\n",
              "</style>\n",
              "<table border=\"1\" class=\"dataframe\">\n",
              "  <thead>\n",
              "    <tr style=\"text-align: right;\">\n",
              "      <th></th>\n",
              "      <th></th>\n",
              "      <th>mean_test_score</th>\n",
              "    </tr>\n",
              "    <tr>\n",
              "      <th>param_penalty</th>\n",
              "      <th>param_C</th>\n",
              "      <th></th>\n",
              "    </tr>\n",
              "  </thead>\n",
              "  <tbody>\n",
              "    <tr>\n",
              "      <th rowspan=\"5\" valign=\"top\">l1</th>\n",
              "      <th>0.0001</th>\n",
              "      <td>0.438889</td>\n",
              "    </tr>\n",
              "    <tr>\n",
              "      <th>0.0010</th>\n",
              "      <td>0.530886</td>\n",
              "    </tr>\n",
              "    <tr>\n",
              "      <th>1.0000</th>\n",
              "      <td>0.623677</td>\n",
              "    </tr>\n",
              "    <tr>\n",
              "      <th>10.0000</th>\n",
              "      <td>0.624405</td>\n",
              "    </tr>\n",
              "    <tr>\n",
              "      <th>100.0000</th>\n",
              "      <td>0.623545</td>\n",
              "    </tr>\n",
              "    <tr>\n",
              "      <th rowspan=\"5\" valign=\"top\">l2</th>\n",
              "      <th>0.0001</th>\n",
              "      <td>0.539286</td>\n",
              "    </tr>\n",
              "    <tr>\n",
              "      <th>0.0010</th>\n",
              "      <td>0.571495</td>\n",
              "    </tr>\n",
              "    <tr>\n",
              "      <th>0.1000</th>\n",
              "      <td>0.617460</td>\n",
              "    </tr>\n",
              "    <tr>\n",
              "      <th>1.0000</th>\n",
              "      <td>0.613029</td>\n",
              "    </tr>\n",
              "    <tr>\n",
              "      <th>10.0000</th>\n",
              "      <td>0.615939</td>\n",
              "    </tr>\n",
              "  </tbody>\n",
              "</table>\n",
              "</div>"
            ],
            "text/plain": [
              "                        mean_test_score\n",
              "param_penalty param_C                  \n",
              "l1            0.0001           0.438889\n",
              "              0.0010           0.530886\n",
              "              1.0000           0.623677\n",
              "              10.0000          0.624405\n",
              "              100.0000         0.623545\n",
              "l2            0.0001           0.539286\n",
              "              0.0010           0.571495\n",
              "              0.1000           0.617460\n",
              "              1.0000           0.613029\n",
              "              10.0000          0.615939"
            ]
          },
          "metadata": {
            "tags": []
          },
          "execution_count": 23
        }
      ]
    },
    {
      "cell_type": "code",
      "metadata": {
        "id": "ogOpInxsCjxD",
        "colab_type": "code",
        "outputId": "563094e7-d43f-4141-e78e-c4b3750834eb",
        "colab": {
          "base_uri": "https://localhost:8080/",
          "height": 54
        }
      },
      "source": [
        "logreg_optimized_score = cross_val_score(grid_logreg.best_estimator_, X, y, cv=5, scoring='accuracy')\n",
        "print(\"LogisticRegression cross val score (optimized): {}\".format(logreg_optimized_score))\n",
        "print(\"The mean score: {:.3f}\".format(logreg_optimized_score.mean()))"
      ],
      "execution_count": 0,
      "outputs": [
        {
          "output_type": "stream",
          "text": [
            "LogisticRegression cross val score (optimized): [0.56448413 0.56183862 0.64384921 0.65277778 0.68154762]\n",
            "The mean score: 0.621\n"
          ],
          "name": "stdout"
        }
      ]
    },
    {
      "cell_type": "code",
      "metadata": {
        "id": "7QYbJUEbCjxM",
        "colab_type": "code",
        "outputId": "39c927a0-9b61-45c8-dac9-fdbb127db000",
        "colab": {
          "base_uri": "https://localhost:8080/",
          "height": 371
        }
      },
      "source": [
        "fig, ax = plt.subplots(1, 2, figsize=(13, 5), sharey=True)\n",
        "\n",
        "sns.barplot(data=logreg_results.reset_index()[logreg_results.reset_index()['param_penalty'] == 'l1'], x='param_C', y='mean_test_score', ax=ax[0])\n",
        "sns.barplot(data=logreg_results.reset_index()[logreg_results.reset_index()['param_penalty'] == 'l2'], x='param_C', y='mean_test_score', ax=ax[1])\n",
        "ax[0].set(title='l1', ylim=(0, 1))\n",
        "ax[1].set(title='l2', ylim=(0, 1))\n",
        "fig.suptitle('penalty');"
      ],
      "execution_count": 0,
      "outputs": [
        {
          "output_type": "display_data",
          "data": {
            "image/png": "[encoded data removed]",
            "text/plain": [
              "<Figure size 936x360 with 2 Axes>"
            ]
          },
          "metadata": {
            "tags": []
          }
        }
      ]
    },
    {
      "cell_type": "markdown",
      "metadata": {
        "id": "rcWGGEqyCjxT",
        "colab_type": "text"
      },
      "source": [
        "The best score we get is 0.62, not better than using KNeighborsClassfier."
      ]
    },
    {
      "cell_type": "markdown",
      "metadata": {
        "id": "HUanCvHRCjxW",
        "colab_type": "text"
      },
      "source": [
        "### SGDClassifier"
      ]
    },
    {
      "cell_type": "markdown",
      "metadata": {
        "id": "08UhYAy9CjxX",
        "colab_type": "text"
      },
      "source": [
        "In here, we use SGDClassfier which powered by randomness, and faster than using LogisticRegression, since it iterates the data points one at a time and update the weights using gradient descent method. Below we don't scale the data first, then we scale it."
      ]
    },
    {
      "cell_type": "code",
      "metadata": {
        "id": "F2T08G8FCjxZ",
        "colab_type": "code",
        "outputId": "d308cc40-4570-4b56-ebb7-b52048c8d00c",
        "colab": {
          "base_uri": "https://localhost:8080/",
          "height": 54
        }
      },
      "source": [
        "sgd_default_no_scaling_score = cross_val_score(SGDClassifier(), X, y, cv=5, scoring='accuracy')\n",
        "print(\"SGDClassifier cross val score (default & no scaling): {}\".format(sgd_default_no_scaling_score))\n",
        "print(\"The mean score: {:.3f}\".format(sgd_default_no_scaling_score.mean()))"
      ],
      "execution_count": 0,
      "outputs": [
        {
          "output_type": "stream",
          "text": [
            "SGDClassifier cross val score (default & no scaling): [0.3042328  0.19080688 0.32671958 0.20634921 0.43518519]\n",
            "The mean score: 0.293\n"
          ],
          "name": "stdout"
        }
      ]
    },
    {
      "cell_type": "markdown",
      "metadata": {
        "id": "PsUJhRYmCjxg",
        "colab_type": "text"
      },
      "source": [
        "The score is much worse than previous model's scores, certainly need some improvements. Now, we scale it with Pipeline"
      ]
    },
    {
      "cell_type": "code",
      "metadata": {
        "id": "5llobUcdCjxj",
        "colab_type": "code",
        "colab": {}
      },
      "source": [
        "pipe_sgd = Pipeline([\n",
        "    ('scaler', StandardScaler()),\n",
        "    ('sgd', SGDClassifier())\n",
        "])"
      ],
      "execution_count": 0,
      "outputs": []
    },
    {
      "cell_type": "code",
      "metadata": {
        "id": "-BmwiC2pCjxp",
        "colab_type": "code",
        "outputId": "2b19dca2-2132-4c13-906b-02e972031a2c",
        "colab": {
          "base_uri": "https://localhost:8080/",
          "height": 54
        }
      },
      "source": [
        "sgd_default_score = cross_val_score(pipe_sgd, X, y, cv=5, scoring='accuracy')\n",
        "print(\"SGDClassifier cross val score (default & scaled): {}\".format(sgd_default_score))\n",
        "print(\"The mean score: {:.3f}\".format(sgd_default_score.mean()))"
      ],
      "execution_count": 0,
      "outputs": [
        {
          "output_type": "stream",
          "text": [
            "SGDClassifier cross val score (default & scaled): [0.53406085 0.51653439 0.6140873  0.61871693 0.62830688]\n",
            "The mean score: 0.582\n"
          ],
          "name": "stdout"
        }
      ]
    },
    {
      "cell_type": "markdown",
      "metadata": {
        "id": "D6BtBUqPCjxz",
        "colab_type": "text"
      },
      "source": [
        "Now, it looks better from before scaling. Then we find the optimized model by using hyperparameters: penalty, alpha and l1 ratio."
      ]
    },
    {
      "cell_type": "code",
      "metadata": {
        "id": "9T5PVLtbCjx1",
        "colab_type": "code",
        "colab": {}
      },
      "source": [
        "param_grid = {\n",
        "    'sgd__penalty' : ['elasticnet'], # use elasticnet only\n",
        "    'sgd__alpha' : [0.001, 0.001, 0.01, 0.1, 1, 10, 100, 1000],\n",
        "    'sgd__l1_ratio' : [0, 0.25, 0.5, 0.75, 1]\n",
        "}\n",
        "\n",
        "grid_sgd = RandomizedSearchCV(pipe_sgd, param_distributions=param_grid, cv=3, scoring='accuracy', n_iter=10, n_jobs=-1).fit(X, y)"
      ],
      "execution_count": 0,
      "outputs": []
    },
    {
      "cell_type": "code",
      "metadata": {
        "id": "k7y9zEvmCjx6",
        "colab_type": "code",
        "outputId": "e186ac6b-5804-4950-acf0-f706bbad4c80",
        "colab": {
          "base_uri": "https://localhost:8080/",
          "height": 35
        }
      },
      "source": [
        "grid_sgd.best_score_"
      ],
      "execution_count": 0,
      "outputs": [
        {
          "output_type": "execute_result",
          "data": {
            "text/plain": [
              "0.600462962962963"
            ]
          },
          "metadata": {
            "tags": []
          },
          "execution_count": 30
        }
      ]
    },
    {
      "cell_type": "code",
      "metadata": {
        "id": "mQqlhavRCjyB",
        "colab_type": "code",
        "outputId": "f077b5e9-6d7b-4c93-d323-44c040ee8e3e",
        "colab": {
          "base_uri": "https://localhost:8080/",
          "height": 35
        }
      },
      "source": [
        "grid_sgd.best_params_"
      ],
      "execution_count": 0,
      "outputs": [
        {
          "output_type": "execute_result",
          "data": {
            "text/plain": [
              "{'sgd__alpha': 0.01, 'sgd__l1_ratio': 0, 'sgd__penalty': 'elasticnet'}"
            ]
          },
          "metadata": {
            "tags": []
          },
          "execution_count": 31
        }
      ]
    },
    {
      "cell_type": "code",
      "metadata": {
        "id": "ZS25JWhGCjyM",
        "colab_type": "code",
        "outputId": "10c52f48-017b-4674-dd06-4403eb4b3c89",
        "colab": {
          "base_uri": "https://localhost:8080/",
          "height": 395
        }
      },
      "source": [
        "sgd_results = pd.DataFrame(grid_sgd.cv_results_)[['param_sgd__alpha', 'param_sgd__l1_ratio', 'mean_test_score']].groupby(['param_sgd__l1_ratio', 'param_sgd__alpha']).mean()\n",
        "sgd_results"
      ],
      "execution_count": 0,
      "outputs": [
        {
          "output_type": "execute_result",
          "data": {
            "text/html": [
              "<div>\n",
              "<style scoped>\n",
              "    .dataframe tbody tr th:only-of-type {\n",
              "        vertical-align: middle;\n",
              "    }\n",
              "\n",
              "    .dataframe tbody tr th {\n",
              "        vertical-align: top;\n",
              "    }\n",
              "\n",
              "    .dataframe thead th {\n",
              "        text-align: right;\n",
              "    }\n",
              "</style>\n",
              "<table border=\"1\" class=\"dataframe\">\n",
              "  <thead>\n",
              "    <tr style=\"text-align: right;\">\n",
              "      <th></th>\n",
              "      <th></th>\n",
              "      <th>mean_test_score</th>\n",
              "    </tr>\n",
              "    <tr>\n",
              "      <th>param_sgd__l1_ratio</th>\n",
              "      <th>param_sgd__alpha</th>\n",
              "      <th></th>\n",
              "    </tr>\n",
              "  </thead>\n",
              "  <tbody>\n",
              "    <tr>\n",
              "      <th rowspan=\"3\" valign=\"top\">0.00</th>\n",
              "      <th>0.010</th>\n",
              "      <td>0.600463</td>\n",
              "    </tr>\n",
              "    <tr>\n",
              "      <th>10.000</th>\n",
              "      <td>0.212963</td>\n",
              "    </tr>\n",
              "    <tr>\n",
              "      <th>100.000</th>\n",
              "      <td>0.244312</td>\n",
              "    </tr>\n",
              "    <tr>\n",
              "      <th rowspan=\"2\" valign=\"top\">0.25</th>\n",
              "      <th>0.010</th>\n",
              "      <td>0.591270</td>\n",
              "    </tr>\n",
              "    <tr>\n",
              "      <th>1.000</th>\n",
              "      <td>0.142857</td>\n",
              "    </tr>\n",
              "    <tr>\n",
              "      <th rowspan=\"2\" valign=\"top\">0.50</th>\n",
              "      <th>0.001</th>\n",
              "      <td>0.590542</td>\n",
              "    </tr>\n",
              "    <tr>\n",
              "      <th>0.010</th>\n",
              "      <td>0.578505</td>\n",
              "    </tr>\n",
              "    <tr>\n",
              "      <th rowspan=\"2\" valign=\"top\">0.75</th>\n",
              "      <th>1.000</th>\n",
              "      <td>0.142857</td>\n",
              "    </tr>\n",
              "    <tr>\n",
              "      <th>10.000</th>\n",
              "      <td>0.142857</td>\n",
              "    </tr>\n",
              "    <tr>\n",
              "      <th>1.00</th>\n",
              "      <th>0.001</th>\n",
              "      <td>0.596825</td>\n",
              "    </tr>\n",
              "  </tbody>\n",
              "</table>\n",
              "</div>"
            ],
            "text/plain": [
              "                                      mean_test_score\n",
              "param_sgd__l1_ratio param_sgd__alpha                 \n",
              "0.00                0.010                    0.600463\n",
              "                    10.000                   0.212963\n",
              "                    100.000                  0.244312\n",
              "0.25                0.010                    0.591270\n",
              "                    1.000                    0.142857\n",
              "0.50                0.001                    0.590542\n",
              "                    0.010                    0.578505\n",
              "0.75                1.000                    0.142857\n",
              "                    10.000                   0.142857\n",
              "1.00                0.001                    0.596825"
            ]
          },
          "metadata": {
            "tags": []
          },
          "execution_count": 32
        }
      ]
    },
    {
      "cell_type": "code",
      "metadata": {
        "id": "6TbwfJYvCjyS",
        "colab_type": "code",
        "outputId": "68cfc423-ad09-4eae-b693-5679d164604a",
        "colab": {
          "base_uri": "https://localhost:8080/",
          "height": 54
        }
      },
      "source": [
        "sgd_optimized_score = cross_val_score(grid_sgd.best_estimator_, X, y, cv=5, scoring='accuracy')\n",
        "print(\"SGDClassifier cross val score (optimized): {}\".format(sgd_optimized_score))\n",
        "print(\"The mean score: {:.3f}\".format(sgd_optimized_score.mean()))"
      ],
      "execution_count": 0,
      "outputs": [
        {
          "output_type": "stream",
          "text": [
            "SGDClassifier cross val score (optimized): [0.50859788 0.54298942 0.61044974 0.64550265 0.64384921]\n",
            "The mean score: 0.590\n"
          ],
          "name": "stdout"
        }
      ]
    },
    {
      "cell_type": "markdown",
      "metadata": {
        "id": "JBV2aIITCjya",
        "colab_type": "text"
      },
      "source": [
        "We get the best score using SGDClassifier ~0.57. "
      ]
    },
    {
      "cell_type": "markdown",
      "metadata": {
        "id": "1ffpx_QKCjyf",
        "colab_type": "text"
      },
      "source": [
        "### LinearSVC"
      ]
    },
    {
      "cell_type": "markdown",
      "metadata": {
        "id": "dBTl_kOZCjyi",
        "colab_type": "text"
      },
      "source": [
        "In this subsection, we use SVC with kernel trick linear (not the same SVC with kernel trick linear). Note: we need to scale the data first to get better performance."
      ]
    },
    {
      "cell_type": "code",
      "metadata": {
        "id": "lMfNTLh8Cjyl",
        "colab_type": "code",
        "outputId": "a7f9cac4-5a26-4ec7-cf85-1ffcdb70531a",
        "colab": {
          "base_uri": "https://localhost:8080/",
          "height": 54
        }
      },
      "source": [
        "linsvc_default_no_scaling_score = cross_val_score(LinearSVC(), X, y, cv=5, scoring='accuracy')\n",
        "print(\"LinearSVC cross val score (default & no scaling): {}\".format(linsvc_default_no_scaling_score))\n",
        "print(\"The mean score: {:.3f}\".format(linsvc_default_no_scaling_score.mean()))"
      ],
      "execution_count": 0,
      "outputs": [
        {
          "output_type": "stream",
          "text": [
            "LinearSVC cross val score (default & no scaling): [0.35119048 0.43849206 0.34490741 0.37632275 0.24867725]\n",
            "The mean score: 0.352\n"
          ],
          "name": "stdout"
        }
      ]
    },
    {
      "cell_type": "markdown",
      "metadata": {
        "id": "qgjdPrOeCjyv",
        "colab_type": "text"
      },
      "source": [
        "With scaling:"
      ]
    },
    {
      "cell_type": "code",
      "metadata": {
        "id": "jMGHHJbKCjyx",
        "colab_type": "code",
        "colab": {}
      },
      "source": [
        "pipe_linsvc = Pipeline([\n",
        "    ('scaler', StandardScaler()),\n",
        "    ('linsvc', LinearSVC())\n",
        "])"
      ],
      "execution_count": 0,
      "outputs": []
    },
    {
      "cell_type": "code",
      "metadata": {
        "id": "xpDAWDkfCjy3",
        "colab_type": "code",
        "outputId": "7b50bd5f-b8ea-425d-ea96-c88374b8ea71",
        "colab": {
          "base_uri": "https://localhost:8080/",
          "height": 54
        }
      },
      "source": [
        "linsvc_default_score = cross_val_score(pipe_linsvc, X, y, cv=5, scoring='accuracy')\n",
        "print(\"LinearSVC cross val score (default & scaled): {}\".format(linsvc_default_score))\n",
        "print(\"The mean score: {:.3f}\".format(linsvc_default_score.mean()))"
      ],
      "execution_count": 0,
      "outputs": [
        {
          "output_type": "stream",
          "text": [
            "LinearSVC cross val score (default & scaled): [0.55919312 0.55919312 0.64384921 0.65707672 0.68320106]\n",
            "The mean score: 0.621\n"
          ],
          "name": "stdout"
        }
      ]
    },
    {
      "cell_type": "markdown",
      "metadata": {
        "id": "GyQDGqO5Cjy-",
        "colab_type": "text"
      },
      "source": [
        "There is a slight improvement. Let's continue it by finding optimized model."
      ]
    },
    {
      "cell_type": "code",
      "metadata": {
        "id": "G1DOTWi4CjzB",
        "colab_type": "code",
        "colab": {}
      },
      "source": [
        "param_grid = {\n",
        "    'linsvc__C' : [0.0001, 0.001, 0.01, 0.1, 1, 10, 100]\n",
        "}\n",
        "grid_linsvc = RandomizedSearchCV(pipe_linsvc, param_distributions=param_grid, cv=3, scoring='accuracy', n_iter=10, n_jobs=-1).fit(X, y)"
      ],
      "execution_count": 0,
      "outputs": []
    },
    {
      "cell_type": "code",
      "metadata": {
        "id": "D9HzHVXNCjzK",
        "colab_type": "code",
        "outputId": "55c9cadf-bcb0-4125-f1d1-7f490f64a81f",
        "colab": {
          "base_uri": "https://localhost:8080/",
          "height": 35
        }
      },
      "source": [
        "grid_linsvc.best_score_"
      ],
      "execution_count": 0,
      "outputs": [
        {
          "output_type": "execute_result",
          "data": {
            "text/plain": [
              "0.6216931216931217"
            ]
          },
          "metadata": {
            "tags": []
          },
          "execution_count": 38
        }
      ]
    },
    {
      "cell_type": "code",
      "metadata": {
        "id": "YuNdHLASCjzO",
        "colab_type": "code",
        "outputId": "a4ed46aa-93d4-4eaa-e676-1563b9f8d16e",
        "colab": {
          "base_uri": "https://localhost:8080/",
          "height": 35
        }
      },
      "source": [
        "grid_linsvc.best_params_"
      ],
      "execution_count": 0,
      "outputs": [
        {
          "output_type": "execute_result",
          "data": {
            "text/plain": [
              "{'linsvc__C': 1}"
            ]
          },
          "metadata": {
            "tags": []
          },
          "execution_count": 39
        }
      ]
    },
    {
      "cell_type": "code",
      "metadata": {
        "id": "1meJzDZMCjzV",
        "colab_type": "code",
        "outputId": "e4f230c0-3af0-49ca-fd85-ed969e22bbc0",
        "colab": {
          "base_uri": "https://localhost:8080/",
          "height": 300
        }
      },
      "source": [
        "linsvc_results = pd.DataFrame(grid_linsvc.cv_results_)[['param_linsvc__C', 'mean_test_score']].groupby(['param_linsvc__C']).mean()\n",
        "linsvc_results"
      ],
      "execution_count": 0,
      "outputs": [
        {
          "output_type": "execute_result",
          "data": {
            "text/html": [
              "<div>\n",
              "<style scoped>\n",
              "    .dataframe tbody tr th:only-of-type {\n",
              "        vertical-align: middle;\n",
              "    }\n",
              "\n",
              "    .dataframe tbody tr th {\n",
              "        vertical-align: top;\n",
              "    }\n",
              "\n",
              "    .dataframe thead th {\n",
              "        text-align: right;\n",
              "    }\n",
              "</style>\n",
              "<table border=\"1\" class=\"dataframe\">\n",
              "  <thead>\n",
              "    <tr style=\"text-align: right;\">\n",
              "      <th></th>\n",
              "      <th>mean_test_score</th>\n",
              "    </tr>\n",
              "    <tr>\n",
              "      <th>param_linsvc__C</th>\n",
              "      <th></th>\n",
              "    </tr>\n",
              "  </thead>\n",
              "  <tbody>\n",
              "    <tr>\n",
              "      <th>0.0001</th>\n",
              "      <td>0.566138</td>\n",
              "    </tr>\n",
              "    <tr>\n",
              "      <th>0.0010</th>\n",
              "      <td>0.587897</td>\n",
              "    </tr>\n",
              "    <tr>\n",
              "      <th>0.0100</th>\n",
              "      <td>0.609392</td>\n",
              "    </tr>\n",
              "    <tr>\n",
              "      <th>0.1000</th>\n",
              "      <td>0.619246</td>\n",
              "    </tr>\n",
              "    <tr>\n",
              "      <th>1.0000</th>\n",
              "      <td>0.621693</td>\n",
              "    </tr>\n",
              "    <tr>\n",
              "      <th>10.0000</th>\n",
              "      <td>0.583333</td>\n",
              "    </tr>\n",
              "    <tr>\n",
              "      <th>100.0000</th>\n",
              "      <td>0.520701</td>\n",
              "    </tr>\n",
              "  </tbody>\n",
              "</table>\n",
              "</div>"
            ],
            "text/plain": [
              "                 mean_test_score\n",
              "param_linsvc__C                 \n",
              "0.0001                  0.566138\n",
              "0.0010                  0.587897\n",
              "0.0100                  0.609392\n",
              "0.1000                  0.619246\n",
              "1.0000                  0.621693\n",
              "10.0000                 0.583333\n",
              "100.0000                0.520701"
            ]
          },
          "metadata": {
            "tags": []
          },
          "execution_count": 40
        }
      ]
    },
    {
      "cell_type": "markdown",
      "metadata": {
        "id": "AM9u1vDdCjzc",
        "colab_type": "text"
      },
      "source": [
        "RandomizedSearch find that the best C parameter is 1, which is the default."
      ]
    },
    {
      "cell_type": "code",
      "metadata": {
        "id": "aXkzMMsyCjze",
        "colab_type": "code",
        "outputId": "3e6de489-9d2b-4520-fded-a59a14643987",
        "colab": {
          "base_uri": "https://localhost:8080/",
          "height": 351
        }
      },
      "source": [
        "fig, ax = plt.subplots(1, 1, figsize=(8, 5))\n",
        "\n",
        "sns.barplot(data=linsvc_results.reset_index(), x='param_linsvc__C', y='mean_test_score', ax=ax)\n",
        "ax.set(title='C', ylim=(0, 1));"
      ],
      "execution_count": 0,
      "outputs": [
        {
          "output_type": "display_data",
          "data": {
            "image/png": "[encoded data removed]",
            "text/plain": [
              "<Figure size 576x360 with 1 Axes>"
            ]
          },
          "metadata": {
            "tags": []
          }
        }
      ]
    },
    {
      "cell_type": "markdown",
      "metadata": {
        "id": "wDAXKk7xCjzk",
        "colab_type": "text"
      },
      "source": [
        "Since the best hyperparameter we found is the default, we cannot see any imporvement using RandomizedSearchCV. Still, the score is quite good."
      ]
    },
    {
      "cell_type": "markdown",
      "metadata": {
        "id": "gvWcM7RBCjzm",
        "colab_type": "text"
      },
      "source": [
        "---"
      ]
    },
    {
      "cell_type": "markdown",
      "metadata": {
        "id": "3Plori_zvDh4",
        "colab_type": "text"
      },
      "source": [
        "## Random Forest Classifier"
      ]
    },
    {
      "cell_type": "markdown",
      "metadata": {
        "id": "xpQjL2-hvRBd",
        "colab_type": "text"
      },
      "source": [
        "Here, we will use one of the ensemble learning algorithms which is RandomForestClassifier. Let's start by using default model"
      ]
    },
    {
      "cell_type": "code",
      "metadata": {
        "id": "8Kr7chxbvH5O",
        "colab_type": "code",
        "outputId": "f07bbd4d-9f90-4aad-acb6-a45a1001ffb0",
        "colab": {
          "base_uri": "https://localhost:8080/",
          "height": 54
        }
      },
      "source": [
        "rf_default = cross_val_score(RandomForestClassifier(), X, y, cv=5, scoring='accuracy')\n",
        "print(\"RandomForestClassifier cross val score (default): {}\".format(rf_default))\n",
        "print(\"The mean score: {:.3f}\".format(rf_default.mean()))"
      ],
      "execution_count": 0,
      "outputs": [
        {
          "output_type": "stream",
          "text": [
            "RandomForestClassifier cross val score (default & no scaling): [0.70568783 0.71593915 0.74140212 0.76686508 0.82671958]\n",
            "The mean score: 0.751\n"
          ],
          "name": "stdout"
        }
      ]
    },
    {
      "cell_type": "markdown",
      "metadata": {
        "id": "RhwMz-WmvyLY",
        "colab_type": "text"
      },
      "source": [
        "By using decision tree, we don't need to scale the data. So now, let's jump into hyperparameters search"
      ]
    },
    {
      "cell_type": "code",
      "metadata": {
        "id": "WZfeq3gfwAmQ",
        "colab_type": "code",
        "colab": {}
      },
      "source": [
        "param_grid = {\n",
        "    'n_estimators' : [400, 450, 500],\n",
        "    'max_depth' : [1, 2, 3, 4, 5],\n",
        "    'max_features' : [2, 3, 4, 5, 10, 20, 30]\n",
        "}\n",
        "\n",
        "grid_rf = GridSearchCV(RandomForestClassifier(), param_grid=param_grid, cv=5, scoring='accuracy', n_jobs=-1).fit(X, y)"
      ],
      "execution_count": 0,
      "outputs": []
    },
    {
      "cell_type": "code",
      "metadata": {
        "id": "pJKNPBjyxMLR",
        "colab_type": "code",
        "outputId": "839fb478-ed37-42c0-9fad-9ee60f80033f",
        "colab": {
          "base_uri": "https://localhost:8080/",
          "height": 35
        }
      },
      "source": [
        "grid_rf.best_score_"
      ],
      "execution_count": 0,
      "outputs": [
        {
          "output_type": "execute_result",
          "data": {
            "text/plain": [
              "0.6695767195767196"
            ]
          },
          "metadata": {
            "tags": []
          },
          "execution_count": 53
        }
      ]
    },
    {
      "cell_type": "code",
      "metadata": {
        "id": "QW45ddhz4ZBk",
        "colab_type": "code",
        "outputId": "2e8d181b-b973-4a05-924e-897a72883c26",
        "colab": {
          "base_uri": "https://localhost:8080/",
          "height": 35
        }
      },
      "source": [
        "grid_rf.best_params_"
      ],
      "execution_count": 0,
      "outputs": [
        {
          "output_type": "execute_result",
          "data": {
            "text/plain": [
              "{'max_depth': 5, 'max_features': 20, 'n_estimators': 450}"
            ]
          },
          "metadata": {
            "tags": []
          },
          "execution_count": 54
        }
      ]
    },
    {
      "cell_type": "code",
      "metadata": {
        "id": "3tPJw9yM4d23",
        "colab_type": "code",
        "outputId": "9d77697c-687e-4d5f-c79c-8e72d57e3186",
        "colab": {
          "base_uri": "https://localhost:8080/",
          "height": 54
        }
      },
      "source": [
        "rf_default = cross_val_score(RandomForestClassifier(n_estimators=100, max_depth=3, max_features=25), X, y, cv=5, scoring='accuracy')\n",
        "print(\"RandomForestClassifier cross val score (default & no scaling): {}\".format(rf_default))\n",
        "print(\"The mean score: {:.3f}\".format(rf_default.mean()))"
      ],
      "execution_count": 0,
      "outputs": [
        {
          "output_type": "stream",
          "text": [
            "RandomForestClassifier cross val score (default & no scaling): [0.52943122 0.58928571 0.62533069 0.65178571 0.65839947]\n",
            "The mean score: 0.611\n"
          ],
          "name": "stdout"
        }
      ]
    },
    {
      "cell_type": "markdown",
      "metadata": {
        "id": "t1131X-340zk",
        "colab_type": "text"
      },
      "source": [
        "### Gradient Boosting Classifier"
      ]
    },
    {
      "cell_type": "code",
      "metadata": {
        "id": "siP3gu8w6YH5",
        "colab_type": "code",
        "outputId": "b685c577-767c-4994-a59d-3d7c36596687",
        "colab": {
          "base_uri": "https://localhost:8080/",
          "height": 74
        }
      },
      "source": [
        "gbrt_default = cross_val_score(GradientBoostingClassifier(), X, y, cv=5, scoring='accuracy')\n",
        "print(\"GradientBoostingClassifier cross val score (default): {}\".format(gbrt_default))\n",
        "print(\"The mean score: {:.3f}\".format(gbrt_default.mean()))"
      ],
      "execution_count": 69,
      "outputs": [
        {
          "output_type": "stream",
          "text": [
            "GradientBoostingClassifier cross val score (default): [0.68518519 0.67427249 0.7281746  0.74371693 0.78769841]\n",
            "The mean score: 0.724\n"
          ],
          "name": "stdout"
        }
      ]
    },
    {
      "cell_type": "code",
      "metadata": {
        "id": "Zcyycjon6gvK",
        "colab_type": "code",
        "colab": {}
      },
      "source": [
        "param_grid = {\n",
        "    'n_estimators' : [400, 450, 500],\n",
        "    'max_depth' : [1, 2, 3, 4, 5]\n",
        "}\n",
        "\n",
        "grid_rf = GridSearchCV(GradientBoostingClassifier(max_features='sqrt'), param_grid=param_grid, cv=5, scoring='accuracy', n_jobs=-1).fit(X, y)"
      ],
      "execution_count": 0,
      "outputs": []
    },
    {
      "cell_type": "code",
      "metadata": {
        "id": "MjpiUq318ISO",
        "colab_type": "code",
        "outputId": "a0aea2ad-5a79-4413-80f7-67a6adfe29c0",
        "colab": {
          "base_uri": "https://localhost:8080/",
          "height": 35
        }
      },
      "source": [
        "grid_rf.best_score_"
      ],
      "execution_count": 0,
      "outputs": [
        {
          "output_type": "execute_result",
          "data": {
            "text/plain": [
              "0.776984126984127"
            ]
          },
          "metadata": {
            "tags": []
          },
          "execution_count": 61
        }
      ]
    },
    {
      "cell_type": "code",
      "metadata": {
        "id": "ag_b15V2Di3a",
        "colab_type": "code",
        "outputId": "ae3823f3-e312-4e52-adbc-25a090cb706c",
        "colab": {
          "base_uri": "https://localhost:8080/",
          "height": 35
        }
      },
      "source": [
        "grid_rf.best_params_"
      ],
      "execution_count": 0,
      "outputs": [
        {
          "output_type": "execute_result",
          "data": {
            "text/plain": [
              "{'max_depth': 5, 'n_estimators': 500}"
            ]
          },
          "metadata": {
            "tags": []
          },
          "execution_count": 63
        }
      ]
    },
    {
      "cell_type": "code",
      "metadata": {
        "id": "LzIJSE-TDq9M",
        "colab_type": "code",
        "outputId": "2fbdacca-d0a9-4f4b-f665-5e2223c0acde",
        "colab": {
          "base_uri": "https://localhost:8080/",
          "height": 35
        }
      },
      "source": [
        "gbrt = GradientBoostingClassifier(n_estimators=750, max_features='sqrt', max_depth=5)\n",
        "cross_val_score(gbrt, X, y, cv=5, scoring='accuracy')"
      ],
      "execution_count": 70,
      "outputs": [
        {
          "output_type": "execute_result",
          "data": {
            "text/plain": [
              "array([0.75859788, 0.74140212, 0.76818783, 0.79530423, 0.84358466])"
            ]
          },
          "metadata": {
            "tags": []
          },
          "execution_count": 70
        }
      ]
    },
    {
      "cell_type": "code",
      "metadata": {
        "id": "IbazYBaOEA0Q",
        "colab_type": "code",
        "colab": {
          "base_uri": "https://localhost:8080/",
          "height": 35
        },
        "outputId": "23f107a1-68de-4f1f-a096-0a3a2c7f4dce"
      },
      "source": [
        "np.mean([0.75859788, 0.74140212, 0.76818783, 0.79530423, 0.84358466])"
      ],
      "execution_count": 72,
      "outputs": [
        {
          "output_type": "execute_result",
          "data": {
            "text/plain": [
              "0.7814153439999999"
            ]
          },
          "metadata": {
            "tags": []
          },
          "execution_count": 72
        }
      ]
    },
    {
      "cell_type": "code",
      "metadata": {
        "id": "Zqmm9_S8M0dG",
        "colab_type": "code",
        "colab": {}
      },
      "source": [
        "X_train, X_val, y_train, y_val = train_test_split(X, y, random_state=42, test_size=0.2)"
      ],
      "execution_count": 0,
      "outputs": []
    },
    {
      "cell_type": "code",
      "metadata": {
        "id": "sDHNnyBGNIrn",
        "colab_type": "code",
        "colab": {}
      },
      "source": [
        "gbrt = GradientBoostingClassifier(n_estimators=750, max_features='sqrt', max_depth=5).fit(X_train, y_train)"
      ],
      "execution_count": 0,
      "outputs": []
    },
    {
      "cell_type": "code",
      "metadata": {
        "id": "rUTEN14PNWYu",
        "colab_type": "code",
        "colab": {
          "base_uri": "https://localhost:8080/",
          "height": 35
        },
        "outputId": "d48ef9a0-33d3-415e-98a4-db74f4f812ba"
      },
      "source": [
        "gbrt.score(X_val, y_val)"
      ],
      "execution_count": 75,
      "outputs": [
        {
          "output_type": "execute_result",
          "data": {
            "text/plain": [
              "0.8707010582010583"
            ]
          },
          "metadata": {
            "tags": []
          },
          "execution_count": 75
        }
      ]
    },
    {
      "cell_type": "markdown",
      "metadata": {
        "id": "OnecT05jOosB",
        "colab_type": "text"
      },
      "source": [
        "---"
      ]
    },
    {
      "cell_type": "markdown",
      "metadata": {
        "id": "s4ewsr4xPJlJ",
        "colab_type": "text"
      },
      "source": [
        "## Chosen Model"
      ]
    },
    {
      "cell_type": "code",
      "metadata": {
        "id": "qIqV8KfZPOGp",
        "colab_type": "code",
        "colab": {}
      },
      "source": [
        "gbrt = GradientBoostingClassifier(n_estimators=750, max_features='sqrt', max_depth=5).fit(X, y)"
      ],
      "execution_count": 0,
      "outputs": []
    },
    {
      "cell_type": "code",
      "metadata": {
        "id": "4xpjpp5ePYAs",
        "colab_type": "code",
        "colab": {
          "base_uri": "https://localhost:8080/",
          "height": 183
        },
        "outputId": "5ab10584-e0b0-4bfb-ecc6-dfeaf9916b86"
      },
      "source": [
        "# Next, install the Kaggle API client.\n",
        "!pip install -q kaggle\n",
        "\n",
        "# The Kaggle API client expects this file to be in ~/.kaggle,\n",
        "# so move it there.\n",
        "!mkdir -p ~/.kaggle\n",
        "!cp kaggle.json ~/.kaggle/\n",
        "\n",
        "# This permissions change avoids a warning on Kaggle tool startup.\n",
        "!chmod 600 ~/.kaggle/kaggle.json\n",
        "\n",
        "# Copy the stackoverflow data set locally.\n",
        "!kaggle competitions download -c learn-together"
      ],
      "execution_count": 78,
      "outputs": [
        {
          "output_type": "stream",
          "text": [
            "Downloading sample_submission.csv.zip to /content\n",
            "\r  0% 0.00/1.19M [00:00<?, ?B/s]\n",
            "\r100% 1.19M/1.19M [00:00<00:00, 80.5MB/s]\n",
            "Downloading test.csv.zip to /content\n",
            " 67% 8.00M/11.9M [00:00<00:00, 82.0MB/s]\n",
            "100% 11.9M/11.9M [00:00<00:00, 76.2MB/s]\n",
            "Downloading train.csv.zip to /content\n",
            "  0% 0.00/351k [00:00<?, ?B/s]\n",
            "100% 351k/351k [00:00<00:00, 103MB/s]\n"
          ],
          "name": "stdout"
        }
      ]
    },
    {
      "cell_type": "code",
      "metadata": {
        "id": "Qb_HTqxCVKVf",
        "colab_type": "code",
        "colab": {}
      },
      "source": [
        "import zipfile\n",
        "with zipfile.ZipFile(\"/content/test.csv.zip\", 'r') as zip_ref:\n",
        "    zip_ref.extractall(\"/content\")"
      ],
      "execution_count": 0,
      "outputs": []
    },
    {
      "cell_type": "code",
      "metadata": {
        "id": "P0wH_uQqViZL",
        "colab_type": "code",
        "colab": {}
      },
      "source": [
        "test = pd.read_csv('test.csv')"
      ],
      "execution_count": 0,
      "outputs": []
    },
    {
      "cell_type": "code",
      "metadata": {
        "id": "zwqmAt-dVnez",
        "colab_type": "code",
        "colab": {
          "base_uri": "https://localhost:8080/",
          "height": 226
        },
        "outputId": "786fcfb0-a493-40cb-ea02-473196af0240"
      },
      "source": [
        "test.head()"
      ],
      "execution_count": 81,
      "outputs": [
        {
          "output_type": "execute_result",
          "data": {
            "text/html": [
              "<div>\n",
              "<style scoped>\n",
              "    .dataframe tbody tr th:only-of-type {\n",
              "        vertical-align: middle;\n",
              "    }\n",
              "\n",
              "    .dataframe tbody tr th {\n",
              "        vertical-align: top;\n",
              "    }\n",
              "\n",
              "    .dataframe thead th {\n",
              "        text-align: right;\n",
              "    }\n",
              "</style>\n",
              "<table border=\"1\" class=\"dataframe\">\n",
              "  <thead>\n",
              "    <tr style=\"text-align: right;\">\n",
              "      <th></th>\n",
              "      <th>Id</th>\n",
              "      <th>Elevation</th>\n",
              "      <th>Aspect</th>\n",
              "      <th>Slope</th>\n",
              "      <th>Horizontal_Distance_To_Hydrology</th>\n",
              "      <th>Vertical_Distance_To_Hydrology</th>\n",
              "      <th>Horizontal_Distance_To_Roadways</th>\n",
              "      <th>Hillshade_9am</th>\n",
              "      <th>Hillshade_Noon</th>\n",
              "      <th>Hillshade_3pm</th>\n",
              "      <th>Horizontal_Distance_To_Fire_Points</th>\n",
              "      <th>Wilderness_Area1</th>\n",
              "      <th>Wilderness_Area2</th>\n",
              "      <th>Wilderness_Area3</th>\n",
              "      <th>Wilderness_Area4</th>\n",
              "      <th>Soil_Type1</th>\n",
              "      <th>Soil_Type2</th>\n",
              "      <th>Soil_Type3</th>\n",
              "      <th>Soil_Type4</th>\n",
              "      <th>Soil_Type5</th>\n",
              "      <th>Soil_Type6</th>\n",
              "      <th>Soil_Type7</th>\n",
              "      <th>Soil_Type8</th>\n",
              "      <th>Soil_Type9</th>\n",
              "      <th>Soil_Type10</th>\n",
              "      <th>Soil_Type11</th>\n",
              "      <th>Soil_Type12</th>\n",
              "      <th>Soil_Type13</th>\n",
              "      <th>Soil_Type14</th>\n",
              "      <th>Soil_Type15</th>\n",
              "      <th>Soil_Type16</th>\n",
              "      <th>Soil_Type17</th>\n",
              "      <th>Soil_Type18</th>\n",
              "      <th>Soil_Type19</th>\n",
              "      <th>Soil_Type20</th>\n",
              "      <th>Soil_Type21</th>\n",
              "      <th>Soil_Type22</th>\n",
              "      <th>Soil_Type23</th>\n",
              "      <th>Soil_Type24</th>\n",
              "      <th>Soil_Type25</th>\n",
              "      <th>Soil_Type26</th>\n",
              "      <th>Soil_Type27</th>\n",
              "      <th>Soil_Type28</th>\n",
              "      <th>Soil_Type29</th>\n",
              "      <th>Soil_Type30</th>\n",
              "      <th>Soil_Type31</th>\n",
              "      <th>Soil_Type32</th>\n",
              "      <th>Soil_Type33</th>\n",
              "      <th>Soil_Type34</th>\n",
              "      <th>Soil_Type35</th>\n",
              "      <th>Soil_Type36</th>\n",
              "      <th>Soil_Type37</th>\n",
              "      <th>Soil_Type38</th>\n",
              "      <th>Soil_Type39</th>\n",
              "      <th>Soil_Type40</th>\n",
              "    </tr>\n",
              "  </thead>\n",
              "  <tbody>\n",
              "    <tr>\n",
              "      <th>0</th>\n",
              "      <td>15121</td>\n",
              "      <td>2680</td>\n",
              "      <td>354</td>\n",
              "      <td>14</td>\n",
              "      <td>0</td>\n",
              "      <td>0</td>\n",
              "      <td>2684</td>\n",
              "      <td>196</td>\n",
              "      <td>214</td>\n",
              "      <td>156</td>\n",
              "      <td>6645</td>\n",
              "      <td>1</td>\n",
              "      <td>0</td>\n",
              "      <td>0</td>\n",
              "      <td>0</td>\n",
              "      <td>0</td>\n",
              "      <td>0</td>\n",
              "      <td>0</td>\n",
              "      <td>0</td>\n",
              "      <td>0</td>\n",
              "      <td>0</td>\n",
              "      <td>0</td>\n",
              "      <td>0</td>\n",
              "      <td>0</td>\n",
              "      <td>0</td>\n",
              "      <td>0</td>\n",
              "      <td>0</td>\n",
              "      <td>0</td>\n",
              "      <td>0</td>\n",
              "      <td>0</td>\n",
              "      <td>0</td>\n",
              "      <td>0</td>\n",
              "      <td>0</td>\n",
              "      <td>0</td>\n",
              "      <td>0</td>\n",
              "      <td>0</td>\n",
              "      <td>0</td>\n",
              "      <td>0</td>\n",
              "      <td>0</td>\n",
              "      <td>0</td>\n",
              "      <td>0</td>\n",
              "      <td>0</td>\n",
              "      <td>0</td>\n",
              "      <td>1</td>\n",
              "      <td>0</td>\n",
              "      <td>0</td>\n",
              "      <td>0</td>\n",
              "      <td>0</td>\n",
              "      <td>0</td>\n",
              "      <td>0</td>\n",
              "      <td>0</td>\n",
              "      <td>0</td>\n",
              "      <td>0</td>\n",
              "      <td>0</td>\n",
              "      <td>0</td>\n",
              "    </tr>\n",
              "    <tr>\n",
              "      <th>1</th>\n",
              "      <td>15122</td>\n",
              "      <td>2683</td>\n",
              "      <td>0</td>\n",
              "      <td>13</td>\n",
              "      <td>0</td>\n",
              "      <td>0</td>\n",
              "      <td>2654</td>\n",
              "      <td>201</td>\n",
              "      <td>216</td>\n",
              "      <td>152</td>\n",
              "      <td>6675</td>\n",
              "      <td>1</td>\n",
              "      <td>0</td>\n",
              "      <td>0</td>\n",
              "      <td>0</td>\n",
              "      <td>0</td>\n",
              "      <td>0</td>\n",
              "      <td>0</td>\n",
              "      <td>0</td>\n",
              "      <td>0</td>\n",
              "      <td>0</td>\n",
              "      <td>0</td>\n",
              "      <td>0</td>\n",
              "      <td>0</td>\n",
              "      <td>0</td>\n",
              "      <td>0</td>\n",
              "      <td>0</td>\n",
              "      <td>0</td>\n",
              "      <td>0</td>\n",
              "      <td>0</td>\n",
              "      <td>0</td>\n",
              "      <td>0</td>\n",
              "      <td>0</td>\n",
              "      <td>0</td>\n",
              "      <td>0</td>\n",
              "      <td>0</td>\n",
              "      <td>0</td>\n",
              "      <td>0</td>\n",
              "      <td>0</td>\n",
              "      <td>0</td>\n",
              "      <td>0</td>\n",
              "      <td>0</td>\n",
              "      <td>0</td>\n",
              "      <td>1</td>\n",
              "      <td>0</td>\n",
              "      <td>0</td>\n",
              "      <td>0</td>\n",
              "      <td>0</td>\n",
              "      <td>0</td>\n",
              "      <td>0</td>\n",
              "      <td>0</td>\n",
              "      <td>0</td>\n",
              "      <td>0</td>\n",
              "      <td>0</td>\n",
              "      <td>0</td>\n",
              "    </tr>\n",
              "    <tr>\n",
              "      <th>2</th>\n",
              "      <td>15123</td>\n",
              "      <td>2713</td>\n",
              "      <td>16</td>\n",
              "      <td>15</td>\n",
              "      <td>0</td>\n",
              "      <td>0</td>\n",
              "      <td>2980</td>\n",
              "      <td>206</td>\n",
              "      <td>208</td>\n",
              "      <td>137</td>\n",
              "      <td>6344</td>\n",
              "      <td>1</td>\n",
              "      <td>0</td>\n",
              "      <td>0</td>\n",
              "      <td>0</td>\n",
              "      <td>0</td>\n",
              "      <td>0</td>\n",
              "      <td>0</td>\n",
              "      <td>0</td>\n",
              "      <td>0</td>\n",
              "      <td>0</td>\n",
              "      <td>0</td>\n",
              "      <td>0</td>\n",
              "      <td>0</td>\n",
              "      <td>0</td>\n",
              "      <td>0</td>\n",
              "      <td>0</td>\n",
              "      <td>0</td>\n",
              "      <td>0</td>\n",
              "      <td>0</td>\n",
              "      <td>0</td>\n",
              "      <td>0</td>\n",
              "      <td>0</td>\n",
              "      <td>0</td>\n",
              "      <td>0</td>\n",
              "      <td>0</td>\n",
              "      <td>0</td>\n",
              "      <td>0</td>\n",
              "      <td>0</td>\n",
              "      <td>0</td>\n",
              "      <td>0</td>\n",
              "      <td>0</td>\n",
              "      <td>0</td>\n",
              "      <td>1</td>\n",
              "      <td>0</td>\n",
              "      <td>0</td>\n",
              "      <td>0</td>\n",
              "      <td>0</td>\n",
              "      <td>0</td>\n",
              "      <td>0</td>\n",
              "      <td>0</td>\n",
              "      <td>0</td>\n",
              "      <td>0</td>\n",
              "      <td>0</td>\n",
              "      <td>0</td>\n",
              "    </tr>\n",
              "    <tr>\n",
              "      <th>3</th>\n",
              "      <td>15124</td>\n",
              "      <td>2709</td>\n",
              "      <td>24</td>\n",
              "      <td>17</td>\n",
              "      <td>0</td>\n",
              "      <td>0</td>\n",
              "      <td>2950</td>\n",
              "      <td>208</td>\n",
              "      <td>201</td>\n",
              "      <td>125</td>\n",
              "      <td>6374</td>\n",
              "      <td>1</td>\n",
              "      <td>0</td>\n",
              "      <td>0</td>\n",
              "      <td>0</td>\n",
              "      <td>0</td>\n",
              "      <td>0</td>\n",
              "      <td>0</td>\n",
              "      <td>0</td>\n",
              "      <td>0</td>\n",
              "      <td>0</td>\n",
              "      <td>0</td>\n",
              "      <td>0</td>\n",
              "      <td>0</td>\n",
              "      <td>0</td>\n",
              "      <td>0</td>\n",
              "      <td>0</td>\n",
              "      <td>0</td>\n",
              "      <td>0</td>\n",
              "      <td>0</td>\n",
              "      <td>0</td>\n",
              "      <td>0</td>\n",
              "      <td>0</td>\n",
              "      <td>0</td>\n",
              "      <td>0</td>\n",
              "      <td>0</td>\n",
              "      <td>0</td>\n",
              "      <td>0</td>\n",
              "      <td>0</td>\n",
              "      <td>0</td>\n",
              "      <td>0</td>\n",
              "      <td>0</td>\n",
              "      <td>0</td>\n",
              "      <td>1</td>\n",
              "      <td>0</td>\n",
              "      <td>0</td>\n",
              "      <td>0</td>\n",
              "      <td>0</td>\n",
              "      <td>0</td>\n",
              "      <td>0</td>\n",
              "      <td>0</td>\n",
              "      <td>0</td>\n",
              "      <td>0</td>\n",
              "      <td>0</td>\n",
              "      <td>0</td>\n",
              "    </tr>\n",
              "    <tr>\n",
              "      <th>4</th>\n",
              "      <td>15125</td>\n",
              "      <td>2706</td>\n",
              "      <td>29</td>\n",
              "      <td>19</td>\n",
              "      <td>0</td>\n",
              "      <td>0</td>\n",
              "      <td>2920</td>\n",
              "      <td>210</td>\n",
              "      <td>195</td>\n",
              "      <td>115</td>\n",
              "      <td>6404</td>\n",
              "      <td>1</td>\n",
              "      <td>0</td>\n",
              "      <td>0</td>\n",
              "      <td>0</td>\n",
              "      <td>0</td>\n",
              "      <td>0</td>\n",
              "      <td>0</td>\n",
              "      <td>0</td>\n",
              "      <td>0</td>\n",
              "      <td>0</td>\n",
              "      <td>0</td>\n",
              "      <td>0</td>\n",
              "      <td>0</td>\n",
              "      <td>0</td>\n",
              "      <td>0</td>\n",
              "      <td>0</td>\n",
              "      <td>0</td>\n",
              "      <td>0</td>\n",
              "      <td>0</td>\n",
              "      <td>0</td>\n",
              "      <td>0</td>\n",
              "      <td>0</td>\n",
              "      <td>0</td>\n",
              "      <td>0</td>\n",
              "      <td>0</td>\n",
              "      <td>0</td>\n",
              "      <td>0</td>\n",
              "      <td>0</td>\n",
              "      <td>0</td>\n",
              "      <td>0</td>\n",
              "      <td>0</td>\n",
              "      <td>0</td>\n",
              "      <td>1</td>\n",
              "      <td>0</td>\n",
              "      <td>0</td>\n",
              "      <td>0</td>\n",
              "      <td>0</td>\n",
              "      <td>0</td>\n",
              "      <td>0</td>\n",
              "      <td>0</td>\n",
              "      <td>0</td>\n",
              "      <td>0</td>\n",
              "      <td>0</td>\n",
              "      <td>0</td>\n",
              "    </tr>\n",
              "  </tbody>\n",
              "</table>\n",
              "</div>"
            ],
            "text/plain": [
              "      Id  Elevation  Aspect  ...  Soil_Type38  Soil_Type39  Soil_Type40\n",
              "0  15121       2680     354  ...            0            0            0\n",
              "1  15122       2683       0  ...            0            0            0\n",
              "2  15123       2713      16  ...            0            0            0\n",
              "3  15124       2709      24  ...            0            0            0\n",
              "4  15125       2706      29  ...            0            0            0\n",
              "\n",
              "[5 rows x 55 columns]"
            ]
          },
          "metadata": {
            "tags": []
          },
          "execution_count": 81
        }
      ]
    },
    {
      "cell_type": "code",
      "metadata": {
        "id": "a9C_r8HkVpe8",
        "colab_type": "code",
        "colab": {}
      },
      "source": [
        "X_test = test.iloc[:, 1:]"
      ],
      "execution_count": 0,
      "outputs": []
    },
    {
      "cell_type": "code",
      "metadata": {
        "id": "Gim3yxC5VwrA",
        "colab_type": "code",
        "colab": {}
      },
      "source": [
        "predictions = gbrt.predict(X_test)"
      ],
      "execution_count": 0,
      "outputs": []
    },
    {
      "cell_type": "code",
      "metadata": {
        "id": "zbEJl2zNV3ZL",
        "colab_type": "code",
        "colab": {
          "base_uri": "https://localhost:8080/",
          "height": 35
        },
        "outputId": "8df08c47-aa26-4a47-e4e6-aff9bc4fcc6a"
      },
      "source": [
        "predictions.shape"
      ],
      "execution_count": 84,
      "outputs": [
        {
          "output_type": "execute_result",
          "data": {
            "text/plain": [
              "(565892,)"
            ]
          },
          "metadata": {
            "tags": []
          },
          "execution_count": 84
        }
      ]
    },
    {
      "cell_type": "code",
      "metadata": {
        "id": "_t4GM1S9ZFH8",
        "colab_type": "code",
        "colab": {
          "base_uri": "https://localhost:8080/",
          "height": 35
        },
        "outputId": "0bbe54b9-4b1f-4229-d862-2898bed77d8b"
      },
      "source": [
        "predictions[:5]"
      ],
      "execution_count": 87,
      "outputs": [
        {
          "output_type": "execute_result",
          "data": {
            "text/plain": [
              "array([2, 1, 1, 5, 5])"
            ]
          },
          "metadata": {
            "tags": []
          },
          "execution_count": 87
        }
      ]
    },
    {
      "cell_type": "code",
      "metadata": {
        "id": "NlWbqzRNZs-h",
        "colab_type": "code",
        "colab": {}
      },
      "source": [
        "submit_predictions = pd.DataFrame(predictions, index=test['Id'], columns=['Cover_Type']).reset_index()"
      ],
      "execution_count": 0,
      "outputs": []
    },
    {
      "cell_type": "code",
      "metadata": {
        "id": "mGGrmGEoZwer",
        "colab_type": "code",
        "colab": {
          "base_uri": "https://localhost:8080/",
          "height": 206
        },
        "outputId": "1ca0b95d-b909-4ce2-cc85-876681338562"
      },
      "source": [
        "submit_predictions.head()"
      ],
      "execution_count": 89,
      "outputs": [
        {
          "output_type": "execute_result",
          "data": {
            "text/html": [
              "<div>\n",
              "<style scoped>\n",
              "    .dataframe tbody tr th:only-of-type {\n",
              "        vertical-align: middle;\n",
              "    }\n",
              "\n",
              "    .dataframe tbody tr th {\n",
              "        vertical-align: top;\n",
              "    }\n",
              "\n",
              "    .dataframe thead th {\n",
              "        text-align: right;\n",
              "    }\n",
              "</style>\n",
              "<table border=\"1\" class=\"dataframe\">\n",
              "  <thead>\n",
              "    <tr style=\"text-align: right;\">\n",
              "      <th></th>\n",
              "      <th>Id</th>\n",
              "      <th>Cover_Type</th>\n",
              "    </tr>\n",
              "  </thead>\n",
              "  <tbody>\n",
              "    <tr>\n",
              "      <th>0</th>\n",
              "      <td>15121</td>\n",
              "      <td>2</td>\n",
              "    </tr>\n",
              "    <tr>\n",
              "      <th>1</th>\n",
              "      <td>15122</td>\n",
              "      <td>1</td>\n",
              "    </tr>\n",
              "    <tr>\n",
              "      <th>2</th>\n",
              "      <td>15123</td>\n",
              "      <td>1</td>\n",
              "    </tr>\n",
              "    <tr>\n",
              "      <th>3</th>\n",
              "      <td>15124</td>\n",
              "      <td>5</td>\n",
              "    </tr>\n",
              "    <tr>\n",
              "      <th>4</th>\n",
              "      <td>15125</td>\n",
              "      <td>5</td>\n",
              "    </tr>\n",
              "  </tbody>\n",
              "</table>\n",
              "</div>"
            ],
            "text/plain": [
              "      Id  Cover_Type\n",
              "0  15121           2\n",
              "1  15122           1\n",
              "2  15123           1\n",
              "3  15124           5\n",
              "4  15125           5"
            ]
          },
          "metadata": {
            "tags": []
          },
          "execution_count": 89
        }
      ]
    },
    {
      "cell_type": "code",
      "metadata": {
        "id": "F4J_YJpgaKmu",
        "colab_type": "code",
        "colab": {}
      },
      "source": [
        "submit_predictions.to_csv('predictions.csv', index=False)"
      ],
      "execution_count": 0,
      "outputs": []
    },
    {
      "cell_type": "code",
      "metadata": {
        "id": "Z5BLlwCAaUGU",
        "colab_type": "code",
        "colab": {}
      },
      "source": [
        "data = pd.read_csv('predictions.csv')"
      ],
      "execution_count": 0,
      "outputs": []
    },
    {
      "cell_type": "code",
      "metadata": {
        "id": "M5iIcEYdaisR",
        "colab_type": "code",
        "colab": {
          "base_uri": "https://localhost:8080/",
          "height": 206
        },
        "outputId": "837541f9-d0ad-40a8-ce09-85056ac912a6"
      },
      "source": [
        "data.head()"
      ],
      "execution_count": 95,
      "outputs": [
        {
          "output_type": "execute_result",
          "data": {
            "text/html": [
              "<div>\n",
              "<style scoped>\n",
              "    .dataframe tbody tr th:only-of-type {\n",
              "        vertical-align: middle;\n",
              "    }\n",
              "\n",
              "    .dataframe tbody tr th {\n",
              "        vertical-align: top;\n",
              "    }\n",
              "\n",
              "    .dataframe thead th {\n",
              "        text-align: right;\n",
              "    }\n",
              "</style>\n",
              "<table border=\"1\" class=\"dataframe\">\n",
              "  <thead>\n",
              "    <tr style=\"text-align: right;\">\n",
              "      <th></th>\n",
              "      <th>Id</th>\n",
              "      <th>Cover_Type</th>\n",
              "    </tr>\n",
              "  </thead>\n",
              "  <tbody>\n",
              "    <tr>\n",
              "      <th>0</th>\n",
              "      <td>15121</td>\n",
              "      <td>2</td>\n",
              "    </tr>\n",
              "    <tr>\n",
              "      <th>1</th>\n",
              "      <td>15122</td>\n",
              "      <td>1</td>\n",
              "    </tr>\n",
              "    <tr>\n",
              "      <th>2</th>\n",
              "      <td>15123</td>\n",
              "      <td>1</td>\n",
              "    </tr>\n",
              "    <tr>\n",
              "      <th>3</th>\n",
              "      <td>15124</td>\n",
              "      <td>5</td>\n",
              "    </tr>\n",
              "    <tr>\n",
              "      <th>4</th>\n",
              "      <td>15125</td>\n",
              "      <td>5</td>\n",
              "    </tr>\n",
              "  </tbody>\n",
              "</table>\n",
              "</div>"
            ],
            "text/plain": [
              "      Id  Cover_Type\n",
              "0  15121           2\n",
              "1  15122           1\n",
              "2  15123           1\n",
              "3  15124           5\n",
              "4  15125           5"
            ]
          },
          "metadata": {
            "tags": []
          },
          "execution_count": 95
        }
      ]
    }
  ]
}