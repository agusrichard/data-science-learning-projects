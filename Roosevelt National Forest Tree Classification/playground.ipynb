{
 "cells": [
  {
   "cell_type": "markdown",
   "metadata": {},
   "source": [
    "# Kaggle's Competition: Roosevelt National Forest Classification Problem"
   ]
  },
  {
   "cell_type": "code",
   "execution_count": 1,
   "metadata": {},
   "outputs": [],
   "source": [
    "# essentials\n",
    "import numpy as np\n",
    "import pandas as pd\n",
    "import matplotlib.pyplot as plt\n",
    "import seaborn as sns\n",
    "\n",
    "# ML algothms \n",
    "from sklearn.naive_bayes import GaussianNB\n",
    "from sklearn.neighbors import KNeighborsClassifier\n",
    "from sklearn.linear_model import LogisticRegression, SGDClassifier\n",
    "from sklearn.svm import LinearSVC, SVC\n",
    "from sklearn.ensemble import RandomForestClassifier, GradientBoostingClassifier\n",
    "\n",
    "# preprocessing\n",
    "from sklearn.preprocessing import StandardScaler\n",
    "\n",
    "# model selection\n",
    "from sklearn.model_selection import train_test_split\n",
    "from sklearn.model_selection import cross_val_score\n",
    "from sklearn.model_selection import GridSearchCV\n",
    "\n",
    "# pipeline\n",
    "from sklearn.pipeline import Pipeline\n",
    "\n",
    "# supress warnings\n",
    "import warnings\n",
    "warnings.filterwarnings('ignore')"
   ]
  },
  {
   "cell_type": "code",
   "execution_count": 13,
   "metadata": {},
   "outputs": [],
   "source": [
    "dataset = pd.read_csv('train.csv')"
   ]
  },
  {
   "cell_type": "code",
   "execution_count": 14,
   "metadata": {},
   "outputs": [
    {
     "data": {
      "text/html": [
       "<div>\n",
       "<style scoped>\n",
       "    .dataframe tbody tr th:only-of-type {\n",
       "        vertical-align: middle;\n",
       "    }\n",
       "\n",
       "    .dataframe tbody tr th {\n",
       "        vertical-align: top;\n",
       "    }\n",
       "\n",
       "    .dataframe thead th {\n",
       "        text-align: right;\n",
       "    }\n",
       "</style>\n",
       "<table border=\"1\" class=\"dataframe\">\n",
       "  <thead>\n",
       "    <tr style=\"text-align: right;\">\n",
       "      <th></th>\n",
       "      <th>Id</th>\n",
       "      <th>Elevation</th>\n",
       "      <th>Aspect</th>\n",
       "      <th>Slope</th>\n",
       "      <th>Horizontal_Distance_To_Hydrology</th>\n",
       "      <th>Vertical_Distance_To_Hydrology</th>\n",
       "      <th>Horizontal_Distance_To_Roadways</th>\n",
       "      <th>Hillshade_9am</th>\n",
       "      <th>Hillshade_Noon</th>\n",
       "      <th>Hillshade_3pm</th>\n",
       "      <th>...</th>\n",
       "      <th>Soil_Type32</th>\n",
       "      <th>Soil_Type33</th>\n",
       "      <th>Soil_Type34</th>\n",
       "      <th>Soil_Type35</th>\n",
       "      <th>Soil_Type36</th>\n",
       "      <th>Soil_Type37</th>\n",
       "      <th>Soil_Type38</th>\n",
       "      <th>Soil_Type39</th>\n",
       "      <th>Soil_Type40</th>\n",
       "      <th>Cover_Type</th>\n",
       "    </tr>\n",
       "  </thead>\n",
       "  <tbody>\n",
       "    <tr>\n",
       "      <th>0</th>\n",
       "      <td>1</td>\n",
       "      <td>2596</td>\n",
       "      <td>51</td>\n",
       "      <td>3</td>\n",
       "      <td>258</td>\n",
       "      <td>0</td>\n",
       "      <td>510</td>\n",
       "      <td>221</td>\n",
       "      <td>232</td>\n",
       "      <td>148</td>\n",
       "      <td>...</td>\n",
       "      <td>0</td>\n",
       "      <td>0</td>\n",
       "      <td>0</td>\n",
       "      <td>0</td>\n",
       "      <td>0</td>\n",
       "      <td>0</td>\n",
       "      <td>0</td>\n",
       "      <td>0</td>\n",
       "      <td>0</td>\n",
       "      <td>5</td>\n",
       "    </tr>\n",
       "    <tr>\n",
       "      <th>1</th>\n",
       "      <td>2</td>\n",
       "      <td>2590</td>\n",
       "      <td>56</td>\n",
       "      <td>2</td>\n",
       "      <td>212</td>\n",
       "      <td>-6</td>\n",
       "      <td>390</td>\n",
       "      <td>220</td>\n",
       "      <td>235</td>\n",
       "      <td>151</td>\n",
       "      <td>...</td>\n",
       "      <td>0</td>\n",
       "      <td>0</td>\n",
       "      <td>0</td>\n",
       "      <td>0</td>\n",
       "      <td>0</td>\n",
       "      <td>0</td>\n",
       "      <td>0</td>\n",
       "      <td>0</td>\n",
       "      <td>0</td>\n",
       "      <td>5</td>\n",
       "    </tr>\n",
       "    <tr>\n",
       "      <th>2</th>\n",
       "      <td>3</td>\n",
       "      <td>2804</td>\n",
       "      <td>139</td>\n",
       "      <td>9</td>\n",
       "      <td>268</td>\n",
       "      <td>65</td>\n",
       "      <td>3180</td>\n",
       "      <td>234</td>\n",
       "      <td>238</td>\n",
       "      <td>135</td>\n",
       "      <td>...</td>\n",
       "      <td>0</td>\n",
       "      <td>0</td>\n",
       "      <td>0</td>\n",
       "      <td>0</td>\n",
       "      <td>0</td>\n",
       "      <td>0</td>\n",
       "      <td>0</td>\n",
       "      <td>0</td>\n",
       "      <td>0</td>\n",
       "      <td>2</td>\n",
       "    </tr>\n",
       "    <tr>\n",
       "      <th>3</th>\n",
       "      <td>4</td>\n",
       "      <td>2785</td>\n",
       "      <td>155</td>\n",
       "      <td>18</td>\n",
       "      <td>242</td>\n",
       "      <td>118</td>\n",
       "      <td>3090</td>\n",
       "      <td>238</td>\n",
       "      <td>238</td>\n",
       "      <td>122</td>\n",
       "      <td>...</td>\n",
       "      <td>0</td>\n",
       "      <td>0</td>\n",
       "      <td>0</td>\n",
       "      <td>0</td>\n",
       "      <td>0</td>\n",
       "      <td>0</td>\n",
       "      <td>0</td>\n",
       "      <td>0</td>\n",
       "      <td>0</td>\n",
       "      <td>2</td>\n",
       "    </tr>\n",
       "    <tr>\n",
       "      <th>4</th>\n",
       "      <td>5</td>\n",
       "      <td>2595</td>\n",
       "      <td>45</td>\n",
       "      <td>2</td>\n",
       "      <td>153</td>\n",
       "      <td>-1</td>\n",
       "      <td>391</td>\n",
       "      <td>220</td>\n",
       "      <td>234</td>\n",
       "      <td>150</td>\n",
       "      <td>...</td>\n",
       "      <td>0</td>\n",
       "      <td>0</td>\n",
       "      <td>0</td>\n",
       "      <td>0</td>\n",
       "      <td>0</td>\n",
       "      <td>0</td>\n",
       "      <td>0</td>\n",
       "      <td>0</td>\n",
       "      <td>0</td>\n",
       "      <td>5</td>\n",
       "    </tr>\n",
       "  </tbody>\n",
       "</table>\n",
       "<p>5 rows × 56 columns</p>\n",
       "</div>"
      ],
      "text/plain": [
       "   Id  Elevation  Aspect  Slope  Horizontal_Distance_To_Hydrology  \\\n",
       "0   1       2596      51      3                               258   \n",
       "1   2       2590      56      2                               212   \n",
       "2   3       2804     139      9                               268   \n",
       "3   4       2785     155     18                               242   \n",
       "4   5       2595      45      2                               153   \n",
       "\n",
       "   Vertical_Distance_To_Hydrology  Horizontal_Distance_To_Roadways  \\\n",
       "0                               0                              510   \n",
       "1                              -6                              390   \n",
       "2                              65                             3180   \n",
       "3                             118                             3090   \n",
       "4                              -1                              391   \n",
       "\n",
       "   Hillshade_9am  Hillshade_Noon  Hillshade_3pm  ...  Soil_Type32  \\\n",
       "0            221             232            148  ...            0   \n",
       "1            220             235            151  ...            0   \n",
       "2            234             238            135  ...            0   \n",
       "3            238             238            122  ...            0   \n",
       "4            220             234            150  ...            0   \n",
       "\n",
       "   Soil_Type33  Soil_Type34  Soil_Type35  Soil_Type36  Soil_Type37  \\\n",
       "0            0            0            0            0            0   \n",
       "1            0            0            0            0            0   \n",
       "2            0            0            0            0            0   \n",
       "3            0            0            0            0            0   \n",
       "4            0            0            0            0            0   \n",
       "\n",
       "   Soil_Type38  Soil_Type39  Soil_Type40  Cover_Type  \n",
       "0            0            0            0           5  \n",
       "1            0            0            0           5  \n",
       "2            0            0            0           2  \n",
       "3            0            0            0           2  \n",
       "4            0            0            0           5  \n",
       "\n",
       "[5 rows x 56 columns]"
      ]
     },
     "execution_count": 14,
     "metadata": {},
     "output_type": "execute_result"
    }
   ],
   "source": [
    "dataset.head()"
   ]
  },
  {
   "cell_type": "code",
   "execution_count": 28,
   "metadata": {},
   "outputs": [
    {
     "data": {
      "text/plain": [
       "7    2160\n",
       "6    2160\n",
       "5    2160\n",
       "4    2160\n",
       "3    2160\n",
       "2    2160\n",
       "1    2160\n",
       "Name: Cover_Type, dtype: int64"
      ]
     },
     "execution_count": 28,
     "metadata": {},
     "output_type": "execute_result"
    }
   ],
   "source": [
    "dataset['Cover_Type'].value_counts()"
   ]
  },
  {
   "cell_type": "code",
   "execution_count": 5,
   "metadata": {},
   "outputs": [
    {
     "data": {
      "text/plain": [
       "[(0, 'Id'),\n",
       " (1, 'Elevation'),\n",
       " (2, 'Aspect'),\n",
       " (3, 'Slope'),\n",
       " (4, 'Horizontal_Distance_To_Hydrology'),\n",
       " (5, 'Vertical_Distance_To_Hydrology'),\n",
       " (6, 'Horizontal_Distance_To_Roadways'),\n",
       " (7, 'Hillshade_9am'),\n",
       " (8, 'Hillshade_Noon'),\n",
       " (9, 'Hillshade_3pm'),\n",
       " (10, 'Horizontal_Distance_To_Fire_Points'),\n",
       " (11, 'Wilderness_Area1'),\n",
       " (12, 'Wilderness_Area2'),\n",
       " (13, 'Wilderness_Area3'),\n",
       " (14, 'Wilderness_Area4'),\n",
       " (15, 'Soil_Type1'),\n",
       " (16, 'Soil_Type2'),\n",
       " (17, 'Soil_Type3'),\n",
       " (18, 'Soil_Type4'),\n",
       " (19, 'Soil_Type5'),\n",
       " (20, 'Soil_Type6'),\n",
       " (21, 'Soil_Type7'),\n",
       " (22, 'Soil_Type8'),\n",
       " (23, 'Soil_Type9'),\n",
       " (24, 'Soil_Type10'),\n",
       " (25, 'Soil_Type11'),\n",
       " (26, 'Soil_Type12'),\n",
       " (27, 'Soil_Type13'),\n",
       " (28, 'Soil_Type14'),\n",
       " (29, 'Soil_Type15'),\n",
       " (30, 'Soil_Type16'),\n",
       " (31, 'Soil_Type17'),\n",
       " (32, 'Soil_Type18'),\n",
       " (33, 'Soil_Type19'),\n",
       " (34, 'Soil_Type20'),\n",
       " (35, 'Soil_Type21'),\n",
       " (36, 'Soil_Type22'),\n",
       " (37, 'Soil_Type23'),\n",
       " (38, 'Soil_Type24'),\n",
       " (39, 'Soil_Type25'),\n",
       " (40, 'Soil_Type26'),\n",
       " (41, 'Soil_Type27'),\n",
       " (42, 'Soil_Type28'),\n",
       " (43, 'Soil_Type29'),\n",
       " (44, 'Soil_Type30'),\n",
       " (45, 'Soil_Type31'),\n",
       " (46, 'Soil_Type32'),\n",
       " (47, 'Soil_Type33'),\n",
       " (48, 'Soil_Type34'),\n",
       " (49, 'Soil_Type35'),\n",
       " (50, 'Soil_Type36'),\n",
       " (51, 'Soil_Type37'),\n",
       " (52, 'Soil_Type38'),\n",
       " (53, 'Soil_Type39'),\n",
       " (54, 'Soil_Type40'),\n",
       " (55, 'Cover_Type')]"
      ]
     },
     "execution_count": 5,
     "metadata": {},
     "output_type": "execute_result"
    }
   ],
   "source": [
    "list(enumerate(dataset.columns))"
   ]
  },
  {
   "cell_type": "code",
   "execution_count": 8,
   "metadata": {},
   "outputs": [
    {
     "name": "stdout",
     "output_type": "stream",
     "text": [
      "<class 'pandas.core.frame.DataFrame'>\n",
      "RangeIndex: 15120 entries, 0 to 15119\n",
      "Data columns (total 56 columns):\n",
      "Id                                    15120 non-null int64\n",
      "Elevation                             15120 non-null int64\n",
      "Aspect                                15120 non-null int64\n",
      "Slope                                 15120 non-null int64\n",
      "Horizontal_Distance_To_Hydrology      15120 non-null int64\n",
      "Vertical_Distance_To_Hydrology        15120 non-null int64\n",
      "Horizontal_Distance_To_Roadways       15120 non-null int64\n",
      "Hillshade_9am                         15120 non-null int64\n",
      "Hillshade_Noon                        15120 non-null int64\n",
      "Hillshade_3pm                         15120 non-null int64\n",
      "Horizontal_Distance_To_Fire_Points    15120 non-null int64\n",
      "Wilderness_Area1                      15120 non-null int64\n",
      "Wilderness_Area2                      15120 non-null int64\n",
      "Wilderness_Area3                      15120 non-null int64\n",
      "Wilderness_Area4                      15120 non-null int64\n",
      "Soil_Type1                            15120 non-null int64\n",
      "Soil_Type2                            15120 non-null int64\n",
      "Soil_Type3                            15120 non-null int64\n",
      "Soil_Type4                            15120 non-null int64\n",
      "Soil_Type5                            15120 non-null int64\n",
      "Soil_Type6                            15120 non-null int64\n",
      "Soil_Type7                            15120 non-null int64\n",
      "Soil_Type8                            15120 non-null int64\n",
      "Soil_Type9                            15120 non-null int64\n",
      "Soil_Type10                           15120 non-null int64\n",
      "Soil_Type11                           15120 non-null int64\n",
      "Soil_Type12                           15120 non-null int64\n",
      "Soil_Type13                           15120 non-null int64\n",
      "Soil_Type14                           15120 non-null int64\n",
      "Soil_Type15                           15120 non-null int64\n",
      "Soil_Type16                           15120 non-null int64\n",
      "Soil_Type17                           15120 non-null int64\n",
      "Soil_Type18                           15120 non-null int64\n",
      "Soil_Type19                           15120 non-null int64\n",
      "Soil_Type20                           15120 non-null int64\n",
      "Soil_Type21                           15120 non-null int64\n",
      "Soil_Type22                           15120 non-null int64\n",
      "Soil_Type23                           15120 non-null int64\n",
      "Soil_Type24                           15120 non-null int64\n",
      "Soil_Type25                           15120 non-null int64\n",
      "Soil_Type26                           15120 non-null int64\n",
      "Soil_Type27                           15120 non-null int64\n",
      "Soil_Type28                           15120 non-null int64\n",
      "Soil_Type29                           15120 non-null int64\n",
      "Soil_Type30                           15120 non-null int64\n",
      "Soil_Type31                           15120 non-null int64\n",
      "Soil_Type32                           15120 non-null int64\n",
      "Soil_Type33                           15120 non-null int64\n",
      "Soil_Type34                           15120 non-null int64\n",
      "Soil_Type35                           15120 non-null int64\n",
      "Soil_Type36                           15120 non-null int64\n",
      "Soil_Type37                           15120 non-null int64\n",
      "Soil_Type38                           15120 non-null int64\n",
      "Soil_Type39                           15120 non-null int64\n",
      "Soil_Type40                           15120 non-null int64\n",
      "Cover_Type                            15120 non-null int64\n",
      "dtypes: int64(56)\n",
      "memory usage: 6.5 MB\n"
     ]
    }
   ],
   "source": [
    "dataset.info()"
   ]
  },
  {
   "cell_type": "code",
   "execution_count": 12,
   "metadata": {},
   "outputs": [
    {
     "data": {
      "image/png": "[encoded data removed]",
      "text/plain": [
       "<Figure size 1080x360 with 10 Axes>"
      ]
     },
     "metadata": {
      "needs_background": "light"
     },
     "output_type": "display_data"
    }
   ],
   "source": [
    "fig, axes = plt.subplots(2, 5, figsize=(15, 5))\n",
    "fig.subplots_adjust(hspace=0.5, wspace=0.5)\n",
    "\n",
    "axes = axes.ravel()\n",
    "\n",
    "for col, ax in zip(dataset.columns[1:11], axes):\n",
    "    ax.hist(dataset[col], bins=30)\n",
    "    ax.set_title(col)\n",
    "fig.suptitle('Distribution');"
   ]
  },
  {
   "cell_type": "code",
   "execution_count": 68,
   "metadata": {},
   "outputs": [],
   "source": [
    "X = dataset.iloc[:, :-1].values\n",
    "y = dataset.iloc[:, -1].values"
   ]
  },
  {
   "cell_type": "markdown",
   "metadata": {},
   "source": [
    "---"
   ]
  },
  {
   "cell_type": "markdown",
   "metadata": {},
   "source": [
    "# k-Nearest Neighbors"
   ]
  },
  {
   "cell_type": "code",
   "execution_count": 73,
   "metadata": {},
   "outputs": [],
   "source": [
    "# pipeline\n",
    "pipe_knn = Pipeline([\n",
    "    ('scaler', StandardScaler()),\n",
    "    ('knn', KNeighborsClassifier())\n",
    "])"
   ]
  },
  {
   "cell_type": "code",
   "execution_count": 74,
   "metadata": {},
   "outputs": [
    {
     "data": {
      "text/plain": [
       "array([0.52698413, 0.60257937, 0.54484127])"
      ]
     },
     "execution_count": 74,
     "metadata": {},
     "output_type": "execute_result"
    }
   ],
   "source": [
    "# cross val score of the model\n",
    "cross_val_score(pipe_knn, X, y, cv=3, scoring='accuracy')"
   ]
  },
  {
   "cell_type": "code",
   "execution_count": 27,
   "metadata": {},
   "outputs": [
    {
     "data": {
      "text/plain": [
       "GridSearchCV(cv=3, error_score='raise-deprecating',\n",
       "       estimator=Pipeline(memory=None,\n",
       "     steps=[('scaler', StandardScaler(copy=True, with_mean=True, with_std=True)), ('knn', KNeighborsClassifier(algorithm='auto', leaf_size=30, metric='minkowski',\n",
       "           metric_params=None, n_jobs=None, n_neighbors=5, p=2,\n",
       "           weights='uniform'))]),\n",
       "       fit_params=None, iid='warn', n_jobs=None,\n",
       "       param_grid={'knn__n_neighbors': [2, 3, 4, 5, 6, 7, 8, 9, 10, 11, 12, 13, 14, 15]},\n",
       "       pre_dispatch='2*n_jobs', refit=True, return_train_score='warn',\n",
       "       scoring='accuracy', verbose=0)"
      ]
     },
     "execution_count": 27,
     "metadata": {},
     "output_type": "execute_result"
    }
   ],
   "source": [
    "# parameter grid\n",
    "param_grid_knn = {'knn__n_neighbors' : list(range(2, 16))}\n",
    "\n",
    "# grid search\n",
    "gs_knn = GridSearchCV(pipe_knn, param_grid=param_grid_knn, cv=3, scoring='accuracy')\n",
    "gs_knn.fit(X, y)"
   ]
  },
  {
   "cell_type": "code",
   "execution_count": 28,
   "metadata": {},
   "outputs": [
    {
     "data": {
      "text/plain": [
       "0.5731481481481482"
      ]
     },
     "execution_count": 28,
     "metadata": {},
     "output_type": "execute_result"
    }
   ],
   "source": [
    "gs_knn.best_score_"
   ]
  },
  {
   "cell_type": "code",
   "execution_count": 32,
   "metadata": {},
   "outputs": [
    {
     "data": {
      "text/plain": [
       "{'knn__n_neighbors': 14}"
      ]
     },
     "execution_count": 32,
     "metadata": {},
     "output_type": "execute_result"
    }
   ],
   "source": [
    "gs_knn.best_params_"
   ]
  },
  {
   "cell_type": "code",
   "execution_count": 34,
   "metadata": {},
   "outputs": [
    {
     "data": {
      "text/html": [
       "<div>\n",
       "<style scoped>\n",
       "    .dataframe tbody tr th:only-of-type {\n",
       "        vertical-align: middle;\n",
       "    }\n",
       "\n",
       "    .dataframe tbody tr th {\n",
       "        vertical-align: top;\n",
       "    }\n",
       "\n",
       "    .dataframe thead th {\n",
       "        text-align: right;\n",
       "    }\n",
       "</style>\n",
       "<table border=\"1\" class=\"dataframe\">\n",
       "  <thead>\n",
       "    <tr style=\"text-align: right;\">\n",
       "      <th></th>\n",
       "      <th>mean_fit_time</th>\n",
       "      <th>std_fit_time</th>\n",
       "      <th>mean_score_time</th>\n",
       "      <th>std_score_time</th>\n",
       "      <th>param_knn__n_neighbors</th>\n",
       "      <th>params</th>\n",
       "      <th>split0_test_score</th>\n",
       "      <th>split1_test_score</th>\n",
       "      <th>split2_test_score</th>\n",
       "      <th>mean_test_score</th>\n",
       "      <th>std_test_score</th>\n",
       "      <th>rank_test_score</th>\n",
       "      <th>split0_train_score</th>\n",
       "      <th>split1_train_score</th>\n",
       "      <th>split2_train_score</th>\n",
       "      <th>mean_train_score</th>\n",
       "      <th>std_train_score</th>\n",
       "    </tr>\n",
       "  </thead>\n",
       "  <tbody>\n",
       "    <tr>\n",
       "      <th>0</th>\n",
       "      <td>0.562480</td>\n",
       "      <td>0.038274</td>\n",
       "      <td>3.505116</td>\n",
       "      <td>0.828380</td>\n",
       "      <td>2</td>\n",
       "      <td>{'knn__n_neighbors': 2}</td>\n",
       "      <td>0.486706</td>\n",
       "      <td>0.560317</td>\n",
       "      <td>0.494048</td>\n",
       "      <td>0.513690</td>\n",
       "      <td>0.033106</td>\n",
       "      <td>14</td>\n",
       "      <td>0.923115</td>\n",
       "      <td>0.919444</td>\n",
       "      <td>0.931944</td>\n",
       "      <td>0.924835</td>\n",
       "      <td>0.005246</td>\n",
       "    </tr>\n",
       "    <tr>\n",
       "      <th>1</th>\n",
       "      <td>0.499985</td>\n",
       "      <td>0.012756</td>\n",
       "      <td>3.857710</td>\n",
       "      <td>0.860750</td>\n",
       "      <td>3</td>\n",
       "      <td>{'knn__n_neighbors': 3}</td>\n",
       "      <td>0.518452</td>\n",
       "      <td>0.597222</td>\n",
       "      <td>0.522817</td>\n",
       "      <td>0.546164</td>\n",
       "      <td>0.036148</td>\n",
       "      <td>13</td>\n",
       "      <td>0.898909</td>\n",
       "      <td>0.889385</td>\n",
       "      <td>0.905060</td>\n",
       "      <td>0.897784</td>\n",
       "      <td>0.006448</td>\n",
       "    </tr>\n",
       "    <tr>\n",
       "      <th>2</th>\n",
       "      <td>0.510396</td>\n",
       "      <td>0.007370</td>\n",
       "      <td>4.010962</td>\n",
       "      <td>0.813493</td>\n",
       "      <td>4</td>\n",
       "      <td>{'knn__n_neighbors': 4}</td>\n",
       "      <td>0.515873</td>\n",
       "      <td>0.599603</td>\n",
       "      <td>0.525000</td>\n",
       "      <td>0.546825</td>\n",
       "      <td>0.037505</td>\n",
       "      <td>12</td>\n",
       "      <td>0.876786</td>\n",
       "      <td>0.867560</td>\n",
       "      <td>0.887202</td>\n",
       "      <td>0.877183</td>\n",
       "      <td>0.008024</td>\n",
       "    </tr>\n",
       "    <tr>\n",
       "      <th>3</th>\n",
       "      <td>0.494784</td>\n",
       "      <td>0.007366</td>\n",
       "      <td>4.203010</td>\n",
       "      <td>0.883952</td>\n",
       "      <td>5</td>\n",
       "      <td>{'knn__n_neighbors': 5}</td>\n",
       "      <td>0.526984</td>\n",
       "      <td>0.602579</td>\n",
       "      <td>0.544841</td>\n",
       "      <td>0.558135</td>\n",
       "      <td>0.032261</td>\n",
       "      <td>11</td>\n",
       "      <td>0.858730</td>\n",
       "      <td>0.847619</td>\n",
       "      <td>0.868849</td>\n",
       "      <td>0.858399</td>\n",
       "      <td>0.008670</td>\n",
       "    </tr>\n",
       "    <tr>\n",
       "      <th>4</th>\n",
       "      <td>0.494781</td>\n",
       "      <td>0.007367</td>\n",
       "      <td>4.286342</td>\n",
       "      <td>0.837078</td>\n",
       "      <td>6</td>\n",
       "      <td>{'knn__n_neighbors': 6}</td>\n",
       "      <td>0.536905</td>\n",
       "      <td>0.604960</td>\n",
       "      <td>0.543254</td>\n",
       "      <td>0.561706</td>\n",
       "      <td>0.030695</td>\n",
       "      <td>10</td>\n",
       "      <td>0.846825</td>\n",
       "      <td>0.836607</td>\n",
       "      <td>0.857738</td>\n",
       "      <td>0.847057</td>\n",
       "      <td>0.008628</td>\n",
       "    </tr>\n",
       "    <tr>\n",
       "      <th>5</th>\n",
       "      <td>0.557279</td>\n",
       "      <td>0.060292</td>\n",
       "      <td>4.890462</td>\n",
       "      <td>1.206486</td>\n",
       "      <td>7</td>\n",
       "      <td>{'knn__n_neighbors': 7}</td>\n",
       "      <td>0.548810</td>\n",
       "      <td>0.597421</td>\n",
       "      <td>0.554762</td>\n",
       "      <td>0.566997</td>\n",
       "      <td>0.021649</td>\n",
       "      <td>6</td>\n",
       "      <td>0.832738</td>\n",
       "      <td>0.824901</td>\n",
       "      <td>0.844345</td>\n",
       "      <td>0.833995</td>\n",
       "      <td>0.007988</td>\n",
       "    </tr>\n",
       "    <tr>\n",
       "      <th>6</th>\n",
       "      <td>0.584649</td>\n",
       "      <td>0.065068</td>\n",
       "      <td>4.756893</td>\n",
       "      <td>0.714747</td>\n",
       "      <td>8</td>\n",
       "      <td>{'knn__n_neighbors': 8}</td>\n",
       "      <td>0.546825</td>\n",
       "      <td>0.597619</td>\n",
       "      <td>0.542659</td>\n",
       "      <td>0.562368</td>\n",
       "      <td>0.024984</td>\n",
       "      <td>9</td>\n",
       "      <td>0.827579</td>\n",
       "      <td>0.820337</td>\n",
       "      <td>0.841964</td>\n",
       "      <td>0.829960</td>\n",
       "      <td>0.008988</td>\n",
       "    </tr>\n",
       "    <tr>\n",
       "      <th>7</th>\n",
       "      <td>0.515612</td>\n",
       "      <td>0.000001</td>\n",
       "      <td>5.041535</td>\n",
       "      <td>1.145212</td>\n",
       "      <td>9</td>\n",
       "      <td>{'knn__n_neighbors': 9}</td>\n",
       "      <td>0.554167</td>\n",
       "      <td>0.596627</td>\n",
       "      <td>0.544643</td>\n",
       "      <td>0.565146</td>\n",
       "      <td>0.022598</td>\n",
       "      <td>8</td>\n",
       "      <td>0.815278</td>\n",
       "      <td>0.811706</td>\n",
       "      <td>0.828075</td>\n",
       "      <td>0.818353</td>\n",
       "      <td>0.007028</td>\n",
       "    </tr>\n",
       "    <tr>\n",
       "      <th>8</th>\n",
       "      <td>0.562488</td>\n",
       "      <td>0.033751</td>\n",
       "      <td>5.175589</td>\n",
       "      <td>1.125787</td>\n",
       "      <td>10</td>\n",
       "      <td>{'knn__n_neighbors': 10}</td>\n",
       "      <td>0.556349</td>\n",
       "      <td>0.597024</td>\n",
       "      <td>0.542857</td>\n",
       "      <td>0.565410</td>\n",
       "      <td>0.023023</td>\n",
       "      <td>7</td>\n",
       "      <td>0.807937</td>\n",
       "      <td>0.808730</td>\n",
       "      <td>0.824107</td>\n",
       "      <td>0.813591</td>\n",
       "      <td>0.007443</td>\n",
       "    </tr>\n",
       "    <tr>\n",
       "      <th>9</th>\n",
       "      <td>0.531234</td>\n",
       "      <td>0.022097</td>\n",
       "      <td>5.296736</td>\n",
       "      <td>0.973000</td>\n",
       "      <td>11</td>\n",
       "      <td>{'knn__n_neighbors': 11}</td>\n",
       "      <td>0.560714</td>\n",
       "      <td>0.599206</td>\n",
       "      <td>0.547421</td>\n",
       "      <td>0.569114</td>\n",
       "      <td>0.021960</td>\n",
       "      <td>5</td>\n",
       "      <td>0.802282</td>\n",
       "      <td>0.799206</td>\n",
       "      <td>0.816766</td>\n",
       "      <td>0.806085</td>\n",
       "      <td>0.007656</td>\n",
       "    </tr>\n",
       "    <tr>\n",
       "      <th>10</th>\n",
       "      <td>0.531236</td>\n",
       "      <td>0.012760</td>\n",
       "      <td>5.178796</td>\n",
       "      <td>0.712354</td>\n",
       "      <td>12</td>\n",
       "      <td>{'knn__n_neighbors': 12}</td>\n",
       "      <td>0.562103</td>\n",
       "      <td>0.598413</td>\n",
       "      <td>0.549603</td>\n",
       "      <td>0.570040</td>\n",
       "      <td>0.020702</td>\n",
       "      <td>4</td>\n",
       "      <td>0.797619</td>\n",
       "      <td>0.791171</td>\n",
       "      <td>0.813790</td>\n",
       "      <td>0.800860</td>\n",
       "      <td>0.009514</td>\n",
       "    </tr>\n",
       "    <tr>\n",
       "      <th>11</th>\n",
       "      <td>0.572904</td>\n",
       "      <td>0.082015</td>\n",
       "      <td>5.140486</td>\n",
       "      <td>0.994178</td>\n",
       "      <td>13</td>\n",
       "      <td>{'knn__n_neighbors': 13}</td>\n",
       "      <td>0.564087</td>\n",
       "      <td>0.599008</td>\n",
       "      <td>0.554563</td>\n",
       "      <td>0.572553</td>\n",
       "      <td>0.019106</td>\n",
       "      <td>2</td>\n",
       "      <td>0.792857</td>\n",
       "      <td>0.786012</td>\n",
       "      <td>0.804861</td>\n",
       "      <td>0.794577</td>\n",
       "      <td>0.007791</td>\n",
       "    </tr>\n",
       "    <tr>\n",
       "      <th>12</th>\n",
       "      <td>0.583315</td>\n",
       "      <td>0.064217</td>\n",
       "      <td>5.613570</td>\n",
       "      <td>0.502076</td>\n",
       "      <td>14</td>\n",
       "      <td>{'knn__n_neighbors': 14}</td>\n",
       "      <td>0.567262</td>\n",
       "      <td>0.595833</td>\n",
       "      <td>0.556349</td>\n",
       "      <td>0.573148</td>\n",
       "      <td>0.016648</td>\n",
       "      <td>1</td>\n",
       "      <td>0.789980</td>\n",
       "      <td>0.783135</td>\n",
       "      <td>0.801190</td>\n",
       "      <td>0.791435</td>\n",
       "      <td>0.007443</td>\n",
       "    </tr>\n",
       "    <tr>\n",
       "      <th>13</th>\n",
       "      <td>0.510405</td>\n",
       "      <td>0.007365</td>\n",
       "      <td>5.008548</td>\n",
       "      <td>0.826117</td>\n",
       "      <td>15</td>\n",
       "      <td>{'knn__n_neighbors': 15}</td>\n",
       "      <td>0.568452</td>\n",
       "      <td>0.591865</td>\n",
       "      <td>0.556746</td>\n",
       "      <td>0.572354</td>\n",
       "      <td>0.014600</td>\n",
       "      <td>3</td>\n",
       "      <td>0.783135</td>\n",
       "      <td>0.777679</td>\n",
       "      <td>0.796032</td>\n",
       "      <td>0.785615</td>\n",
       "      <td>0.007695</td>\n",
       "    </tr>\n",
       "  </tbody>\n",
       "</table>\n",
       "</div>"
      ],
      "text/plain": [
       "    mean_fit_time  std_fit_time  mean_score_time  std_score_time  \\\n",
       "0        0.562480      0.038274         3.505116        0.828380   \n",
       "1        0.499985      0.012756         3.857710        0.860750   \n",
       "2        0.510396      0.007370         4.010962        0.813493   \n",
       "3        0.494784      0.007366         4.203010        0.883952   \n",
       "4        0.494781      0.007367         4.286342        0.837078   \n",
       "5        0.557279      0.060292         4.890462        1.206486   \n",
       "6        0.584649      0.065068         4.756893        0.714747   \n",
       "7        0.515612      0.000001         5.041535        1.145212   \n",
       "8        0.562488      0.033751         5.175589        1.125787   \n",
       "9        0.531234      0.022097         5.296736        0.973000   \n",
       "10       0.531236      0.012760         5.178796        0.712354   \n",
       "11       0.572904      0.082015         5.140486        0.994178   \n",
       "12       0.583315      0.064217         5.613570        0.502076   \n",
       "13       0.510405      0.007365         5.008548        0.826117   \n",
       "\n",
       "   param_knn__n_neighbors                    params  split0_test_score  \\\n",
       "0                       2   {'knn__n_neighbors': 2}           0.486706   \n",
       "1                       3   {'knn__n_neighbors': 3}           0.518452   \n",
       "2                       4   {'knn__n_neighbors': 4}           0.515873   \n",
       "3                       5   {'knn__n_neighbors': 5}           0.526984   \n",
       "4                       6   {'knn__n_neighbors': 6}           0.536905   \n",
       "5                       7   {'knn__n_neighbors': 7}           0.548810   \n",
       "6                       8   {'knn__n_neighbors': 8}           0.546825   \n",
       "7                       9   {'knn__n_neighbors': 9}           0.554167   \n",
       "8                      10  {'knn__n_neighbors': 10}           0.556349   \n",
       "9                      11  {'knn__n_neighbors': 11}           0.560714   \n",
       "10                     12  {'knn__n_neighbors': 12}           0.562103   \n",
       "11                     13  {'knn__n_neighbors': 13}           0.564087   \n",
       "12                     14  {'knn__n_neighbors': 14}           0.567262   \n",
       "13                     15  {'knn__n_neighbors': 15}           0.568452   \n",
       "\n",
       "    split1_test_score  split2_test_score  mean_test_score  std_test_score  \\\n",
       "0            0.560317           0.494048         0.513690        0.033106   \n",
       "1            0.597222           0.522817         0.546164        0.036148   \n",
       "2            0.599603           0.525000         0.546825        0.037505   \n",
       "3            0.602579           0.544841         0.558135        0.032261   \n",
       "4            0.604960           0.543254         0.561706        0.030695   \n",
       "5            0.597421           0.554762         0.566997        0.021649   \n",
       "6            0.597619           0.542659         0.562368        0.024984   \n",
       "7            0.596627           0.544643         0.565146        0.022598   \n",
       "8            0.597024           0.542857         0.565410        0.023023   \n",
       "9            0.599206           0.547421         0.569114        0.021960   \n",
       "10           0.598413           0.549603         0.570040        0.020702   \n",
       "11           0.599008           0.554563         0.572553        0.019106   \n",
       "12           0.595833           0.556349         0.573148        0.016648   \n",
       "13           0.591865           0.556746         0.572354        0.014600   \n",
       "\n",
       "    rank_test_score  split0_train_score  split1_train_score  \\\n",
       "0                14            0.923115            0.919444   \n",
       "1                13            0.898909            0.889385   \n",
       "2                12            0.876786            0.867560   \n",
       "3                11            0.858730            0.847619   \n",
       "4                10            0.846825            0.836607   \n",
       "5                 6            0.832738            0.824901   \n",
       "6                 9            0.827579            0.820337   \n",
       "7                 8            0.815278            0.811706   \n",
       "8                 7            0.807937            0.808730   \n",
       "9                 5            0.802282            0.799206   \n",
       "10                4            0.797619            0.791171   \n",
       "11                2            0.792857            0.786012   \n",
       "12                1            0.789980            0.783135   \n",
       "13                3            0.783135            0.777679   \n",
       "\n",
       "    split2_train_score  mean_train_score  std_train_score  \n",
       "0             0.931944          0.924835         0.005246  \n",
       "1             0.905060          0.897784         0.006448  \n",
       "2             0.887202          0.877183         0.008024  \n",
       "3             0.868849          0.858399         0.008670  \n",
       "4             0.857738          0.847057         0.008628  \n",
       "5             0.844345          0.833995         0.007988  \n",
       "6             0.841964          0.829960         0.008988  \n",
       "7             0.828075          0.818353         0.007028  \n",
       "8             0.824107          0.813591         0.007443  \n",
       "9             0.816766          0.806085         0.007656  \n",
       "10            0.813790          0.800860         0.009514  \n",
       "11            0.804861          0.794577         0.007791  \n",
       "12            0.801190          0.791435         0.007443  \n",
       "13            0.796032          0.785615         0.007695  "
      ]
     },
     "execution_count": 34,
     "metadata": {},
     "output_type": "execute_result"
    }
   ],
   "source": [
    "pd.DataFrame(gs_knn.cv_results_)"
   ]
  },
  {
   "cell_type": "markdown",
   "metadata": {},
   "source": [
    "---"
   ]
  },
  {
   "cell_type": "markdown",
   "metadata": {},
   "source": [
    "## GaussianNB"
   ]
  },
  {
   "cell_type": "code",
   "execution_count": 35,
   "metadata": {},
   "outputs": [],
   "source": [
    "# instantiate the model\n",
    "gauss_nb = GaussianNB()"
   ]
  },
  {
   "cell_type": "code",
   "execution_count": 36,
   "metadata": {},
   "outputs": [
    {
     "data": {
      "text/plain": [
       "array([0.5702381 , 0.5906746 , 0.51547619])"
      ]
     },
     "execution_count": 36,
     "metadata": {},
     "output_type": "execute_result"
    }
   ],
   "source": [
    "# cross val\n",
    "cross_val_score(gauss_nb, X, y, cv=3, scoring='accuracy')"
   ]
  },
  {
   "cell_type": "markdown",
   "metadata": {},
   "source": [
    "---"
   ]
  },
  {
   "cell_type": "markdown",
   "metadata": {},
   "source": [
    "## SGD Classifier"
   ]
  },
  {
   "cell_type": "code",
   "execution_count": 69,
   "metadata": {},
   "outputs": [],
   "source": [
    "# instantiate the model\n",
    "sgd_clf = SGDClassifier()"
   ]
  },
  {
   "cell_type": "code",
   "execution_count": 70,
   "metadata": {},
   "outputs": [
    {
     "data": {
      "text/plain": [
       "array([0.32480159, 0.21369048, 0.22003968])"
      ]
     },
     "execution_count": 70,
     "metadata": {},
     "output_type": "execute_result"
    }
   ],
   "source": [
    "cross_val_score(sgd_clf, X, y, cv=3, scoring='accuracy')"
   ]
  },
  {
   "cell_type": "code",
   "execution_count": 75,
   "metadata": {},
   "outputs": [],
   "source": [
    "pipe_sgd = Pipeline([\n",
    "    ('scaler', StandardScaler()),\n",
    "    ('sgd_clf', SGDClassifier())\n",
    "])"
   ]
  },
  {
   "cell_type": "code",
   "execution_count": 76,
   "metadata": {},
   "outputs": [
    {
     "data": {
      "text/plain": [
       "array([0.52539683, 0.52103175, 0.44464286])"
      ]
     },
     "execution_count": 76,
     "metadata": {},
     "output_type": "execute_result"
    }
   ],
   "source": [
    "cross_val_score(pipe_sgd, X, y, cv=3, scoring='accuracy')"
   ]
  },
  {
   "cell_type": "code",
   "execution_count": null,
   "metadata": {},
   "outputs": [],
   "source": []
  },
  {
   "cell_type": "code",
   "execution_count": null,
   "metadata": {},
   "outputs": [],
   "source": []
  },
  {
   "cell_type": "code",
   "execution_count": null,
   "metadata": {},
   "outputs": [],
   "source": []
  },
  {
   "cell_type": "markdown",
   "metadata": {},
   "source": [
    "---"
   ]
  },
  {
   "cell_type": "markdown",
   "metadata": {},
   "source": [
    "## Linear SVC"
   ]
  },
  {
   "cell_type": "code",
   "execution_count": 71,
   "metadata": {},
   "outputs": [],
   "source": [
    "lin_svc = LinearSVC()"
   ]
  },
  {
   "cell_type": "code",
   "execution_count": 72,
   "metadata": {},
   "outputs": [
    {
     "data": {
      "text/plain": [
       "array([0.33888889, 0.3297619 , 0.22222222])"
      ]
     },
     "execution_count": 72,
     "metadata": {},
     "output_type": "execute_result"
    }
   ],
   "source": [
    "cross_val_score(lin_svc, X, y, cv=3, scoring='accuracy')"
   ]
  },
  {
   "cell_type": "code",
   "execution_count": null,
   "metadata": {},
   "outputs": [],
   "source": []
  },
  {
   "cell_type": "code",
   "execution_count": null,
   "metadata": {},
   "outputs": [],
   "source": []
  },
  {
   "cell_type": "code",
   "execution_count": null,
   "metadata": {},
   "outputs": [],
   "source": []
  },
  {
   "cell_type": "code",
   "execution_count": null,
   "metadata": {},
   "outputs": [],
   "source": []
  },
  {
   "cell_type": "code",
   "execution_count": null,
   "metadata": {},
   "outputs": [],
   "source": []
  },
  {
   "cell_type": "code",
   "execution_count": null,
   "metadata": {},
   "outputs": [],
   "source": []
  },
  {
   "cell_type": "markdown",
   "metadata": {},
   "source": [
    "## Logistic Regression"
   ]
  },
  {
   "cell_type": "code",
   "execution_count": 16,
   "metadata": {},
   "outputs": [
    {
     "data": {
      "text/plain": [
       "array([0.55456349, 0.59722222, 0.4656746 ])"
      ]
     },
     "execution_count": 16,
     "metadata": {},
     "output_type": "execute_result"
    }
   ],
   "source": [
    "cross_val_score(LogisticRegression(), X, y, cv=3, scoring='accuracy')"
   ]
  },
  {
   "cell_type": "code",
   "execution_count": 17,
   "metadata": {},
   "outputs": [],
   "source": [
    "param_grid = {'C' : [0.0001, 0.001, 0.01, 0.1, 1, 10, 100]}\n",
    "\n",
    "grid_search = GridSearchCV(LogisticRegression(), param_grid=param_grid, cv=3, scoring='accuracy')"
   ]
  },
  {
   "cell_type": "code",
   "execution_count": 18,
   "metadata": {},
   "outputs": [
    {
     "data": {
      "text/plain": [
       "array([0.54543651, 0.59662698, 0.52876984])"
      ]
     },
     "execution_count": 18,
     "metadata": {},
     "output_type": "execute_result"
    }
   ],
   "source": [
    "cross_val_score(grid_search, X, y, scoring='accuracy')"
   ]
  },
  {
   "cell_type": "code",
   "execution_count": 19,
   "metadata": {},
   "outputs": [
    {
     "data": {
      "text/plain": [
       "GridSearchCV(cv=3, error_score='raise-deprecating',\n",
       "       estimator=LogisticRegression(C=1.0, class_weight=None, dual=False, fit_intercept=True,\n",
       "          intercept_scaling=1, max_iter=100, multi_class='warn',\n",
       "          n_jobs=None, penalty='l2', random_state=None, solver='warn',\n",
       "          tol=0.0001, verbose=0, warm_start=False),\n",
       "       fit_params=None, iid='warn', n_jobs=None,\n",
       "       param_grid={'C': [0.0001, 0.001, 0.01, 0.1, 1, 10, 100]},\n",
       "       pre_dispatch='2*n_jobs', refit=True, return_train_score='warn',\n",
       "       scoring='accuracy', verbose=0)"
      ]
     },
     "execution_count": 19,
     "metadata": {},
     "output_type": "execute_result"
    }
   ],
   "source": [
    "grid_search.fit(X, y)"
   ]
  },
  {
   "cell_type": "code",
   "execution_count": 22,
   "metadata": {},
   "outputs": [
    {
     "data": {
      "text/plain": [
       "LogisticRegression(C=100, class_weight=None, dual=False, fit_intercept=True,\n",
       "          intercept_scaling=1, max_iter=100, multi_class='warn',\n",
       "          n_jobs=None, penalty='l2', random_state=None, solver='warn',\n",
       "          tol=0.0001, verbose=0, warm_start=False)"
      ]
     },
     "execution_count": 22,
     "metadata": {},
     "output_type": "execute_result"
    }
   ],
   "source": [
    "grid_search.best_estimator_"
   ]
  },
  {
   "cell_type": "code",
   "execution_count": 23,
   "metadata": {},
   "outputs": [
    {
     "data": {
      "text/plain": [
       "array([0.55119048, 0.60753968, 0.5       ])"
      ]
     },
     "execution_count": 23,
     "metadata": {},
     "output_type": "execute_result"
    }
   ],
   "source": [
    "cross_val_score(LogisticRegression(C=0.1), X, y, cv=3)"
   ]
  },
  {
   "cell_type": "code",
   "execution_count": 24,
   "metadata": {},
   "outputs": [
    {
     "data": {
      "text/plain": [
       "array([0.54761905, 0.61170635, 0.48650794])"
      ]
     },
     "execution_count": 24,
     "metadata": {},
     "output_type": "execute_result"
    }
   ],
   "source": [
    "cross_val_score(LogisticRegression(C=0.1, penalty='l1'), X, y, cv=3)"
   ]
  },
  {
   "cell_type": "markdown",
   "metadata": {},
   "source": [
    "## Random Forest Classifier"
   ]
  },
  {
   "cell_type": "code",
   "execution_count": 26,
   "metadata": {},
   "outputs": [],
   "source": [
    "random_forest = RandomForestClassifier()"
   ]
  },
  {
   "cell_type": "code",
   "execution_count": 27,
   "metadata": {},
   "outputs": [
    {
     "data": {
      "text/plain": [
       "array([0.46607143, 0.64265873, 0.52480159])"
      ]
     },
     "execution_count": 27,
     "metadata": {},
     "output_type": "execute_result"
    }
   ],
   "source": [
    "cross_val_score(random_forest, X, y, cv=3, scoring='accuracy')"
   ]
  },
  {
   "cell_type": "code",
   "execution_count": 30,
   "metadata": {},
   "outputs": [
    {
     "data": {
      "text/plain": [
       "array([0.44206349, 0.68551587, 0.5827381 ])"
      ]
     },
     "execution_count": 30,
     "metadata": {},
     "output_type": "execute_result"
    }
   ],
   "source": [
    "cross_val_score(RandomForestClassifier(n_estimators=50), X, y, scoring='accuracy')"
   ]
  },
  {
   "cell_type": "code",
   "execution_count": 34,
   "metadata": {},
   "outputs": [
    {
     "data": {
      "text/plain": [
       "array([0.37103175, 0.61329365, 0.38035714])"
      ]
     },
     "execution_count": 34,
     "metadata": {},
     "output_type": "execute_result"
    }
   ],
   "source": [
    "cross_val_score(GradientBoostingClassifier(), X, y, cv=3, scoring='accuracy')"
   ]
  },
  {
   "cell_type": "code",
   "execution_count": 36,
   "metadata": {},
   "outputs": [],
   "source": [
    "X_train, X_valid, y_train, y_valid = train_test_split(X, y, random_state=42)"
   ]
  },
  {
   "cell_type": "code",
   "execution_count": 37,
   "metadata": {},
   "outputs": [],
   "source": [
    "random_forest = RandomForestClassifier().fit(X_train, y_train)"
   ]
  },
  {
   "cell_type": "code",
   "execution_count": 38,
   "metadata": {},
   "outputs": [
    {
     "data": {
      "text/plain": [
       "0.8396825396825397"
      ]
     },
     "execution_count": 38,
     "metadata": {},
     "output_type": "execute_result"
    }
   ],
   "source": [
    "random_forest.score(X_valid, y_valid)"
   ]
  },
  {
   "cell_type": "code",
   "execution_count": 40,
   "metadata": {},
   "outputs": [],
   "source": [
    "gradient_boosting = GradientBoostingClassifier().fit(X_train, y_train)"
   ]
  },
  {
   "cell_type": "code",
   "execution_count": 41,
   "metadata": {},
   "outputs": [
    {
     "data": {
      "text/plain": [
       "0.8174603174603174"
      ]
     },
     "execution_count": 41,
     "metadata": {},
     "output_type": "execute_result"
    }
   ],
   "source": [
    "gradient_boosting.score(X_valid, y_valid)"
   ]
  },
  {
   "cell_type": "code",
   "execution_count": 42,
   "metadata": {},
   "outputs": [
    {
     "name": "stdout",
     "output_type": "stream",
     "text": [
      "Logistic Regression accuracy score: 0.6587301587301587\n"
     ]
    }
   ],
   "source": [
    "logreg = LogisticRegression().fit(X_train, y_train)\n",
    "print(\"Logistic Regression accuracy score: {}\".format(logreg.score(X_valid, y_valid)))"
   ]
  },
  {
   "cell_type": "code",
   "execution_count": null,
   "metadata": {},
   "outputs": [],
   "source": []
  }
 ],
 "metadata": {
  "kernelspec": {
   "display_name": "Python 3",
   "language": "python",
   "name": "python3"
  },
  "language_info": {
   "codemirror_mode": {
    "name": "ipython",
    "version": 3
   },
   "file_extension": ".py",
   "mimetype": "text/x-python",
   "name": "python",
   "nbconvert_exporter": "python",
   "pygments_lexer": "ipython3",
   "version": "3.7.3"
  }
 },
 "nbformat": 4,
 "nbformat_minor": 2
}
