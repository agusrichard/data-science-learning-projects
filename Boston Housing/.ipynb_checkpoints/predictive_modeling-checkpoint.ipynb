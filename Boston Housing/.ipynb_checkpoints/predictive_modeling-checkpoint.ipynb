{
  "nbformat": 4,
  "nbformat_minor": 0,
  "metadata": {
    "kernelspec": {
      "display_name": "Python 3",
      "language": "python",
      "name": "python3"
    },
    "language_info": {
      "codemirror_mode": {
        "name": "ipython",
        "version": 3
      },
      "file_extension": ".py",
      "mimetype": "text/x-python",
      "name": "python",
      "nbconvert_exporter": "python",
      "pygments_lexer": "ipython3",
      "version": "3.7.3"
    },
    "colab": {
      "name": "predictive-modeling.ipynb",
      "version": "0.3.2",
      "provenance": []
    }
  },
  "cells": [
    {
      "cell_type": "markdown",
      "metadata": {
        "id": "vRh5n8xQPkX2",
        "colab_type": "text"
      },
      "source": [
        "# Predictive Modeling: Boston Housing Dataset"
      ]
    },
    {
      "cell_type": "markdown",
      "metadata": {
        "id": "ZnAAJc8nPkYk",
        "colab_type": "text"
      },
      "source": [
        "First import the essential modules:"
      ]
    },
    {
      "cell_type": "code",
      "metadata": {
        "id": "R2GymEK3PkYv",
        "colab_type": "code",
        "colab": {}
      },
      "source": [
        "# essentials\n",
        "import numpy as np\n",
        "import pandas as pd\n",
        "import matplotlib.pyplot as plt\n",
        "import seaborn as sns\n",
        "\n",
        "# preprocessing\n",
        "from sklearn.preprocessing import StandardScaler\n",
        "from sklearn.preprocessing import PolynomialFeatures\n",
        "\n",
        "# model selection\n",
        "from sklearn.model_selection import train_test_split, GridSearchCV, cross_val_score, RandomizedSearchCV\n",
        "\n",
        "# pipeline\n",
        "from sklearn.pipeline import Pipeline\n",
        "\n",
        "# Ml Algorithms \n",
        "from sklearn.neighbors import KNeighborsRegressor\n",
        "from sklearn.linear_model import SGDRegressor, LinearRegression, Ridge, Lasso, ElasticNet\n",
        "from sklearn.svm import LinearSVR, SVR\n",
        "from sklearn.ensemble import RandomForestRegressor, GradientBoostingRegressor, AdaBoostRegressor\n",
        "import xgboost\n",
        "\n",
        "# warnings\n",
        "import warnings\n",
        "warnings.filterwarnings('ignore')"
      ],
      "execution_count": 0,
      "outputs": []
    },
    {
      "cell_type": "markdown",
      "metadata": {
        "id": "IXXpgvqhPkZT",
        "colab_type": "text"
      },
      "source": [
        "Load the dataset:"
      ]
    },
    {
      "cell_type": "code",
      "metadata": {
        "id": "uirZlGKBVU-w",
        "colab_type": "code",
        "colab": {
          "resources": {
            "http://localhost:8080/nbextensions/google.colab/files.js": {
              "data": "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",
              "ok": true,
              "headers": [
                [
                  "content-type",
                  "application/javascript"
                ]
              ],
              "status": 200,
              "status_text": "OK"
            }
          },
          "base_uri": "https://localhost:8080/",
          "height": 77
        },
        "outputId": "b9592f23-2da0-43e5-82b7-afd532d8d707"
      },
      "source": [
        "from google.colab import files\n",
        "uploaded = files.upload()"
      ],
      "execution_count": 3,
      "outputs": [
        {
          "output_type": "display_data",
          "data": {
            "text/html": [
              "\n",
              "     <input type=\"file\" id=\"files-790d07f0-b9f4-473d-87a7-bd98a1bacfd2\" name=\"files[]\" multiple disabled />\n",
              "     <output id=\"result-790d07f0-b9f4-473d-87a7-bd98a1bacfd2\">\n",
              "      Upload widget is only available when the cell has been executed in the\n",
              "      current browser session. Please rerun this cell to enable.\n",
              "      </output>\n",
              "      <script src=\"/nbextensions/google.colab/files.js\"></script> "
            ],
            "text/plain": [
              "<IPython.core.display.HTML object>"
            ]
          },
          "metadata": {
            "tags": []
          }
        },
        {
          "output_type": "stream",
          "text": [
            "Saving train.csv to train (2).csv\n"
          ],
          "name": "stdout"
        }
      ]
    },
    {
      "cell_type": "code",
      "metadata": {
        "id": "GQKj3vS1PkZc",
        "colab_type": "code",
        "colab": {}
      },
      "source": [
        "import io\n",
        "dataset = pd.read_csv(io.BytesIO(uploaded['train.csv']))"
      ],
      "execution_count": 0,
      "outputs": []
    },
    {
      "cell_type": "markdown",
      "metadata": {
        "id": "NX5QkJ9yPkZt",
        "colab_type": "text"
      },
      "source": [
        "Take a look on first five of the dataset:"
      ]
    },
    {
      "cell_type": "code",
      "metadata": {
        "id": "2-VEfKFIPkZ0",
        "colab_type": "code",
        "colab": {
          "base_uri": "https://localhost:8080/",
          "height": 206
        },
        "outputId": "51edea30-46a9-4786-9a07-2a8ccd59518e"
      },
      "source": [
        "dataset.head()"
      ],
      "execution_count": 5,
      "outputs": [
        {
          "output_type": "execute_result",
          "data": {
            "text/html": [
              "<div>\n",
              "<style scoped>\n",
              "    .dataframe tbody tr th:only-of-type {\n",
              "        vertical-align: middle;\n",
              "    }\n",
              "\n",
              "    .dataframe tbody tr th {\n",
              "        vertical-align: top;\n",
              "    }\n",
              "\n",
              "    .dataframe thead th {\n",
              "        text-align: right;\n",
              "    }\n",
              "</style>\n",
              "<table border=\"1\" class=\"dataframe\">\n",
              "  <thead>\n",
              "    <tr style=\"text-align: right;\">\n",
              "      <th></th>\n",
              "      <th>ID</th>\n",
              "      <th>crim</th>\n",
              "      <th>zn</th>\n",
              "      <th>indus</th>\n",
              "      <th>chas</th>\n",
              "      <th>nox</th>\n",
              "      <th>rm</th>\n",
              "      <th>age</th>\n",
              "      <th>dis</th>\n",
              "      <th>rad</th>\n",
              "      <th>tax</th>\n",
              "      <th>ptratio</th>\n",
              "      <th>black</th>\n",
              "      <th>lstat</th>\n",
              "      <th>medv</th>\n",
              "    </tr>\n",
              "  </thead>\n",
              "  <tbody>\n",
              "    <tr>\n",
              "      <th>0</th>\n",
              "      <td>1</td>\n",
              "      <td>0.00632</td>\n",
              "      <td>18.0</td>\n",
              "      <td>2.31</td>\n",
              "      <td>0</td>\n",
              "      <td>0.538</td>\n",
              "      <td>6.575</td>\n",
              "      <td>65.2</td>\n",
              "      <td>4.0900</td>\n",
              "      <td>1</td>\n",
              "      <td>296</td>\n",
              "      <td>15.3</td>\n",
              "      <td>396.90</td>\n",
              "      <td>4.98</td>\n",
              "      <td>24.0</td>\n",
              "    </tr>\n",
              "    <tr>\n",
              "      <th>1</th>\n",
              "      <td>2</td>\n",
              "      <td>0.02731</td>\n",
              "      <td>0.0</td>\n",
              "      <td>7.07</td>\n",
              "      <td>0</td>\n",
              "      <td>0.469</td>\n",
              "      <td>6.421</td>\n",
              "      <td>78.9</td>\n",
              "      <td>4.9671</td>\n",
              "      <td>2</td>\n",
              "      <td>242</td>\n",
              "      <td>17.8</td>\n",
              "      <td>396.90</td>\n",
              "      <td>9.14</td>\n",
              "      <td>21.6</td>\n",
              "    </tr>\n",
              "    <tr>\n",
              "      <th>2</th>\n",
              "      <td>4</td>\n",
              "      <td>0.03237</td>\n",
              "      <td>0.0</td>\n",
              "      <td>2.18</td>\n",
              "      <td>0</td>\n",
              "      <td>0.458</td>\n",
              "      <td>6.998</td>\n",
              "      <td>45.8</td>\n",
              "      <td>6.0622</td>\n",
              "      <td>3</td>\n",
              "      <td>222</td>\n",
              "      <td>18.7</td>\n",
              "      <td>394.63</td>\n",
              "      <td>2.94</td>\n",
              "      <td>33.4</td>\n",
              "    </tr>\n",
              "    <tr>\n",
              "      <th>3</th>\n",
              "      <td>5</td>\n",
              "      <td>0.06905</td>\n",
              "      <td>0.0</td>\n",
              "      <td>2.18</td>\n",
              "      <td>0</td>\n",
              "      <td>0.458</td>\n",
              "      <td>7.147</td>\n",
              "      <td>54.2</td>\n",
              "      <td>6.0622</td>\n",
              "      <td>3</td>\n",
              "      <td>222</td>\n",
              "      <td>18.7</td>\n",
              "      <td>396.90</td>\n",
              "      <td>5.33</td>\n",
              "      <td>36.2</td>\n",
              "    </tr>\n",
              "    <tr>\n",
              "      <th>4</th>\n",
              "      <td>7</td>\n",
              "      <td>0.08829</td>\n",
              "      <td>12.5</td>\n",
              "      <td>7.87</td>\n",
              "      <td>0</td>\n",
              "      <td>0.524</td>\n",
              "      <td>6.012</td>\n",
              "      <td>66.6</td>\n",
              "      <td>5.5605</td>\n",
              "      <td>5</td>\n",
              "      <td>311</td>\n",
              "      <td>15.2</td>\n",
              "      <td>395.60</td>\n",
              "      <td>12.43</td>\n",
              "      <td>22.9</td>\n",
              "    </tr>\n",
              "  </tbody>\n",
              "</table>\n",
              "</div>"
            ],
            "text/plain": [
              "   ID     crim    zn  indus  chas  ...  tax  ptratio   black  lstat  medv\n",
              "0   1  0.00632  18.0   2.31     0  ...  296     15.3  396.90   4.98  24.0\n",
              "1   2  0.02731   0.0   7.07     0  ...  242     17.8  396.90   9.14  21.6\n",
              "2   4  0.03237   0.0   2.18     0  ...  222     18.7  394.63   2.94  33.4\n",
              "3   5  0.06905   0.0   2.18     0  ...  222     18.7  396.90   5.33  36.2\n",
              "4   7  0.08829  12.5   7.87     0  ...  311     15.2  395.60  12.43  22.9\n",
              "\n",
              "[5 rows x 15 columns]"
            ]
          },
          "metadata": {
            "tags": []
          },
          "execution_count": 5
        }
      ]
    },
    {
      "cell_type": "markdown",
      "metadata": {
        "id": "m4vgSZkrPkaF",
        "colab_type": "text"
      },
      "source": [
        "Note that in this dataset, we have categorical features which are 'chas' and 'rad', but 'chas' is already in the correct form, and we have to change column 'rad' to make our model more robust. Also rearrange the columns to make it more cleaner."
      ]
    },
    {
      "cell_type": "code",
      "metadata": {
        "id": "F5Mh8WlAPkaK",
        "colab_type": "code",
        "colab": {}
      },
      "source": [
        "dataset = pd.concat([dataset, pd.get_dummies(dataset['rad'], prefix='rad')], axis=1).drop('rad', axis=1)"
      ],
      "execution_count": 0,
      "outputs": []
    },
    {
      "cell_type": "code",
      "metadata": {
        "id": "tzDZF2xRPkaZ",
        "colab_type": "code",
        "colab": {}
      },
      "source": [
        "dataset = dataset[['ID', 'crim', 'zn', 'indus', 'chas', 'nox', 'rm', 'age', 'dis', 'tax',\n",
        "       'ptratio', 'black', 'lstat', 'rad_1', 'rad_2', 'rad_3', 'rad_4',\n",
        "       'rad_5', 'rad_6', 'rad_7', 'rad_8', 'rad_24', 'medv']]"
      ],
      "execution_count": 0,
      "outputs": []
    },
    {
      "cell_type": "code",
      "metadata": {
        "id": "78Ys5q1BPkap",
        "colab_type": "code",
        "colab": {
          "base_uri": "https://localhost:8080/",
          "height": 90
        },
        "outputId": "42dc8aa5-d43a-43e5-c7d6-a51d20673c1d"
      },
      "source": [
        "dataset.columns"
      ],
      "execution_count": 8,
      "outputs": [
        {
          "output_type": "execute_result",
          "data": {
            "text/plain": [
              "Index(['ID', 'crim', 'zn', 'indus', 'chas', 'nox', 'rm', 'age', 'dis', 'tax',\n",
              "       'ptratio', 'black', 'lstat', 'rad_1', 'rad_2', 'rad_3', 'rad_4',\n",
              "       'rad_5', 'rad_6', 'rad_7', 'rad_8', 'rad_24', 'medv'],\n",
              "      dtype='object')"
            ]
          },
          "metadata": {
            "tags": []
          },
          "execution_count": 8
        }
      ]
    },
    {
      "cell_type": "markdown",
      "metadata": {
        "id": "ULJ__plcPka6",
        "colab_type": "text"
      },
      "source": [
        "Now, we see that column 'rad' has gone, and new dummies features from rad have been added to our dataset."
      ]
    },
    {
      "cell_type": "markdown",
      "metadata": {
        "id": "Rs9TZLd6Pka9",
        "colab_type": "text"
      },
      "source": [
        "Let's make the feature matrix and target vector, and convert it to numpy array:"
      ]
    },
    {
      "cell_type": "code",
      "metadata": {
        "id": "9qtztW4HPkbF",
        "colab_type": "code",
        "colab": {}
      },
      "source": [
        "X = dataset.iloc[:, 1:-1].values # we dont take column ID and medv (the target vector)\n",
        "y = dataset.iloc[:, -1].values # the target vector"
      ],
      "execution_count": 0,
      "outputs": []
    },
    {
      "cell_type": "code",
      "metadata": {
        "id": "BLiMCoVLPkbQ",
        "colab_type": "code",
        "colab": {
          "base_uri": "https://localhost:8080/",
          "height": 90
        },
        "outputId": "c906edd8-7cac-42cb-9a40-278f23831a9b"
      },
      "source": [
        "print(X[0])\n",
        "print(y[0])"
      ],
      "execution_count": 10,
      "outputs": [
        {
          "output_type": "stream",
          "text": [
            "[6.320e-03 1.800e+01 2.310e+00 0.000e+00 5.380e-01 6.575e+00 6.520e+01\n",
            " 4.090e+00 2.960e+02 1.530e+01 3.969e+02 4.980e+00 1.000e+00 0.000e+00\n",
            " 0.000e+00 0.000e+00 0.000e+00 0.000e+00 0.000e+00 0.000e+00 0.000e+00]\n",
            "24.0\n"
          ],
          "name": "stdout"
        }
      ]
    },
    {
      "cell_type": "markdown",
      "metadata": {
        "id": "KE4gZAnlPkbf",
        "colab_type": "text"
      },
      "source": [
        "Now we are ready to use the machine learning algorithms. In this notebook, we will try every common Machine Learning Algorithms and look at its score with cross_val_score function. We will look for the best hyperparameter with greedy algorithm of GridSearchCV class, and at the end we split the data into training set and validation set, then look at the performance on validation set by training it first on train set."
      ]
    },
    {
      "cell_type": "markdown",
      "metadata": {
        "id": "Id3FEY6zPkbn",
        "colab_type": "text"
      },
      "source": [
        "---"
      ]
    },
    {
      "cell_type": "markdown",
      "metadata": {
        "id": "qICBIwnrPkbp",
        "colab_type": "text"
      },
      "source": [
        "## KNearest Neighbors"
      ]
    },
    {
      "cell_type": "markdown",
      "metadata": {
        "id": "gcCBsY6TPkbs",
        "colab_type": "text"
      },
      "source": [
        "Here we will use KNeighborsRegressor. Note that this algorithm needs scaling first. But, for learning purposes we will try it without scaling."
      ]
    },
    {
      "cell_type": "code",
      "metadata": {
        "id": "XHWqQGftPkby",
        "colab_type": "code",
        "colab": {
          "base_uri": "https://localhost:8080/",
          "height": 72
        },
        "outputId": "d53eeaec-3ab6-4681-829b-cae299a5e592"
      },
      "source": [
        "cvs_knn_default_no_scaling_score = cross_val_score(KNeighborsRegressor(), X, y, cv=5, scoring='r2') # no scaling and using default hyperparameter\n",
        "print(\"KNeighborsRegressor cross val score (default & no scaling): {}\".format(cvs_knn_default_no_scaling_score))\n",
        "print(\"The mean score: {:.3f}\".format(cvs_knn_default_no_scaling_score.mean()))"
      ],
      "execution_count": 11,
      "outputs": [
        {
          "output_type": "stream",
          "text": [
            "KNeighborsRegressor cross val score (default & no scaling): [-1.27743668e+00  1.26213407e-01 -5.08365911e-01 -1.12486164e-04\n",
            " -1.59147857e+00]\n",
            "The mean score: -0.650\n"
          ],
          "name": "stdout"
        }
      ]
    },
    {
      "cell_type": "markdown",
      "metadata": {
        "id": "e17a1vnvPkb8",
        "colab_type": "text"
      },
      "source": [
        "Its R2 score is negative, so horrible. Now let's see what happen if we scale it with StandardScaler and still use the default hyperparameters."
      ]
    },
    {
      "cell_type": "code",
      "metadata": {
        "id": "1CJrMXeOPkb_",
        "colab_type": "code",
        "colab": {}
      },
      "source": [
        "pipe_knn = Pipeline([\n",
        "    ('scaler', StandardScaler()),\n",
        "    ('knn', KNeighborsRegressor())\n",
        "])"
      ],
      "execution_count": 0,
      "outputs": []
    },
    {
      "cell_type": "code",
      "metadata": {
        "id": "9sPXeNOwPkcK",
        "colab_type": "code",
        "colab": {
          "base_uri": "https://localhost:8080/",
          "height": 54
        },
        "outputId": "509adf9f-e16c-4510-cd93-49fe778b6f5e"
      },
      "source": [
        "cvs_knn_default_score = cross_val_score(pipe_knn, X, y, cv=5, scoring='r2')\n",
        "print(\"KNeighborsRegressor cross val score (default & scaled): {}\".format(cvs_knn_default_score))\n",
        "print(\"The mean score: {:.3f}\".format(cvs_knn_default_score.mean()))"
      ],
      "execution_count": 13,
      "outputs": [
        {
          "output_type": "stream",
          "text": [
            "KNeighborsRegressor cross val score (default & scaled): [-0.22459519  0.49962429 -0.1921519   0.22944539 -0.23294058]\n",
            "The mean score: 0.016\n"
          ],
          "name": "stdout"
        }
      ]
    },
    {
      "cell_type": "markdown",
      "metadata": {
        "id": "mQGnNZBCPkcV",
        "colab_type": "text"
      },
      "source": [
        "Still aweful. Let's find the best hyperparameters with GridSearch. In here, we will only use two hyperparameters: n_neighbors and distance."
      ]
    },
    {
      "cell_type": "code",
      "metadata": {
        "id": "30mXcPkoPkca",
        "colab_type": "code",
        "colab": {}
      },
      "source": [
        "param_grid = {\n",
        "    'knn__weights' : ['distance', 'uniform'],\n",
        "    'knn__n_neighbors' : list(range(2, 21)) # we test n_neighbors parameter from 2 to 20\n",
        "}\n",
        "\n",
        "grid_knn = GridSearchCV(pipe_knn, param_grid=param_grid, cv=5, scoring='r2').fit(X, y)"
      ],
      "execution_count": 0,
      "outputs": []
    },
    {
      "cell_type": "code",
      "metadata": {
        "id": "FSeG-qorPkcj",
        "colab_type": "code",
        "colab": {
          "base_uri": "https://localhost:8080/",
          "height": 35
        },
        "outputId": "576f01cb-2248-4bbf-83e0-9a12762c5816"
      },
      "source": [
        "grid_knn.best_score_"
      ],
      "execution_count": 15,
      "outputs": [
        {
          "output_type": "execute_result",
          "data": {
            "text/plain": [
              "0.05875229208958241"
            ]
          },
          "metadata": {
            "tags": []
          },
          "execution_count": 15
        }
      ]
    },
    {
      "cell_type": "code",
      "metadata": {
        "id": "goCr2t0aPkcv",
        "colab_type": "code",
        "colab": {
          "base_uri": "https://localhost:8080/",
          "height": 35
        },
        "outputId": "911e0ee7-76c3-4145-a68e-3f486eb884ea"
      },
      "source": [
        "grid_knn.best_params_"
      ],
      "execution_count": 16,
      "outputs": [
        {
          "output_type": "execute_result",
          "data": {
            "text/plain": [
              "{'knn__n_neighbors': 20, 'knn__weights': 'uniform'}"
            ]
          },
          "metadata": {
            "tags": []
          },
          "execution_count": 16
        }
      ]
    },
    {
      "cell_type": "code",
      "metadata": {
        "id": "x_Ib7SQUPkc5",
        "colab_type": "code",
        "colab": {
          "base_uri": "https://localhost:8080/",
          "height": 752
        },
        "outputId": "5f55b6b3-8d7a-43fe-9906-e282a8d5bcda"
      },
      "source": [
        "grid_knn_results = pd.DataFrame(grid_knn.cv_results_)\n",
        "grid_knn_results.groupby(['param_knn__weights', 'param_knn__n_neighbors']).mean()['mean_test_score']"
      ],
      "execution_count": 17,
      "outputs": [
        {
          "output_type": "execute_result",
          "data": {
            "text/plain": [
              "param_knn__weights  param_knn__n_neighbors\n",
              "distance            2                        -0.031728\n",
              "                    3                         0.038893\n",
              "                    4                         0.038841\n",
              "                    5                         0.037972\n",
              "                    6                        -0.010672\n",
              "                    7                        -0.055296\n",
              "                    8                        -0.042408\n",
              "                    9                        -0.052224\n",
              "                    10                       -0.032289\n",
              "                    11                       -0.013722\n",
              "                    12                        0.008872\n",
              "                    13                        0.037274\n",
              "                    14                        0.039667\n",
              "                    15                        0.014169\n",
              "                    16                        0.026639\n",
              "                    17                        0.033953\n",
              "                    18                        0.037984\n",
              "                    19                        0.049972\n",
              "                    20                        0.052627\n",
              "uniform             2                        -0.023914\n",
              "                    3                         0.034613\n",
              "                    4                         0.018759\n",
              "                    5                         0.015982\n",
              "                    6                        -0.052449\n",
              "                    7                        -0.110079\n",
              "                    8                        -0.091795\n",
              "                    9                        -0.101937\n",
              "                    10                       -0.073743\n",
              "                    11                       -0.033867\n",
              "                    12                        0.003319\n",
              "                    13                        0.045692\n",
              "                    14                        0.051428\n",
              "                    15                        0.022466\n",
              "                    16                        0.036721\n",
              "                    17                        0.044617\n",
              "                    18                        0.042573\n",
              "                    19                        0.057283\n",
              "                    20                        0.058752\n",
              "Name: mean_test_score, dtype: float64"
            ]
          },
          "metadata": {
            "tags": []
          },
          "execution_count": 17
        }
      ]
    },
    {
      "cell_type": "markdown",
      "metadata": {
        "id": "GMAKFBvRPkdD",
        "colab_type": "text"
      },
      "source": [
        "Result we get is pretty bad. Let's move to other model."
      ]
    },
    {
      "cell_type": "markdown",
      "metadata": {
        "id": "kZ-1TfHJPkdG",
        "colab_type": "text"
      },
      "source": [
        "---"
      ]
    },
    {
      "cell_type": "markdown",
      "metadata": {
        "id": "cBObT_jKPkdJ",
        "colab_type": "text"
      },
      "source": [
        "## SGDRegressor"
      ]
    },
    {
      "cell_type": "markdown",
      "metadata": {
        "id": "X6zEWZWJPkdM",
        "colab_type": "text"
      },
      "source": [
        "Note that stochastic algorithms are need scaleddata to have better performance. For learning purposes we dont scale the data and use default hyperparameters:"
      ]
    },
    {
      "cell_type": "code",
      "metadata": {
        "id": "72VnRQs-PkdP",
        "colab_type": "code",
        "colab": {
          "base_uri": "https://localhost:8080/",
          "height": 0
        },
        "outputId": "ab649038-3041-4abd-b880-208bed2c03d9"
      },
      "source": [
        "sgd_default_no_scaling_score = cross_val_score(SGDRegressor(), X, y, cv=5, scoring='r2') # no scaling and using default hyperparameter\n",
        "print(\"SGDRegressor cross val score (default & no scaling): {}\".format(sgd_default_no_scaling_score))\n",
        "print(\"The mean score: {:.3f}\".format(sgd_default_no_scaling_score.mean()))"
      ],
      "execution_count": 18,
      "outputs": [
        {
          "output_type": "stream",
          "text": [
            "SGDRegressor cross val score (default & no scaling): [-2.44518179e+27 -8.95261763e+25 -1.36882715e+26 -6.54002584e+26\n",
            " -2.02617792e+26]\n",
            "The mean score: -705642210810997577653157888.000\n"
          ],
          "name": "stdout"
        }
      ]
    },
    {
      "cell_type": "markdown",
      "metadata": {
        "id": "qoTUjQI7Pkdc",
        "colab_type": "text"
      },
      "source": [
        "Its R2 score is negative. Certainly we need to scale it first"
      ]
    },
    {
      "cell_type": "code",
      "metadata": {
        "id": "YPVe78J9Pkdd",
        "colab_type": "code",
        "colab": {}
      },
      "source": [
        "pipe_sgd = Pipeline([\n",
        "    ('scaler', StandardScaler()),\n",
        "    ('sgd', SGDRegressor())\n",
        "])"
      ],
      "execution_count": 0,
      "outputs": []
    },
    {
      "cell_type": "code",
      "metadata": {
        "id": "JR9tHfpXPkdm",
        "colab_type": "code",
        "colab": {
          "base_uri": "https://localhost:8080/",
          "height": 0
        },
        "outputId": "253e4292-66ae-4682-e3ff-295eccee384c"
      },
      "source": [
        "sgd_default_score = cross_val_score(pipe_sgd, X, y, cv=5, scoring='r2') # no scaling and using default hyperparameter\n",
        "print(\"SGDRegressor cross val score (default & no scaling): {}\".format(sgd_default_score))\n",
        "print(\"The mean score: {:.3f}\".format(sgd_default_score.mean()))"
      ],
      "execution_count": 20,
      "outputs": [
        {
          "output_type": "stream",
          "text": [
            "SGDRegressor cross val score (default & no scaling): [ 0.5575034   0.65921023  0.45915738 -0.03075414 -1.94947451]\n",
            "The mean score: -0.061\n"
          ],
          "name": "stdout"
        }
      ]
    },
    {
      "cell_type": "markdown",
      "metadata": {
        "id": "fcNPZ2QFPkdy",
        "colab_type": "text"
      },
      "source": [
        "See... R2 score is increasing"
      ]
    },
    {
      "cell_type": "markdown",
      "metadata": {
        "id": "DueFZXxQPkd1",
        "colab_type": "text"
      },
      "source": [
        "There are several hyperparameters for SGD such as penalty, alpha, eta0, l1_ratio, early_stopping, loss, etc. But we will use three: penalty, alpha, eta0"
      ]
    },
    {
      "cell_type": "code",
      "metadata": {
        "id": "CFI17rUePkd2",
        "colab_type": "code",
        "colab": {}
      },
      "source": [
        "param_grid = {\n",
        "    'sgd__penalty' : ['l1', 'l2', 'elasticnet'], # regularization penalty\n",
        "    'sgd__alpha' : [0.001, 0.01, 0.1, 1, 10, 100, 1000], # regularization parameter\n",
        "    'sgd__eta0' : [0.001, 0.01, 0.1, 1, 10, 100, 1000]\n",
        "}\n",
        "\n",
        "grid_sgd = GridSearchCV(pipe_sgd, param_grid=param_grid, cv=3, scoring='r2').fit(X, y)"
      ],
      "execution_count": 0,
      "outputs": []
    },
    {
      "cell_type": "code",
      "metadata": {
        "id": "cWlekei7Pkd_",
        "colab_type": "code",
        "colab": {
          "base_uri": "https://localhost:8080/",
          "height": 0
        },
        "outputId": "1b92d03d-43e6-43b1-99ee-d1c6fa80f9b0"
      },
      "source": [
        "grid_sgd.best_score_"
      ],
      "execution_count": 22,
      "outputs": [
        {
          "output_type": "execute_result",
          "data": {
            "text/plain": [
              "0.26336201701945"
            ]
          },
          "metadata": {
            "tags": []
          },
          "execution_count": 22
        }
      ]
    },
    {
      "cell_type": "code",
      "metadata": {
        "id": "4n_3n_NwPkeJ",
        "colab_type": "code",
        "colab": {
          "base_uri": "https://localhost:8080/",
          "height": 0
        },
        "outputId": "3339c91a-5b72-4ac0-a4f5-a9f989077dec"
      },
      "source": [
        "grid_sgd.best_params_"
      ],
      "execution_count": 23,
      "outputs": [
        {
          "output_type": "execute_result",
          "data": {
            "text/plain": [
              "{'sgd__alpha': 1, 'sgd__eta0': 0.001, 'sgd__penalty': 'l2'}"
            ]
          },
          "metadata": {
            "tags": []
          },
          "execution_count": 23
        }
      ]
    },
    {
      "cell_type": "code",
      "metadata": {
        "id": "pm-5H-TsPkeX",
        "colab_type": "code",
        "colab": {
          "base_uri": "https://localhost:8080/",
          "height": 0
        },
        "outputId": "ff3de930-eb4a-4b3d-d86d-a4099636ec0d"
      },
      "source": [
        "pd.DataFrame(grid_sgd.cv_results_['mean_test_score']).describe()"
      ],
      "execution_count": 24,
      "outputs": [
        {
          "output_type": "execute_result",
          "data": {
            "text/html": [
              "<div>\n",
              "<style scoped>\n",
              "    .dataframe tbody tr th:only-of-type {\n",
              "        vertical-align: middle;\n",
              "    }\n",
              "\n",
              "    .dataframe tbody tr th {\n",
              "        vertical-align: top;\n",
              "    }\n",
              "\n",
              "    .dataframe thead th {\n",
              "        text-align: right;\n",
              "    }\n",
              "</style>\n",
              "<table border=\"1\" class=\"dataframe\">\n",
              "  <thead>\n",
              "    <tr style=\"text-align: right;\">\n",
              "      <th></th>\n",
              "      <th>0</th>\n",
              "    </tr>\n",
              "  </thead>\n",
              "  <tbody>\n",
              "    <tr>\n",
              "      <th>count</th>\n",
              "      <td>1.470000e+02</td>\n",
              "    </tr>\n",
              "    <tr>\n",
              "      <th>mean</th>\n",
              "      <td>-2.478699e+28</td>\n",
              "    </tr>\n",
              "    <tr>\n",
              "      <th>std</th>\n",
              "      <td>1.158665e+29</td>\n",
              "    </tr>\n",
              "    <tr>\n",
              "      <th>min</th>\n",
              "      <td>-1.069938e+30</td>\n",
              "    </tr>\n",
              "    <tr>\n",
              "      <th>25%</th>\n",
              "      <td>-2.038114e+26</td>\n",
              "    </tr>\n",
              "    <tr>\n",
              "      <th>50%</th>\n",
              "      <td>-3.754239e+22</td>\n",
              "    </tr>\n",
              "    <tr>\n",
              "      <th>75%</th>\n",
              "      <td>-5.609452e-01</td>\n",
              "    </tr>\n",
              "    <tr>\n",
              "      <th>max</th>\n",
              "      <td>2.633620e-01</td>\n",
              "    </tr>\n",
              "  </tbody>\n",
              "</table>\n",
              "</div>"
            ],
            "text/plain": [
              "                  0\n",
              "count  1.470000e+02\n",
              "mean  -2.478699e+28\n",
              "std    1.158665e+29\n",
              "min   -1.069938e+30\n",
              "25%   -2.038114e+26\n",
              "50%   -3.754239e+22\n",
              "75%   -5.609452e-01\n",
              "max    2.633620e-01"
            ]
          },
          "metadata": {
            "tags": []
          },
          "execution_count": 24
        }
      ]
    },
    {
      "cell_type": "markdown",
      "metadata": {
        "id": "NQf0vcVhPkei",
        "colab_type": "text"
      },
      "source": [
        "Look at the standard deviation of the mean test score, quite dispersed right? Because stochastic algorithm uses randomness, if we run it several times, the score will change at each run. But the best score we have is 0.27 (note that if i run it again, probably it will change), which is better than KNeighborsRegressor."
      ]
    },
    {
      "cell_type": "markdown",
      "metadata": {
        "id": "b-0Od2tqPkem",
        "colab_type": "text"
      },
      "source": [
        "---"
      ]
    },
    {
      "cell_type": "markdown",
      "metadata": {
        "id": "3u9OuXR1Pkeo",
        "colab_type": "text"
      },
      "source": [
        "## Linear Regression"
      ]
    },
    {
      "cell_type": "markdown",
      "metadata": {
        "id": "-tcX31F5Pkeq",
        "colab_type": "text"
      },
      "source": [
        "Now we use the more popular ML algorithm in linear model family (as i know). This model is simple, no need to scale (but we will try to scale it to see are there any differences) and no need for hyperparameters tuning."
      ]
    },
    {
      "cell_type": "code",
      "metadata": {
        "id": "DXI_UzjlPket",
        "colab_type": "code",
        "colab": {
          "base_uri": "https://localhost:8080/",
          "height": 0
        },
        "outputId": "abc2f150-16cc-4cb0-f59b-6d3b8be74bb0"
      },
      "source": [
        "linreg_no_scaling_score = cross_val_score(LinearRegression(), X, y, cv=3, scoring='r2') # no scaling and using default hyperparameter\n",
        "print(\"Linear Regression cross val score (no scaling): {}\".format(linreg_no_scaling_score))\n",
        "print(\"The mean score: {:.3f}\".format(linreg_no_scaling_score.mean()))"
      ],
      "execution_count": 25,
      "outputs": [
        {
          "output_type": "stream",
          "text": [
            "Linear Regression cross val score (no scaling): [ 0.45163553  0.39253457 -2.65804985]\n",
            "The mean score: -0.605\n"
          ],
          "name": "stdout"
        }
      ]
    },
    {
      "cell_type": "code",
      "metadata": {
        "id": "XO0VrGSpPke0",
        "colab_type": "code",
        "colab": {}
      },
      "source": [
        "pipe_linreg = Pipeline([\n",
        "    ('scaler', StandardScaler()),\n",
        "    ('linreg', LinearRegression())\n",
        "])"
      ],
      "execution_count": 0,
      "outputs": []
    },
    {
      "cell_type": "code",
      "metadata": {
        "id": "FRmEd-b6Pke7",
        "colab_type": "code",
        "colab": {
          "base_uri": "https://localhost:8080/",
          "height": 0
        },
        "outputId": "bf22863a-050e-4f6b-bdcd-9682ac071645"
      },
      "source": [
        "linreg_score = cross_val_score(pipe_linreg, X, y, cv=3, scoring='r2') # no scaling and using default hyperparameter\n",
        "print(\"Linear Regression cross val score (no scaling): {}\".format(linreg_score))\n",
        "print(\"The mean score: {:.3f}\".format(linreg_score.mean()))"
      ],
      "execution_count": 27,
      "outputs": [
        {
          "output_type": "stream",
          "text": [
            "Linear Regression cross val score (no scaling): [ 0.44592525  0.40233584 -2.73421918]\n",
            "The mean score: -0.629\n"
          ],
          "name": "stdout"
        }
      ]
    },
    {
      "cell_type": "markdown",
      "metadata": {
        "id": "B1_LKmXpPkfE",
        "colab_type": "text"
      },
      "source": [
        "Not so different without scaling right?"
      ]
    },
    {
      "cell_type": "markdown",
      "metadata": {
        "id": "9QOJjp3SPkfG",
        "colab_type": "text"
      },
      "source": [
        "Let's see what happen if we use PolynomialFeatures to expand the features."
      ]
    },
    {
      "cell_type": "code",
      "metadata": {
        "id": "3-wHiIlIPkfH",
        "colab_type": "code",
        "colab": {
          "base_uri": "https://localhost:8080/",
          "height": 0
        },
        "outputId": "34a65f56-6aee-4fc4-a83a-37e68a1044ba"
      },
      "source": [
        "poly = PolynomialFeatures(degree=2, include_bias=False)\n",
        "linreg_poly_score = cross_val_score(LinearRegression(), poly.fit_transform(X), y, scoring='r2')\n",
        "print(\"Linear Regression cross val score (with Polynomial terms): {}\".format(linreg_poly_score))\n",
        "print(\"The mean score: {:.3f}\".format(linreg_poly_score.mean()))"
      ],
      "execution_count": 28,
      "outputs": [
        {
          "output_type": "stream",
          "text": [
            "Linear Regression cross val score (with Polynomial terms): [ -11635.10873194   -3398.25265231 -162062.65581321]\n",
            "The mean score: -59032.006\n"
          ],
          "name": "stdout"
        }
      ]
    },
    {
      "cell_type": "markdown",
      "metadata": {
        "id": "0Tky7V2LPkfQ",
        "colab_type": "text"
      },
      "source": [
        "Certainly adding more features does not help."
      ]
    },
    {
      "cell_type": "markdown",
      "metadata": {
        "id": "E2I4kDLiPkfS",
        "colab_type": "text"
      },
      "source": [
        "---"
      ]
    },
    {
      "cell_type": "markdown",
      "metadata": {
        "id": "fhJNcA8lPkfU",
        "colab_type": "text"
      },
      "source": [
        "# Ridge and Lasso"
      ]
    },
    {
      "cell_type": "markdown",
      "metadata": {
        "id": "jQOHeOxvPkfW",
        "colab_type": "text"
      },
      "source": [
        "In this subsection, we won't scale the data first. Let's begin with Ridge"
      ]
    },
    {
      "cell_type": "code",
      "metadata": {
        "id": "EMofuJh6PkfY",
        "colab_type": "code",
        "colab": {
          "base_uri": "https://localhost:8080/",
          "height": 54
        },
        "outputId": "54c154e8-6738-4176-8d8d-167ae652310a"
      },
      "source": [
        "ridge_default_score = cross_val_score(Ridge(), X, y, cv=3, scoring='r2')\n",
        "print('Ridge Regression cross val score (default): {}'.format(ridge_default_score))\n",
        "print(\"The mean score: {:.2f}\".format(ridge_default_score.mean()))"
      ],
      "execution_count": 29,
      "outputs": [
        {
          "output_type": "stream",
          "text": [
            "Ridge Regression cross val score (default): [ 0.56288541  0.35648953 -1.17868545]\n",
            "The mean score: -0.09\n"
          ],
          "name": "stdout"
        }
      ]
    },
    {
      "cell_type": "markdown",
      "metadata": {
        "id": "ZHZ17tzPPkff",
        "colab_type": "text"
      },
      "source": [
        "Now we use the feature matrix with expanded features (due to PolynomialFeatures)"
      ]
    },
    {
      "cell_type": "code",
      "metadata": {
        "id": "PsgFGMzvPkfh",
        "colab_type": "code",
        "colab": {
          "base_uri": "https://localhost:8080/",
          "height": 54
        },
        "outputId": "a273a039-03c0-4f0c-c50f-5c48f7b15d7a"
      },
      "source": [
        "ridge_poly_default_score = cross_val_score(Ridge(), poly.fit_transform(X), y, cv=3, scoring='r2')\n",
        "print('Ridge Regression cross val score (default and with polynomial terms): {}'.format(ridge_poly_default_score))\n",
        "print(\"The mean score: {:.2f}\".format(ridge_poly_default_score.mean()))"
      ],
      "execution_count": 30,
      "outputs": [
        {
          "output_type": "stream",
          "text": [
            "Ridge Regression cross val score (default and with polynomial terms): [  -50.10374877    -6.08052194 -1703.3651823 ]\n",
            "The mean score: -586.52\n"
          ],
          "name": "stdout"
        }
      ]
    },
    {
      "cell_type": "markdown",
      "metadata": {
        "id": "P7qxTbOUPkfp",
        "colab_type": "text"
      },
      "source": [
        "Here we will use GridSearch to find the best parameter:"
      ]
    },
    {
      "cell_type": "code",
      "metadata": {
        "id": "VuxCAfbcPkfr",
        "colab_type": "code",
        "colab": {}
      },
      "source": [
        "param_grid = {\n",
        "    'alpha' : [0.001, 0.01, 0.1, 1, 10, 100, 1000]\n",
        "}\n",
        "\n",
        "grid_ridge = GridSearchCV(Ridge(), param_grid=param_grid, cv=3, scoring='r2').fit(X, y)"
      ],
      "execution_count": 0,
      "outputs": []
    },
    {
      "cell_type": "code",
      "metadata": {
        "id": "MJWQqYsLPkfw",
        "colab_type": "code",
        "colab": {
          "base_uri": "https://localhost:8080/",
          "height": 35
        },
        "outputId": "105578e2-175e-434d-8b09-82264d47789e"
      },
      "source": [
        "grid_ridge.best_score_"
      ],
      "execution_count": 32,
      "outputs": [
        {
          "output_type": "execute_result",
          "data": {
            "text/plain": [
              "0.31200573139418547"
            ]
          },
          "metadata": {
            "tags": []
          },
          "execution_count": 32
        }
      ]
    },
    {
      "cell_type": "code",
      "metadata": {
        "id": "n9RAIr7xPkf3",
        "colab_type": "code",
        "colab": {
          "base_uri": "https://localhost:8080/",
          "height": 35
        },
        "outputId": "f4afbfed-595a-4ac9-da07-a067c4aab417"
      },
      "source": [
        "grid_ridge.best_params_"
      ],
      "execution_count": 33,
      "outputs": [
        {
          "output_type": "execute_result",
          "data": {
            "text/plain": [
              "{'alpha': 100}"
            ]
          },
          "metadata": {
            "tags": []
          },
          "execution_count": 33
        }
      ]
    },
    {
      "cell_type": "code",
      "metadata": {
        "id": "dqB9GC2LPkgC",
        "colab_type": "code",
        "colab": {
          "base_uri": "https://localhost:8080/",
          "height": 164
        },
        "outputId": "3dd4c1ed-4899-4be0-b6a9-6dd4bcecf1d0"
      },
      "source": [
        "pd.DataFrame(grid_ridge.cv_results_)['mean_test_score']"
      ],
      "execution_count": 34,
      "outputs": [
        {
          "output_type": "execute_result",
          "data": {
            "text/plain": [
              "0   -0.602560\n",
              "1   -0.584480\n",
              "2   -0.444172\n",
              "3   -0.086437\n",
              "4    0.131436\n",
              "5    0.312006\n",
              "6    0.161435\n",
              "Name: mean_test_score, dtype: float64"
            ]
          },
          "metadata": {
            "tags": []
          },
          "execution_count": 34
        }
      ]
    },
    {
      "cell_type": "markdown",
      "metadata": {
        "id": "w2pbcqoAPkgL",
        "colab_type": "text"
      },
      "source": [
        "Now, we move to Lasso"
      ]
    },
    {
      "cell_type": "code",
      "metadata": {
        "id": "zV1r8hOtPkgO",
        "colab_type": "code",
        "colab": {
          "base_uri": "https://localhost:8080/",
          "height": 54
        },
        "outputId": "2a828f4c-8590-4356-ca3a-2ccd020f9da2"
      },
      "source": [
        "lasso_default_score = cross_val_score(Lasso(), X, y, cv=3, scoring='r2')\n",
        "print('Lasso Regression corss val score (default): {}'.format(lasso_default_score))\n",
        "print(\"The mean score: {:.2f}\".format(lasso_default_score.mean()))"
      ],
      "execution_count": 35,
      "outputs": [
        {
          "output_type": "stream",
          "text": [
            "Lasso Regression corss val score (default): [ 0.49013108  0.04916419 -0.01947876]\n",
            "The mean score: 0.17\n"
          ],
          "name": "stdout"
        }
      ]
    },
    {
      "cell_type": "markdown",
      "metadata": {
        "id": "sJcswNIvPkgb",
        "colab_type": "text"
      },
      "source": [
        "We don't expande the features, because probably our dataset is already has irrelevant features. We will see later. Let's use GridSearch to find the best parameter"
      ]
    },
    {
      "cell_type": "code",
      "metadata": {
        "id": "CMfjyKlTPkgd",
        "colab_type": "code",
        "colab": {}
      },
      "source": [
        "param_grid = {\n",
        "    'alpha' : [0.001, 0.01, 0.1, 1, 10, 100, 1000]\n",
        "}\n",
        "\n",
        "grid_lasso = GridSearchCV(Lasso(), param_grid=param_grid, cv=3, scoring='r2').fit(X, y)"
      ],
      "execution_count": 0,
      "outputs": []
    },
    {
      "cell_type": "code",
      "metadata": {
        "id": "6ASo1WltPkgo",
        "colab_type": "code",
        "colab": {
          "base_uri": "https://localhost:8080/",
          "height": 35
        },
        "outputId": "76128b14-2244-4e0a-80c3-249df34a8896"
      },
      "source": [
        "grid_lasso.best_score_"
      ],
      "execution_count": 37,
      "outputs": [
        {
          "output_type": "execute_result",
          "data": {
            "text/plain": [
              "0.1732721688942314"
            ]
          },
          "metadata": {
            "tags": []
          },
          "execution_count": 37
        }
      ]
    },
    {
      "cell_type": "code",
      "metadata": {
        "id": "GcPi7WVoPkgu",
        "colab_type": "code",
        "colab": {
          "base_uri": "https://localhost:8080/",
          "height": 35
        },
        "outputId": "e722759d-4a4b-4b63-ea69-d0ae8d81f5e2"
      },
      "source": [
        "grid_lasso.best_params_"
      ],
      "execution_count": 38,
      "outputs": [
        {
          "output_type": "execute_result",
          "data": {
            "text/plain": [
              "{'alpha': 1}"
            ]
          },
          "metadata": {
            "tags": []
          },
          "execution_count": 38
        }
      ]
    },
    {
      "cell_type": "code",
      "metadata": {
        "id": "9CrJi-9jPkg2",
        "colab_type": "code",
        "colab": {
          "base_uri": "https://localhost:8080/",
          "height": 164
        },
        "outputId": "2e07f240-6dd0-495a-a016-50c1ff360661"
      },
      "source": [
        "pd.DataFrame(grid_lasso.cv_results_)['mean_test_score']"
      ],
      "execution_count": 39,
      "outputs": [
        {
          "output_type": "execute_result",
          "data": {
            "text/plain": [
              "0   -0.586315\n",
              "1   -0.239002\n",
              "2    0.010592\n",
              "3    0.173272\n",
              "4    0.068983\n",
              "5   -0.489925\n",
              "6   -0.695293\n",
              "Name: mean_test_score, dtype: float64"
            ]
          },
          "metadata": {
            "tags": []
          },
          "execution_count": 39
        }
      ]
    },
    {
      "cell_type": "markdown",
      "metadata": {
        "id": "cFjnCox4Pkg-",
        "colab_type": "text"
      },
      "source": [
        "Note that the difference between Ridge and Lasso is the way they regularize the model. Ridge will make each feature has little influence, instead Lasso will actually ignore some features."
      ]
    },
    {
      "cell_type": "markdown",
      "metadata": {
        "id": "QYSeGdIOPkhB",
        "colab_type": "text"
      },
      "source": [
        "## ElasticNet"
      ]
    },
    {
      "cell_type": "markdown",
      "metadata": {
        "id": "c1mKZD0hPkhD",
        "colab_type": "text"
      },
      "source": [
        "ElasticNet is using the combination of the regularization power of Ridge and Lasso."
      ]
    },
    {
      "cell_type": "code",
      "metadata": {
        "id": "C3UEfxDGPkhF",
        "colab_type": "code",
        "colab": {
          "base_uri": "https://localhost:8080/",
          "height": 54
        },
        "outputId": "cd97f9b2-246a-4827-ac8d-b256ed1b6e37"
      },
      "source": [
        "elasticnet_default_score = cross_val_score(ElasticNet(), X, y, cv=3, scoring='r2')\n",
        "print('ElasticNet cross val score (default): {}'.format(elasticnet_default_score))\n",
        "print(\"The mean score: {:.2f}\".format(elasticnet_default_score.mean()))"
      ],
      "execution_count": 40,
      "outputs": [
        {
          "output_type": "stream",
          "text": [
            "ElasticNet cross val score (default): [ 0.49295924  0.10315915 -0.03631311]\n",
            "The mean score: 0.19\n"
          ],
          "name": "stdout"
        }
      ]
    },
    {
      "cell_type": "markdown",
      "metadata": {
        "id": "feyW1q1SPkhM",
        "colab_type": "text"
      },
      "source": [
        "Let's use GridSearch to find the best parameters, in here we will use alpha and l1_ratio."
      ]
    },
    {
      "cell_type": "code",
      "metadata": {
        "id": "bk9rSRMEPkhO",
        "colab_type": "code",
        "colab": {}
      },
      "source": [
        "param_grid = {\n",
        "    'l1_ratio' : [0, 0.1, 0.2, 0.3, 0.4, 0.5, 0.6, 0.7, 0.8, 0.9, 1],\n",
        "    'alpha' : [0.001, 0.01, 0.1, 1, 10, 100, 1000]\n",
        "}\n",
        "\n",
        "grid_elasticnet = GridSearchCV(ElasticNet(), param_grid=param_grid, cv=3, scoring='r2').fit(X, y)"
      ],
      "execution_count": 0,
      "outputs": []
    },
    {
      "cell_type": "code",
      "metadata": {
        "id": "jzieYmRhPkhT",
        "colab_type": "code",
        "colab": {
          "base_uri": "https://localhost:8080/",
          "height": 35
        },
        "outputId": "bc1b00e5-9607-4923-87fc-f6c4c4306fde"
      },
      "source": [
        "grid_elasticnet.best_score_"
      ],
      "execution_count": 42,
      "outputs": [
        {
          "output_type": "execute_result",
          "data": {
            "text/plain": [
              "0.26558285015426863"
            ]
          },
          "metadata": {
            "tags": []
          },
          "execution_count": 42
        }
      ]
    },
    {
      "cell_type": "code",
      "metadata": {
        "id": "C7s_3wm3Pkhb",
        "colab_type": "code",
        "colab": {
          "base_uri": "https://localhost:8080/",
          "height": 35
        },
        "outputId": "dc83826b-abac-4ff5-c03d-a3434299e659"
      },
      "source": [
        "grid_elasticnet.best_params_"
      ],
      "execution_count": 43,
      "outputs": [
        {
          "output_type": "execute_result",
          "data": {
            "text/plain": [
              "{'alpha': 1, 'l1_ratio': 0}"
            ]
          },
          "metadata": {
            "tags": []
          },
          "execution_count": 43
        }
      ]
    },
    {
      "cell_type": "code",
      "metadata": {
        "id": "7Rin-wLEPkhg",
        "colab_type": "code",
        "colab": {
          "base_uri": "https://localhost:8080/",
          "height": 109
        },
        "outputId": "7431c1db-9c64-4077-ade9-f8475141075e"
      },
      "source": [
        "pd.DataFrame(grid_elasticnet.cv_results_).columns"
      ],
      "execution_count": 44,
      "outputs": [
        {
          "output_type": "execute_result",
          "data": {
            "text/plain": [
              "Index(['mean_fit_time', 'std_fit_time', 'mean_score_time', 'std_score_time',\n",
              "       'param_alpha', 'param_l1_ratio', 'params', 'split0_test_score',\n",
              "       'split1_test_score', 'split2_test_score', 'mean_test_score',\n",
              "       'std_test_score', 'rank_test_score'],\n",
              "      dtype='object')"
            ]
          },
          "metadata": {
            "tags": []
          },
          "execution_count": 44
        }
      ]
    },
    {
      "cell_type": "code",
      "metadata": {
        "id": "yWCzwYmRPkhm",
        "colab_type": "code",
        "colab": {
          "base_uri": "https://localhost:8080/",
          "height": 182
        },
        "outputId": "1e5e5dcd-c8de-4b34-b749-6ebd5c60a188"
      },
      "source": [
        "pd.DataFrame(grid_elasticnet.cv_results_).groupby('param_alpha')['mean_test_score'].mean()"
      ],
      "execution_count": 45,
      "outputs": [
        {
          "output_type": "execute_result",
          "data": {
            "text/plain": [
              "param_alpha\n",
              "0.001      -0.436813\n",
              "0.010      -0.074493\n",
              "0.100       0.154940\n",
              "1.000       0.197544\n",
              "10.000      0.071101\n",
              "100.000    -0.416145\n",
              "1000.000   -0.688539\n",
              "Name: mean_test_score, dtype: float64"
            ]
          },
          "metadata": {
            "tags": []
          },
          "execution_count": 45
        }
      ]
    },
    {
      "cell_type": "code",
      "metadata": {
        "id": "L_KQxaqkPkhs",
        "colab_type": "code",
        "colab": {
          "base_uri": "https://localhost:8080/",
          "height": 256
        },
        "outputId": "56837ec9-567f-4fe8-a9bc-4c424df9bd29"
      },
      "source": [
        "pd.DataFrame(grid_elasticnet.cv_results_).groupby('param_l1_ratio')['mean_test_score'].mean()"
      ],
      "execution_count": 46,
      "outputs": [
        {
          "output_type": "execute_result",
          "data": {
            "text/plain": [
              "param_l1_ratio\n",
              "0.0   -0.046273\n",
              "0.1   -0.083719\n",
              "0.2   -0.144526\n",
              "0.3   -0.167523\n",
              "0.4   -0.178143\n",
              "0.5   -0.184231\n",
              "0.6   -0.189489\n",
              "0.7   -0.197203\n",
              "0.8   -0.208242\n",
              "0.9   -0.223333\n",
              "1.0   -0.251098\n",
              "Name: mean_test_score, dtype: float64"
            ]
          },
          "metadata": {
            "tags": []
          },
          "execution_count": 46
        }
      ]
    },
    {
      "cell_type": "markdown",
      "metadata": {
        "id": "s_7n_Nj1Pkhw",
        "colab_type": "text"
      },
      "source": [
        "Here we have the best parameter l1_ratio = 0, which means the penalty is l2. So it supposedly the same as using Ridge, and the best parameter for alpha is 0, surely different from the result we have when using Ridge."
      ]
    },
    {
      "cell_type": "markdown",
      "metadata": {
        "id": "m0wLouDYPkhy",
        "colab_type": "text"
      },
      "source": [
        "---"
      ]
    },
    {
      "cell_type": "markdown",
      "metadata": {
        "id": "e3x0FbZ6PkiA",
        "colab_type": "text"
      },
      "source": [
        "## Linear SVR"
      ]
    },
    {
      "cell_type": "markdown",
      "metadata": {
        "id": "jdNaVpJGPkiB",
        "colab_type": "text"
      },
      "source": [
        "Now we will use LinearSVR which is more complex than LinearRegression or any other linear model. Note that when using SVMs algorithms we need to scale the data first to have better result. But as usual we don't use it first"
      ]
    },
    {
      "cell_type": "code",
      "metadata": {
        "id": "tFgjj-M3PkiD",
        "colab_type": "code",
        "colab": {
          "base_uri": "https://localhost:8080/",
          "height": 54
        },
        "outputId": "2be7a14c-ad68-4b05-e9d5-c6fdbab440af"
      },
      "source": [
        "linsvr_default_no_scaling_score = cross_val_score(LinearSVR(), X, y, cv=5, scoring='r2')\n",
        "print('LinearSVR cross val score (default and no scaling): {}'.format(linsvr_default_no_scaling_score))\n",
        "print(\"The mean score: {:.2f}\".format(linsvr_default_no_scaling_score.mean()))"
      ],
      "execution_count": 47,
      "outputs": [
        {
          "output_type": "stream",
          "text": [
            "LinearSVR cross val score (default and no scaling): [-2.96471734 -2.20813233 -0.22582653  0.24763504 -2.388585  ]\n",
            "The mean score: -1.51\n"
          ],
          "name": "stdout"
        }
      ]
    },
    {
      "cell_type": "markdown",
      "metadata": {
        "id": "VOBILEDAPkiK",
        "colab_type": "text"
      },
      "source": [
        "Now, we use the scaled data. Using pipeline"
      ]
    },
    {
      "cell_type": "code",
      "metadata": {
        "id": "7TpGpxC3PkiM",
        "colab_type": "code",
        "colab": {}
      },
      "source": [
        "pipe_linsvr = Pipeline([\n",
        "    ('scaler', StandardScaler()),\n",
        "    ('linsvr', LinearSVR())\n",
        "])"
      ],
      "execution_count": 0,
      "outputs": []
    },
    {
      "cell_type": "code",
      "metadata": {
        "id": "7fbQdSMjPkiQ",
        "colab_type": "code",
        "colab": {
          "base_uri": "https://localhost:8080/",
          "height": 54
        },
        "outputId": "6da763e2-00cd-45b8-8c26-fedd7a1c7102"
      },
      "source": [
        "linsvr_default_score = cross_val_score(pipe_linsvr, X, y, cv=5, scoring='r2')\n",
        "print('LinearSVR cross val score (default): {}'.format(linsvr_default_score))\n",
        "print(\"The mean score: {:.2f}\".format(linsvr_default_score.mean()))"
      ],
      "execution_count": 49,
      "outputs": [
        {
          "output_type": "stream",
          "text": [
            "LinearSVR cross val score (default): [ 0.56776891  0.68344407  0.24210618  0.04199448 -0.55142312]\n",
            "The mean score: 0.20\n"
          ],
          "name": "stdout"
        }
      ]
    },
    {
      "cell_type": "markdown",
      "metadata": {
        "id": "XyKQ_7VnPkiW",
        "colab_type": "text"
      },
      "source": [
        "It's searching time!"
      ]
    },
    {
      "cell_type": "code",
      "metadata": {
        "id": "ENpFXJ1UPkiY",
        "colab_type": "code",
        "colab": {}
      },
      "source": [
        "param_grid = {\n",
        "    'linsvr__epsilon' : [0.001, 0.01, 0.1, 1, 10, 100, 1000],\n",
        "    'linsvr__C' : [0.001, 0.01, 0.1, 1, 10, 100, 1000]\n",
        "}\n",
        "\n",
        "grid_linsvr = GridSearchCV(pipe_linsvr, param_grid=param_grid, cv=5, scoring='r2').fit(X, y)"
      ],
      "execution_count": 0,
      "outputs": []
    },
    {
      "cell_type": "code",
      "metadata": {
        "id": "D8PbKpu5Pkie",
        "colab_type": "code",
        "colab": {
          "base_uri": "https://localhost:8080/",
          "height": 35
        },
        "outputId": "c9beb886-6a13-4823-de29-acd38d1139bb"
      },
      "source": [
        "grid_linsvr.best_score_"
      ],
      "execution_count": 51,
      "outputs": [
        {
          "output_type": "execute_result",
          "data": {
            "text/plain": [
              "0.22771567506740295"
            ]
          },
          "metadata": {
            "tags": []
          },
          "execution_count": 51
        }
      ]
    },
    {
      "cell_type": "code",
      "metadata": {
        "id": "sua0D9_OPkil",
        "colab_type": "code",
        "colab": {
          "base_uri": "https://localhost:8080/",
          "height": 35
        },
        "outputId": "82dd61af-de89-47f8-8e99-391d0011d7bb"
      },
      "source": [
        "grid_linsvr.best_params_"
      ],
      "execution_count": 52,
      "outputs": [
        {
          "output_type": "execute_result",
          "data": {
            "text/plain": [
              "{'linsvr__C': 100, 'linsvr__epsilon': 0.1}"
            ]
          },
          "metadata": {
            "tags": []
          },
          "execution_count": 52
        }
      ]
    },
    {
      "cell_type": "code",
      "metadata": {
        "id": "AYjEQhXZPkiq",
        "colab_type": "code",
        "colab": {
          "base_uri": "https://localhost:8080/",
          "height": 182
        },
        "outputId": "57af6ee4-e44b-494b-8e8c-7fc111a3b240"
      },
      "source": [
        "pd.DataFrame(grid_linsvr.cv_results_).groupby('param_linsvr__epsilon')['mean_test_score'].mean()"
      ],
      "execution_count": 53,
      "outputs": [
        {
          "output_type": "execute_result",
          "data": {
            "text/plain": [
              "param_linsvr__epsilon\n",
              "0.001       -2.628707\n",
              "0.010       -2.718248\n",
              "0.100       -2.647876\n",
              "1.000       -2.921095\n",
              "10.000      -3.325904\n",
              "100.000    -10.727343\n",
              "1000.000   -10.727343\n",
              "Name: mean_test_score, dtype: float64"
            ]
          },
          "metadata": {
            "tags": []
          },
          "execution_count": 53
        }
      ]
    },
    {
      "cell_type": "code",
      "metadata": {
        "id": "Tc_xjhpZPkiv",
        "colab_type": "code",
        "colab": {
          "base_uri": "https://localhost:8080/",
          "height": 182
        },
        "outputId": "864574fc-b794-4d54-ced2-4decd262de8a"
      },
      "source": [
        "pd.DataFrame(grid_linsvr.cv_results_).groupby('param_linsvr__C')['mean_test_score'].mean()"
      ],
      "execution_count": 54,
      "outputs": [
        {
          "output_type": "execute_result",
          "data": {
            "text/plain": [
              "param_linsvr__C\n",
              "0.001      -10.539883\n",
              "0.010       -8.973172\n",
              "0.100       -3.190129\n",
              "1.000       -3.038497\n",
              "10.000      -3.099948\n",
              "100.000     -3.172427\n",
              "1000.000    -3.682459\n",
              "Name: mean_test_score, dtype: float64"
            ]
          },
          "metadata": {
            "tags": []
          },
          "execution_count": 54
        }
      ]
    },
    {
      "cell_type": "markdown",
      "metadata": {
        "id": "3rVsyjyTPki0",
        "colab_type": "text"
      },
      "source": [
        "---"
      ]
    },
    {
      "cell_type": "markdown",
      "metadata": {
        "id": "H3kVI_z5Pki1",
        "colab_type": "text"
      },
      "source": [
        "## SVR"
      ]
    },
    {
      "cell_type": "markdown",
      "metadata": {
        "id": "H9aA7wM1Pki3",
        "colab_type": "text"
      },
      "source": [
        "Note that kernel trick that LinearSVR using is linear. Now, we use SVR, which the more general model, it means that we can tweak which kernel trick we want to use. Same as LinearSVR, this model will perform better with scaled data, so scaling is neccessary."
      ]
    },
    {
      "cell_type": "code",
      "metadata": {
        "id": "1wORsd1qPki6",
        "colab_type": "code",
        "colab": {
          "base_uri": "https://localhost:8080/",
          "height": 54
        },
        "outputId": "a1b64901-8c48-4da6-af3f-825e2d9b7f1d"
      },
      "source": [
        "svr_default_no_scaling_score = cross_val_score(SVR(), X, y, cv=5, scoring='r2')\n",
        "print('SVR cross val score (default and no scaling): {}'.format(svr_default_no_scaling_score))\n",
        "print(\"The mean score: {:.2f}\".format(svr_default_no_scaling_score.mean()))"
      ],
      "execution_count": 55,
      "outputs": [
        {
          "output_type": "stream",
          "text": [
            "SVR cross val score (default and no scaling): [-0.0327477  -0.05107432 -1.42701088  0.01562126 -2.2448059 ]\n",
            "The mean score: -0.75\n"
          ],
          "name": "stdout"
        }
      ]
    },
    {
      "cell_type": "code",
      "metadata": {
        "id": "Ix0z-cEVPkjB",
        "colab_type": "code",
        "colab": {}
      },
      "source": [
        "pipe_svr = Pipeline([\n",
        "    ('scaler', StandardScaler()),\n",
        "    ('svr', SVR())\n",
        "])"
      ],
      "execution_count": 0,
      "outputs": []
    },
    {
      "cell_type": "code",
      "metadata": {
        "id": "uwpNB_2MPkku",
        "colab_type": "code",
        "colab": {
          "base_uri": "https://localhost:8080/",
          "height": 54
        },
        "outputId": "c9a23ef5-c34a-43a3-a194-3435dc7a4973"
      },
      "source": [
        "svr_default_score = cross_val_score(pipe_svr, X, y, cv=5, scoring='r2')\n",
        "print('SVR cross val score (default): {}'.format(svr_default_score))\n",
        "print(\"The mean score: {:.2f}\".format(svr_default_score.mean()))"
      ],
      "execution_count": 57,
      "outputs": [
        {
          "output_type": "stream",
          "text": [
            "SVR cross val score (default): [ 0.4124707   0.40408661 -0.6261605   0.25580055 -1.34137876]\n",
            "The mean score: -0.18\n"
          ],
          "name": "stdout"
        }
      ]
    },
    {
      "cell_type": "markdown",
      "metadata": {
        "id": "3zdSRjfEPkk1",
        "colab_type": "text"
      },
      "source": [
        "It's searching time. We will rbf kernel trick"
      ]
    },
    {
      "cell_type": "code",
      "metadata": {
        "id": "xD41p6kfPkk3",
        "colab_type": "code",
        "colab": {}
      },
      "source": [
        "param_grid = {\n",
        "    'svr__C' : [0.001, 0.01, 0.1, 1, 10, 100, 1000],\n",
        "    'svr__gamma' : [0.001, 0.01, 0.1, 1, 10, 100, 1000]\n",
        "}\n",
        "\n",
        "grid_svr = GridSearchCV(pipe_svr, param_grid=param_grid, cv=5, scoring='r2').fit(X, y)"
      ],
      "execution_count": 0,
      "outputs": []
    },
    {
      "cell_type": "code",
      "metadata": {
        "id": "56Uygs4WPkk9",
        "colab_type": "code",
        "colab": {
          "base_uri": "https://localhost:8080/",
          "height": 35
        },
        "outputId": "c321e476-5195-40ec-9428-f70d32161115"
      },
      "source": [
        "grid_svr.best_score_"
      ],
      "execution_count": 59,
      "outputs": [
        {
          "output_type": "execute_result",
          "data": {
            "text/plain": [
              "0.341379212579749"
            ]
          },
          "metadata": {
            "tags": []
          },
          "execution_count": 59
        }
      ]
    },
    {
      "cell_type": "code",
      "metadata": {
        "id": "SPE0tKxNPklF",
        "colab_type": "code",
        "colab": {
          "base_uri": "https://localhost:8080/",
          "height": 35
        },
        "outputId": "f5ee5e0b-5708-4b9d-8e87-bcba29fc823a"
      },
      "source": [
        "grid_svr.best_params_"
      ],
      "execution_count": 60,
      "outputs": [
        {
          "output_type": "execute_result",
          "data": {
            "text/plain": [
              "{'svr__C': 1000, 'svr__gamma': 0.001}"
            ]
          },
          "metadata": {
            "tags": []
          },
          "execution_count": 60
        }
      ]
    },
    {
      "cell_type": "code",
      "metadata": {
        "id": "nG3c3bFcPklM",
        "colab_type": "code",
        "colab": {
          "base_uri": "https://localhost:8080/",
          "height": 182
        },
        "outputId": "725304d6-cec0-45a0-8c34-350444c1af85"
      },
      "source": [
        "pd.DataFrame(grid_svr.cv_results_).groupby('param_svr__C')['mean_test_score'].median()"
      ],
      "execution_count": 61,
      "outputs": [
        {
          "output_type": "execute_result",
          "data": {
            "text/plain": [
              "param_svr__C\n",
              "0.001      -0.768252\n",
              "0.010      -0.767493\n",
              "0.100      -0.760642\n",
              "1.000      -0.709444\n",
              "10.000     -0.639138\n",
              "100.000    -0.814071\n",
              "1000.000   -0.954943\n",
              "Name: mean_test_score, dtype: float64"
            ]
          },
          "metadata": {
            "tags": []
          },
          "execution_count": 61
        }
      ]
    },
    {
      "cell_type": "code",
      "metadata": {
        "id": "tP00c1UfPklU",
        "colab_type": "code",
        "colab": {
          "base_uri": "https://localhost:8080/",
          "height": 182
        },
        "outputId": "a43c7d94-01df-47ff-e36f-b9545aa25b49"
      },
      "source": [
        "pd.DataFrame(grid_svr.cv_results_).groupby('param_svr__gamma')['mean_test_score'].median()"
      ],
      "execution_count": 62,
      "outputs": [
        {
          "output_type": "execute_result",
          "data": {
            "text/plain": [
              "param_svr__gamma\n",
              "0.001      -0.325278\n",
              "0.010      -0.297308\n",
              "0.100      -0.753644\n",
              "1.000      -0.742281\n",
              "10.000     -0.772604\n",
              "100.000    -0.772698\n",
              "1000.000   -0.772698\n",
              "Name: mean_test_score, dtype: float64"
            ]
          },
          "metadata": {
            "tags": []
          },
          "execution_count": 62
        }
      ]
    },
    {
      "cell_type": "markdown",
      "metadata": {
        "id": "dVV-8zmYPklZ",
        "colab_type": "text"
      },
      "source": [
        "---"
      ]
    },
    {
      "cell_type": "markdown",
      "metadata": {
        "id": "hFo6yYVRPklc",
        "colab_type": "text"
      },
      "source": [
        "## Random Forest Regressor"
      ]
    },
    {
      "cell_type": "markdown",
      "metadata": {
        "id": "yACT-dtnPklg",
        "colab_type": "text"
      },
      "source": [
        "Now we use ensemble ML algorithms, the first one is RandomForestRegressor. "
      ]
    },
    {
      "cell_type": "code",
      "metadata": {
        "id": "LEoeN9NDPklj",
        "colab_type": "code",
        "colab": {
          "base_uri": "https://localhost:8080/",
          "height": 54
        },
        "outputId": "8fa2be40-5172-448e-dfd1-32fdbf07b54a"
      },
      "source": [
        "rf_default_score = cross_val_score(RandomForestRegressor(), X, y, cv=5, scoring='r2')\n",
        "print('RandomForestRegressor cross val score (default): {}'.format(rf_default_score))\n",
        "print(\"The mean score: {:.2f}\".format(rf_default_score.mean()))"
      ],
      "execution_count": 63,
      "outputs": [
        {
          "output_type": "stream",
          "text": [
            "RandomForestRegressor cross val score (default): [ 0.61852838  0.8601346   0.74700053  0.37902311 -0.3429735 ]\n",
            "The mean score: 0.45\n"
          ],
          "name": "stdout"
        }
      ]
    },
    {
      "cell_type": "markdown",
      "metadata": {
        "id": "P-OhyBJLPklw",
        "colab_type": "text"
      },
      "source": [
        "Now, we will look for the best parameters for RandomForestRegressor."
      ]
    },
    {
      "cell_type": "code",
      "metadata": {
        "id": "OLTfw30nPkly",
        "colab_type": "code",
        "colab": {}
      },
      "source": [
        "param_grid = {\n",
        "    'n_estimators' : [50, 100, 150, 200, 250, 300],\n",
        "    'max_depth' : list(range(2, 11)),\n",
        "    'max_features' : list(range(3, 24, 3)),\n",
        "}\n",
        "\n",
        "grid_rf = RandomizedSearchCV(RandomForestRegressor(), param_distributions=param_grid, cv=5, scoring='r2').fit(X, y)"
      ],
      "execution_count": 0,
      "outputs": []
    },
    {
      "cell_type": "code",
      "metadata": {
        "id": "zSJ_y92oPkl2",
        "colab_type": "code",
        "colab": {
          "base_uri": "https://localhost:8080/",
          "height": 35
        },
        "outputId": "72df56ba-64e7-45a8-9798-27a9a2763c43"
      },
      "source": [
        "grid_rf.best_score_"
      ],
      "execution_count": 65,
      "outputs": [
        {
          "output_type": "execute_result",
          "data": {
            "text/plain": [
              "0.5679691165919009"
            ]
          },
          "metadata": {
            "tags": []
          },
          "execution_count": 65
        }
      ]
    },
    {
      "cell_type": "code",
      "metadata": {
        "id": "Vve5Wee0Pkl7",
        "colab_type": "code",
        "colab": {
          "base_uri": "https://localhost:8080/",
          "height": 35
        },
        "outputId": "e73c8444-56e9-454b-a412-1d37099d5194"
      },
      "source": [
        "grid_rf.best_params_"
      ],
      "execution_count": 66,
      "outputs": [
        {
          "output_type": "execute_result",
          "data": {
            "text/plain": [
              "{'max_depth': 4, 'max_features': 15, 'n_estimators': 250}"
            ]
          },
          "metadata": {
            "tags": []
          },
          "execution_count": 66
        }
      ]
    },
    {
      "cell_type": "code",
      "metadata": {
        "id": "cM3oQhFkPkmA",
        "colab_type": "code",
        "colab": {
          "base_uri": "https://localhost:8080/",
          "height": 35
        },
        "outputId": "109a46c6-2659-4c0e-8a54-4f5aff3092a2"
      },
      "source": [
        "print(\"Optimized RandomForestRegressor cross val score: {}\".format(cross_val_score(grid_rf.best_estimator_, X, y, cv=5, scoring='r2')))\n"
      ],
      "execution_count": 67,
      "outputs": [
        {
          "output_type": "stream",
          "text": [
            "Optimized RandomForestRegressor cross val score: [0.70420667 0.85190562 0.75544019 0.45008587 0.03195079]\n"
          ],
          "name": "stdout"
        }
      ]
    },
    {
      "cell_type": "markdown",
      "metadata": {
        "id": "35R4AxXPPkmH",
        "colab_type": "text"
      },
      "source": [
        "---"
      ]
    },
    {
      "cell_type": "markdown",
      "metadata": {
        "id": "e2ecxflwPkmI",
        "colab_type": "text"
      },
      "source": [
        "## Gradient Boosting Regressor"
      ]
    },
    {
      "cell_type": "markdown",
      "metadata": {
        "id": "MMVroUFIPkmK",
        "colab_type": "text"
      },
      "source": [
        "Now, we will use GradientBoostingRegressor"
      ]
    },
    {
      "cell_type": "code",
      "metadata": {
        "id": "-iT9AIYjPkmM",
        "colab_type": "code",
        "colab": {
          "base_uri": "https://localhost:8080/",
          "height": 54
        },
        "outputId": "d7dfc312-6882-43b1-958f-5ee08949bf26"
      },
      "source": [
        "gbrt_default_score = cross_val_score(GradientBoostingRegressor(), X, y, cv=5, scoring='r2')\n",
        "print('GradientDescentRegressor cross val score (default): {}'.format(gbrt_default_score))\n",
        "print(\"The mean score: {:.2f}\".format(gbrt_default_score.mean()))"
      ],
      "execution_count": 68,
      "outputs": [
        {
          "output_type": "stream",
          "text": [
            "GradientDescentRegressor cross val score (default): [0.73840788 0.8594603  0.73544479 0.40535181 0.24484643]\n",
            "The mean score: 0.60\n"
          ],
          "name": "stdout"
        }
      ]
    },
    {
      "cell_type": "markdown",
      "metadata": {
        "id": "rsCM8CK4PkmR",
        "colab_type": "text"
      },
      "source": [
        "To search the best parameters, we will use RandomizedSearchCV, to make the process faster, which probably make the true best parameters get missed."
      ]
    },
    {
      "cell_type": "code",
      "metadata": {
        "id": "vsyWcE-QPkmh",
        "colab_type": "code",
        "colab": {}
      },
      "source": [
        "param_grid = {\n",
        "    'n_estimators' : [50, 100, 150, 200, 250, 300],\n",
        "    'max_depth' : list(range(2, 11)),\n",
        "    'max_features' : list(range(3, 22))\n",
        "}\n",
        "\n",
        "grid_gbrt = RandomizedSearchCV(GradientBoostingRegressor(), param_distributions=param_grid, cv=5, scoring='r2', n_iter=15, n_jobs=-1).fit(X, y)"
      ],
      "execution_count": 0,
      "outputs": []
    },
    {
      "cell_type": "code",
      "metadata": {
        "id": "7pCoo4orPkmm",
        "colab_type": "code",
        "colab": {
          "base_uri": "https://localhost:8080/",
          "height": 35
        },
        "outputId": "f70e4969-9eda-4efe-cb25-59b6683b9915"
      },
      "source": [
        "grid_gbrt.best_score_"
      ],
      "execution_count": 70,
      "outputs": [
        {
          "output_type": "execute_result",
          "data": {
            "text/plain": [
              "0.6207075462071141"
            ]
          },
          "metadata": {
            "tags": []
          },
          "execution_count": 70
        }
      ]
    },
    {
      "cell_type": "code",
      "metadata": {
        "id": "cn6KhQd2Pkmr",
        "colab_type": "code",
        "colab": {
          "base_uri": "https://localhost:8080/",
          "height": 35
        },
        "outputId": "d56c1643-2a26-45b1-b28c-be4c486ef953"
      },
      "source": [
        "grid_gbrt.best_params_"
      ],
      "execution_count": 71,
      "outputs": [
        {
          "output_type": "execute_result",
          "data": {
            "text/plain": [
              "{'max_depth': 2, 'max_features': 13, 'n_estimators': 50}"
            ]
          },
          "metadata": {
            "tags": []
          },
          "execution_count": 71
        }
      ]
    },
    {
      "cell_type": "code",
      "metadata": {
        "id": "wV1ZS2d1YU7P",
        "colab_type": "code",
        "colab": {
          "base_uri": "https://localhost:8080/",
          "height": 35
        },
        "outputId": "2ac1517e-9a3d-4447-84c7-e0a87fcf69d4"
      },
      "source": [
        "print(\"Optimized GradientBoostingRegressor cross val score: {}\".format(cross_val_score(grid_gbrt.best_estimator_, X, y, cv=5, scoring='r2')))\n"
      ],
      "execution_count": 72,
      "outputs": [
        {
          "output_type": "stream",
          "text": [
            "Optimized GradientBoostingRegressor cross val score: [0.7473922  0.86574483 0.75677256 0.40609078 0.20655265]\n"
          ],
          "name": "stdout"
        }
      ]
    },
    {
      "cell_type": "markdown",
      "metadata": {
        "id": "4bezBX-4Pkm-",
        "colab_type": "text"
      },
      "source": [
        "---"
      ]
    },
    {
      "cell_type": "markdown",
      "metadata": {
        "id": "ygQU0sRxPknC",
        "colab_type": "text"
      },
      "source": [
        "## AdaBoostRegressor"
      ]
    },
    {
      "cell_type": "markdown",
      "metadata": {
        "id": "27dFHIVkYm6a",
        "colab_type": "text"
      },
      "source": [
        "Now we use AdaBoostRegressor, start by using RandomForestRegressor and GradientBoostingRegressor with default hyperparameters, then with the optimized RandomForestRegressor and GradientBoostingRegressor from earlier subsection."
      ]
    },
    {
      "cell_type": "code",
      "metadata": {
        "id": "XF0ahKbWPknG",
        "colab_type": "code",
        "colab": {
          "base_uri": "https://localhost:8080/",
          "height": 54
        },
        "outputId": "abf163ad-9743-4a04-bae6-ae398e56b47c"
      },
      "source": [
        "ada_rf_default_score = cross_val_score(AdaBoostRegressor(RandomForestRegressor()), X, y, cv=5, scoring='r2')\n",
        "print('AdaBoostRegressor with base estimator RandomForestRegressor cross val score (default): {}'.format(ada_rf_default_score))\n",
        "print(\"The mean score: {:.2f}\".format(ada_rf_default_score.mean()))"
      ],
      "execution_count": 73,
      "outputs": [
        {
          "output_type": "stream",
          "text": [
            "AdaBoostRegressor with base estimator RandomForestRegressor cross val score (default): [0.74228586 0.87276825 0.68036351 0.38247539 0.23025173]\n",
            "The mean score: 0.58\n"
          ],
          "name": "stdout"
        }
      ]
    },
    {
      "cell_type": "code",
      "metadata": {
        "id": "JNJyH-v8PknP",
        "colab_type": "code",
        "colab": {
          "base_uri": "https://localhost:8080/",
          "height": 74
        },
        "outputId": "78e412c7-0954-4e27-bcb5-29baaf6d6cf3"
      },
      "source": [
        "ada_gbrt_default_score = cross_val_score(AdaBoostRegressor(GradientBoostingRegressor()), X, y, cv=5, scoring='r2')\n",
        "print('AdaBoostRegressor with base estimator GradientBoostingRegressor cross val score (default)): {}'.format(ada_gbrt_default_score))\n",
        "print(\"The mean score: {:.2f}\".format(ada_gbrt_default_score.mean()))"
      ],
      "execution_count": 74,
      "outputs": [
        {
          "output_type": "stream",
          "text": [
            "AdaBoostRegressor with base estimator GradientBoostingRegressor cross val score (default)): [0.72451422 0.86306938 0.70864537 0.37503013 0.30854173]\n",
            "The mean score: 0.60\n"
          ],
          "name": "stdout"
        }
      ]
    },
    {
      "cell_type": "markdown",
      "metadata": {
        "id": "Isn-lf2GZgcd",
        "colab_type": "text"
      },
      "source": [
        "With the optimized estimators"
      ]
    },
    {
      "cell_type": "code",
      "metadata": {
        "id": "xdSLPYS9ZzWO",
        "colab_type": "code",
        "colab": {
          "base_uri": "https://localhost:8080/",
          "height": 54
        },
        "outputId": "276dc63a-ae51-4809-ebdb-7fc8ace6ff23"
      },
      "source": [
        "ada_rf_optimized_score = cross_val_score(AdaBoostRegressor(grid_rf.best_estimator_), X, y, cv=5, scoring='r2')\n",
        "print('AdaBoostRegressor with optimized RandomForestRegressor cross val score (default): {}'.format(ada_rf_optimized_score))\n",
        "print(\"The mean score: {:.2f}\".format(ada_rf_optimized_score.mean()))"
      ],
      "execution_count": 75,
      "outputs": [
        {
          "output_type": "stream",
          "text": [
            "AdaBoostRegressor with optimized RandomForestRegressor cross val score (default): [0.60014719 0.86895697 0.69757804 0.3184442  0.1004263 ]\n",
            "The mean score: 0.52\n"
          ],
          "name": "stdout"
        }
      ]
    },
    {
      "cell_type": "code",
      "metadata": {
        "id": "EWVOQFFubJBJ",
        "colab_type": "code",
        "colab": {
          "base_uri": "https://localhost:8080/",
          "height": 54
        },
        "outputId": "a74b74fe-8195-40e8-f9a5-946bc4a9428f"
      },
      "source": [
        "ada_gbrt_optimized_score = cross_val_score(AdaBoostRegressor(grid_gbrt.best_estimator_), X, y, cv=5, scoring='r2')\n",
        "print('AdaBoostRegressor with optimized GradientBoostingRegressor cross val score (default): {}'.format(ada_gbrt_optimized_score))\n",
        "print(\"The mean score: {:.2f}\".format(ada_gbrt_optimized_score.mean()))"
      ],
      "execution_count": 76,
      "outputs": [
        {
          "output_type": "stream",
          "text": [
            "AdaBoostRegressor with optimized GradientBoostingRegressor cross val score (default): [0.68934508 0.82127509 0.6821227  0.31465743 0.06573267]\n",
            "The mean score: 0.51\n"
          ],
          "name": "stdout"
        }
      ]
    },
    {
      "cell_type": "markdown",
      "metadata": {
        "id": "QwR8avx5bUBX",
        "colab_type": "text"
      },
      "source": [
        "---"
      ]
    }
  ]
}