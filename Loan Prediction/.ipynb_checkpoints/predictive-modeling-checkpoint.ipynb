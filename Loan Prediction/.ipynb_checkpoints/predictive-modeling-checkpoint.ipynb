{
 "cells": [
  {
   "cell_type": "markdown",
   "metadata": {},
   "source": [
    "# Classification Problem: Loan Prediction"
   ]
  },
  {
   "cell_type": "markdown",
   "metadata": {},
   "source": [
    "In this notebook we will perform predictive modeling. We'll try every common machine learning algorithms and evaluate it with cross validation. Also looking the optimized model using GridSearchCV or RandomizedSearchCV."
   ]
  },
  {
   "cell_type": "markdown",
   "metadata": {},
   "source": [
    "## Preliminary and Encoding"
   ]
  },
  {
   "cell_type": "markdown",
   "metadata": {},
   "source": [
    "__Import Libraries__ "
   ]
  },
  {
   "cell_type": "code",
   "execution_count": 1,
   "metadata": {},
   "outputs": [],
   "source": [
    "# essentials\n",
    "import numpy as np\n",
    "import pandas as pd\n",
    "import matplotlib.pyplot as plt\n",
    "import seaborn as sns\n",
    "\n",
    "# preprocessing \n",
    "from sklearn.preprocessing import StandardScaler, LabelEncoder, OneHotEncoder\n",
    "\n",
    "# model selection \n",
    "from sklearn.model_selection import train_test_split, cross_val_score, GridSearchCV, RandomizedSearchCV\n",
    "\n",
    "# metrics\n",
    "from sklearn.metrics import confusion_matrix, classification_report\n",
    "\n",
    "# pipeline\n",
    "from sklearn.pipeline import Pipeline\n",
    "\n",
    "# ML Algorithms\n",
    "from sklearn.naive_bayes import GaussianNB\n",
    "from sklearn.neighbors import KNeighborsClassifier\n",
    "from sklearn.linear_model import SGDClassifier, LogisticRegression\n",
    "from sklearn.svm import LinearSVC, SVC\n",
    "from sklearn.ensemble import RandomForestClassifier, GradientBoostingClassifier, AdaBoostClassifier\n",
    "\n",
    "# suppress warnings\n",
    "import warnings\n",
    "warnings.filterwarnings('ignore')"
   ]
  },
  {
   "cell_type": "markdown",
   "metadata": {},
   "source": [
    "__Load the dataset__"
   ]
  },
  {
   "cell_type": "code",
   "execution_count": 2,
   "metadata": {},
   "outputs": [],
   "source": [
    "dataset = pd.read_csv('clean.csv')"
   ]
  },
  {
   "cell_type": "markdown",
   "metadata": {},
   "source": [
    "First five data points"
   ]
  },
  {
   "cell_type": "code",
   "execution_count": 3,
   "metadata": {},
   "outputs": [],
   "source": [
    "dataset = dataset.drop('Unnamed: 0', axis=1)"
   ]
  },
  {
   "cell_type": "code",
   "execution_count": 4,
   "metadata": {},
   "outputs": [
    {
     "data": {
      "text/html": [
       "<div>\n",
       "<style scoped>\n",
       "    .dataframe tbody tr th:only-of-type {\n",
       "        vertical-align: middle;\n",
       "    }\n",
       "\n",
       "    .dataframe tbody tr th {\n",
       "        vertical-align: top;\n",
       "    }\n",
       "\n",
       "    .dataframe thead th {\n",
       "        text-align: right;\n",
       "    }\n",
       "</style>\n",
       "<table border=\"1\" class=\"dataframe\">\n",
       "  <thead>\n",
       "    <tr style=\"text-align: right;\">\n",
       "      <th></th>\n",
       "      <th>Loan_ID</th>\n",
       "      <th>Gender</th>\n",
       "      <th>Married</th>\n",
       "      <th>Dependents</th>\n",
       "      <th>Education</th>\n",
       "      <th>Self_Employed</th>\n",
       "      <th>ApplicantIncome</th>\n",
       "      <th>CoapplicantIncome</th>\n",
       "      <th>LoanAmount</th>\n",
       "      <th>Loan_Amount_Term</th>\n",
       "      <th>Credit_History</th>\n",
       "      <th>Property_Area</th>\n",
       "      <th>Loan_Status</th>\n",
       "    </tr>\n",
       "  </thead>\n",
       "  <tbody>\n",
       "    <tr>\n",
       "      <th>0</th>\n",
       "      <td>LP001002</td>\n",
       "      <td>Male</td>\n",
       "      <td>No</td>\n",
       "      <td>0</td>\n",
       "      <td>Graduate</td>\n",
       "      <td>No</td>\n",
       "      <td>5849</td>\n",
       "      <td>0.0</td>\n",
       "      <td>146.412162</td>\n",
       "      <td>360.0</td>\n",
       "      <td>1.0</td>\n",
       "      <td>Urban</td>\n",
       "      <td>Y</td>\n",
       "    </tr>\n",
       "    <tr>\n",
       "      <th>1</th>\n",
       "      <td>LP001003</td>\n",
       "      <td>Male</td>\n",
       "      <td>Yes</td>\n",
       "      <td>1</td>\n",
       "      <td>Graduate</td>\n",
       "      <td>No</td>\n",
       "      <td>4583</td>\n",
       "      <td>1508.0</td>\n",
       "      <td>128.000000</td>\n",
       "      <td>360.0</td>\n",
       "      <td>1.0</td>\n",
       "      <td>Rural</td>\n",
       "      <td>N</td>\n",
       "    </tr>\n",
       "    <tr>\n",
       "      <th>2</th>\n",
       "      <td>LP001005</td>\n",
       "      <td>Male</td>\n",
       "      <td>Yes</td>\n",
       "      <td>0</td>\n",
       "      <td>Graduate</td>\n",
       "      <td>Yes</td>\n",
       "      <td>3000</td>\n",
       "      <td>0.0</td>\n",
       "      <td>66.000000</td>\n",
       "      <td>360.0</td>\n",
       "      <td>1.0</td>\n",
       "      <td>Urban</td>\n",
       "      <td>Y</td>\n",
       "    </tr>\n",
       "    <tr>\n",
       "      <th>3</th>\n",
       "      <td>LP001006</td>\n",
       "      <td>Male</td>\n",
       "      <td>Yes</td>\n",
       "      <td>0</td>\n",
       "      <td>Not Graduate</td>\n",
       "      <td>No</td>\n",
       "      <td>2583</td>\n",
       "      <td>2358.0</td>\n",
       "      <td>120.000000</td>\n",
       "      <td>360.0</td>\n",
       "      <td>1.0</td>\n",
       "      <td>Urban</td>\n",
       "      <td>Y</td>\n",
       "    </tr>\n",
       "    <tr>\n",
       "      <th>4</th>\n",
       "      <td>LP001008</td>\n",
       "      <td>Male</td>\n",
       "      <td>No</td>\n",
       "      <td>0</td>\n",
       "      <td>Graduate</td>\n",
       "      <td>No</td>\n",
       "      <td>6000</td>\n",
       "      <td>0.0</td>\n",
       "      <td>141.000000</td>\n",
       "      <td>360.0</td>\n",
       "      <td>1.0</td>\n",
       "      <td>Urban</td>\n",
       "      <td>Y</td>\n",
       "    </tr>\n",
       "  </tbody>\n",
       "</table>\n",
       "</div>"
      ],
      "text/plain": [
       "    Loan_ID Gender Married Dependents     Education Self_Employed  \\\n",
       "0  LP001002   Male      No          0      Graduate            No   \n",
       "1  LP001003   Male     Yes          1      Graduate            No   \n",
       "2  LP001005   Male     Yes          0      Graduate           Yes   \n",
       "3  LP001006   Male     Yes          0  Not Graduate            No   \n",
       "4  LP001008   Male      No          0      Graduate            No   \n",
       "\n",
       "   ApplicantIncome  CoapplicantIncome  LoanAmount  Loan_Amount_Term  \\\n",
       "0             5849                0.0  146.412162             360.0   \n",
       "1             4583             1508.0  128.000000             360.0   \n",
       "2             3000                0.0   66.000000             360.0   \n",
       "3             2583             2358.0  120.000000             360.0   \n",
       "4             6000                0.0  141.000000             360.0   \n",
       "\n",
       "   Credit_History Property_Area Loan_Status  \n",
       "0             1.0         Urban           Y  \n",
       "1             1.0         Rural           N  \n",
       "2             1.0         Urban           Y  \n",
       "3             1.0         Urban           Y  \n",
       "4             1.0         Urban           Y  "
      ]
     },
     "execution_count": 4,
     "metadata": {},
     "output_type": "execute_result"
    }
   ],
   "source": [
    "dataset.head()"
   ]
  },
  {
   "cell_type": "markdown",
   "metadata": {},
   "source": [
    "Before going to predictive modeling, we have to preprocess the data (encode into numeric value)."
   ]
  },
  {
   "cell_type": "code",
   "execution_count": 5,
   "metadata": {},
   "outputs": [],
   "source": [
    "dataset[dataset.select_dtypes(include='object').columns] = dataset.select_dtypes(include='object').astype('category')"
   ]
  },
  {
   "cell_type": "code",
   "execution_count": 6,
   "metadata": {},
   "outputs": [],
   "source": [
    "dataset['Credit_History'] = dataset['Credit_History'].astype('category')"
   ]
  },
  {
   "cell_type": "code",
   "execution_count": 7,
   "metadata": {},
   "outputs": [
    {
     "name": "stdout",
     "output_type": "stream",
     "text": [
      "<class 'pandas.core.frame.DataFrame'>\n",
      "RangeIndex: 614 entries, 0 to 613\n",
      "Data columns (total 13 columns):\n",
      "Loan_ID              614 non-null category\n",
      "Gender               614 non-null category\n",
      "Married              614 non-null category\n",
      "Dependents           614 non-null category\n",
      "Education            614 non-null category\n",
      "Self_Employed        614 non-null category\n",
      "ApplicantIncome      614 non-null int64\n",
      "CoapplicantIncome    614 non-null float64\n",
      "LoanAmount           614 non-null float64\n",
      "Loan_Amount_Term     614 non-null float64\n",
      "Credit_History       614 non-null category\n",
      "Property_Area        614 non-null category\n",
      "Loan_Status          614 non-null category\n",
      "dtypes: category(9), float64(3), int64(1)\n",
      "memory usage: 50.9 KB\n"
     ]
    }
   ],
   "source": [
    "dataset.info()"
   ]
  },
  {
   "cell_type": "markdown",
   "metadata": {},
   "source": [
    "Split the data into categorical and numerical, drop column Loan_ID and Loan_status (target vector), then convert it to numpy array."
   ]
  },
  {
   "cell_type": "code",
   "execution_count": 8,
   "metadata": {},
   "outputs": [],
   "source": [
    "X_cat = dataset.select_dtypes(include='category').drop(['Loan_ID', 'Loan_Status'], axis=1).values\n",
    "X_num = dataset.select_dtypes(include=['int', 'float']).values\n",
    "y = dataset['Loan_Status']"
   ]
  },
  {
   "cell_type": "code",
   "execution_count": 9,
   "metadata": {},
   "outputs": [
    {
     "name": "stdout",
     "output_type": "stream",
     "text": [
      "X_cat.shape: (614, 7)\n",
      "X_num.shape: (614, 3)\n",
      "y.shape: (614,)\n"
     ]
    }
   ],
   "source": [
    "print(\"X_cat.shape: {}\".format(X_cat.shape))\n",
    "print(\"X_num.shape: {}\".format(X_num.shape))\n",
    "print(\"y.shape: {}\".format(y.shape))"
   ]
  },
  {
   "cell_type": "markdown",
   "metadata": {},
   "source": [
    "Now, we have 2 feature matrix (categorical and numerical type) and target vector. BUT... we have to encode the string representation into numerical representation. First, we convert it with LabelEncoder then OneHotEncoder"
   ]
  },
  {
   "cell_type": "code",
   "execution_count": 10,
   "metadata": {},
   "outputs": [
    {
     "data": {
      "text/plain": [
       "array(['Male', 'No', '0', 'Graduate', 'No', 1.0, 'Urban'], dtype=object)"
      ]
     },
     "execution_count": 10,
     "metadata": {},
     "output_type": "execute_result"
    }
   ],
   "source": [
    "X_cat[0]"
   ]
  },
  {
   "cell_type": "code",
   "execution_count": 11,
   "metadata": {},
   "outputs": [],
   "source": [
    "for i in range(X_cat.shape[1]):\n",
    "    label_encoder = LabelEncoder()\n",
    "    X_cat[:, i] = label_encoder.fit_transform(X_cat[:, i])"
   ]
  },
  {
   "cell_type": "code",
   "execution_count": 12,
   "metadata": {},
   "outputs": [
    {
     "name": "stdout",
     "output_type": "stream",
     "text": [
      "Unique encoded value in each column:\n",
      "\n",
      "Column 0: [0 1]\n",
      "Column 1: [0 1]\n",
      "Column 2: [0 1 2 3]\n",
      "Column 3: [0 1]\n",
      "Column 4: [0 1]\n",
      "Column 5: [0 1]\n",
      "Column 6: [0 1 2]\n"
     ]
    }
   ],
   "source": [
    "print(\"Unique encoded value in each column:\\n\")\n",
    "for i in range(len(X_cat[0])):\n",
    "    print(\"Column {}: {}\".format(i, np.unique(X_cat[:, i])))"
   ]
  },
  {
   "cell_type": "code",
   "execution_count": 13,
   "metadata": {},
   "outputs": [],
   "source": [
    "label_encoder = LabelEncoder()\n",
    "y = label_encoder.fit_transform(y)"
   ]
  },
  {
   "cell_type": "code",
   "execution_count": 14,
   "metadata": {},
   "outputs": [],
   "source": [
    "X_cat_1 = X_cat[:, [0, 1, 3, 4, 5]].copy()\n",
    "X_cat_2 = X_cat[:, [2, 6]].copy()"
   ]
  },
  {
   "cell_type": "code",
   "execution_count": 15,
   "metadata": {},
   "outputs": [
    {
     "name": "stdout",
     "output_type": "stream",
     "text": [
      "Unique encoded value in each column:\n",
      "\n",
      "Column 0: [0 1]\n",
      "Column 1: [0 1]\n",
      "Column 2: [0 1]\n",
      "Column 3: [0 1]\n",
      "Column 4: [0 1]\n"
     ]
    }
   ],
   "source": [
    "print(\"Unique encoded value in each column:\\n\")\n",
    "for i in range(len(X_cat_1[0])):\n",
    "    print(\"Column {}: {}\".format(i, np.unique(X_cat_1[:, i])))"
   ]
  },
  {
   "cell_type": "code",
   "execution_count": 16,
   "metadata": {},
   "outputs": [
    {
     "name": "stdout",
     "output_type": "stream",
     "text": [
      "Unique encoded value in each column:\n",
      "\n",
      "Column 0: [0 1 2 3]\n",
      "Column 1: [0 1 2]\n"
     ]
    }
   ],
   "source": [
    "print(\"Unique encoded value in each column:\\n\")\n",
    "for i in range(len(X_cat_2[0])):\n",
    "    print(\"Column {}: {}\".format(i, np.unique(X_cat_2[:, i])))"
   ]
  },
  {
   "cell_type": "code",
   "execution_count": 17,
   "metadata": {},
   "outputs": [],
   "source": [
    "hot_encoder = OneHotEncoder(sparse=False)\n",
    "X_cat_2 = hot_encoder.fit_transform(X_cat_2).astype('int')"
   ]
  },
  {
   "cell_type": "code",
   "execution_count": 18,
   "metadata": {},
   "outputs": [
    {
     "data": {
      "text/plain": [
       "(614, 7)"
      ]
     },
     "execution_count": 18,
     "metadata": {},
     "output_type": "execute_result"
    }
   ],
   "source": [
    "X_cat_2.shape"
   ]
  },
  {
   "cell_type": "code",
   "execution_count": 19,
   "metadata": {},
   "outputs": [],
   "source": [
    "X_cat = np.c_[X_cat_1, X_cat_2]"
   ]
  },
  {
   "cell_type": "code",
   "execution_count": 20,
   "metadata": {},
   "outputs": [
    {
     "data": {
      "text/plain": [
       "(614, 12)"
      ]
     },
     "execution_count": 20,
     "metadata": {},
     "output_type": "execute_result"
    }
   ],
   "source": [
    "X_cat.shape"
   ]
  },
  {
   "cell_type": "code",
   "execution_count": 21,
   "metadata": {},
   "outputs": [
    {
     "data": {
      "text/plain": [
       "array([1, 0, 0, 0, 1, 1, 0, 0, 0, 0, 0, 1], dtype=object)"
      ]
     },
     "execution_count": 21,
     "metadata": {},
     "output_type": "execute_result"
    }
   ],
   "source": [
    "X_cat[0]"
   ]
  },
  {
   "cell_type": "markdown",
   "metadata": {},
   "source": [
    "Combine the category feature matrix and numerical feature matrix."
   ]
  },
  {
   "cell_type": "code",
   "execution_count": 22,
   "metadata": {},
   "outputs": [],
   "source": [
    "X = np.c_[X_num, X_cat]"
   ]
  },
  {
   "cell_type": "code",
   "execution_count": 23,
   "metadata": {},
   "outputs": [
    {
     "data": {
      "text/plain": [
       "array([0.0, 146.41216216216216, 360.0, 1, 0, 0, 0, 1, 1, 0, 0, 0, 0, 0, 1],\n",
       "      dtype=object)"
      ]
     },
     "execution_count": 23,
     "metadata": {},
     "output_type": "execute_result"
    }
   ],
   "source": [
    "X[0]"
   ]
  },
  {
   "cell_type": "markdown",
   "metadata": {},
   "source": [
    "Now we have the encoded feature matrix and target vector, let's step up to predictive modeling right away!"
   ]
  },
  {
   "cell_type": "markdown",
   "metadata": {},
   "source": [
    "---"
   ]
  },
  {
   "cell_type": "markdown",
   "metadata": {},
   "source": [
    "## Predictive Modeling"
   ]
  },
  {
   "cell_type": "markdown",
   "metadata": {},
   "source": [
    "Here we will explore and learn some common machine learning algorithms, then evalute the performance using cross_val_score and find the optimized model"
   ]
  },
  {
   "cell_type": "markdown",
   "metadata": {},
   "source": [
    "The performance we use is not only accuracy since the data is not well balanced (there are more yes than no), we use accuracy score (the default), precision, recall, f1 and average precision."
   ]
  },
  {
   "cell_type": "markdown",
   "metadata": {},
   "source": [
    "### GaussianNB"
   ]
  },
  {
   "cell_type": "markdown",
   "metadata": {},
   "source": [
    "We start by using the simpler model, which GaussianNB which implements naive bayes point of view."
   ]
  },
  {
   "cell_type": "code",
   "execution_count": 24,
   "metadata": {},
   "outputs": [
    {
     "name": "stdout",
     "output_type": "stream",
     "text": [
      "GaussianNB cross val score: [0.7959276  0.68989442 0.75156642 0.79573935 0.74843358]\n",
      "The mean score: 0.756\n"
     ]
    }
   ],
   "source": [
    "gaussian_score = cross_val_score(GaussianNB(), X, y, cv=5, scoring='roc_auc')\n",
    "print(\"GaussianNB cross val score: {}\".format(gaussian_score))\n",
    "print(\"The mean score: {:.3f}\".format(gaussian_score.mean()))"
   ]
  },
  {
   "cell_type": "markdown",
   "metadata": {},
   "source": [
    "Wow... we certainly get good score from such a simple model and without any parameter tuning."
   ]
  },
  {
   "cell_type": "markdown",
   "metadata": {},
   "source": [
    "### KNeighborsClassifier"
   ]
  },
  {
   "cell_type": "markdown",
   "metadata": {},
   "source": [
    "We have to scale the data first, but for learning purpose we will compare the performance with and without scaling"
   ]
  },
  {
   "cell_type": "code",
   "execution_count": 25,
   "metadata": {},
   "outputs": [
    {
     "name": "stdout",
     "output_type": "stream",
     "text": [
      "KNeighborsClassifier cross val score (default & no scaling): [0.56666667 0.54162896 0.54981203 0.50595238 0.53242481]\n",
      "The mean score: 0.539\n"
     ]
    }
   ],
   "source": [
    "knn_default_no_scaling_score = cross_val_score(KNeighborsClassifier(), X, y, cv=5, scoring='roc_auc')\n",
    "print(\"KNeighborsClassifier cross val score (default & no scaling): {}\".format(knn_default_no_scaling_score))\n",
    "print(\"The mean score: {:.3f}\".format(knn_default_no_scaling_score.mean()))"
   ]
  },
  {
   "cell_type": "code",
   "execution_count": 26,
   "metadata": {},
   "outputs": [],
   "source": [
    "pipe_knn = Pipeline([\n",
    "    ('scaler', StandardScaler()),\n",
    "    ('knn', KNeighborsClassifier())\n",
    "])"
   ]
  },
  {
   "cell_type": "markdown",
   "metadata": {},
   "source": [
    "ROC AUD score with scaled data:"
   ]
  },
  {
   "cell_type": "code",
   "execution_count": 27,
   "metadata": {},
   "outputs": [
    {
     "name": "stdout",
     "output_type": "stream",
     "text": [
      "KNeighborsClassifier cross val score (default & scaled): [0.7561086  0.63152338 0.6968985  0.72086466 0.64552005]\n",
      "The mean score: 0.690\n"
     ]
    }
   ],
   "source": [
    "knn_default_score = cross_val_score(pipe_knn, X, y, cv=5, scoring='roc_auc')\n",
    "print(\"KNeighborsClassifier cross val score (default & scaled): {}\".format(knn_default_score))\n",
    "print(\"The mean score: {:.3f}\".format(knn_default_score.mean()))"
   ]
  },
  {
   "cell_type": "markdown",
   "metadata": {},
   "source": [
    "Looking for optimized model"
   ]
  },
  {
   "cell_type": "code",
   "execution_count": 28,
   "metadata": {},
   "outputs": [],
   "source": [
    "param_grid = {\n",
    "    'knn__weights' : ['distance', 'uniform'],\n",
    "    'knn__n_neighbors' : list(range(2, 100)) # we test n_neighbors parameter from 2 to 20\n",
    "}\n",
    "\n",
    "grid_knn = GridSearchCV(pipe_knn, param_grid=param_grid, cv=5, scoring='roc_auc', n_jobs=-1).fit(X, y)"
   ]
  },
  {
   "cell_type": "code",
   "execution_count": 29,
   "metadata": {},
   "outputs": [
    {
     "data": {
      "text/plain": [
       "0.7732389957789814"
      ]
     },
     "execution_count": 29,
     "metadata": {},
     "output_type": "execute_result"
    }
   ],
   "source": [
    "grid_knn.best_score_"
   ]
  },
  {
   "cell_type": "code",
   "execution_count": 30,
   "metadata": {},
   "outputs": [
    {
     "data": {
      "text/plain": [
       "{'knn__n_neighbors': 77, 'knn__weights': 'uniform'}"
      ]
     },
     "execution_count": 30,
     "metadata": {},
     "output_type": "execute_result"
    }
   ],
   "source": [
    "grid_knn.best_params_"
   ]
  },
  {
   "cell_type": "code",
   "execution_count": 31,
   "metadata": {},
   "outputs": [
    {
     "name": "stdout",
     "output_type": "stream",
     "text": [
      "KNeighborsClassifier cross val score (optimized): [0.82111614 0.7025641  0.80278822 0.80419799 0.73590226]\n",
      "The mean score: 0.773\n"
     ]
    }
   ],
   "source": [
    "knn_optimized_score = cross_val_score(grid_knn.best_estimator_, X, y, cv=5, scoring='roc_auc')\n",
    "print(\"KNeighborsClassifier cross val score (optimized): {}\".format(knn_optimized_score))\n",
    "print(\"The mean score: {:.3f}\".format(knn_optimized_score.mean()))"
   ]
  },
  {
   "cell_type": "code",
   "execution_count": 32,
   "metadata": {},
   "outputs": [],
   "source": [
    "knn_results = pd.DataFrame(grid_knn.cv_results_)[['param_knn__weights', 'param_knn__n_neighbors', 'mean_test_score']].groupby(['param_knn__weights', 'param_knn__n_neighbors']).mean().reset_index()"
   ]
  },
  {
   "cell_type": "code",
   "execution_count": 33,
   "metadata": {},
   "outputs": [
    {
     "data": {
      "image/png": "[encoded data removed]",
      "text/plain": [
       "<Figure size 432x288 with 1 Axes>"
      ]
     },
     "metadata": {
      "needs_background": "light"
     },
     "output_type": "display_data"
    }
   ],
   "source": [
    "sns.lineplot(data=knn_results[knn_results['param_knn__weights'] == 'distance'], x='param_knn__n_neighbors', y='mean_test_score', label='distance')\n",
    "sns.lineplot(data=knn_results[knn_results['param_knn__weights'] == 'uniform'], x='param_knn__n_neighbors', y='mean_test_score', label='uniform')\n",
    "plt.title('ROC AUC score')\n",
    "plt.xlim(0, 100)\n",
    "plt.ylim(0, 1)\n",
    "plt.legend(loc=7);"
   ]
  },
  {
   "cell_type": "markdown",
   "metadata": {},
   "source": [
    "The y axis is between 0 and 1, to see the picture from more general perspective. The line is quite close to horizontal line, but we see that by using uniform as weights parameter, generally we get better performance."
   ]
  },
  {
   "cell_type": "markdown",
   "metadata": {},
   "source": [
    "### SGDClassifier"
   ]
  },
  {
   "cell_type": "markdown",
   "metadata": {},
   "source": [
    "Now, we use ML algorithm which implements Stochastic Gradient Descent to find the best weight (coefficient of linear formula) iteratively. Note that we need to scale the data to get better performance."
   ]
  },
  {
   "cell_type": "code",
   "execution_count": 34,
   "metadata": {},
   "outputs": [
    {
     "name": "stdout",
     "output_type": "stream",
     "text": [
      "SGDClassifier cross val score (default & no scaling): [0.46470588 0.46757164 0.43076441 0.46428571 0.54761905]\n",
      "The mean score: 0.475\n"
     ]
    }
   ],
   "source": [
    "sgd_default_no_scaling_score = cross_val_score(SGDClassifier(), X, y, cv=5, scoring='roc_auc')\n",
    "print(\"SGDClassifier cross val score (default & no scaling): {}\".format(sgd_default_no_scaling_score))\n",
    "print(\"The mean score: {:.3f}\".format(sgd_default_no_scaling_score.mean()))"
   ]
  },
  {
   "cell_type": "markdown",
   "metadata": {},
   "source": [
    "What happen if we scale the data first"
   ]
  },
  {
   "cell_type": "code",
   "execution_count": 35,
   "metadata": {},
   "outputs": [],
   "source": [
    "pipe_sgd = Pipeline([\n",
    "    ('scaler', StandardScaler()),\n",
    "    ('sgd', SGDClassifier())\n",
    "])"
   ]
  },
  {
   "cell_type": "code",
   "execution_count": 36,
   "metadata": {},
   "outputs": [
    {
     "name": "stdout",
     "output_type": "stream",
     "text": [
      "SGDClassifier cross val score (default & scaled): [0.63092006 0.60392157 0.64505013 0.7537594  0.70676692]\n",
      "The mean score: 0.668\n"
     ]
    }
   ],
   "source": [
    "sgd_default_score = cross_val_score(pipe_sgd, X, y, cv=5, scoring='roc_auc')\n",
    "print(\"SGDClassifier cross val score (default & scaled): {}\".format(sgd_default_score))\n",
    "print(\"The mean score: {:.3f}\".format(sgd_default_score.mean()))"
   ]
  },
  {
   "cell_type": "markdown",
   "metadata": {},
   "source": [
    "We get better score. Now, we find the optimized model using GridSearchCV"
   ]
  },
  {
   "cell_type": "code",
   "execution_count": 37,
   "metadata": {},
   "outputs": [],
   "source": [
    "param_grid = {\n",
    "    'sgd__penalty' : ['elasticnet'], # use elasticnet only\n",
    "    'sgd__alpha' : [0.001, 0.001, 0.01, 0.1, 1, 10, 100, 1000],\n",
    "    'sgd__l1_ratio' : [0, 0.25, 0.5, 0.75, 1]\n",
    "}\n",
    "\n",
    "grid_sgd = GridSearchCV(pipe_sgd, param_grid=param_grid, cv=3, scoring='roc_auc', n_jobs=-1).fit(X, y)"
   ]
  },
  {
   "cell_type": "code",
   "execution_count": 38,
   "metadata": {},
   "outputs": [
    {
     "data": {
      "text/plain": [
       "0.7504282076811251"
      ]
     },
     "execution_count": 38,
     "metadata": {},
     "output_type": "execute_result"
    }
   ],
   "source": [
    "grid_sgd.best_score_"
   ]
  },
  {
   "cell_type": "code",
   "execution_count": 39,
   "metadata": {},
   "outputs": [
    {
     "data": {
      "text/plain": [
       "{'sgd__alpha': 100, 'sgd__l1_ratio': 0, 'sgd__penalty': 'elasticnet'}"
      ]
     },
     "execution_count": 39,
     "metadata": {},
     "output_type": "execute_result"
    }
   ],
   "source": [
    "grid_sgd.best_params_"
   ]
  },
  {
   "cell_type": "markdown",
   "metadata": {},
   "source": [
    "Cross validation score with best estimator found by grid search"
   ]
  },
  {
   "cell_type": "code",
   "execution_count": 40,
   "metadata": {},
   "outputs": [
    {
     "name": "stdout",
     "output_type": "stream",
     "text": [
      "SGDClassifier cross val score (optimized): [0.81372549 0.70739065 0.77098997 0.81923559 0.73151629]\n",
      "The mean score: 0.769\n"
     ]
    }
   ],
   "source": [
    "sgd_optimized_score = cross_val_score(grid_sgd.best_estimator_, X, y, cv=5, scoring='roc_auc')\n",
    "print(\"SGDClassifier cross val score (optimized): {}\".format(sgd_optimized_score))\n",
    "print(\"The mean score: {:.3f}\".format(sgd_optimized_score.mean()))"
   ]
  },
  {
   "cell_type": "code",
   "execution_count": 41,
   "metadata": {},
   "outputs": [
    {
     "data": {
      "text/html": [
       "<div>\n",
       "<style scoped>\n",
       "    .dataframe tbody tr th:only-of-type {\n",
       "        vertical-align: middle;\n",
       "    }\n",
       "\n",
       "    .dataframe tbody tr th {\n",
       "        vertical-align: top;\n",
       "    }\n",
       "\n",
       "    .dataframe thead th {\n",
       "        text-align: right;\n",
       "    }\n",
       "</style>\n",
       "<table border=\"1\" class=\"dataframe\">\n",
       "  <thead>\n",
       "    <tr style=\"text-align: right;\">\n",
       "      <th></th>\n",
       "      <th></th>\n",
       "      <th>mean_test_score</th>\n",
       "    </tr>\n",
       "    <tr>\n",
       "      <th>param_sgd__l1_ratio</th>\n",
       "      <th>param_sgd__alpha</th>\n",
       "      <th></th>\n",
       "    </tr>\n",
       "  </thead>\n",
       "  <tbody>\n",
       "    <tr>\n",
       "      <th rowspan=\"7\" valign=\"top\">0.00</th>\n",
       "      <th>0.001</th>\n",
       "      <td>0.689367</td>\n",
       "    </tr>\n",
       "    <tr>\n",
       "      <th>0.010</th>\n",
       "      <td>0.699281</td>\n",
       "    </tr>\n",
       "    <tr>\n",
       "      <th>0.100</th>\n",
       "      <td>0.735694</td>\n",
       "    </tr>\n",
       "    <tr>\n",
       "      <th>1.000</th>\n",
       "      <td>0.709239</td>\n",
       "    </tr>\n",
       "    <tr>\n",
       "      <th>10.000</th>\n",
       "      <td>0.750317</td>\n",
       "    </tr>\n",
       "    <tr>\n",
       "      <th>100.000</th>\n",
       "      <td>0.750428</td>\n",
       "    </tr>\n",
       "    <tr>\n",
       "      <th>1000.000</th>\n",
       "      <td>0.750317</td>\n",
       "    </tr>\n",
       "    <tr>\n",
       "      <th rowspan=\"7\" valign=\"top\">0.25</th>\n",
       "      <th>0.001</th>\n",
       "      <td>0.696459</td>\n",
       "    </tr>\n",
       "    <tr>\n",
       "      <th>0.010</th>\n",
       "      <td>0.728921</td>\n",
       "    </tr>\n",
       "    <tr>\n",
       "      <th>0.100</th>\n",
       "      <td>0.735719</td>\n",
       "    </tr>\n",
       "    <tr>\n",
       "      <th>1.000</th>\n",
       "      <td>0.705189</td>\n",
       "    </tr>\n",
       "    <tr>\n",
       "      <th>10.000</th>\n",
       "      <td>0.500000</td>\n",
       "    </tr>\n",
       "    <tr>\n",
       "      <th>100.000</th>\n",
       "      <td>0.500000</td>\n",
       "    </tr>\n",
       "    <tr>\n",
       "      <th>1000.000</th>\n",
       "      <td>0.500000</td>\n",
       "    </tr>\n",
       "    <tr>\n",
       "      <th rowspan=\"7\" valign=\"top\">0.50</th>\n",
       "      <th>0.001</th>\n",
       "      <td>0.696512</td>\n",
       "    </tr>\n",
       "    <tr>\n",
       "      <th>0.010</th>\n",
       "      <td>0.735899</td>\n",
       "    </tr>\n",
       "    <tr>\n",
       "      <th>0.100</th>\n",
       "      <td>0.699288</td>\n",
       "    </tr>\n",
       "    <tr>\n",
       "      <th>1.000</th>\n",
       "      <td>0.500000</td>\n",
       "    </tr>\n",
       "    <tr>\n",
       "      <th>10.000</th>\n",
       "      <td>0.500000</td>\n",
       "    </tr>\n",
       "    <tr>\n",
       "      <th>100.000</th>\n",
       "      <td>0.500000</td>\n",
       "    </tr>\n",
       "    <tr>\n",
       "      <th>1000.000</th>\n",
       "      <td>0.500000</td>\n",
       "    </tr>\n",
       "    <tr>\n",
       "      <th rowspan=\"7\" valign=\"top\">0.75</th>\n",
       "      <th>0.001</th>\n",
       "      <td>0.688632</td>\n",
       "    </tr>\n",
       "    <tr>\n",
       "      <th>0.010</th>\n",
       "      <td>0.697279</td>\n",
       "    </tr>\n",
       "    <tr>\n",
       "      <th>0.100</th>\n",
       "      <td>0.705189</td>\n",
       "    </tr>\n",
       "    <tr>\n",
       "      <th>1.000</th>\n",
       "      <td>0.500000</td>\n",
       "    </tr>\n",
       "    <tr>\n",
       "      <th>10.000</th>\n",
       "      <td>0.500000</td>\n",
       "    </tr>\n",
       "    <tr>\n",
       "      <th>100.000</th>\n",
       "      <td>0.500000</td>\n",
       "    </tr>\n",
       "    <tr>\n",
       "      <th>1000.000</th>\n",
       "      <td>0.500000</td>\n",
       "    </tr>\n",
       "    <tr>\n",
       "      <th rowspan=\"7\" valign=\"top\">1.00</th>\n",
       "      <th>0.001</th>\n",
       "      <td>0.730424</td>\n",
       "    </tr>\n",
       "    <tr>\n",
       "      <th>0.010</th>\n",
       "      <td>0.685259</td>\n",
       "    </tr>\n",
       "    <tr>\n",
       "      <th>0.100</th>\n",
       "      <td>0.705189</td>\n",
       "    </tr>\n",
       "    <tr>\n",
       "      <th>1.000</th>\n",
       "      <td>0.500000</td>\n",
       "    </tr>\n",
       "    <tr>\n",
       "      <th>10.000</th>\n",
       "      <td>0.500000</td>\n",
       "    </tr>\n",
       "    <tr>\n",
       "      <th>100.000</th>\n",
       "      <td>0.500000</td>\n",
       "    </tr>\n",
       "    <tr>\n",
       "      <th>1000.000</th>\n",
       "      <td>0.500000</td>\n",
       "    </tr>\n",
       "  </tbody>\n",
       "</table>\n",
       "</div>"
      ],
      "text/plain": [
       "                                      mean_test_score\n",
       "param_sgd__l1_ratio param_sgd__alpha                 \n",
       "0.00                0.001                    0.689367\n",
       "                    0.010                    0.699281\n",
       "                    0.100                    0.735694\n",
       "                    1.000                    0.709239\n",
       "                    10.000                   0.750317\n",
       "                    100.000                  0.750428\n",
       "                    1000.000                 0.750317\n",
       "0.25                0.001                    0.696459\n",
       "                    0.010                    0.728921\n",
       "                    0.100                    0.735719\n",
       "                    1.000                    0.705189\n",
       "                    10.000                   0.500000\n",
       "                    100.000                  0.500000\n",
       "                    1000.000                 0.500000\n",
       "0.50                0.001                    0.696512\n",
       "                    0.010                    0.735899\n",
       "                    0.100                    0.699288\n",
       "                    1.000                    0.500000\n",
       "                    10.000                   0.500000\n",
       "                    100.000                  0.500000\n",
       "                    1000.000                 0.500000\n",
       "0.75                0.001                    0.688632\n",
       "                    0.010                    0.697279\n",
       "                    0.100                    0.705189\n",
       "                    1.000                    0.500000\n",
       "                    10.000                   0.500000\n",
       "                    100.000                  0.500000\n",
       "                    1000.000                 0.500000\n",
       "1.00                0.001                    0.730424\n",
       "                    0.010                    0.685259\n",
       "                    0.100                    0.705189\n",
       "                    1.000                    0.500000\n",
       "                    10.000                   0.500000\n",
       "                    100.000                  0.500000\n",
       "                    1000.000                 0.500000"
      ]
     },
     "execution_count": 41,
     "metadata": {},
     "output_type": "execute_result"
    }
   ],
   "source": [
    "sgd_results = pd.DataFrame(grid_sgd.cv_results_)[['param_sgd__alpha', 'param_sgd__l1_ratio', 'mean_test_score']].groupby(['param_sgd__l1_ratio', 'param_sgd__alpha']).mean()\n",
    "sgd_results"
   ]
  },
  {
   "cell_type": "markdown",
   "metadata": {},
   "source": [
    "Let's visualize it this data above"
   ]
  },
  {
   "cell_type": "code",
   "execution_count": 42,
   "metadata": {},
   "outputs": [
    {
     "data": {
      "image/png": "[encoded data removed]",
      "text/plain": [
       "<Figure size 576x360 with 1 Axes>"
      ]
     },
     "metadata": {
      "needs_background": "light"
     },
     "output_type": "display_data"
    }
   ],
   "source": [
    "fig, ax = plt.subplots(1, 1, figsize=(8, 5))\n",
    "\n",
    "sns.barplot(data=sgd_results.reset_index(), x='param_sgd__alpha', y='mean_test_score', hue='param_sgd__l1_ratio', ax=ax)\n",
    "ax.set_ylim(0, 1)\n",
    "fig.suptitle('AUC ROC score');"
   ]
  },
  {
   "cell_type": "markdown",
   "metadata": {},
   "source": [
    "We get AUC ROC score 77% with hyperparameters alpha 0.01, l1_ratio 0.25, and penalty elasticnet. Awesome!"
   ]
  },
  {
   "cell_type": "markdown",
   "metadata": {},
   "source": [
    "### LogisticRegression"
   ]
  },
  {
   "cell_type": "markdown",
   "metadata": {},
   "source": [
    "Now, we will use LogisticRegression, let's start with default hyperparameters."
   ]
  },
  {
   "cell_type": "code",
   "execution_count": 43,
   "metadata": {},
   "outputs": [
    {
     "name": "stdout",
     "output_type": "stream",
     "text": [
      "LogisticRegression cross val score (default): [0.84027149 0.68174962 0.76942356 0.83928571 0.72211779]\n",
      "The mean score: 0.771\n"
     ]
    }
   ],
   "source": [
    "logreg_default_score = cross_val_score(LogisticRegression(), X, y, cv=5, scoring='roc_auc')\n",
    "print(\"LogisticRegression cross val score (default): {}\".format(logreg_default_score))\n",
    "print(\"The mean score: {:.3f}\".format(logreg_default_score.mean()))"
   ]
  },
  {
   "cell_type": "markdown",
   "metadata": {},
   "source": [
    "Good score with default hyperparameters. Let's see the optimized model"
   ]
  },
  {
   "cell_type": "code",
   "execution_count": 44,
   "metadata": {},
   "outputs": [],
   "source": [
    "param_grid = {\n",
    "    'penalty' : ['l1', 'l2'],\n",
    "    'C' : [0.0001, 0.001, 0.01, 0.1, 1, 10, 100]\n",
    "}\n",
    "\n",
    "grid_logreg = GridSearchCV(LogisticRegression(), param_grid=param_grid, cv=5, scoring='roc_auc', n_jobs=-1).fit(X, y)"
   ]
  },
  {
   "cell_type": "code",
   "execution_count": 45,
   "metadata": {},
   "outputs": [
    {
     "data": {
      "text/plain": [
       "0.7730620796763232"
      ]
     },
     "execution_count": 45,
     "metadata": {},
     "output_type": "execute_result"
    }
   ],
   "source": [
    "grid_logreg.best_score_"
   ]
  },
  {
   "cell_type": "code",
   "execution_count": 46,
   "metadata": {},
   "outputs": [
    {
     "data": {
      "text/plain": [
       "{'C': 0.1, 'penalty': 'l2'}"
      ]
     },
     "execution_count": 46,
     "metadata": {},
     "output_type": "execute_result"
    }
   ],
   "source": [
    "grid_logreg.best_params_"
   ]
  },
  {
   "cell_type": "code",
   "execution_count": 47,
   "metadata": {},
   "outputs": [
    {
     "data": {
      "text/html": [
       "<div>\n",
       "<style scoped>\n",
       "    .dataframe tbody tr th:only-of-type {\n",
       "        vertical-align: middle;\n",
       "    }\n",
       "\n",
       "    .dataframe tbody tr th {\n",
       "        vertical-align: top;\n",
       "    }\n",
       "\n",
       "    .dataframe thead th {\n",
       "        text-align: right;\n",
       "    }\n",
       "</style>\n",
       "<table border=\"1\" class=\"dataframe\">\n",
       "  <thead>\n",
       "    <tr style=\"text-align: right;\">\n",
       "      <th></th>\n",
       "      <th></th>\n",
       "      <th>mean_test_score</th>\n",
       "    </tr>\n",
       "    <tr>\n",
       "      <th>param_penalty</th>\n",
       "      <th>param_C</th>\n",
       "      <th></th>\n",
       "    </tr>\n",
       "  </thead>\n",
       "  <tbody>\n",
       "    <tr>\n",
       "      <th rowspan=\"7\" valign=\"top\">l1</th>\n",
       "      <th>0.0001</th>\n",
       "      <td>0.479591</td>\n",
       "    </tr>\n",
       "    <tr>\n",
       "      <th>0.0010</th>\n",
       "      <td>0.462646</td>\n",
       "    </tr>\n",
       "    <tr>\n",
       "      <th>0.0100</th>\n",
       "      <td>0.445299</td>\n",
       "    </tr>\n",
       "    <tr>\n",
       "      <th>0.1000</th>\n",
       "      <td>0.719841</td>\n",
       "    </tr>\n",
       "    <tr>\n",
       "      <th>1.0000</th>\n",
       "      <td>0.767186</td>\n",
       "    </tr>\n",
       "    <tr>\n",
       "      <th>10.0000</th>\n",
       "      <td>0.768448</td>\n",
       "    </tr>\n",
       "    <tr>\n",
       "      <th>100.0000</th>\n",
       "      <td>0.768271</td>\n",
       "    </tr>\n",
       "    <tr>\n",
       "      <th rowspan=\"7\" valign=\"top\">l2</th>\n",
       "      <th>0.0001</th>\n",
       "      <td>0.454054</td>\n",
       "    </tr>\n",
       "    <tr>\n",
       "      <th>0.0010</th>\n",
       "      <td>0.524503</td>\n",
       "    </tr>\n",
       "    <tr>\n",
       "      <th>0.0100</th>\n",
       "      <td>0.724080</td>\n",
       "    </tr>\n",
       "    <tr>\n",
       "      <th>0.1000</th>\n",
       "      <td>0.773062</td>\n",
       "    </tr>\n",
       "    <tr>\n",
       "      <th>1.0000</th>\n",
       "      <td>0.770507</td>\n",
       "    </tr>\n",
       "    <tr>\n",
       "      <th>10.0000</th>\n",
       "      <td>0.769122</td>\n",
       "    </tr>\n",
       "    <tr>\n",
       "      <th>100.0000</th>\n",
       "      <td>0.767271</td>\n",
       "    </tr>\n",
       "  </tbody>\n",
       "</table>\n",
       "</div>"
      ],
      "text/plain": [
       "                        mean_test_score\n",
       "param_penalty param_C                  \n",
       "l1            0.0001           0.479591\n",
       "              0.0010           0.462646\n",
       "              0.0100           0.445299\n",
       "              0.1000           0.719841\n",
       "              1.0000           0.767186\n",
       "              10.0000          0.768448\n",
       "              100.0000         0.768271\n",
       "l2            0.0001           0.454054\n",
       "              0.0010           0.524503\n",
       "              0.0100           0.724080\n",
       "              0.1000           0.773062\n",
       "              1.0000           0.770507\n",
       "              10.0000          0.769122\n",
       "              100.0000         0.767271"
      ]
     },
     "execution_count": 47,
     "metadata": {},
     "output_type": "execute_result"
    }
   ],
   "source": [
    "logreg_results = pd.DataFrame(grid_logreg.cv_results_)[['param_penalty', 'param_C', 'mean_test_score']].groupby(['param_penalty', 'param_C']).mean()\n",
    "logreg_results"
   ]
  },
  {
   "cell_type": "code",
   "execution_count": 48,
   "metadata": {},
   "outputs": [
    {
     "name": "stdout",
     "output_type": "stream",
     "text": [
      "LogisticRegression cross val score (optimized): [0.84509804 0.69049774 0.77036341 0.83834586 0.72117794]\n",
      "The mean score: 0.773\n"
     ]
    }
   ],
   "source": [
    "logreg_optimized_score = cross_val_score(grid_logreg.best_estimator_, X, y, cv=5, scoring='roc_auc')\n",
    "print(\"LogisticRegression cross val score (optimized): {}\".format(logreg_optimized_score))\n",
    "print(\"The mean score: {:.3f}\".format(logreg_optimized_score.mean()))"
   ]
  },
  {
   "cell_type": "code",
   "execution_count": 49,
   "metadata": {},
   "outputs": [
    {
     "data": {
      "image/png": "[encoded data removed]",
      "text/plain": [
       "<Figure size 576x360 with 1 Axes>"
      ]
     },
     "metadata": {
      "needs_background": "light"
     },
     "output_type": "display_data"
    }
   ],
   "source": [
    "fig, ax = plt.subplots(1, 1, figsize=(8, 5))\n",
    "\n",
    "sns.barplot(data=logreg_results.reset_index(), x='param_C', y='mean_test_score', hue='param_penalty', ax=ax)\n",
    "ax.set_ylim(0, 1)\n",
    "fig.suptitle('AUC ROC score');"
   ]
  },
  {
   "cell_type": "markdown",
   "metadata": {},
   "source": [
    "By looking at the visualization, we know that higher value of C gives us better score and generally using l2 also gives us better score."
   ]
  },
  {
   "cell_type": "markdown",
   "metadata": {},
   "source": [
    "### LinearSVC"
   ]
  },
  {
   "cell_type": "markdown",
   "metadata": {},
   "source": [
    "In this subsection, we use SVC with kernel trick linear (not the same SVC with kernel trick linear). Note: we need to scale the data first to get better performance."
   ]
  },
  {
   "cell_type": "code",
   "execution_count": 50,
   "metadata": {},
   "outputs": [
    {
     "name": "stdout",
     "output_type": "stream",
     "text": [
      "LinearSVC cross val score (default & no scaling): [0.74705882 0.52337858 0.61591479 0.66917293 0.60056391]\n",
      "The mean score: 0.631\n"
     ]
    }
   ],
   "source": [
    "linsvc_default_no_scaling_score = cross_val_score(LinearSVC(), X, y, cv=5, scoring='roc_auc')\n",
    "print(\"LinearSVC cross val score (default & no scaling): {}\".format(linsvc_default_no_scaling_score))\n",
    "print(\"The mean score: {:.3f}\".format(linsvc_default_no_scaling_score.mean()))"
   ]
  },
  {
   "cell_type": "markdown",
   "metadata": {},
   "source": [
    "With scaling"
   ]
  },
  {
   "cell_type": "code",
   "execution_count": 51,
   "metadata": {},
   "outputs": [],
   "source": [
    "pipe_linsvc = Pipeline([\n",
    "    ('scaler', StandardScaler()),\n",
    "    ('linsvc', LinearSVC())\n",
    "])"
   ]
  },
  {
   "cell_type": "code",
   "execution_count": 52,
   "metadata": {},
   "outputs": [
    {
     "name": "stdout",
     "output_type": "stream",
     "text": [
      "LinearSVC cross val score (default & scaled): [0.82880845 0.66757164 0.77036341 0.82926065 0.72525063]\n",
      "The mean score: 0.764\n"
     ]
    }
   ],
   "source": [
    "linsvc_default_score = cross_val_score(pipe_linsvc, X, y, cv=5, scoring='roc_auc')\n",
    "print(\"LinearSVC cross val score (default & scaled): {}\".format(linsvc_default_score))\n",
    "print(\"The mean score: {:.3f}\".format(linsvc_default_score.mean()))"
   ]
  },
  {
   "cell_type": "markdown",
   "metadata": {},
   "source": [
    "Good improvements. Now, let's find optimized model"
   ]
  },
  {
   "cell_type": "code",
   "execution_count": 53,
   "metadata": {},
   "outputs": [],
   "source": [
    "param_grid = {\n",
    "    'linsvc__C' : [0.0001, 0.001, 0.01, 0.1, 1, 10, 100]\n",
    "}\n",
    "grid_linsvc = GridSearchCV(pipe_linsvc, param_grid=param_grid, cv=5, scoring='roc_auc', n_jobs=-1).fit(X, y)"
   ]
  },
  {
   "cell_type": "code",
   "execution_count": 54,
   "metadata": {},
   "outputs": [
    {
     "data": {
      "text/plain": [
       "0.7706238971343196"
      ]
     },
     "execution_count": 54,
     "metadata": {},
     "output_type": "execute_result"
    }
   ],
   "source": [
    "grid_linsvc.best_score_"
   ]
  },
  {
   "cell_type": "code",
   "execution_count": 55,
   "metadata": {},
   "outputs": [
    {
     "data": {
      "text/plain": [
       "{'linsvc__C': 0.001}"
      ]
     },
     "execution_count": 55,
     "metadata": {},
     "output_type": "execute_result"
    }
   ],
   "source": [
    "grid_linsvc.best_params_"
   ]
  },
  {
   "cell_type": "code",
   "execution_count": 56,
   "metadata": {},
   "outputs": [
    {
     "data": {
      "text/html": [
       "<div>\n",
       "<style scoped>\n",
       "    .dataframe tbody tr th:only-of-type {\n",
       "        vertical-align: middle;\n",
       "    }\n",
       "\n",
       "    .dataframe tbody tr th {\n",
       "        vertical-align: top;\n",
       "    }\n",
       "\n",
       "    .dataframe thead th {\n",
       "        text-align: right;\n",
       "    }\n",
       "</style>\n",
       "<table border=\"1\" class=\"dataframe\">\n",
       "  <thead>\n",
       "    <tr style=\"text-align: right;\">\n",
       "      <th></th>\n",
       "      <th>mean_test_score</th>\n",
       "    </tr>\n",
       "    <tr>\n",
       "      <th>param_linsvc__C</th>\n",
       "      <th></th>\n",
       "    </tr>\n",
       "  </thead>\n",
       "  <tbody>\n",
       "    <tr>\n",
       "      <th>0.0001</th>\n",
       "      <td>0.768959</td>\n",
       "    </tr>\n",
       "    <tr>\n",
       "      <th>0.0010</th>\n",
       "      <td>0.770624</td>\n",
       "    </tr>\n",
       "    <tr>\n",
       "      <th>0.0100</th>\n",
       "      <td>0.766640</td>\n",
       "    </tr>\n",
       "    <tr>\n",
       "      <th>0.1000</th>\n",
       "      <td>0.762888</td>\n",
       "    </tr>\n",
       "    <tr>\n",
       "      <th>1.0000</th>\n",
       "      <td>0.766710</td>\n",
       "    </tr>\n",
       "    <tr>\n",
       "      <th>10.0000</th>\n",
       "      <td>0.756732</td>\n",
       "    </tr>\n",
       "    <tr>\n",
       "      <th>100.0000</th>\n",
       "      <td>0.693583</td>\n",
       "    </tr>\n",
       "  </tbody>\n",
       "</table>\n",
       "</div>"
      ],
      "text/plain": [
       "                 mean_test_score\n",
       "param_linsvc__C                 \n",
       "0.0001                  0.768959\n",
       "0.0010                  0.770624\n",
       "0.0100                  0.766640\n",
       "0.1000                  0.762888\n",
       "1.0000                  0.766710\n",
       "10.0000                 0.756732\n",
       "100.0000                0.693583"
      ]
     },
     "execution_count": 56,
     "metadata": {},
     "output_type": "execute_result"
    }
   ],
   "source": [
    "linsvc_results = pd.DataFrame(grid_linsvc.cv_results_)[['param_linsvc__C', 'mean_test_score']].groupby(['param_linsvc__C']).mean()\n",
    "linsvc_results"
   ]
  },
  {
   "cell_type": "code",
   "execution_count": 57,
   "metadata": {},
   "outputs": [
    {
     "name": "stdout",
     "output_type": "stream",
     "text": [
      "LinearSVC cross val score (optimized): [0.82639517 0.6974359  0.77631579 0.82706767 0.72619048]\n",
      "The mean score: 0.771\n"
     ]
    }
   ],
   "source": [
    "linsvc_optimized_score = cross_val_score(grid_linsvc.best_estimator_, X, y, cv=5, scoring='roc_auc')\n",
    "print(\"LinearSVC cross val score (optimized): {}\".format(linsvc_optimized_score))\n",
    "print(\"The mean score: {:.3f}\".format(linsvc_optimized_score.mean()))"
   ]
  },
  {
   "cell_type": "code",
   "execution_count": 58,
   "metadata": {},
   "outputs": [
    {
     "data": {
      "image/png": "[encoded data removed]",
      "text/plain": [
       "<Figure size 576x360 with 1 Axes>"
      ]
     },
     "metadata": {
      "needs_background": "light"
     },
     "output_type": "display_data"
    }
   ],
   "source": [
    "fig, ax = plt.subplots(1, 1, figsize=(8, 5))\n",
    "\n",
    "sns.barplot(data=linsvc_results.reset_index(), x='param_linsvc__C', y='mean_test_score', ax=ax)\n",
    "ax.set(title='C', ylim=(0, 1));"
   ]
  },
  {
   "cell_type": "markdown",
   "metadata": {},
   "source": [
    "In here we see that lower value of C gives us better performance."
   ]
  },
  {
   "cell_type": "markdown",
   "metadata": {},
   "source": [
    "### SVC"
   ]
  },
  {
   "cell_type": "markdown",
   "metadata": {},
   "source": [
    "Now, we use the more general form of linear svc, with kernel trick we can adjust as we like."
   ]
  },
  {
   "cell_type": "code",
   "execution_count": 59,
   "metadata": {},
   "outputs": [
    {
     "name": "stdout",
     "output_type": "stream",
     "text": [
      "SVC cross val score (default & no scaling): [0.49245852 0.54781297 0.44392231 0.55529449 0.53696742]\n",
      "The mean score: 0.515\n"
     ]
    }
   ],
   "source": [
    "svc_default_no_scaling_score = cross_val_score(SVC(), X, y, cv=5, scoring='roc_auc')\n",
    "print(\"SVC cross val score (default & no scaling): {}\".format(svc_default_no_scaling_score))\n",
    "print(\"The mean score: {:.3f}\".format(svc_default_no_scaling_score.mean()))"
   ]
  },
  {
   "cell_type": "markdown",
   "metadata": {},
   "source": [
    "With scaling"
   ]
  },
  {
   "cell_type": "code",
   "execution_count": 60,
   "metadata": {},
   "outputs": [],
   "source": [
    "pipe_linsvc = Pipeline([\n",
    "    ('scaler', StandardScaler()),\n",
    "    ('svc', SVC())\n",
    "])"
   ]
  },
  {
   "cell_type": "code",
   "execution_count": 61,
   "metadata": {},
   "outputs": [
    {
     "name": "stdout",
     "output_type": "stream",
     "text": [
      "SVC cross val score (default & scaled): [0.73378582 0.63589744 0.77725564 0.7966792  0.7127193 ]\n",
      "The mean score: 0.731\n"
     ]
    }
   ],
   "source": [
    "svc_default_score = cross_val_score(pipe_linsvc, X, y, cv=5, scoring='roc_auc')\n",
    "print(\"SVC cross val score (default & scaled): {}\".format(svc_default_score))\n",
    "print(\"The mean score: {:.3f}\".format(svc_default_score.mean()))"
   ]
  },
  {
   "cell_type": "markdown",
   "metadata": {},
   "source": [
    "Let's find the optimized model"
   ]
  },
  {
   "cell_type": "code",
   "execution_count": 62,
   "metadata": {},
   "outputs": [],
   "source": [
    "param_grid = [\n",
    "    {'svc__kernel' : ['poly'],\n",
    "     'svc__degree' : list(range(2, 6)),\n",
    "     'svc__C' : [0.0001, 0.001, 0.01, 0.1, 1, 10, 100]},\n",
    "    {'svc__kernel' : ['rbf'],\n",
    "     'svc__gamma' : [0.0001, 0.001, 0.01, 0.1, 1, 10, 100],\n",
    "     'svc__C' : [0.0001, 0.001, 0.01, 0.1, 1, 10, 100]}\n",
    "]\n",
    "\n",
    "grid_svc = GridSearchCV(pipe_linsvc, param_grid=param_grid, cv=5, scoring='roc_auc', n_jobs=-1).fit(X, y)"
   ]
  },
  {
   "cell_type": "code",
   "execution_count": 63,
   "metadata": {},
   "outputs": [
    {
     "data": {
      "text/plain": [
       "0.7675107660598428"
      ]
     },
     "execution_count": 63,
     "metadata": {},
     "output_type": "execute_result"
    }
   ],
   "source": [
    "grid_svc.best_score_"
   ]
  },
  {
   "cell_type": "code",
   "execution_count": 64,
   "metadata": {},
   "outputs": [
    {
     "data": {
      "text/plain": [
       "{'svc__C': 0.001, 'svc__gamma': 0.01, 'svc__kernel': 'rbf'}"
      ]
     },
     "execution_count": 64,
     "metadata": {},
     "output_type": "execute_result"
    }
   ],
   "source": [
    "grid_svc.best_params_"
   ]
  },
  {
   "cell_type": "code",
   "execution_count": 65,
   "metadata": {},
   "outputs": [
    {
     "name": "stdout",
     "output_type": "stream",
     "text": [
      "SVC cross val score (optimized): [0.76244344 0.6907994  0.77537594 0.83145363 0.77882206]\n",
      "The mean score: 0.768\n"
     ]
    }
   ],
   "source": [
    "svc_optimized_score = cross_val_score(grid_svc.best_estimator_, X, y, cv=5, scoring='roc_auc')\n",
    "print(\"SVC cross val score (optimized): {}\".format(svc_optimized_score))\n",
    "print(\"The mean score: {:.3f}\".format(svc_optimized_score.mean()))"
   ]
  },
  {
   "cell_type": "markdown",
   "metadata": {},
   "source": [
    "We get good score by using kernel rbf"
   ]
  },
  {
   "cell_type": "markdown",
   "metadata": {},
   "source": [
    "---"
   ]
  }
 ],
 "metadata": {
  "kernelspec": {
   "display_name": "Python 3",
   "language": "python",
   "name": "python3"
  },
  "language_info": {
   "codemirror_mode": {
    "name": "ipython",
    "version": 3
   },
   "file_extension": ".py",
   "mimetype": "text/x-python",
   "name": "python",
   "nbconvert_exporter": "python",
   "pygments_lexer": "ipython3",
   "version": "3.7.3"
  }
 },
 "nbformat": 4,
 "nbformat_minor": 2
}
