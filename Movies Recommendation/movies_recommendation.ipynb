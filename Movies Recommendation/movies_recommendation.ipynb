{
  "nbformat": 4,
  "nbformat_minor": 0,
  "metadata": {
    "colab": {
      "name": "movies_recommendation.ipynb",
      "provenance": [],
      "collapsed_sections": [],
      "authorship_tag": "ABX9TyN2VCSwxnTRFK/N4cUBMBsU",
      "include_colab_link": true
    },
    "kernelspec": {
      "name": "python3",
      "display_name": "Python 3"
    }
  },
  "cells": [
    {
      "cell_type": "markdown",
      "metadata": {
        "id": "view-in-github",
        "colab_type": "text"
      },
      "source": [
        "<a href=\"https://colab.research.google.com/github/agusrichard/data-science-projects/blob/master/Movies%20Recommendation/movies_recommendation.ipynb\" target=\"_parent\"><img src=\"https://colab.research.google.com/assets/colab-badge.svg\" alt=\"Open In Colab\"/></a>"
      ]
    },
    {
      "cell_type": "markdown",
      "metadata": {
        "id": "Vln2uGgjiW1V",
        "colab_type": "text"
      },
      "source": [
        "# Movies Recommendation"
      ]
    },
    {
      "cell_type": "markdown",
      "metadata": {
        "id": "vL457LRBicw2",
        "colab_type": "text"
      },
      "source": [
        "__Import Libraries__"
      ]
    },
    {
      "cell_type": "code",
      "metadata": {
        "id": "AwI__urCijR4",
        "colab_type": "code",
        "colab": {
          "base_uri": "https://localhost:8080/",
          "height": 71
        },
        "outputId": "668600f0-376d-4996-fda0-3ed548694364"
      },
      "source": [
        "# Essentials\n",
        "import numpy as np\n",
        "import pandas as pd\n",
        "import matplotlib.pyplot as plt\n",
        "import seaborn as sns\n",
        "from itertools import product\n",
        "plt.style.use('ggplot')\n",
        "sns.set_palette('colorblind')\n",
        "\n",
        "# Language Related\n",
        "import nltk\n",
        "from nltk.tokenize import word_tokenize, sent_tokenize\n",
        "\n",
        "# Machine Learning\n",
        "from sklearn.model_selection import train_test_split\n",
        "from sklearn.feature_extraction.text import CountVectorizer, TfidfVectorizer\n",
        "from sklearn.metrics.pairwise import cosine_similarity"
      ],
      "execution_count": 1,
      "outputs": [
        {
          "output_type": "stream",
          "text": [
            "/usr/local/lib/python3.6/dist-packages/statsmodels/tools/_testing.py:19: FutureWarning: pandas.util.testing is deprecated. Use the functions in the public API at pandas.testing instead.\n",
            "  import pandas.util.testing as tm\n"
          ],
          "name": "stderr"
        }
      ]
    },
    {
      "cell_type": "markdown",
      "metadata": {
        "id": "R-FaLhsmaYbe",
        "colab_type": "text"
      },
      "source": [
        "__Manual NLTK Downloads__"
      ]
    },
    {
      "cell_type": "code",
      "metadata": {
        "id": "cjD_zwFCabaX",
        "colab_type": "code",
        "colab": {
          "base_uri": "https://localhost:8080/",
          "height": 68
        },
        "outputId": "09265465-7803-4989-8512-443b57863304"
      },
      "source": [
        "nltk.download('punkt')"
      ],
      "execution_count": 2,
      "outputs": [
        {
          "output_type": "stream",
          "text": [
            "[nltk_data] Downloading package punkt to /root/nltk_data...\n",
            "[nltk_data]   Unzipping tokenizers/punkt.zip.\n"
          ],
          "name": "stdout"
        },
        {
          "output_type": "execute_result",
          "data": {
            "text/plain": [
              "True"
            ]
          },
          "metadata": {
            "tags": []
          },
          "execution_count": 2
        }
      ]
    },
    {
      "cell_type": "markdown",
      "metadata": {
        "id": "HsYuwDOAi1pL",
        "colab_type": "text"
      },
      "source": [
        "__Load Data__"
      ]
    },
    {
      "cell_type": "code",
      "metadata": {
        "id": "je52McWfQ3nz",
        "colab_type": "code",
        "colab": {
          "base_uri": "https://localhost:8080/",
          "height": 204
        },
        "outputId": "c05ada45-554e-4bc6-f6b3-d55dc966d656"
      },
      "source": [
        "!wget https://assets.datacamp.com/production/repositories/4375/datasets/83f27c4ad045c098d3db5596154316e4ee0a28a8/movie_overviews.csv"
      ],
      "execution_count": 3,
      "outputs": [
        {
          "output_type": "stream",
          "text": [
            "--2020-07-15 16:56:46--  https://assets.datacamp.com/production/repositories/4375/datasets/83f27c4ad045c098d3db5596154316e4ee0a28a8/movie_overviews.csv\n",
            "Resolving assets.datacamp.com (assets.datacamp.com)... 13.226.45.22, 13.226.45.82, 13.226.45.40, ...\n",
            "Connecting to assets.datacamp.com (assets.datacamp.com)|13.226.45.22|:443... connected.\n",
            "HTTP request sent, awaiting response... 200 OK\n",
            "Length: 3384348 (3.2M) [text/csv]\n",
            "Saving to: ‘movie_overviews.csv’\n",
            "\n",
            "\rmovie_overviews.csv   0%[                    ]       0  --.-KB/s               \rmovie_overviews.csv 100%[===================>]   3.23M  18.0MB/s    in 0.2s    \n",
            "\n",
            "2020-07-15 16:56:46 (18.0 MB/s) - ‘movie_overviews.csv’ saved [3384348/3384348]\n",
            "\n"
          ],
          "name": "stdout"
        }
      ]
    },
    {
      "cell_type": "markdown",
      "metadata": {
        "id": "g4KCLtKnTOOs",
        "colab_type": "text"
      },
      "source": [
        "__Helper Functions__"
      ]
    },
    {
      "cell_type": "code",
      "metadata": {
        "id": "-M1CbkiqTQdc",
        "colab_type": "code",
        "colab": {}
      },
      "source": [
        "def my_cosine_similarity(X, use_denominator=False):\n",
        "    \"\"\"\n",
        "    Calculate cosine similarity between vector x and y\n",
        "    \"\"\"\n",
        "    if use_denominator:\n",
        "        size = X.shape[0]\n",
        "        result = np.empty(shape=(size, size))\n",
        "        i = 0\n",
        "        for x, y in product(range(size), range(size)):\n",
        "            if x > i:\n",
        "                print(\"\\rProcess {:.2f}%\".format((i / size) * 100), end='')\n",
        "                i += 1\n",
        "            if x == y:\n",
        "                result[x, y] = 1\n",
        "            elif x > y:\n",
        "                result[x, y] = result[y, x]\n",
        "            else:\n",
        "                denominator = (np.linalg.norm(X[x].toarray()) * np.linalg.norm(X[y].toarray()))\n",
        "                if denominator == 0:\n",
        "                    result[x, y] = 0\n",
        "                else:\n",
        "                    result[x, y] = np.dot(X[x], X[y].T).toarray().item() / denominator\n",
        "        print(\"\\rProcess {:.2f}%\".format(100), end='')\n",
        "        return result\n",
        "    else:\n",
        "        return np.dot(X, X.T)\n",
        "\n",
        "def get_recommendations(title, similarity_matrix, indices, n_recoms=10):\n",
        "    \"\"\"\n",
        "    Recommendations engine\n",
        "    \"\"\"\n",
        "    title_index = indices[title]\n",
        "    inds = np.flip(similarity_matrix[title_index].argsort()[-n_recoms:-1])\n",
        "    return list(indices.iloc[inds].index)"
      ],
      "execution_count": 4,
      "outputs": []
    },
    {
      "cell_type": "markdown",
      "metadata": {
        "id": "lfiVU6m7UdDl",
        "colab_type": "text"
      },
      "source": [
        "__Read CSV File__"
      ]
    },
    {
      "cell_type": "code",
      "metadata": {
        "id": "lRBo-qqEQ5y6",
        "colab_type": "code",
        "colab": {
          "base_uri": "https://localhost:8080/",
          "height": 204
        },
        "outputId": "b0998f7c-b6a3-4f45-9c78-2475e65ee560"
      },
      "source": [
        "df = pd.read_csv('movie_overviews.csv')\n",
        "df.head()"
      ],
      "execution_count": 5,
      "outputs": [
        {
          "output_type": "execute_result",
          "data": {
            "text/html": [
              "<div>\n",
              "<style scoped>\n",
              "    .dataframe tbody tr th:only-of-type {\n",
              "        vertical-align: middle;\n",
              "    }\n",
              "\n",
              "    .dataframe tbody tr th {\n",
              "        vertical-align: top;\n",
              "    }\n",
              "\n",
              "    .dataframe thead th {\n",
              "        text-align: right;\n",
              "    }\n",
              "</style>\n",
              "<table border=\"1\" class=\"dataframe\">\n",
              "  <thead>\n",
              "    <tr style=\"text-align: right;\">\n",
              "      <th></th>\n",
              "      <th>id</th>\n",
              "      <th>title</th>\n",
              "      <th>overview</th>\n",
              "      <th>tagline</th>\n",
              "    </tr>\n",
              "  </thead>\n",
              "  <tbody>\n",
              "    <tr>\n",
              "      <th>0</th>\n",
              "      <td>862</td>\n",
              "      <td>Toy Story</td>\n",
              "      <td>Led by Woody, Andy's toys live happily in his ...</td>\n",
              "      <td>NaN</td>\n",
              "    </tr>\n",
              "    <tr>\n",
              "      <th>1</th>\n",
              "      <td>8844</td>\n",
              "      <td>Jumanji</td>\n",
              "      <td>When siblings Judy and Peter discover an encha...</td>\n",
              "      <td>Roll the dice and unleash the excitement!</td>\n",
              "    </tr>\n",
              "    <tr>\n",
              "      <th>2</th>\n",
              "      <td>15602</td>\n",
              "      <td>Grumpier Old Men</td>\n",
              "      <td>A family wedding reignites the ancient feud be...</td>\n",
              "      <td>Still Yelling. Still Fighting. Still Ready for...</td>\n",
              "    </tr>\n",
              "    <tr>\n",
              "      <th>3</th>\n",
              "      <td>31357</td>\n",
              "      <td>Waiting to Exhale</td>\n",
              "      <td>Cheated on, mistreated and stepped on, the wom...</td>\n",
              "      <td>Friends are the people who let you be yourself...</td>\n",
              "    </tr>\n",
              "    <tr>\n",
              "      <th>4</th>\n",
              "      <td>11862</td>\n",
              "      <td>Father of the Bride Part II</td>\n",
              "      <td>Just when George Banks has recovered from his ...</td>\n",
              "      <td>Just When His World Is Back To Normal... He's ...</td>\n",
              "    </tr>\n",
              "  </tbody>\n",
              "</table>\n",
              "</div>"
            ],
            "text/plain": [
              "      id  ...                                            tagline\n",
              "0    862  ...                                                NaN\n",
              "1   8844  ...          Roll the dice and unleash the excitement!\n",
              "2  15602  ...  Still Yelling. Still Fighting. Still Ready for...\n",
              "3  31357  ...  Friends are the people who let you be yourself...\n",
              "4  11862  ...  Just When His World Is Back To Normal... He's ...\n",
              "\n",
              "[5 rows x 4 columns]"
            ]
          },
          "metadata": {
            "tags": []
          },
          "execution_count": 5
        }
      ]
    },
    {
      "cell_type": "markdown",
      "metadata": {
        "id": "3Bod6KnKS97Y",
        "colab_type": "text"
      },
      "source": [
        "---"
      ]
    },
    {
      "cell_type": "markdown",
      "metadata": {
        "id": "zyGUHpuNS-cT",
        "colab_type": "text"
      },
      "source": [
        "## Preliminary Step"
      ]
    },
    {
      "cell_type": "markdown",
      "metadata": {
        "id": "bgBXHtIQW3EV",
        "colab_type": "text"
      },
      "source": [
        "How many data points we have in this dataset?"
      ]
    },
    {
      "cell_type": "code",
      "metadata": {
        "id": "MAph5EpuW6cm",
        "colab_type": "code",
        "colab": {
          "base_uri": "https://localhost:8080/",
          "height": 34
        },
        "outputId": "b3273200-1868-4e56-ac73-b2e12440c758"
      },
      "source": [
        "print('The number of data points: ', len(df))"
      ],
      "execution_count": 6,
      "outputs": [
        {
          "output_type": "stream",
          "text": [
            "The number of data points:  9099\n"
          ],
          "name": "stdout"
        }
      ]
    },
    {
      "cell_type": "code",
      "metadata": {
        "id": "nTUId_UoXRNc",
        "colab_type": "code",
        "colab": {
          "base_uri": "https://localhost:8080/",
          "height": 102
        },
        "outputId": "655ccba3-a5cb-4992-ac47-a35a1d95af7d"
      },
      "source": [
        "df.dtypes"
      ],
      "execution_count": 7,
      "outputs": [
        {
          "output_type": "execute_result",
          "data": {
            "text/plain": [
              "id           int64\n",
              "title       object\n",
              "overview    object\n",
              "tagline     object\n",
              "dtype: object"
            ]
          },
          "metadata": {
            "tags": []
          },
          "execution_count": 7
        }
      ]
    },
    {
      "cell_type": "code",
      "metadata": {
        "id": "5KIf3Ar4S_pu",
        "colab_type": "code",
        "colab": {
          "base_uri": "https://localhost:8080/",
          "height": 102
        },
        "outputId": "f434764d-98ad-429b-a5de-1c75f1629eac"
      },
      "source": [
        "# Check for any missing values\n",
        "df.isnull().sum()"
      ],
      "execution_count": 8,
      "outputs": [
        {
          "output_type": "execute_result",
          "data": {
            "text/plain": [
              "id             0\n",
              "title          0\n",
              "overview      12\n",
              "tagline     2066\n",
              "dtype: int64"
            ]
          },
          "metadata": {
            "tags": []
          },
          "execution_count": 8
        }
      ]
    },
    {
      "cell_type": "markdown",
      "metadata": {
        "id": "YR0ZMBwFUtFU",
        "colab_type": "text"
      },
      "source": [
        "So we have 12 missing values in column overview and 2066 missing values in column tagline. Since to make a recommendation we will use movie's overview, we will drop data points with missing values in column overview."
      ]
    },
    {
      "cell_type": "code",
      "metadata": {
        "id": "Rbdf0Qj-VDCJ",
        "colab_type": "code",
        "colab": {
          "base_uri": "https://localhost:8080/",
          "height": 102
        },
        "outputId": "07832244-de80-4bac-c2cd-d9088d5bdea0"
      },
      "source": [
        "# Drop data points with missing values in column overview\n",
        "df = df.dropna(axis=0, subset=['overview'])\n",
        "df.isnull().sum()"
      ],
      "execution_count": 9,
      "outputs": [
        {
          "output_type": "execute_result",
          "data": {
            "text/plain": [
              "id             0\n",
              "title          0\n",
              "overview       0\n",
              "tagline     2054\n",
              "dtype: int64"
            ]
          },
          "metadata": {
            "tags": []
          },
          "execution_count": 9
        }
      ]
    },
    {
      "cell_type": "markdown",
      "metadata": {
        "id": "FTmRPebkVKei",
        "colab_type": "text"
      },
      "source": [
        "Let's see how long each movie's overview is."
      ]
    },
    {
      "cell_type": "code",
      "metadata": {
        "id": "LGD8MpAkWjbv",
        "colab_type": "code",
        "colab": {
          "base_uri": "https://localhost:8080/",
          "height": 119
        },
        "outputId": "7973a08e-1e08-4806-d232-fb9a8484ed4d"
      },
      "source": [
        "df['chars_length'] = df['overview'].str.len()\n",
        "df['chars_length'].head()"
      ],
      "execution_count": 10,
      "outputs": [
        {
          "output_type": "execute_result",
          "data": {
            "text/plain": [
              "0    303\n",
              "1    395\n",
              "2    327\n",
              "3    270\n",
              "4    318\n",
              "Name: chars_length, dtype: int64"
            ]
          },
          "metadata": {
            "tags": []
          },
          "execution_count": 10
        }
      ]
    },
    {
      "cell_type": "code",
      "metadata": {
        "id": "X4aqiUUcWp74",
        "colab_type": "code",
        "colab": {
          "base_uri": "https://localhost:8080/",
          "height": 445
        },
        "outputId": "10de6ee1-a102-41bc-91ce-dcece35e6f93"
      },
      "source": [
        "# Plot it with histogram\n",
        "plt.figure(figsize=(10, 7))\n",
        "sns.distplot(df['chars_length'], bins=int(np.sqrt(len(df))))\n",
        "plt.xticks(np.arange(0, 1100, 100))\n",
        "plt.xlim(-50, 1050);"
      ],
      "execution_count": 11,
      "outputs": [
        {
          "output_type": "display_data",
          "data": {
            "image/png": "[encoded data removed]",
            "text/plain": [
              "<Figure size 720x504 with 1 Axes>"
            ]
          },
          "metadata": {
            "tags": [],
            "needs_background": "light"
          }
        }
      ]
    },
    {
      "cell_type": "markdown",
      "metadata": {
        "id": "FTl_IRXKWw9K",
        "colab_type": "text"
      },
      "source": [
        "Based on the graph above, the length of movie's overview mostly lie between 100 to 400 characters long, but some have 1000 characters long."
      ]
    },
    {
      "cell_type": "markdown",
      "metadata": {
        "id": "j3eTl3JdaMbP",
        "colab_type": "text"
      },
      "source": [
        "We have know about how many characters in each movie's overview. How about words length and sentence length? Let's explore more"
      ]
    },
    {
      "cell_type": "code",
      "metadata": {
        "id": "efmOlNoBcDBF",
        "colab_type": "code",
        "colab": {
          "base_uri": "https://localhost:8080/",
          "height": 119
        },
        "outputId": "0dc93e86-8fc3-4676-be30-eff22c77adb6"
      },
      "source": [
        "df['words_length'] = df['overview'].apply(lambda x: len(word_tokenize(x)))\n",
        "df['words_length'].head()"
      ],
      "execution_count": 12,
      "outputs": [
        {
          "output_type": "execute_result",
          "data": {
            "text/plain": [
              "0    59\n",
              "1    74\n",
              "2    63\n",
              "3    55\n",
              "4    69\n",
              "Name: words_length, dtype: int64"
            ]
          },
          "metadata": {
            "tags": []
          },
          "execution_count": 12
        }
      ]
    },
    {
      "cell_type": "code",
      "metadata": {
        "id": "fKSpAYaFcQyR",
        "colab_type": "code",
        "colab": {
          "base_uri": "https://localhost:8080/",
          "height": 445
        },
        "outputId": "e02297d3-66a5-46fb-89d4-9f8527c2da72"
      },
      "source": [
        "# Plot it with histogram\n",
        "plt.figure(figsize=(10, 7))\n",
        "sns.distplot(df['words_length'], bins=int(np.sqrt(len(df))))\n",
        "plt.xticks(np.arange(0, 210, 20))\n",
        "plt.xlim(-20, 220);"
      ],
      "execution_count": 13,
      "outputs": [
        {
          "output_type": "display_data",
          "data": {
            "image/png": "[encoded data removed]",
            "text/plain": [
              "<Figure size 720x504 with 1 Axes>"
            ]
          },
          "metadata": {
            "tags": [],
            "needs_background": "light"
          }
        }
      ]
    },
    {
      "cell_type": "markdown",
      "metadata": {
        "id": "zA4aaxlhd0-p",
        "colab_type": "text"
      },
      "source": [
        "The shape of the plot not so different from the distribution plot of characters length. This time, mostly our data have words length from 20 to 80 words long."
      ]
    },
    {
      "cell_type": "code",
      "metadata": {
        "id": "tnilimxuciRO",
        "colab_type": "code",
        "colab": {
          "base_uri": "https://localhost:8080/",
          "height": 119
        },
        "outputId": "4f0a7fba-9b45-420e-e9e8-7cedce696b8f"
      },
      "source": [
        "df['sentences_length'] = df['overview'].apply(lambda x: len(sent_tokenize(x)))\n",
        "df['sentences_length'].head()"
      ],
      "execution_count": 14,
      "outputs": [
        {
          "output_type": "execute_result",
          "data": {
            "text/plain": [
              "0    3\n",
              "1    2\n",
              "2    3\n",
              "3    2\n",
              "4    2\n",
              "Name: sentences_length, dtype: int64"
            ]
          },
          "metadata": {
            "tags": []
          },
          "execution_count": 14
        }
      ]
    },
    {
      "cell_type": "code",
      "metadata": {
        "id": "Q_Nsv4lCdULB",
        "colab_type": "code",
        "colab": {
          "base_uri": "https://localhost:8080/",
          "height": 449
        },
        "outputId": "2aa045a9-4a00-4ad2-aeb4-6ba3a1ab7d0e"
      },
      "source": [
        "# Plot it with histogram\n",
        "plt.figure(figsize=(10, 7))\n",
        "ax = sns.countplot(df['sentences_length'])\n",
        "\n",
        "for p in ax.patches:\n",
        "    txt = str(p.get_height().round(2))\n",
        "    txt_x = p.get_x() + 0.1\n",
        "    txt_y = p.get_height() + 50\n",
        "    ax.text(txt_x, txt_y, txt);"
      ],
      "execution_count": 15,
      "outputs": [
        {
          "output_type": "display_data",
          "data": {
            "image/png": "[encoded data removed]",
            "text/plain": [
              "<Figure size 720x504 with 1 Axes>"
            ]
          },
          "metadata": {
            "tags": [],
            "needs_background": "light"
          }
        }
      ]
    },
    {
      "cell_type": "markdown",
      "metadata": {
        "id": "IYG1p5Uwf2j2",
        "colab_type": "text"
      },
      "source": [
        "Mostly the movie's overview just contain one sentence. But, notice that we have one data point with senteces length equals to 0. Certainly we have get rid of this in droping missing values earlier right?"
      ]
    },
    {
      "cell_type": "code",
      "metadata": {
        "id": "zQxOiUICfkBI",
        "colab_type": "code",
        "colab": {
          "base_uri": "https://localhost:8080/",
          "height": 80
        },
        "outputId": "0ab401dd-fefe-4676-ff38-e1b5e316891b"
      },
      "source": [
        "df[df['sentences_length'] == 0]"
      ],
      "execution_count": 16,
      "outputs": [
        {
          "output_type": "execute_result",
          "data": {
            "text/html": [
              "<div>\n",
              "<style scoped>\n",
              "    .dataframe tbody tr th:only-of-type {\n",
              "        vertical-align: middle;\n",
              "    }\n",
              "\n",
              "    .dataframe tbody tr th {\n",
              "        vertical-align: top;\n",
              "    }\n",
              "\n",
              "    .dataframe thead th {\n",
              "        text-align: right;\n",
              "    }\n",
              "</style>\n",
              "<table border=\"1\" class=\"dataframe\">\n",
              "  <thead>\n",
              "    <tr style=\"text-align: right;\">\n",
              "      <th></th>\n",
              "      <th>id</th>\n",
              "      <th>title</th>\n",
              "      <th>overview</th>\n",
              "      <th>tagline</th>\n",
              "      <th>chars_length</th>\n",
              "      <th>words_length</th>\n",
              "      <th>sentences_length</th>\n",
              "    </tr>\n",
              "  </thead>\n",
              "  <tbody>\n",
              "    <tr>\n",
              "      <th>3657</th>\n",
              "      <td>49788</td>\n",
              "      <td>Slaves of New York</td>\n",
              "      <td></td>\n",
              "      <td>NaN</td>\n",
              "      <td>1</td>\n",
              "      <td>0</td>\n",
              "      <td>0</td>\n",
              "    </tr>\n",
              "  </tbody>\n",
              "</table>\n",
              "</div>"
            ],
            "text/plain": [
              "         id               title  ... words_length sentences_length\n",
              "3657  49788  Slaves of New York  ...            0                0\n",
              "\n",
              "[1 rows x 7 columns]"
            ]
          },
          "metadata": {
            "tags": []
          },
          "execution_count": 16
        }
      ]
    },
    {
      "cell_type": "code",
      "metadata": {
        "id": "HZ6uIwz_fvsh",
        "colab_type": "code",
        "colab": {
          "base_uri": "https://localhost:8080/",
          "height": 80
        },
        "outputId": "9633f37f-53e5-4eaa-96dd-3383b03f2473"
      },
      "source": [
        "df[df['words_length'] == 0]"
      ],
      "execution_count": 17,
      "outputs": [
        {
          "output_type": "execute_result",
          "data": {
            "text/html": [
              "<div>\n",
              "<style scoped>\n",
              "    .dataframe tbody tr th:only-of-type {\n",
              "        vertical-align: middle;\n",
              "    }\n",
              "\n",
              "    .dataframe tbody tr th {\n",
              "        vertical-align: top;\n",
              "    }\n",
              "\n",
              "    .dataframe thead th {\n",
              "        text-align: right;\n",
              "    }\n",
              "</style>\n",
              "<table border=\"1\" class=\"dataframe\">\n",
              "  <thead>\n",
              "    <tr style=\"text-align: right;\">\n",
              "      <th></th>\n",
              "      <th>id</th>\n",
              "      <th>title</th>\n",
              "      <th>overview</th>\n",
              "      <th>tagline</th>\n",
              "      <th>chars_length</th>\n",
              "      <th>words_length</th>\n",
              "      <th>sentences_length</th>\n",
              "    </tr>\n",
              "  </thead>\n",
              "  <tbody>\n",
              "    <tr>\n",
              "      <th>3657</th>\n",
              "      <td>49788</td>\n",
              "      <td>Slaves of New York</td>\n",
              "      <td></td>\n",
              "      <td>NaN</td>\n",
              "      <td>1</td>\n",
              "      <td>0</td>\n",
              "      <td>0</td>\n",
              "    </tr>\n",
              "  </tbody>\n",
              "</table>\n",
              "</div>"
            ],
            "text/plain": [
              "         id               title  ... words_length sentences_length\n",
              "3657  49788  Slaves of New York  ...            0                0\n",
              "\n",
              "[1 rows x 7 columns]"
            ]
          },
          "metadata": {
            "tags": []
          },
          "execution_count": 17
        }
      ]
    },
    {
      "cell_type": "code",
      "metadata": {
        "id": "IQ8Etgrtfz1-",
        "colab_type": "code",
        "colab": {
          "base_uri": "https://localhost:8080/",
          "height": 80
        },
        "outputId": "50ba318e-b040-4b1c-dae6-11f5f9ca8332"
      },
      "source": [
        "df[df['chars_length'] == 1]"
      ],
      "execution_count": 18,
      "outputs": [
        {
          "output_type": "execute_result",
          "data": {
            "text/html": [
              "<div>\n",
              "<style scoped>\n",
              "    .dataframe tbody tr th:only-of-type {\n",
              "        vertical-align: middle;\n",
              "    }\n",
              "\n",
              "    .dataframe tbody tr th {\n",
              "        vertical-align: top;\n",
              "    }\n",
              "\n",
              "    .dataframe thead th {\n",
              "        text-align: right;\n",
              "    }\n",
              "</style>\n",
              "<table border=\"1\" class=\"dataframe\">\n",
              "  <thead>\n",
              "    <tr style=\"text-align: right;\">\n",
              "      <th></th>\n",
              "      <th>id</th>\n",
              "      <th>title</th>\n",
              "      <th>overview</th>\n",
              "      <th>tagline</th>\n",
              "      <th>chars_length</th>\n",
              "      <th>words_length</th>\n",
              "      <th>sentences_length</th>\n",
              "    </tr>\n",
              "  </thead>\n",
              "  <tbody>\n",
              "    <tr>\n",
              "      <th>3657</th>\n",
              "      <td>49788</td>\n",
              "      <td>Slaves of New York</td>\n",
              "      <td></td>\n",
              "      <td>NaN</td>\n",
              "      <td>1</td>\n",
              "      <td>0</td>\n",
              "      <td>0</td>\n",
              "    </tr>\n",
              "  </tbody>\n",
              "</table>\n",
              "</div>"
            ],
            "text/plain": [
              "         id               title  ... words_length sentences_length\n",
              "3657  49788  Slaves of New York  ...            0                0\n",
              "\n",
              "[1 rows x 7 columns]"
            ]
          },
          "metadata": {
            "tags": []
          },
          "execution_count": 18
        }
      ]
    },
    {
      "cell_type": "markdown",
      "metadata": {
        "id": "yx75tsXSdbk8",
        "colab_type": "text"
      },
      "source": [
        "So problem is this data point contains only one white space and not coded as NaN in the first place. Then we have eliminate this data point."
      ]
    },
    {
      "cell_type": "code",
      "metadata": {
        "id": "5BdURV48g0xH",
        "colab_type": "code",
        "colab": {}
      },
      "source": [
        "df = df[~(df['words_length'] == 0)]"
      ],
      "execution_count": 19,
      "outputs": []
    },
    {
      "cell_type": "code",
      "metadata": {
        "id": "hI9LDHaDg7_X",
        "colab_type": "code",
        "colab": {
          "base_uri": "https://localhost:8080/",
          "height": 34
        },
        "outputId": "47a5260b-a1ad-4dc8-e19c-33e4c17f8c65"
      },
      "source": [
        "print('Current number of data points: ', len(df))"
      ],
      "execution_count": 20,
      "outputs": [
        {
          "output_type": "stream",
          "text": [
            "Current number of data points:  9086\n"
          ],
          "name": "stdout"
        }
      ]
    },
    {
      "cell_type": "code",
      "metadata": {
        "id": "sKPSW22GEg-8",
        "colab_type": "code",
        "colab": {}
      },
      "source": [
        "df.index = np.arange(0, df.shape[0])\n",
        "df = df.drop_duplicates(subset=['title'])"
      ],
      "execution_count": 21,
      "outputs": []
    },
    {
      "cell_type": "markdown",
      "metadata": {
        "id": "5kdGTNq5hA_p",
        "colab_type": "text"
      },
      "source": [
        "From 9099 data points at the begining, now we have eliminate 13 so we have 9086 data points now."
      ]
    },
    {
      "cell_type": "markdown",
      "metadata": {
        "id": "-BaE9BHeha0V",
        "colab_type": "text"
      },
      "source": [
        "## Build Movies Recommendation (1)"
      ]
    },
    {
      "cell_type": "markdown",
      "metadata": {
        "id": "EUzfIQVHukqA",
        "colab_type": "text"
      },
      "source": [
        "This is the first attemp of building Movies Recommendation, we take raw data without much preprocessing or validating. Just run bag of words method to turn text data into matrix format."
      ]
    },
    {
      "cell_type": "code",
      "metadata": {
        "id": "4N5rZ_p3heln",
        "colab_type": "code",
        "colab": {
          "base_uri": "https://localhost:8080/",
          "height": 51
        },
        "outputId": "877d7319-c098-4b34-909a-92f9e326b817"
      },
      "source": [
        "count_vectorizer = CountVectorizer(stop_words='english')\n",
        "tfidf_vectorizer = TfidfVectorizer(stop_words='english')\n",
        "X_count = count_vectorizer.fit_transform(df['overview'].values)\n",
        "X_tfidf = tfidf_vectorizer.fit_transform(df['overview'].values)\n",
        "titles = df['title']\n",
        "print('Count Vectorized shape: ', X_count.shape)\n",
        "print('Tfidf Vectorized shape: ', X_tfidf.shape)"
      ],
      "execution_count": 22,
      "outputs": [
        {
          "output_type": "stream",
          "text": [
            "Count Vectorized shape:  (8797, 29372)\n",
            "Tfidf Vectorized shape:  (8797, 29372)\n"
          ],
          "name": "stdout"
        }
      ]
    },
    {
      "cell_type": "markdown",
      "metadata": {
        "id": "VTcSS0IEugnb",
        "colab_type": "text"
      },
      "source": [
        "We have 29727 different words in our dataset, certainly a high dimensional dataset. Later we will see the difference we get if we do decrease the dimensionality."
      ]
    },
    {
      "cell_type": "code",
      "metadata": {
        "id": "-LS08C4WdGb5",
        "colab_type": "code",
        "colab": {}
      },
      "source": [
        "similarity_tfidf = cosine_similarity(X_tfidf)\n",
        "similarity_count = cosine_similarity(X_count)"
      ],
      "execution_count": 23,
      "outputs": []
    },
    {
      "cell_type": "markdown",
      "metadata": {
        "id": "B6twRgG5rawm",
        "colab_type": "text"
      },
      "source": [
        "We have the similarity matrices created by CountVectorizer and TfidfVectorizer. "
      ]
    },
    {
      "cell_type": "code",
      "metadata": {
        "id": "COgd-10psMuB",
        "colab_type": "code",
        "colab": {
          "base_uri": "https://localhost:8080/",
          "height": 187
        },
        "outputId": "663bc8e8-c53e-4477-b5e2-0125270067ae"
      },
      "source": [
        "# Get the 10 most similar vectors\n",
        "inds = similarity_tfidf[0].argsort()[-11:-1]\n",
        "# Reverse from ascending to descending\n",
        "inds = np.flip(inds)\n",
        "list(df.iloc[inds]['title'].values)"
      ],
      "execution_count": 24,
      "outputs": [
        {
          "output_type": "execute_result",
          "data": {
            "text/plain": [
              "['Toy Story 3',\n",
              " 'Toy Story 2',\n",
              " 'The 40 Year Old Virgin',\n",
              " 'Rebel Without a Cause',\n",
              " 'For Your Consideration',\n",
              " 'Man on the Moon',\n",
              " 'Malice',\n",
              " 'Condorman',\n",
              " 'Factory Girl',\n",
              " 'Rivers and Tides']"
            ]
          },
          "metadata": {
            "tags": []
          },
          "execution_count": 24
        }
      ]
    },
    {
      "cell_type": "markdown",
      "metadata": {
        "id": "M2KzbIDlsrlF",
        "colab_type": "text"
      },
      "source": [
        "On the example above, we put 0 as the index of Toy Story in similarity_tfidf matrix, and we get only 10 closest recommendations. Not so bad recommendations, is it? Now, to make things more easier, we create a corresponding function called get_recommendations. (Defined in helper function subsection)"
      ]
    },
    {
      "cell_type": "code",
      "metadata": {
        "id": "O5bqQ7v1uEMs",
        "colab_type": "code",
        "colab": {}
      },
      "source": [
        "indices = pd.Series(np.arange(0, df.shape[0]), index=df['title'])"
      ],
      "execution_count": 25,
      "outputs": []
    },
    {
      "cell_type": "code",
      "metadata": {
        "id": "I82uCv5Ct93k",
        "colab_type": "code",
        "colab": {
          "base_uri": "https://localhost:8080/",
          "height": 170
        },
        "outputId": "3e8942ea-7675-4527-f969-2c0e2f913d0f"
      },
      "source": [
        "get_recommendations('Batman', similarity_tfidf, indices)"
      ],
      "execution_count": 26,
      "outputs": [
        {
          "output_type": "execute_result",
          "data": {
            "text/plain": [
              "['The Dark Knight Rises',\n",
              " 'Batman: Under the Red Hood',\n",
              " 'Batman Begins',\n",
              " 'The Dark Knight',\n",
              " 'Batman: The Dark Knight Returns, Part 1',\n",
              " 'Batman Returns',\n",
              " 'Batman: Year One',\n",
              " 'Batman & Robin',\n",
              " 'Batman: Mask of the Phantasm']"
            ]
          },
          "metadata": {
            "tags": []
          },
          "execution_count": 26
        }
      ]
    },
    {
      "cell_type": "markdown",
      "metadata": {
        "id": "gDFv5qdGuOf6",
        "colab_type": "text"
      },
      "source": [
        "This is the recommendations we get if we want movies just like Batman."
      ]
    },
    {
      "cell_type": "markdown",
      "metadata": {
        "id": "TBI8UzMUZ5Ja",
        "colab_type": "text"
      },
      "source": [
        "## Movie Recommendation Using Movie's Plot"
      ]
    },
    {
      "cell_type": "code",
      "metadata": {
        "id": "DIgG9tb_Z8b6",
        "colab_type": "code",
        "colab": {}
      },
      "source": [
        ""
      ],
      "execution_count": 26,
      "outputs": []
    }
  ]
}