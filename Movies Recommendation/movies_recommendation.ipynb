{
  "nbformat": 4,
  "nbformat_minor": 0,
  "metadata": {
    "colab": {
      "name": "movies_recommendation.ipynb",
      "provenance": [],
      "collapsed_sections": [],
      "authorship_tag": "ABX9TyOSsUPOofLRb8CTKfwBTLl9",
      "include_colab_link": true
    },
    "kernelspec": {
      "name": "python3",
      "display_name": "Python 3"
    }
  },
  "cells": [
    {
      "cell_type": "markdown",
      "metadata": {
        "id": "view-in-github",
        "colab_type": "text"
      },
      "source": [
        "<a href=\"https://colab.research.google.com/github/agusrichard/data-science-projects/blob/master/Movies%20Recommendation/movies_recommendation.ipynb\" target=\"_parent\"><img src=\"https://colab.research.google.com/assets/colab-badge.svg\" alt=\"Open In Colab\"/></a>"
      ]
    },
    {
      "cell_type": "markdown",
      "metadata": {
        "id": "Vln2uGgjiW1V",
        "colab_type": "text"
      },
      "source": [
        "# Movies Recommendation"
      ]
    },
    {
      "cell_type": "markdown",
      "metadata": {
        "id": "vL457LRBicw2",
        "colab_type": "text"
      },
      "source": [
        "__Import Libraries__"
      ]
    },
    {
      "cell_type": "code",
      "metadata": {
        "id": "AwI__urCijR4",
        "colab_type": "code",
        "colab": {}
      },
      "source": [
        "# Essentials\n",
        "import numpy as np\n",
        "import pandas as pd\n",
        "import matplotlib.pyplot as plt\n",
        "import seaborn as sns\n",
        "plt.style.use('ggplot')\n",
        "sns.set_palette('colorblind')\n",
        "\n",
        "# Language Related\n",
        "import nltk\n",
        "from nltk.tokenize import word_tokenize, sent_tokenize\n",
        "\n",
        "# Machine Learning\n",
        "from sklearn.model_selection import train_test_split\n",
        "from sklearn.feature_extraction.text import CountVectorizer, TfidfVectorizer"
      ],
      "execution_count": 46,
      "outputs": []
    },
    {
      "cell_type": "markdown",
      "metadata": {
        "id": "R-FaLhsmaYbe",
        "colab_type": "text"
      },
      "source": [
        "__Manual NLTK Downloads__"
      ]
    },
    {
      "cell_type": "code",
      "metadata": {
        "id": "cjD_zwFCabaX",
        "colab_type": "code",
        "colab": {
          "base_uri": "https://localhost:8080/",
          "height": 68
        },
        "outputId": "9563c862-bd32-48c5-bd8a-0653673f742d"
      },
      "source": [
        "nltk.download('punkt')"
      ],
      "execution_count": 14,
      "outputs": [
        {
          "output_type": "stream",
          "text": [
            "[nltk_data] Downloading package punkt to /root/nltk_data...\n",
            "[nltk_data]   Unzipping tokenizers/punkt.zip.\n"
          ],
          "name": "stdout"
        },
        {
          "output_type": "execute_result",
          "data": {
            "text/plain": [
              "True"
            ]
          },
          "metadata": {
            "tags": []
          },
          "execution_count": 14
        }
      ]
    },
    {
      "cell_type": "markdown",
      "metadata": {
        "id": "HsYuwDOAi1pL",
        "colab_type": "text"
      },
      "source": [
        "__Load Data__"
      ]
    },
    {
      "cell_type": "code",
      "metadata": {
        "id": "je52McWfQ3nz",
        "colab_type": "code",
        "colab": {
          "base_uri": "https://localhost:8080/",
          "height": 204
        },
        "outputId": "96d782c4-bed8-4e12-d698-9528e8279e71"
      },
      "source": [
        "!wget https://assets.datacamp.com/production/repositories/4375/datasets/83f27c4ad045c098d3db5596154316e4ee0a28a8/movie_overviews.csv"
      ],
      "execution_count": 3,
      "outputs": [
        {
          "output_type": "stream",
          "text": [
            "--2020-06-29 18:56:28--  https://assets.datacamp.com/production/repositories/4375/datasets/83f27c4ad045c098d3db5596154316e4ee0a28a8/movie_overviews.csv\n",
            "Resolving assets.datacamp.com (assets.datacamp.com)... 13.35.34.64, 13.35.34.124, 13.35.34.13, ...\n",
            "Connecting to assets.datacamp.com (assets.datacamp.com)|13.35.34.64|:443... connected.\n",
            "HTTP request sent, awaiting response... 200 OK\n",
            "Length: 3384348 (3.2M) [text/csv]\n",
            "Saving to: ‘movie_overviews.csv.3’\n",
            "\n",
            "\rmovie_overviews.csv   0%[                    ]       0  --.-KB/s               \rmovie_overviews.csv 100%[===================>]   3.23M  --.-KB/s    in 0.03s   \n",
            "\n",
            "2020-06-29 18:56:28 (106 MB/s) - ‘movie_overviews.csv.3’ saved [3384348/3384348]\n",
            "\n"
          ],
          "name": "stdout"
        }
      ]
    },
    {
      "cell_type": "markdown",
      "metadata": {
        "id": "g4KCLtKnTOOs",
        "colab_type": "text"
      },
      "source": [
        "__Helper Functions__"
      ]
    },
    {
      "cell_type": "code",
      "metadata": {
        "id": "-M1CbkiqTQdc",
        "colab_type": "code",
        "colab": {}
      },
      "source": [
        "def cosine_similarity(x, y, use_denominator=False):\n",
        "    \"\"\"\n",
        "    Calculate cosine similarity between vector x and y\n",
        "    \"\"\"\n",
        "    dot_prod = np.dot(x, y)\n",
        "    if use_denominator:\n",
        "        return dot_prod / (np.linalg.norm(x) * np.linalg.norm(y))\n",
        "    else:\n",
        "        return dot_prod"
      ],
      "execution_count": 4,
      "outputs": []
    },
    {
      "cell_type": "markdown",
      "metadata": {
        "id": "lfiVU6m7UdDl",
        "colab_type": "text"
      },
      "source": [
        "__Read CSV File__"
      ]
    },
    {
      "cell_type": "code",
      "metadata": {
        "id": "lRBo-qqEQ5y6",
        "colab_type": "code",
        "colab": {
          "base_uri": "https://localhost:8080/",
          "height": 204
        },
        "outputId": "e0ac865e-09b4-421b-8c2b-6bcce6db7b0d"
      },
      "source": [
        "df = pd.read_csv('movie_overviews.csv')\n",
        "df.head()"
      ],
      "execution_count": 5,
      "outputs": [
        {
          "output_type": "execute_result",
          "data": {
            "text/html": [
              "<div>\n",
              "<style scoped>\n",
              "    .dataframe tbody tr th:only-of-type {\n",
              "        vertical-align: middle;\n",
              "    }\n",
              "\n",
              "    .dataframe tbody tr th {\n",
              "        vertical-align: top;\n",
              "    }\n",
              "\n",
              "    .dataframe thead th {\n",
              "        text-align: right;\n",
              "    }\n",
              "</style>\n",
              "<table border=\"1\" class=\"dataframe\">\n",
              "  <thead>\n",
              "    <tr style=\"text-align: right;\">\n",
              "      <th></th>\n",
              "      <th>id</th>\n",
              "      <th>title</th>\n",
              "      <th>overview</th>\n",
              "      <th>tagline</th>\n",
              "    </tr>\n",
              "  </thead>\n",
              "  <tbody>\n",
              "    <tr>\n",
              "      <th>0</th>\n",
              "      <td>862</td>\n",
              "      <td>Toy Story</td>\n",
              "      <td>Led by Woody, Andy's toys live happily in his ...</td>\n",
              "      <td>NaN</td>\n",
              "    </tr>\n",
              "    <tr>\n",
              "      <th>1</th>\n",
              "      <td>8844</td>\n",
              "      <td>Jumanji</td>\n",
              "      <td>When siblings Judy and Peter discover an encha...</td>\n",
              "      <td>Roll the dice and unleash the excitement!</td>\n",
              "    </tr>\n",
              "    <tr>\n",
              "      <th>2</th>\n",
              "      <td>15602</td>\n",
              "      <td>Grumpier Old Men</td>\n",
              "      <td>A family wedding reignites the ancient feud be...</td>\n",
              "      <td>Still Yelling. Still Fighting. Still Ready for...</td>\n",
              "    </tr>\n",
              "    <tr>\n",
              "      <th>3</th>\n",
              "      <td>31357</td>\n",
              "      <td>Waiting to Exhale</td>\n",
              "      <td>Cheated on, mistreated and stepped on, the wom...</td>\n",
              "      <td>Friends are the people who let you be yourself...</td>\n",
              "    </tr>\n",
              "    <tr>\n",
              "      <th>4</th>\n",
              "      <td>11862</td>\n",
              "      <td>Father of the Bride Part II</td>\n",
              "      <td>Just when George Banks has recovered from his ...</td>\n",
              "      <td>Just When His World Is Back To Normal... He's ...</td>\n",
              "    </tr>\n",
              "  </tbody>\n",
              "</table>\n",
              "</div>"
            ],
            "text/plain": [
              "      id  ...                                            tagline\n",
              "0    862  ...                                                NaN\n",
              "1   8844  ...          Roll the dice and unleash the excitement!\n",
              "2  15602  ...  Still Yelling. Still Fighting. Still Ready for...\n",
              "3  31357  ...  Friends are the people who let you be yourself...\n",
              "4  11862  ...  Just When His World Is Back To Normal... He's ...\n",
              "\n",
              "[5 rows x 4 columns]"
            ]
          },
          "metadata": {
            "tags": []
          },
          "execution_count": 5
        }
      ]
    },
    {
      "cell_type": "markdown",
      "metadata": {
        "id": "3Bod6KnKS97Y",
        "colab_type": "text"
      },
      "source": [
        "---"
      ]
    },
    {
      "cell_type": "markdown",
      "metadata": {
        "id": "zyGUHpuNS-cT",
        "colab_type": "text"
      },
      "source": [
        "## Preliminary Step"
      ]
    },
    {
      "cell_type": "markdown",
      "metadata": {
        "id": "bgBXHtIQW3EV",
        "colab_type": "text"
      },
      "source": [
        "How many data points we have in this dataset?"
      ]
    },
    {
      "cell_type": "code",
      "metadata": {
        "id": "MAph5EpuW6cm",
        "colab_type": "code",
        "colab": {
          "base_uri": "https://localhost:8080/",
          "height": 34
        },
        "outputId": "6ac28269-1a02-4fb6-f331-1725922373cb"
      },
      "source": [
        "print('The number of data points: ', len(df))"
      ],
      "execution_count": 6,
      "outputs": [
        {
          "output_type": "stream",
          "text": [
            "The number of data points:  9099\n"
          ],
          "name": "stdout"
        }
      ]
    },
    {
      "cell_type": "code",
      "metadata": {
        "id": "nTUId_UoXRNc",
        "colab_type": "code",
        "colab": {
          "base_uri": "https://localhost:8080/",
          "height": 102
        },
        "outputId": "eb49c3ea-c5c2-497d-ab73-92e912edf0af"
      },
      "source": [
        "df.dtypes"
      ],
      "execution_count": 7,
      "outputs": [
        {
          "output_type": "execute_result",
          "data": {
            "text/plain": [
              "id           int64\n",
              "title       object\n",
              "overview    object\n",
              "tagline     object\n",
              "dtype: object"
            ]
          },
          "metadata": {
            "tags": []
          },
          "execution_count": 7
        }
      ]
    },
    {
      "cell_type": "code",
      "metadata": {
        "id": "5KIf3Ar4S_pu",
        "colab_type": "code",
        "colab": {
          "base_uri": "https://localhost:8080/",
          "height": 102
        },
        "outputId": "f8c298b0-a916-44dd-8418-f366bbb7552d"
      },
      "source": [
        "# Check for any missing values\n",
        "df.isnull().sum()"
      ],
      "execution_count": 8,
      "outputs": [
        {
          "output_type": "execute_result",
          "data": {
            "text/plain": [
              "id             0\n",
              "title          0\n",
              "overview      12\n",
              "tagline     2066\n",
              "dtype: int64"
            ]
          },
          "metadata": {
            "tags": []
          },
          "execution_count": 8
        }
      ]
    },
    {
      "cell_type": "markdown",
      "metadata": {
        "id": "YR0ZMBwFUtFU",
        "colab_type": "text"
      },
      "source": [
        "So we have 12 missing values in column overview and 2066 missing values in column tagline. Since to make a recommendation we will use movie's overview, we will drop data points with missing values in column overview."
      ]
    },
    {
      "cell_type": "code",
      "metadata": {
        "id": "Rbdf0Qj-VDCJ",
        "colab_type": "code",
        "colab": {
          "base_uri": "https://localhost:8080/",
          "height": 102
        },
        "outputId": "25cb7e78-3134-484c-b05c-91d008bd6115"
      },
      "source": [
        "# Drop data points with missing values in column overview\n",
        "df = df.dropna(axis=0, subset=['overview'])\n",
        "df.isnull().sum()"
      ],
      "execution_count": 9,
      "outputs": [
        {
          "output_type": "execute_result",
          "data": {
            "text/plain": [
              "id             0\n",
              "title          0\n",
              "overview       0\n",
              "tagline     2054\n",
              "dtype: int64"
            ]
          },
          "metadata": {
            "tags": []
          },
          "execution_count": 9
        }
      ]
    },
    {
      "cell_type": "markdown",
      "metadata": {
        "id": "FTmRPebkVKei",
        "colab_type": "text"
      },
      "source": [
        "Let's see how long each movie's overview is."
      ]
    },
    {
      "cell_type": "code",
      "metadata": {
        "id": "LGD8MpAkWjbv",
        "colab_type": "code",
        "colab": {
          "base_uri": "https://localhost:8080/",
          "height": 119
        },
        "outputId": "2b3ba2e8-46a7-4b91-8909-7ef26108f1ef"
      },
      "source": [
        "df['chars_length'] = df['overview'].str.len()\n",
        "df['chars_length'].head()"
      ],
      "execution_count": 10,
      "outputs": [
        {
          "output_type": "execute_result",
          "data": {
            "text/plain": [
              "0    303\n",
              "1    395\n",
              "2    327\n",
              "3    270\n",
              "4    318\n",
              "Name: chars_length, dtype: int64"
            ]
          },
          "metadata": {
            "tags": []
          },
          "execution_count": 10
        }
      ]
    },
    {
      "cell_type": "code",
      "metadata": {
        "id": "X4aqiUUcWp74",
        "colab_type": "code",
        "colab": {
          "base_uri": "https://localhost:8080/",
          "height": 445
        },
        "outputId": "1f047739-9486-4e5c-e1df-dd0bd77d5f2e"
      },
      "source": [
        "# Plot it with histogram\n",
        "plt.figure(figsize=(10, 7))\n",
        "sns.distplot(df['chars_length'], bins=int(np.sqrt(len(df))))\n",
        "plt.xticks(np.arange(0, 1100, 100))\n",
        "plt.xlim(-50, 1050);"
      ],
      "execution_count": 19,
      "outputs": [
        {
          "output_type": "display_data",
          "data": {
            "image/png": "[encoded data removed]",
            "text/plain": [
              "<Figure size 720x504 with 1 Axes>"
            ]
          },
          "metadata": {
            "tags": [],
            "needs_background": "light"
          }
        }
      ]
    },
    {
      "cell_type": "markdown",
      "metadata": {
        "id": "FTl_IRXKWw9K",
        "colab_type": "text"
      },
      "source": [
        "Based on the graph above, the length of movie's overview mostly lie between 100 to 400 characters long, but some have 1000 characters long."
      ]
    },
    {
      "cell_type": "markdown",
      "metadata": {
        "id": "j3eTl3JdaMbP",
        "colab_type": "text"
      },
      "source": [
        "We have know about how many characters in each movie's overview. How about words length and sentence length? Let's explore more"
      ]
    },
    {
      "cell_type": "code",
      "metadata": {
        "id": "efmOlNoBcDBF",
        "colab_type": "code",
        "colab": {
          "base_uri": "https://localhost:8080/",
          "height": 119
        },
        "outputId": "f66d77ec-2dd6-442e-eeb3-4abc68034907"
      },
      "source": [
        "df['words_length'] = df['overview'].apply(lambda x: len(word_tokenize(x)))\n",
        "df['words_length'].head()"
      ],
      "execution_count": 15,
      "outputs": [
        {
          "output_type": "execute_result",
          "data": {
            "text/plain": [
              "0    59\n",
              "1    74\n",
              "2    63\n",
              "3    55\n",
              "4    69\n",
              "Name: words_length, dtype: int64"
            ]
          },
          "metadata": {
            "tags": []
          },
          "execution_count": 15
        }
      ]
    },
    {
      "cell_type": "code",
      "metadata": {
        "id": "fKSpAYaFcQyR",
        "colab_type": "code",
        "colab": {
          "base_uri": "https://localhost:8080/",
          "height": 445
        },
        "outputId": "dbcce9b8-3826-4911-fab9-e2c8a85f4d00"
      },
      "source": [
        "# Plot it with histogram\n",
        "plt.figure(figsize=(10, 7))\n",
        "sns.distplot(df['words_length'], bins=int(np.sqrt(len(df))))\n",
        "plt.xticks(np.arange(0, 210, 20))\n",
        "plt.xlim(-20, 220);"
      ],
      "execution_count": 20,
      "outputs": [
        {
          "output_type": "display_data",
          "data": {
            "image/png": "[encoded data removed]",
            "text/plain": [
              "<Figure size 720x504 with 1 Axes>"
            ]
          },
          "metadata": {
            "tags": [],
            "needs_background": "light"
          }
        }
      ]
    },
    {
      "cell_type": "markdown",
      "metadata": {
        "id": "zA4aaxlhd0-p",
        "colab_type": "text"
      },
      "source": [
        "The shape of the plot not so different from the distribution plot of characters length. This time, mostly our data have words length from 20 to 80 words long."
      ]
    },
    {
      "cell_type": "code",
      "metadata": {
        "id": "tnilimxuciRO",
        "colab_type": "code",
        "colab": {
          "base_uri": "https://localhost:8080/",
          "height": 119
        },
        "outputId": "84aa02b5-7b05-4da1-afd4-9acd388f4a55"
      },
      "source": [
        "df['sentences_length'] = df['overview'].apply(lambda x: len(sent_tokenize(x)))\n",
        "df['sentences_length'].head()"
      ],
      "execution_count": 23,
      "outputs": [
        {
          "output_type": "execute_result",
          "data": {
            "text/plain": [
              "0    3\n",
              "1    2\n",
              "2    3\n",
              "3    2\n",
              "4    2\n",
              "Name: sentences_length, dtype: int64"
            ]
          },
          "metadata": {
            "tags": []
          },
          "execution_count": 23
        }
      ]
    },
    {
      "cell_type": "code",
      "metadata": {
        "id": "Q_Nsv4lCdULB",
        "colab_type": "code",
        "colab": {
          "base_uri": "https://localhost:8080/",
          "height": 449
        },
        "outputId": "c6c26d77-6480-47a9-c0ca-91f8aee105ec"
      },
      "source": [
        "# Plot it with histogram\n",
        "plt.figure(figsize=(10, 7))\n",
        "ax = sns.countplot(df['sentences_length'])\n",
        "\n",
        "for p in ax.patches:\n",
        "    txt = str(p.get_height().round(2))\n",
        "    txt_x = p.get_x() + 0.1\n",
        "    txt_y = p.get_height() + 50\n",
        "    ax.text(txt_x, txt_y, txt);"
      ],
      "execution_count": 38,
      "outputs": [
        {
          "output_type": "display_data",
          "data": {
            "image/png": "[encoded data removed]",
            "text/plain": [
              "<Figure size 720x504 with 1 Axes>"
            ]
          },
          "metadata": {
            "tags": []
          }
        }
      ]
    },
    {
      "cell_type": "markdown",
      "metadata": {
        "id": "IYG1p5Uwf2j2",
        "colab_type": "text"
      },
      "source": [
        "Mostly the movie's overview just contain one sentence. But, notice that we have one data point with senteces length equals to 0. Certainly we have get rid of this in droping missing values earlier right?"
      ]
    },
    {
      "cell_type": "code",
      "metadata": {
        "id": "zQxOiUICfkBI",
        "colab_type": "code",
        "colab": {
          "base_uri": "https://localhost:8080/",
          "height": 80
        },
        "outputId": "81256a27-5270-49ad-9eed-9401bc326352"
      },
      "source": [
        "df[df['sentences_length'] == 0]"
      ],
      "execution_count": 40,
      "outputs": [
        {
          "output_type": "execute_result",
          "data": {
            "text/html": [
              "<div>\n",
              "<style scoped>\n",
              "    .dataframe tbody tr th:only-of-type {\n",
              "        vertical-align: middle;\n",
              "    }\n",
              "\n",
              "    .dataframe tbody tr th {\n",
              "        vertical-align: top;\n",
              "    }\n",
              "\n",
              "    .dataframe thead th {\n",
              "        text-align: right;\n",
              "    }\n",
              "</style>\n",
              "<table border=\"1\" class=\"dataframe\">\n",
              "  <thead>\n",
              "    <tr style=\"text-align: right;\">\n",
              "      <th></th>\n",
              "      <th>id</th>\n",
              "      <th>title</th>\n",
              "      <th>overview</th>\n",
              "      <th>tagline</th>\n",
              "      <th>chars_length</th>\n",
              "      <th>words_length</th>\n",
              "      <th>sentences_length</th>\n",
              "    </tr>\n",
              "  </thead>\n",
              "  <tbody>\n",
              "    <tr>\n",
              "      <th>3657</th>\n",
              "      <td>49788</td>\n",
              "      <td>Slaves of New York</td>\n",
              "      <td></td>\n",
              "      <td>NaN</td>\n",
              "      <td>1</td>\n",
              "      <td>0</td>\n",
              "      <td>0</td>\n",
              "    </tr>\n",
              "  </tbody>\n",
              "</table>\n",
              "</div>"
            ],
            "text/plain": [
              "         id               title  ... words_length sentences_length\n",
              "3657  49788  Slaves of New York  ...            0                0\n",
              "\n",
              "[1 rows x 7 columns]"
            ]
          },
          "metadata": {
            "tags": []
          },
          "execution_count": 40
        }
      ]
    },
    {
      "cell_type": "code",
      "metadata": {
        "id": "HZ6uIwz_fvsh",
        "colab_type": "code",
        "colab": {
          "base_uri": "https://localhost:8080/",
          "height": 80
        },
        "outputId": "0539fb60-a13b-4715-a881-883e9cb890a6"
      },
      "source": [
        "df[df['words_length'] == 0]"
      ],
      "execution_count": 41,
      "outputs": [
        {
          "output_type": "execute_result",
          "data": {
            "text/html": [
              "<div>\n",
              "<style scoped>\n",
              "    .dataframe tbody tr th:only-of-type {\n",
              "        vertical-align: middle;\n",
              "    }\n",
              "\n",
              "    .dataframe tbody tr th {\n",
              "        vertical-align: top;\n",
              "    }\n",
              "\n",
              "    .dataframe thead th {\n",
              "        text-align: right;\n",
              "    }\n",
              "</style>\n",
              "<table border=\"1\" class=\"dataframe\">\n",
              "  <thead>\n",
              "    <tr style=\"text-align: right;\">\n",
              "      <th></th>\n",
              "      <th>id</th>\n",
              "      <th>title</th>\n",
              "      <th>overview</th>\n",
              "      <th>tagline</th>\n",
              "      <th>chars_length</th>\n",
              "      <th>words_length</th>\n",
              "      <th>sentences_length</th>\n",
              "    </tr>\n",
              "  </thead>\n",
              "  <tbody>\n",
              "    <tr>\n",
              "      <th>3657</th>\n",
              "      <td>49788</td>\n",
              "      <td>Slaves of New York</td>\n",
              "      <td></td>\n",
              "      <td>NaN</td>\n",
              "      <td>1</td>\n",
              "      <td>0</td>\n",
              "      <td>0</td>\n",
              "    </tr>\n",
              "  </tbody>\n",
              "</table>\n",
              "</div>"
            ],
            "text/plain": [
              "         id               title  ... words_length sentences_length\n",
              "3657  49788  Slaves of New York  ...            0                0\n",
              "\n",
              "[1 rows x 7 columns]"
            ]
          },
          "metadata": {
            "tags": []
          },
          "execution_count": 41
        }
      ]
    },
    {
      "cell_type": "code",
      "metadata": {
        "id": "IQ8Etgrtfz1-",
        "colab_type": "code",
        "colab": {
          "base_uri": "https://localhost:8080/",
          "height": 80
        },
        "outputId": "4427df3b-2397-4659-ebb3-b302d9d6ffbb"
      },
      "source": [
        "df[df['chars_length'] == 1]"
      ],
      "execution_count": 43,
      "outputs": [
        {
          "output_type": "execute_result",
          "data": {
            "text/html": [
              "<div>\n",
              "<style scoped>\n",
              "    .dataframe tbody tr th:only-of-type {\n",
              "        vertical-align: middle;\n",
              "    }\n",
              "\n",
              "    .dataframe tbody tr th {\n",
              "        vertical-align: top;\n",
              "    }\n",
              "\n",
              "    .dataframe thead th {\n",
              "        text-align: right;\n",
              "    }\n",
              "</style>\n",
              "<table border=\"1\" class=\"dataframe\">\n",
              "  <thead>\n",
              "    <tr style=\"text-align: right;\">\n",
              "      <th></th>\n",
              "      <th>id</th>\n",
              "      <th>title</th>\n",
              "      <th>overview</th>\n",
              "      <th>tagline</th>\n",
              "      <th>chars_length</th>\n",
              "      <th>words_length</th>\n",
              "      <th>sentences_length</th>\n",
              "    </tr>\n",
              "  </thead>\n",
              "  <tbody>\n",
              "    <tr>\n",
              "      <th>3657</th>\n",
              "      <td>49788</td>\n",
              "      <td>Slaves of New York</td>\n",
              "      <td></td>\n",
              "      <td>NaN</td>\n",
              "      <td>1</td>\n",
              "      <td>0</td>\n",
              "      <td>0</td>\n",
              "    </tr>\n",
              "  </tbody>\n",
              "</table>\n",
              "</div>"
            ],
            "text/plain": [
              "         id               title  ... words_length sentences_length\n",
              "3657  49788  Slaves of New York  ...            0                0\n",
              "\n",
              "[1 rows x 7 columns]"
            ]
          },
          "metadata": {
            "tags": []
          },
          "execution_count": 43
        }
      ]
    },
    {
      "cell_type": "markdown",
      "metadata": {
        "id": "yx75tsXSdbk8",
        "colab_type": "text"
      },
      "source": [
        "So problem is this data point contains only one white space and not coded as NaN in the first place. Then we have eliminate this data point."
      ]
    },
    {
      "cell_type": "code",
      "metadata": {
        "id": "5BdURV48g0xH",
        "colab_type": "code",
        "colab": {}
      },
      "source": [
        "df = df[~(df['words_length'] == 0)]"
      ],
      "execution_count": 44,
      "outputs": []
    },
    {
      "cell_type": "code",
      "metadata": {
        "id": "hI9LDHaDg7_X",
        "colab_type": "code",
        "colab": {
          "base_uri": "https://localhost:8080/",
          "height": 34
        },
        "outputId": "bfadd2ff-212a-4a56-bc17-fa2458b4b361"
      },
      "source": [
        "print('Current number of data points: ', len(df))"
      ],
      "execution_count": 45,
      "outputs": [
        {
          "output_type": "stream",
          "text": [
            "Current number of data points:  9086\n"
          ],
          "name": "stdout"
        }
      ]
    },
    {
      "cell_type": "markdown",
      "metadata": {
        "id": "5kdGTNq5hA_p",
        "colab_type": "text"
      },
      "source": [
        "From 9099 data points at the begining, now we have eliminate 13 so we have 9086 data points now."
      ]
    },
    {
      "cell_type": "markdown",
      "metadata": {
        "id": "-BaE9BHeha0V",
        "colab_type": "text"
      },
      "source": [
        "## Build Movies Recommendation (1)"
      ]
    },
    {
      "cell_type": "markdown",
      "metadata": {
        "id": "EUzfIQVHukqA",
        "colab_type": "text"
      },
      "source": [
        "This is the first attemp of building Movies Recommendation, we take raw data without much preprocessing or validating. Just run bag of words method to turn text data into matrix format."
      ]
    },
    {
      "cell_type": "code",
      "metadata": {
        "id": "4N5rZ_p3heln",
        "colab_type": "code",
        "colab": {
          "base_uri": "https://localhost:8080/",
          "height": 51
        },
        "outputId": "6cf19634-3e8c-45dd-a06e-3bbfee37e5ca"
      },
      "source": [
        "count_vectorizer = CountVectorizer(stop_words='english')\n",
        "tfidf_vectorizer = TfidfVectorizer(stop_words='english')\n",
        "X_count = count_vectorizer.fit_transform(df['overview'].values)\n",
        "X_tfidf = tfidf_vectorizer.fit_transform(df['overview'].values)\n",
        "print('Count Vectorized shape: ', X_count.shape)\n",
        "print('Tfidf Vectorized shape: ', X_tfidf.shape)"
      ],
      "execution_count": 47,
      "outputs": [
        {
          "output_type": "stream",
          "text": [
            "Count Vectorized shape:  (9086, 29727)\n",
            "Tfidf Vectorized shape:  (9086, 29727)\n"
          ],
          "name": "stdout"
        }
      ]
    },
    {
      "cell_type": "markdown",
      "metadata": {
        "id": "VTcSS0IEugnb",
        "colab_type": "text"
      },
      "source": [
        "We have 29727 different words in our dataset, certainly a high dimensional dataset. Later we will see the difference we get if we do decrease the dimensionality."
      ]
    },
    {
      "cell_type": "code",
      "metadata": {
        "id": "js11C0BzvhZd",
        "colab_type": "code",
        "colab": {}
      },
      "source": [
        ""
      ],
      "execution_count": null,
      "outputs": []
    }
  ]
}