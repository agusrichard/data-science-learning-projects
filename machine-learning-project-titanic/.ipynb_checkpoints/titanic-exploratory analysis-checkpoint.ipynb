{
 "cells": [
  {
   "cell_type": "markdown",
   "metadata": {},
   "source": [
    "# Exploratory Data Analysis: Titanic Dataset"
   ]
  },
  {
   "cell_type": "markdown",
   "metadata": {},
   "source": [
    "---"
   ]
  },
  {
   "cell_type": "markdown",
   "metadata": {},
   "source": [
    "## Introduction and Preparation"
   ]
  },
  {
   "cell_type": "markdown",
   "metadata": {},
   "source": [
    "In this notebook we will explore titanic dataset and then make an analysis about the information we can get from it. But before that, let's we take a look on description from kaggle:"
   ]
  },
  {
   "cell_type": "markdown",
   "metadata": {},
   "source": [
    "The sinking of the RMS Titanic is one of the most infamous shipwrecks in history.  On April 15, 1912, during her maiden voyage, the Titanic sank after colliding with an iceberg, killing 1502 out of 2224 passengers and crew. This sensational tragedy shocked the international community and led to better safety regulations for ships.\n",
    "\n",
    "One of the reasons that the shipwreck led to such loss of life was that there were not enough lifeboats for the passengers and crew. Although there was some element of luck involved in surviving the sinking, some groups of people were more likely to survive than others, such as women, children, and the upper-class.\n",
    "\n",
    "In this challenge, we ask you to complete the analysis of what sorts of people were likely to survive. In particular, we ask you to apply the tools of machine learning to predict which passengers survived the tragedy."
   ]
  },
  {
   "cell_type": "markdown",
   "metadata": {},
   "source": [
    "__Import libraries__"
   ]
  },
  {
   "cell_type": "code",
   "execution_count": 3,
   "metadata": {},
   "outputs": [],
   "source": [
    "import numpy as np\n",
    "import pandas as pd\n",
    "import matplotlib.pyplot as plt\n",
    "%matplotlib inline\n",
    "import seaborn as sns"
   ]
  },
  {
   "cell_type": "markdown",
   "metadata": {},
   "source": [
    "Load the dataset from csv file"
   ]
  },
  {
   "cell_type": "code",
   "execution_count": 4,
   "metadata": {},
   "outputs": [],
   "source": [
    "dataset_train = pd.read_csv('train.csv')\n",
    "dataset_test = pd.read_csv('test.csv')\n",
    "dataset_submission = pd.read_csv('gender_submission.csv')"
   ]
  },
  {
   "cell_type": "markdown",
   "metadata": {},
   "source": [
    "What are these three dataset mean?\n",
    "\n",
    "- dataset_train is our training set, where our machine learning model learn about the data.\n",
    "- dataset_test is our test set, where our machine learning model try to predict the result, which is whether someone survived or not from titanic incident, given information from training set.\n",
    "- dataset_submission is our validation set, which the truth outcome and we will compare it with our predicted outcome."
   ]
  },
  {
   "cell_type": "code",
   "execution_count": 4,
   "metadata": {},
   "outputs": [
    {
     "data": {
      "text/plain": [
       "(891, 12)"
      ]
     },
     "execution_count": 4,
     "metadata": {},
     "output_type": "execute_result"
    }
   ],
   "source": [
    "dataset_train.shape"
   ]
  },
  {
   "cell_type": "code",
   "execution_count": 5,
   "metadata": {},
   "outputs": [
    {
     "data": {
      "text/plain": [
       "(418, 11)"
      ]
     },
     "execution_count": 5,
     "metadata": {},
     "output_type": "execute_result"
    }
   ],
   "source": [
    "dataset_test.shape"
   ]
  },
  {
   "cell_type": "markdown",
   "metadata": {},
   "source": [
    "Training set contains 891 data points and test set contains 418 data points, with 12 features (11 features for test set because survived feature is not included).\n",
    "\n",
    "Now, take a loot what are those features are"
   ]
  },
  {
   "cell_type": "code",
   "execution_count": 10,
   "metadata": {},
   "outputs": [
    {
     "name": "stdout",
     "output_type": "stream",
     "text": [
      "['PassengerId', 'Survived', 'Pclass', 'Name', 'Sex', 'Age', 'SibSp', 'Parch', 'Ticket', 'Fare', 'Cabin', 'Embarked']\n"
     ]
    }
   ],
   "source": [
    "print(list(dataset_train.columns))"
   ]
  },
  {
   "cell_type": "markdown",
   "metadata": {},
   "source": [
    "Description of feature names:\n",
    "- PassengerId: Passenger ID\n",
    "- Survived: Survived\n",
    "- Pclass: Ticket class\n",
    "- Name: Name\n",
    "- Sex: Sex\n",
    "- Age: Age in years\n",
    "- Sibsp: Number of siblings / spouses aboard the Titanic\n",
    "- Parch: Number of parents / children aboard the Titanic\n",
    "- Ticket: Ticket number\n",
    "- Fare: Passenger fare\n",
    "- Cabin: Cabin number\n",
    "- Embarked: Port of embarktion (C = Cherbourg, Q = Queenstown, S = Southampton)"
   ]
  },
  {
   "cell_type": "markdown",
   "metadata": {},
   "source": [
    "Now, we have a pretty good background knowledge about our dataset. But, because we want to explore the data in general, we have to combine this 3 different data into a one comprehensive dataset."
   ]
  },
  {
   "cell_type": "code",
   "execution_count": 5,
   "metadata": {},
   "outputs": [],
   "source": [
    "data_merged = pd.merge(dataset_test, dataset_submission, on='PassengerId')\n",
    "col = data_merged.columns\n",
    "col = ['PassengerId','Survived', 'Pclass', 'Name', 'Sex', 'Age', 'SibSp', 'Parch', 'Ticket', 'Fare', 'Cabin', 'Embarked']\n",
    "data_merged = data_merged[col]"
   ]
  },
  {
   "cell_type": "code",
   "execution_count": 4,
   "metadata": {},
   "outputs": [
    {
     "data": {
      "text/html": [
       "<div>\n",
       "<style scoped>\n",
       "    .dataframe tbody tr th:only-of-type {\n",
       "        vertical-align: middle;\n",
       "    }\n",
       "\n",
       "    .dataframe tbody tr th {\n",
       "        vertical-align: top;\n",
       "    }\n",
       "\n",
       "    .dataframe thead th {\n",
       "        text-align: right;\n",
       "    }\n",
       "</style>\n",
       "<table border=\"1\" class=\"dataframe\">\n",
       "  <thead>\n",
       "    <tr style=\"text-align: right;\">\n",
       "      <th></th>\n",
       "      <th>PassengerId</th>\n",
       "      <th>Survived</th>\n",
       "      <th>Pclass</th>\n",
       "      <th>Name</th>\n",
       "      <th>Sex</th>\n",
       "      <th>Age</th>\n",
       "      <th>SibSp</th>\n",
       "      <th>Parch</th>\n",
       "      <th>Ticket</th>\n",
       "      <th>Fare</th>\n",
       "      <th>Cabin</th>\n",
       "      <th>Embarked</th>\n",
       "    </tr>\n",
       "  </thead>\n",
       "  <tbody>\n",
       "    <tr>\n",
       "      <th>0</th>\n",
       "      <td>892</td>\n",
       "      <td>0</td>\n",
       "      <td>3</td>\n",
       "      <td>Kelly, Mr. James</td>\n",
       "      <td>male</td>\n",
       "      <td>34.5</td>\n",
       "      <td>0</td>\n",
       "      <td>0</td>\n",
       "      <td>330911</td>\n",
       "      <td>7.8292</td>\n",
       "      <td>NaN</td>\n",
       "      <td>Q</td>\n",
       "    </tr>\n",
       "    <tr>\n",
       "      <th>1</th>\n",
       "      <td>893</td>\n",
       "      <td>1</td>\n",
       "      <td>3</td>\n",
       "      <td>Wilkes, Mrs. James (Ellen Needs)</td>\n",
       "      <td>female</td>\n",
       "      <td>47.0</td>\n",
       "      <td>1</td>\n",
       "      <td>0</td>\n",
       "      <td>363272</td>\n",
       "      <td>7.0000</td>\n",
       "      <td>NaN</td>\n",
       "      <td>S</td>\n",
       "    </tr>\n",
       "    <tr>\n",
       "      <th>2</th>\n",
       "      <td>894</td>\n",
       "      <td>0</td>\n",
       "      <td>2</td>\n",
       "      <td>Myles, Mr. Thomas Francis</td>\n",
       "      <td>male</td>\n",
       "      <td>62.0</td>\n",
       "      <td>0</td>\n",
       "      <td>0</td>\n",
       "      <td>240276</td>\n",
       "      <td>9.6875</td>\n",
       "      <td>NaN</td>\n",
       "      <td>Q</td>\n",
       "    </tr>\n",
       "    <tr>\n",
       "      <th>3</th>\n",
       "      <td>895</td>\n",
       "      <td>0</td>\n",
       "      <td>3</td>\n",
       "      <td>Wirz, Mr. Albert</td>\n",
       "      <td>male</td>\n",
       "      <td>27.0</td>\n",
       "      <td>0</td>\n",
       "      <td>0</td>\n",
       "      <td>315154</td>\n",
       "      <td>8.6625</td>\n",
       "      <td>NaN</td>\n",
       "      <td>S</td>\n",
       "    </tr>\n",
       "    <tr>\n",
       "      <th>4</th>\n",
       "      <td>896</td>\n",
       "      <td>1</td>\n",
       "      <td>3</td>\n",
       "      <td>Hirvonen, Mrs. Alexander (Helga E Lindqvist)</td>\n",
       "      <td>female</td>\n",
       "      <td>22.0</td>\n",
       "      <td>1</td>\n",
       "      <td>1</td>\n",
       "      <td>3101298</td>\n",
       "      <td>12.2875</td>\n",
       "      <td>NaN</td>\n",
       "      <td>S</td>\n",
       "    </tr>\n",
       "  </tbody>\n",
       "</table>\n",
       "</div>"
      ],
      "text/plain": [
       "   PassengerId  Survived  Pclass  \\\n",
       "0          892         0       3   \n",
       "1          893         1       3   \n",
       "2          894         0       2   \n",
       "3          895         0       3   \n",
       "4          896         1       3   \n",
       "\n",
       "                                           Name     Sex   Age  SibSp  Parch  \\\n",
       "0                              Kelly, Mr. James    male  34.5      0      0   \n",
       "1              Wilkes, Mrs. James (Ellen Needs)  female  47.0      1      0   \n",
       "2                     Myles, Mr. Thomas Francis    male  62.0      0      0   \n",
       "3                              Wirz, Mr. Albert    male  27.0      0      0   \n",
       "4  Hirvonen, Mrs. Alexander (Helga E Lindqvist)  female  22.0      1      1   \n",
       "\n",
       "    Ticket     Fare Cabin Embarked  \n",
       "0   330911   7.8292   NaN        Q  \n",
       "1   363272   7.0000   NaN        S  \n",
       "2   240276   9.6875   NaN        Q  \n",
       "3   315154   8.6625   NaN        S  \n",
       "4  3101298  12.2875   NaN        S  "
      ]
     },
     "execution_count": 4,
     "metadata": {},
     "output_type": "execute_result"
    }
   ],
   "source": [
    "data_merged.head()"
   ]
  },
  {
   "cell_type": "code",
   "execution_count": 5,
   "metadata": {},
   "outputs": [
    {
     "data": {
      "text/html": [
       "<div>\n",
       "<style scoped>\n",
       "    .dataframe tbody tr th:only-of-type {\n",
       "        vertical-align: middle;\n",
       "    }\n",
       "\n",
       "    .dataframe tbody tr th {\n",
       "        vertical-align: top;\n",
       "    }\n",
       "\n",
       "    .dataframe thead th {\n",
       "        text-align: right;\n",
       "    }\n",
       "</style>\n",
       "<table border=\"1\" class=\"dataframe\">\n",
       "  <thead>\n",
       "    <tr style=\"text-align: right;\">\n",
       "      <th></th>\n",
       "      <th>PassengerId</th>\n",
       "      <th>Survived</th>\n",
       "      <th>Pclass</th>\n",
       "      <th>Name</th>\n",
       "      <th>Sex</th>\n",
       "      <th>Age</th>\n",
       "      <th>SibSp</th>\n",
       "      <th>Parch</th>\n",
       "      <th>Ticket</th>\n",
       "      <th>Fare</th>\n",
       "      <th>Cabin</th>\n",
       "      <th>Embarked</th>\n",
       "    </tr>\n",
       "  </thead>\n",
       "  <tbody>\n",
       "    <tr>\n",
       "      <th>0</th>\n",
       "      <td>1</td>\n",
       "      <td>0</td>\n",
       "      <td>3</td>\n",
       "      <td>Braund, Mr. Owen Harris</td>\n",
       "      <td>male</td>\n",
       "      <td>22.0</td>\n",
       "      <td>1</td>\n",
       "      <td>0</td>\n",
       "      <td>A/5 21171</td>\n",
       "      <td>7.2500</td>\n",
       "      <td>NaN</td>\n",
       "      <td>S</td>\n",
       "    </tr>\n",
       "    <tr>\n",
       "      <th>1</th>\n",
       "      <td>2</td>\n",
       "      <td>1</td>\n",
       "      <td>1</td>\n",
       "      <td>Cumings, Mrs. John Bradley (Florence Briggs Th...</td>\n",
       "      <td>female</td>\n",
       "      <td>38.0</td>\n",
       "      <td>1</td>\n",
       "      <td>0</td>\n",
       "      <td>PC 17599</td>\n",
       "      <td>71.2833</td>\n",
       "      <td>C85</td>\n",
       "      <td>C</td>\n",
       "    </tr>\n",
       "    <tr>\n",
       "      <th>2</th>\n",
       "      <td>3</td>\n",
       "      <td>1</td>\n",
       "      <td>3</td>\n",
       "      <td>Heikkinen, Miss. Laina</td>\n",
       "      <td>female</td>\n",
       "      <td>26.0</td>\n",
       "      <td>0</td>\n",
       "      <td>0</td>\n",
       "      <td>STON/O2. 3101282</td>\n",
       "      <td>7.9250</td>\n",
       "      <td>NaN</td>\n",
       "      <td>S</td>\n",
       "    </tr>\n",
       "    <tr>\n",
       "      <th>3</th>\n",
       "      <td>4</td>\n",
       "      <td>1</td>\n",
       "      <td>1</td>\n",
       "      <td>Futrelle, Mrs. Jacques Heath (Lily May Peel)</td>\n",
       "      <td>female</td>\n",
       "      <td>35.0</td>\n",
       "      <td>1</td>\n",
       "      <td>0</td>\n",
       "      <td>113803</td>\n",
       "      <td>53.1000</td>\n",
       "      <td>C123</td>\n",
       "      <td>S</td>\n",
       "    </tr>\n",
       "    <tr>\n",
       "      <th>4</th>\n",
       "      <td>5</td>\n",
       "      <td>0</td>\n",
       "      <td>3</td>\n",
       "      <td>Allen, Mr. William Henry</td>\n",
       "      <td>male</td>\n",
       "      <td>35.0</td>\n",
       "      <td>0</td>\n",
       "      <td>0</td>\n",
       "      <td>373450</td>\n",
       "      <td>8.0500</td>\n",
       "      <td>NaN</td>\n",
       "      <td>S</td>\n",
       "    </tr>\n",
       "  </tbody>\n",
       "</table>\n",
       "</div>"
      ],
      "text/plain": [
       "   PassengerId  Survived  Pclass  \\\n",
       "0            1         0       3   \n",
       "1            2         1       1   \n",
       "2            3         1       3   \n",
       "3            4         1       1   \n",
       "4            5         0       3   \n",
       "\n",
       "                                                Name     Sex   Age  SibSp  \\\n",
       "0                            Braund, Mr. Owen Harris    male  22.0      1   \n",
       "1  Cumings, Mrs. John Bradley (Florence Briggs Th...  female  38.0      1   \n",
       "2                             Heikkinen, Miss. Laina  female  26.0      0   \n",
       "3       Futrelle, Mrs. Jacques Heath (Lily May Peel)  female  35.0      1   \n",
       "4                           Allen, Mr. William Henry    male  35.0      0   \n",
       "\n",
       "   Parch            Ticket     Fare Cabin Embarked  \n",
       "0      0         A/5 21171   7.2500   NaN        S  \n",
       "1      0          PC 17599  71.2833   C85        C  \n",
       "2      0  STON/O2. 3101282   7.9250   NaN        S  \n",
       "3      0            113803  53.1000  C123        S  \n",
       "4      0            373450   8.0500   NaN        S  "
      ]
     },
     "execution_count": 5,
     "metadata": {},
     "output_type": "execute_result"
    }
   ],
   "source": [
    "dataset_train.head()"
   ]
  },
  {
   "cell_type": "code",
   "execution_count": 6,
   "metadata": {},
   "outputs": [],
   "source": [
    "dataset = pd.concat([dataset_train, data_merged])"
   ]
  },
  {
   "cell_type": "markdown",
   "metadata": {},
   "source": [
    "---"
   ]
  },
  {
   "cell_type": "markdown",
   "metadata": {},
   "source": [
    "## Data Exploration and Visualization"
   ]
  },
  {
   "cell_type": "markdown",
   "metadata": {},
   "source": [
    "Let's explore the data by ask and answer this list of questions:\n",
    "- How many passengers survived?\n",
    "- How many passengers survived based on gender?\n",
    "- How many passengers survived based on passanger's class?\n",
    "- How many passengers survived based on age?\n",
    "- Is there any correlation between survived and gender? How strong it is?\n",
    "- Is there any correlation between survived and passenger's class? How strong it is?\n",
    "- Is there any correlation between survived and age?"
   ]
  },
  {
   "cell_type": "code",
   "execution_count": 123,
   "metadata": {},
   "outputs": [],
   "source": [
    "# for autolabeling the bar plot\n",
    "def autolabel(rects, ax):\n",
    "    \"\"\"Attach a text label above each bar in *rects*, displaying its height.\"\"\"\n",
    "    for rect in rects:\n",
    "        height = rect.get_height()\n",
    "        ax.annotate('{}'.format(height),\n",
    "                    xy=(rect.get_x() + rect.get_width() / 2, height),\n",
    "                    xytext=(0, 3),  # 3 points vertical offset\n",
    "                    textcoords=\"offset points\",\n",
    "                    ha='center', va='bottom')\n",
    "        \n",
    "# generate random color\n",
    "def random_color(length):\n",
    "    return np.random.uniform(0.3, 1, size=(length, 3))"
   ]
  },
  {
   "cell_type": "markdown",
   "metadata": {},
   "source": [
    "### How many passenger survived?"
   ]
  },
  {
   "cell_type": "code",
   "execution_count": 72,
   "metadata": {},
   "outputs": [
    {
     "name": "stdout",
     "output_type": "stream",
     "text": [
      "Number of passengers on board: 1309\n",
      "Number of passengers survived: 494\n",
      "Percentage of passangers survived: 37.74%\n"
     ]
    }
   ],
   "source": [
    "print(\"Number of passengers on board: {}\".format(dataset.shape[0]))\n",
    "print(\"Number of passengers survived: {}\".format(dataset['Survived'].sum()))\n",
    "print(\"Percentage of passangers survived: {:.2f}%\".format((dataset['Survived'].sum()/dataset.shape[0])*100))"
   ]
  },
  {
   "cell_type": "code",
   "execution_count": 124,
   "metadata": {},
   "outputs": [
    {
     "data": {
      "image/png": "[encoded data removed]",
      "text/plain": [
       "<Figure size 432x288 with 1 Axes>"
      ]
     },
     "metadata": {
      "needs_background": "light"
     },
     "output_type": "display_data"
    }
   ],
   "source": [
    "plt.bar(range(2), [1309, 494], color=random_color(2))\n",
    "plt.xticks(range(2), ['On board', 'Survived']);\n",
    "plt.ylabel('Passengers')\n",
    "plt.title('Survived');"
   ]
  },
  {
   "cell_type": "markdown",
   "metadata": {},
   "source": [
    "We see that it is only 37.74% passengers survived titanic disaster."
   ]
  },
  {
   "cell_type": "markdown",
   "metadata": {},
   "source": [
    "### How many passengers survived based on gender?"
   ]
  },
  {
   "cell_type": "code",
   "execution_count": 74,
   "metadata": {},
   "outputs": [
    {
     "name": "stdout",
     "output_type": "stream",
     "text": [
      "Number of male passengers: 843\n",
      "Number of female passengers: 466\n",
      "Number of male passengers survived: 109\n",
      "Number of female passengers survived: 385\n",
      "Percentage of male passengers survived: 12.93%\n",
      "Percentage of female passengers survived: 82.62%\n"
     ]
    }
   ],
   "source": [
    "print(\"Number of male passengers: {}\".format(dataset[dataset['Sex'] == 'male'].shape[0]))\n",
    "print(\"Number of female passengers: {}\".format(dataset[dataset['Sex'] == 'female'].shape[0]))\n",
    "print(\"Number of male passengers survived: {}\".format(dataset[dataset['Sex'] == 'male']['Survived'].sum()))\n",
    "print(\"Number of female passengers survived: {}\".format(dataset[dataset['Sex'] == 'female']['Survived'].sum()))\n",
    "male_percentage = (dataset[dataset['Sex'] == 'male']['Survived'].sum()/dataset[dataset['Sex'] == 'male'].shape[0]) * 100\n",
    "female_percentage = (dataset[dataset['Sex'] == 'female']['Survived'].sum()/dataset[dataset['Sex'] == 'female'].shape[0]) * 100\n",
    "print(\"Percentage of male passengers survived: {:.2f}%\".format(male_percentage))\n",
    "print(\"Percentage of female passengers survived: {:.2f}%\".format(female_percentage))"
   ]
  },
  {
   "cell_type": "code",
   "execution_count": 125,
   "metadata": {},
   "outputs": [
    {
     "data": {
      "image/png": "[encoded data removed]",
      "text/plain": [
       "<Figure size 936x432 with 2 Axes>"
      ]
     },
     "metadata": {
      "needs_background": "light"
     },
     "output_type": "display_data"
    }
   ],
   "source": [
    "fig, ax = plt.subplots(ncols=2)\n",
    "fig.set_size_inches(13, 6)\n",
    "\n",
    "labels = ['Male', 'Female']\n",
    "onboard = [843, 466]\n",
    "survived = [109, 385]\n",
    "percentages = [12.93, 82.62]\n",
    "x = np.arange(len(labels))\n",
    "width = 0.35\n",
    "\n",
    "# axes0\n",
    "rects1 = ax[0].bar(x - width/2, onboard, width, label='On board')\n",
    "rects2 = ax[0].bar(x + width/2, survived, width, label='Survived')\n",
    "ax[0].set(xticks=x, xticklabels=labels, ylabel='Passengers', title='Survived by gender')\n",
    "ax[0].legend()\n",
    "\n",
    "# axes1\n",
    "rects3 = ax[1].bar(x, percentages, color=random_color(len(labels)))\n",
    "ax[1].set(xticks=x, xticklabels=labels, ylabel='Percentage', ylim=(0, 100), title='Percentages')\n",
    "\n",
    "autolabel(rects1, ax[0])\n",
    "autolabel(rects2, ax[0])\n",
    "autolabel(rects3, ax[1])"
   ]
  },
  {
   "cell_type": "markdown",
   "metadata": {},
   "source": [
    "From representation above, we see that percentage of male survived from titanic disaster is just merely 12.93%, instead female survived is 82.62%, which means ~80% difference in percentage."
   ]
  },
  {
   "cell_type": "markdown",
   "metadata": {},
   "source": [
    "### How many passengers survived based on passengers's class?"
   ]
  },
  {
   "cell_type": "code",
   "execution_count": 76,
   "metadata": {},
   "outputs": [
    {
     "name": "stdout",
     "output_type": "stream",
     "text": [
      "Number of passengers from first class: 323\n",
      "Number of passengers survived from first class: 186\n",
      "Number of passengers from second class: 277\n",
      "Number of passengers survived from second class: 117\n",
      "Number of passengers from third class: 709\n",
      "Number of passengers survived from third class: 191\n",
      "Percentage of passengers from first class survived: 57.59%\n",
      "Percentage of passengers from second class survived: 42.24%\n",
      "Percentage of passengers from third class survived: 26.94%\n"
     ]
    }
   ],
   "source": [
    "print(\"Number of passengers from first class: {}\".format(dataset[dataset['Pclass'] == 1].shape[0]))\n",
    "print(\"Number of passengers survived from first class: {}\".format(dataset[dataset['Pclass'] == 1 ]['Survived'].sum()))\n",
    "print(\"Number of passengers from second class: {}\".format(dataset[dataset['Pclass'] == 2].shape[0]))\n",
    "print(\"Number of passengers survived from second class: {}\".format(dataset[dataset['Pclass'] == 2 ]['Survived'].sum()))\n",
    "print(\"Number of passengers from third class: {}\".format(dataset[dataset['Pclass'] == 3].shape[0]))\n",
    "print(\"Number of passengers survived from third class: {}\".format(dataset[dataset['Pclass'] == 3 ]['Survived'].sum()))\n",
    "percentage1 = (dataset[dataset['Pclass'] == 1 ]['Survived'].sum()/(dataset[dataset['Pclass'] == 1].shape[0]))*100\n",
    "percentage2 = (dataset[dataset['Pclass'] == 2 ]['Survived'].sum()/(dataset[dataset['Pclass'] == 2].shape[0]))*100\n",
    "percentage3 = (dataset[dataset['Pclass'] == 3 ]['Survived'].sum()/(dataset[dataset['Pclass'] == 3].shape[0]))*100\n",
    "print(\"Percentage of passengers from first class survived: {:.2f}%\".format(percentage1))\n",
    "print(\"Percentage of passengers from second class survived: {:.2f}%\".format(percentage2))\n",
    "print(\"Percentage of passengers from third class survived: {:.2f}%\".format(percentage3))"
   ]
  },
  {
   "cell_type": "code",
   "execution_count": 127,
   "metadata": {},
   "outputs": [
    {
     "data": {
      "image/png": "[encoded data removed]",
      "text/plain": [
       "<Figure size 936x432 with 2 Axes>"
      ]
     },
     "metadata": {
      "needs_background": "light"
     },
     "output_type": "display_data"
    }
   ],
   "source": [
    "fig, ax = plt.subplots(ncols=2)\n",
    "fig.set_size_inches(13, 6)\n",
    "\n",
    "labels = ['First', 'Second', 'Third']\n",
    "onboard = [323, 277, 709]\n",
    "survived = [186, 117, 191]\n",
    "percentages = [57.59, 42.24, 26.94]\n",
    "x = np.arange(len(labels))\n",
    "width = 0.35\n",
    "\n",
    "# axes0\n",
    "rects1 = ax[0].bar(x - width/2, onboard, width, label='On board')\n",
    "rects2 = ax[0].bar(x + width/2, survived, width, label='Survived')\n",
    "ax[0].set(xticks=x, xticklabels=labels, ylabel='Passengers', title='Survived by class')\n",
    "ax[0].legend()\n",
    "\n",
    "# axes1\n",
    "rects3 = ax[1].bar(x, percentages, color=random_color(len(labels)))\n",
    "ax[1].set(xticks=x, xticklabels=labels, ylabel='Percentage', ylim=(0, 100), title='Percentages')\n",
    "\n",
    "autolabel(rects1, ax[0])\n",
    "autolabel(rects2, ax[0])\n",
    "autolabel(rects3, ax[1])"
   ]
  },
  {
   "cell_type": "markdown",
   "metadata": {},
   "source": [
    "From bar plot above, we can see that survival rate for first class surely better than second class and third class. If we look at percentages bar plot from left to right, there is approximately 15% decreasing gap between classes, for example first class ~15% better in survival rate than second class and ~30% better than third class. "
   ]
  },
  {
   "cell_type": "markdown",
   "metadata": {},
   "source": [
    "### How many passengers survived based on age?"
   ]
  },
  {
   "cell_type": "markdown",
   "metadata": {},
   "source": [
    "We will split the age into four interval: 0-20, 20-40, 40-60, >60"
   ]
  },
  {
   "cell_type": "code",
   "execution_count": 141,
   "metadata": {},
   "outputs": [
    {
     "name": "stdout",
     "output_type": "stream",
     "text": [
      "Number of passengers age <20: 225\n",
      "Number of passengers age <20 survived: 107\n",
      "Number of passengers age 20 to 40: 576\n",
      "Number of passengers age 20 to 40 survived: 219\n",
      "Number of passengers age 40 to 60: 205\n",
      "Number of passengers age 40 to 40 survived: 77\n",
      "Number of passengers age >60: 40\n",
      "Number of passengers age >60 survived: 14\n",
      "Number of passengers with unknown age: 263\n",
      "Number of passengers with unknown age survived: 77\n",
      "Percentage of passanger age <20 survived: 47.56%\n",
      "Percentage of passanger age 20-40 survived: 38.02%\n",
      "Percentage of passanger age 40-60 survived: 37.56%\n",
      "Percentage of passanger age >60 survived: 27.27%\n",
      "Percentage of passanger with unknown age survived: 29.28%\n"
     ]
    }
   ],
   "source": [
    "print(\"Number of passengers age <20: {}\".format(dataset[dataset['Age'] < 20].shape[0]))\n",
    "print(\"Number of passengers age <20 survived: {}\".format(dataset[dataset['Age'] < 20]['Survived'].sum()))\n",
    "print(\"Number of passengers age 20 to 40: {}\".format(dataset[(dataset['Age'] >= 20) & (dataset['Age'] < 40)].shape[0]))\n",
    "print(\"Number of passengers age 20 to 40 survived: {}\".format(dataset[(dataset['Age'] >= 20) & (dataset['Age'] < 40)]['Survived'].sum()))\n",
    "print(\"Number of passengers age 40 to 60: {}\".format(dataset[(dataset['Age'] >= 40) & (dataset['Age'] < 60)].shape[0]))\n",
    "print(\"Number of passengers age 40 to 40 survived: {}\".format(dataset[(dataset['Age'] >= 40) & (dataset['Age'] < 60)]['Survived'].sum()))\n",
    "print(\"Number of passengers age >60: {}\".format(dataset[dataset['Age'] >= 60].shape[0]))\n",
    "print(\"Number of passengers age >60 survived: {}\".format(dataset[dataset['Age'] >= 60]['Survived'].sum()))\n",
    "print(\"Number of passengers with unknown age: {}\".format(dataset['Age'].isna().sum()))\n",
    "print(\"Number of passengers with unknown age survived: {}\".format(dataset[dataset['Age'].isna()]['Survived'].sum()))\n",
    "percentage1 = (dataset[dataset['Age'] < 20]['Survived'].sum() / dataset[dataset['Age'] < 20].shape[0])*100\n",
    "percentage2 = (dataset[(dataset['Age'] >= 20) & (dataset['Age'] < 40)]['Survived'].sum() / (dataset[(dataset['Age'] >= 20) & (dataset['Age'] < 40)].shape[0]))*100\n",
    "percentage3 = (dataset[(dataset['Age'] >= 40) & (dataset['Age'] < 60)]['Survived'].sum() / (dataset[(dataset['Age'] >= 40) & (dataset['Age'] < 60)].shape[0]))*100\n",
    "percentage4 = (dataset[dataset['Age'] > 60]['Survived'].sum() / dataset[dataset['Age'] > 60].shape[0])*100\n",
    "percentage5 = (dataset[dataset['Age'].isna()]['Survived'].sum() / dataset['Age'].isna().sum())*100\n",
    "print(\"Percentage of passanger age <20 survived: {:.2f}%\".format(percentage1))\n",
    "print(\"Percentage of passanger age 20-40 survived: {:.2f}%\".format(percentage2))\n",
    "print(\"Percentage of passanger age 40-60 survived: {:.2f}%\".format(percentage3))\n",
    "print(\"Percentage of passanger age >60 survived: {:.2f}%\".format(percentage4))\n",
    "print(\"Percentage of passanger with unknown age survived: {:.2f}%\".format(percentage5))"
   ]
  },
  {
   "cell_type": "code",
   "execution_count": 143,
   "metadata": {},
   "outputs": [
    {
     "data": {
      "image/png": "[encoded data removed]",
      "text/plain": [
       "<Figure size 936x432 with 2 Axes>"
      ]
     },
     "metadata": {
      "needs_background": "light"
     },
     "output_type": "display_data"
    }
   ],
   "source": [
    "fig, ax = plt.subplots(ncols=2)\n",
    "fig.set_size_inches(13, 6)\n",
    "\n",
    "labels = ['<20', '20-40', '40-60', '>60', 'Unknown']\n",
    "onboard = [225, 576, 205, 40, 263]\n",
    "survived = [107, 219, 77, 14, 77]\n",
    "percentages = [47.56, 38.02, 37.56, 27.27, 29.28]\n",
    "x = np.arange(len(labels))\n",
    "width = 0.35  # the width of the bars\n",
    "\n",
    "# axes0\n",
    "rects1 = ax[0].bar(x - width/2, onboard, width, label='On board')\n",
    "rects2 = ax[0].bar(x + width/2, survived, width, label='Survived')\n",
    "ax[0].set(xticks=x, xticklabels=labels, ylabel='Passengers', title='Survived by age')\n",
    "ax[0].legend()\n",
    "\n",
    "# axes1\n",
    "rects3 = ax[1].bar(x, percentages, color=random_color(len(labels)))\n",
    "ax[1].set(xticks=x, xticklabels=labels, ylabel='Percentage', ylim=(0, 100), title='Percentages')\n",
    "        \n",
    "autolabel(rects1, ax[0])\n",
    "autolabel(rects2, ax[0])\n",
    "autolabel(rects3, ax[1])"
   ]
  },
  {
   "cell_type": "markdown",
   "metadata": {},
   "source": [
    "From representation above, we can see that most of the passengers in titanic are between age 20-40 years old. But the survival percentage for age 20-40 and age 40-60 are not so different. Also, we can see that passengers age less than 20 years old have better survival percentage. "
   ]
  },
  {
   "cell_type": "markdown",
   "metadata": {},
   "source": [
    "### Is it any correlation between survived and gender? How strong it is?"
   ]
  },
  {
   "cell_type": "code",
   "execution_count": 25,
   "metadata": {},
   "outputs": [
    {
     "name": "stdout",
     "output_type": "stream",
     "text": [
      "Corelation coefficient: 0.68837\n"
     ]
    }
   ],
   "source": [
    "ser = dataset['Sex'].map({'male':0, 'female':1})\n",
    "print(\"Corelation coefficient: {:.5f}\".format(dataset['Survived'].corr(ser)))"
   ]
  },
  {
   "cell_type": "markdown",
   "metadata": {},
   "source": [
    "In here I encode male as 0 and female as 1, dead as 0 and survived as 1. The result of correlation is 0.68837, a positive value means positive correlation, in this case, being female and survived are correlated. And how strong is this correlation? 0.68837 gives us a pretty good sense of correlation. But one thing to remember is correlation doesn't mean causation, and vice versa."
   ]
  },
  {
   "cell_type": "markdown",
   "metadata": {},
   "source": [
    "### Is it any correlation between survived and passenger's class? How strong it is?"
   ]
  },
  {
   "cell_type": "code",
   "execution_count": 26,
   "metadata": {},
   "outputs": [
    {
     "name": "stdout",
     "output_type": "stream",
     "text": [
      "Correlation coefficient: -0.26471\n"
     ]
    }
   ],
   "source": [
    "print(\"Correlation coefficient: {:.5f}\".format(dataset['Survived'].corr(dataset['Pclass'])))"
   ]
  },
  {
   "cell_type": "markdown",
   "metadata": {},
   "source": [
    "The correlation coefficient is negative, which means as the Survived column increases (1 is survived, 0 is dead), Pclass decreases (class 1 is better than class 2 or 3). Yet, the correlation is not so strong."
   ]
  },
  {
   "cell_type": "code",
   "execution_count": 15,
   "metadata": {},
   "outputs": [
    {
     "data": {
      "text/plain": [
       "-0.053694711809795674"
      ]
     },
     "execution_count": 15,
     "metadata": {},
     "output_type": "execute_result"
    }
   ],
   "source": [
    "dataset['Survived'].corr(dataset['Age']/(dataset['Age'].max() - dataset['Age'].min()))"
   ]
  },
  {
   "cell_type": "markdown",
   "metadata": {},
   "source": [
    "### Is it any correlation between survived and age? How strong it is?"
   ]
  },
  {
   "cell_type": "code",
   "execution_count": 28,
   "metadata": {},
   "outputs": [
    {
     "name": "stdout",
     "output_type": "stream",
     "text": [
      "Correlation coefficient: -0.05369\n"
     ]
    }
   ],
   "source": [
    "print(\"Correlation coefficient: {:.5f}\".format(dataset['Survived'].corr(dataset['Age'])))"
   ]
  },
  {
   "cell_type": "markdown",
   "metadata": {},
   "source": [
    "The correlation coefficient is negative, but the value is quite close to zero."
   ]
  },
  {
   "cell_type": "markdown",
   "metadata": {},
   "source": [
    "---"
   ]
  },
  {
   "cell_type": "markdown",
   "metadata": {},
   "source": [
    "## Summary"
   ]
  },
  {
   "cell_type": "markdown",
   "metadata": {},
   "source": [
    "We have seen from our exploratory analysis that titanic disaster has a high death toll, so many lives were lost that day. With men as the most contributor to that high number, we can certain that on that day of the accident, the priorities of evacuation are woman, high class passenger and younger age passenger. These priorities are surely common to this day, we save woman and children first when an accident happen. "
   ]
  }
 ],
 "metadata": {
  "kernelspec": {
   "display_name": "Python 3",
   "language": "python",
   "name": "python3"
  },
  "language_info": {
   "codemirror_mode": {
    "name": "ipython",
    "version": 3
   },
   "file_extension": ".py",
   "mimetype": "text/x-python",
   "name": "python",
   "nbconvert_exporter": "python",
   "pygments_lexer": "ipython3",
   "version": "3.7.3"
  }
 },
 "nbformat": 4,
 "nbformat_minor": 2
}
